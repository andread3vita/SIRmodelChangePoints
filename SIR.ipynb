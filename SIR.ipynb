{
 "cells": [
  {
   "cell_type": "markdown",
   "metadata": {},
   "source": [
    "# Bayesian SIR Model with Change Points"
   ]
  },
  {
   "cell_type": "code",
   "execution_count": 1,
   "metadata": {},
   "outputs": [],
   "source": [
    "import numpy as np\n",
    "from scipy.stats import binom, gamma, beta, expon, poisson, uniform, bernoulli\n",
    "from joblib import Parallel, delayed\n",
    "from scipy.special import gamma as gammaFunc\n",
    "import random\n",
    "\n",
    "import pandas as pd\n",
    "\n",
    "import matplotlib.pyplot as plt\n",
    "\n",
    "import tqdm\n",
    "\n",
    "import itertools"
   ]
  },
  {
   "cell_type": "markdown",
   "metadata": {},
   "source": [
    "## Data Simulation"
   ]
  },
  {
   "cell_type": "code",
   "execution_count": 2,
   "metadata": {},
   "outputs": [],
   "source": [
    "def sim_dataset(chg_pt, scenarios, T, S0, I0, R0, n_datasets):\n",
    "\n",
    "    N = S0 + I0 + R0\n",
    "    n_sc = scenarios.shape[0]\n",
    "\n",
    "    # create array of transmission and removal rate parameters at each time step\n",
    "    beta  = np.array([[scenarios[i,(chg_pt <= t+1).sum(),0] for t in range(T)] for i in range(n_sc)])\n",
    "    gamma = np.array([[scenarios[i,(chg_pt <= t+1).sum(),1] for t in range(T)] for i in range(n_sc)])\n",
    "\n",
    "\n",
    "    Delta_I = np.zeros(shape=(n_datasets, n_sc, T), dtype=np.int32)\n",
    "    Delta_R = np.zeros(shape=(n_datasets, n_sc, T), dtype=np.int32)\n",
    "    S       = np.zeros(shape=(n_datasets, n_sc, T), dtype=np.int32)\n",
    "    I       = np.zeros(shape=(n_datasets, n_sc, T), dtype=np.int32)\n",
    "    R       = np.zeros(shape=(n_datasets, n_sc, T), dtype=np.int32)\n",
    "\n",
    "    Delta_I[:,:,0] = binom.rvs(S0, 1-np.exp(-beta[:,0]*I0/N), size=(n_datasets, n_sc))\n",
    "    Delta_R[:,:,0] = binom.rvs(I0, gamma[:,0], size=(n_datasets, n_sc))\n",
    "    S[:,:,0]       = S0 - Delta_I[:,:,0]\n",
    "    I[:,:,0]       = I0 + Delta_I[:,:,0] - Delta_R[:,:,0]\n",
    "    R[:,:,0]       = R0 + Delta_R[:,:,0]\n",
    "\n",
    "    for t in range(1, T):\n",
    "        Delta_I[:,:,t] = binom.rvs(S[:,:,t-1], 1-np.exp(-beta[:,t]*I[:,:,t-1]/N))\n",
    "        Delta_R[:,:,t] = binom.rvs(I[:,:,t-1], gamma[:,t])\n",
    "        S[:,:,t]       = S[:,:,t-1] - Delta_I[:,:,t]\n",
    "        I[:,:,t]       = I[:,:,t-1] + Delta_I[:,:,t] - Delta_R[:,:,t]\n",
    "        R[:,:,t]       = R[:,:,t-1] + Delta_R[:,:,t]\n",
    "\n",
    "    return Delta_I, Delta_R, S, I, R"
   ]
  },
  {
   "cell_type": "code",
   "execution_count": 3,
   "metadata": {},
   "outputs": [],
   "source": [
    "def plot_SRI(S, I, R, sc=0, d=None, start_cond=(999_950, 50, 0), tot=1_000_000, time=100):\n",
    "\n",
    "    if d is None:\n",
    "        S = np.expand_dims(np.mean(S, axis=0), 0)\n",
    "        I = np.expand_dims(np.mean(I, axis=0), 0)\n",
    "        R = np.expand_dims(np.mean(R, axis=0), 0)\n",
    "        d = 0\n",
    "\n",
    "    S = np.concatenate([[start_cond[0]], S[d,sc]])\n",
    "    I = np.concatenate([[start_cond[1]], I[d,sc]])\n",
    "    R = np.concatenate([[start_cond[2]], R[d,sc]])\n",
    "\n",
    "    # plot\n",
    "    fig, ax = plt.subplots()\n",
    "\n",
    "    y = np.vstack([S, I, R])\n",
    "    ax.stackplot(np.arange(time+1), y/tot, labels=[\"S\",\"I\",\"R\"], alpha=0.8)\n",
    "\n",
    "    ax.set_xlabel(\"Day\")\n",
    "    ax.set_ylabel(\"Proportion\")\n",
    "    ax.set_xticks(np.concatenate([[0], np.arange(25, time+1, 25)]))\n",
    "    ax.set_yticks([0, 0.2, 0.4, 0.6, 0.8, 1])\n",
    "    plt.legend(loc=\"upper right\")\n",
    "\n",
    "    plt.show()"
   ]
  },
  {
   "cell_type": "markdown",
   "metadata": {},
   "source": [
    "### Example"
   ]
  },
  {
   "cell_type": "code",
   "execution_count": 4,
   "metadata": {},
   "outputs": [],
   "source": [
    "T = 100\n",
    "N = 1_000_000\n",
    "\n",
    "chg_pt = np.array([26, 51, 76])\n",
    "\n",
    "sc_1 = [(0.3, 0.05), (0.4, 0.15), (0.25, 0.2),  (0.2,  0.25)]\n",
    "sc_2 = [(0.4, 0.1),  (0.4, 0.25), (0.25, 0.25), (0.25, 0.4) ]\n",
    "sc_3 = [(0.5, 0.1),  (0.3, 0.3),  (0.4,  0.2),  (0.2,  0.4) ]\n",
    "scenarios = np.array([sc_1, sc_2, sc_3])\n",
    "\n",
    "S0 = N-50\n",
    "I0 = 50\n",
    "R0 = 0\n",
    "\n",
    "n_datasets = 100"
   ]
  },
  {
   "cell_type": "code",
   "execution_count": 5,
   "metadata": {},
   "outputs": [],
   "source": [
    "Delta_I, Delta_R, S, I, R =  sim_dataset(chg_pt, scenarios, T, S0, I0, R0, n_datasets)\n",
    "#for i in range(len(scenarios)):\n",
    " #   print(f\"Scenario {i+1}:\")\n",
    "#    plot_SRI(S, I, R, sc=i)"
   ]
  },
  {
   "cell_type": "markdown",
   "metadata": {},
   "source": [
    "## Gibbs Sampling"
   ]
  },
  {
   "cell_type": "code",
   "execution_count": 6,
   "metadata": {},
   "outputs": [],
   "source": [
    "S_obs = np.concatenate(([S0],S[0,0]))\n",
    "I_obs = np.concatenate(([I0],I[0,0]))\n",
    "R_obs = np.concatenate(([R0],R[0,0]))\n",
    "PI_obs = I_obs/N\n",
    "N_infect_obs = np.concatenate(([I0],Delta_I[0,0]))\n",
    "N_recovery_obs = np.concatenate(([R0],Delta_R[0,0]))\n",
    "\n",
    "data = pd.DataFrame({\n",
    "        'susceptible': S_obs,\n",
    "        'infects': I_obs,\n",
    "        'recovered': R_obs,\n",
    "        'PI': PI_obs,\n",
    "        'deltaI': N_infect_obs,\n",
    "        'deltaR': N_recovery_obs\n",
    "    })"
   ]
  },
  {
   "cell_type": "code",
   "execution_count": 7,
   "metadata": {},
   "outputs": [
    {
     "data": {
      "text/html": [
       "<div>\n",
       "<style scoped>\n",
       "    .dataframe tbody tr th:only-of-type {\n",
       "        vertical-align: middle;\n",
       "    }\n",
       "\n",
       "    .dataframe tbody tr th {\n",
       "        vertical-align: top;\n",
       "    }\n",
       "\n",
       "    .dataframe thead th {\n",
       "        text-align: right;\n",
       "    }\n",
       "</style>\n",
       "<table border=\"1\" class=\"dataframe\">\n",
       "  <thead>\n",
       "    <tr style=\"text-align: right;\">\n",
       "      <th></th>\n",
       "      <th>susceptible</th>\n",
       "      <th>infects</th>\n",
       "      <th>recovered</th>\n",
       "      <th>PI</th>\n",
       "      <th>deltaI</th>\n",
       "      <th>deltaR</th>\n",
       "    </tr>\n",
       "  </thead>\n",
       "  <tbody>\n",
       "    <tr>\n",
       "      <th>0</th>\n",
       "      <td>999950</td>\n",
       "      <td>50</td>\n",
       "      <td>0</td>\n",
       "      <td>0.000050</td>\n",
       "      <td>50</td>\n",
       "      <td>0</td>\n",
       "    </tr>\n",
       "    <tr>\n",
       "      <th>1</th>\n",
       "      <td>999930</td>\n",
       "      <td>68</td>\n",
       "      <td>2</td>\n",
       "      <td>0.000068</td>\n",
       "      <td>20</td>\n",
       "      <td>2</td>\n",
       "    </tr>\n",
       "    <tr>\n",
       "      <th>2</th>\n",
       "      <td>999913</td>\n",
       "      <td>81</td>\n",
       "      <td>6</td>\n",
       "      <td>0.000081</td>\n",
       "      <td>17</td>\n",
       "      <td>4</td>\n",
       "    </tr>\n",
       "    <tr>\n",
       "      <th>3</th>\n",
       "      <td>999882</td>\n",
       "      <td>107</td>\n",
       "      <td>11</td>\n",
       "      <td>0.000107</td>\n",
       "      <td>31</td>\n",
       "      <td>5</td>\n",
       "    </tr>\n",
       "    <tr>\n",
       "      <th>4</th>\n",
       "      <td>999848</td>\n",
       "      <td>137</td>\n",
       "      <td>15</td>\n",
       "      <td>0.000137</td>\n",
       "      <td>34</td>\n",
       "      <td>4</td>\n",
       "    </tr>\n",
       "    <tr>\n",
       "      <th>...</th>\n",
       "      <td>...</td>\n",
       "      <td>...</td>\n",
       "      <td>...</td>\n",
       "      <td>...</td>\n",
       "      <td>...</td>\n",
       "      <td>...</td>\n",
       "    </tr>\n",
       "    <tr>\n",
       "      <th>96</th>\n",
       "      <td>156618</td>\n",
       "      <td>22</td>\n",
       "      <td>843360</td>\n",
       "      <td>0.000022</td>\n",
       "      <td>0</td>\n",
       "      <td>6</td>\n",
       "    </tr>\n",
       "    <tr>\n",
       "      <th>97</th>\n",
       "      <td>156617</td>\n",
       "      <td>17</td>\n",
       "      <td>843366</td>\n",
       "      <td>0.000017</td>\n",
       "      <td>1</td>\n",
       "      <td>6</td>\n",
       "    </tr>\n",
       "    <tr>\n",
       "      <th>98</th>\n",
       "      <td>156615</td>\n",
       "      <td>14</td>\n",
       "      <td>843371</td>\n",
       "      <td>0.000014</td>\n",
       "      <td>2</td>\n",
       "      <td>5</td>\n",
       "    </tr>\n",
       "    <tr>\n",
       "      <th>99</th>\n",
       "      <td>156615</td>\n",
       "      <td>11</td>\n",
       "      <td>843374</td>\n",
       "      <td>0.000011</td>\n",
       "      <td>0</td>\n",
       "      <td>3</td>\n",
       "    </tr>\n",
       "    <tr>\n",
       "      <th>100</th>\n",
       "      <td>156615</td>\n",
       "      <td>8</td>\n",
       "      <td>843377</td>\n",
       "      <td>0.000008</td>\n",
       "      <td>0</td>\n",
       "      <td>3</td>\n",
       "    </tr>\n",
       "  </tbody>\n",
       "</table>\n",
       "<p>101 rows × 6 columns</p>\n",
       "</div>"
      ],
      "text/plain": [
       "     susceptible  infects  recovered        PI  deltaI  deltaR\n",
       "0         999950       50          0  0.000050      50       0\n",
       "1         999930       68          2  0.000068      20       2\n",
       "2         999913       81          6  0.000081      17       4\n",
       "3         999882      107         11  0.000107      31       5\n",
       "4         999848      137         15  0.000137      34       4\n",
       "..           ...      ...        ...       ...     ...     ...\n",
       "96        156618       22     843360  0.000022       0       6\n",
       "97        156617       17     843366  0.000017       1       6\n",
       "98        156615       14     843371  0.000014       2       5\n",
       "99        156615       11     843374  0.000011       0       3\n",
       "100       156615        8     843377  0.000008       0       3\n",
       "\n",
       "[101 rows x 6 columns]"
      ]
     },
     "execution_count": 7,
     "metadata": {},
     "output_type": "execute_result"
    }
   ],
   "source": [
    "data"
   ]
  },
  {
   "cell_type": "code",
   "execution_count": 8,
   "metadata": {},
   "outputs": [],
   "source": [
    "def calculate_contact_hat_parallel(pp_lambda_t):\n",
    "    pp, lambda_t = pp_lambda_t\n",
    "    return np.sum(poisson.ppf(pp, lambda_t))\n",
    "\n",
    "def gibbs_sampling(data, samples=10000, T_max=100, burnin=1000, thinning=10):\n",
    "    \n",
    "    ############# data\n",
    "    # Data is expected to be a dataframe with 101 rows (100 steps + initial one)\n",
    "    # OBS: the initial row should display the starting values \n",
    "    #      for Susceptible (S), Infected (I), and Recovered (R), with zero values in the \n",
    "    #      columns representing changes (deltas) over time.\n",
    "    \n",
    "    I_obs = data[\"infects\"].values\n",
    "    S_obs = data[\"susceptible\"].values\n",
    "    PI_obs = data[\"PI\"].values\n",
    "    N_infect_obs = data[\"deltaI\"].values[1:]\n",
    "    N_recovery_obs = data[\"deltaR\"].values[1:]\n",
    "    \n",
    "\n",
    "    #######################\n",
    "    ##  HYPERPARAMETERS  ##\n",
    "    #######################\n",
    "    \n",
    "    p_a = 1/T_max**4\n",
    "    p_b = 2 - p_a\n",
    "    \n",
    "    b_shape = 0.1\n",
    "    b_rate = 0.1\n",
    "    r_shape = 0.1\n",
    "    r_rate = 0.1\n",
    "    \n",
    "    gamma_b_shape = gammaFunc(b_shape)\n",
    "    gamma_r_shape = gammaFunc(r_shape)\n",
    "    \n",
    "\n",
    "    ######################\n",
    "    ##  INITIALIZATION  ##\n",
    "    ######################\n",
    "    \n",
    "    ##### delta\n",
    "    Delta_hat = np.zeros(shape=T_max, dtype=int)\n",
    "    Delta_hat[0] = 1\n",
    "    Stage_hat = np.cumsum(Delta_hat, dtype=int)-1\n",
    "    K_hat     = np.sum(Delta_hat, dtype=int)\n",
    "\n",
    "    ##### b and r\n",
    "    b_hat    = gamma.rvs(a=b_shape, scale=1/b_rate, size=K_hat)\n",
    "    r_hat    = gamma.rvs(a=r_shape, scale=1/r_rate, size=K_hat)\n",
    "    \n",
    "    ##### beta and gamma\n",
    "    beta_hat    = expon.rvs(scale=1/b_hat[Stage_hat[0]], size=T_max)\n",
    "    gamma_hat   = beta.rvs(a=r_hat[Stage_hat[0]], b=1, size=T_max)\n",
    "    lambda_t    = beta_hat*PI_obs[:-1]\n",
    "    p_upper     = 1 - poisson.cdf(0, lambda_t)\n",
    "    pp          = [uniform.rvs(size=N_infect_obs[t]) * p_upper[t] + (1 - p_upper[t]) for t in range(T_max)]\n",
    "    contact_hat = np.array(Parallel(n_jobs=-1)(delayed(calculate_contact_hat_parallel)((pp[t], lambda_t[t],)) for t in range(T_max)))\n",
    "    \n",
    "    \n",
    "    beta_hat    = gamma.rvs(a=contact_hat + 1, scale=1/(b_hat[Stage_hat] + PI_obs[:-1]*S_obs[:-1]))\n",
    "    gamma_hat   = beta.rvs(a=N_recovery_obs + r_hat[Stage_hat], b=1 + I_obs[:-1] - N_recovery_obs)\n",
    "    lambda_t    = beta_hat * PI_obs[:-1]\n",
    "    p_upper     = 1 - poisson.cdf(0, lambda_t)\n",
    "    pp          = [uniform.rvs(size=N_infect_obs[t]) * p_upper[t] + (1 - p_upper[t]) for t in range(T_max)]\n",
    "    contact_hat = np.array(Parallel(n_jobs=-1)(delayed(calculate_contact_hat_parallel)((pp[t], lambda_t[t],)) for t in range(T_max)))\n",
    "    \n",
    "    \n",
    "    print(\"Initialization:\\n\")\n",
    "    print(\"Delta_hat:\",Delta_hat)\n",
    "    print(\"b_hat:\",b_hat)\n",
    "    print(\"r_hat:\",r_hat)\n",
    "    print(\"beta_hat:\",beta_hat)\n",
    "    print(\"gamma_hat:\",gamma_hat)\n",
    "    print(\"----------------------------------------------------\")\n",
    "    print(\"----------------------------------------------------\")\n",
    "    \n",
    "\n",
    "    ################\n",
    "    ##  SAMPLING  ##\n",
    "    ################\n",
    "    \n",
    "    Delta_all = []\n",
    "    Stage_all = []\n",
    "    b_all     = []\n",
    "    r_all     = []\n",
    "    beta_all  = []\n",
    "    gamma_all = []\n",
    "    \n",
    "    for step in tqdm.tqdm(range(samples)):\n",
    "        \n",
    "        ###### delta_hat sampling\n",
    "        ## add–delete–swap - proposal step\n",
    "        # -1 delete\n",
    "        # 0 swap\n",
    "        # +1 add\n",
    "                \n",
    "        if K_hat==1:\n",
    "            change_type = 1\n",
    "        \n",
    "        elif K_hat==T_max:\n",
    "            change_type = -1\n",
    "\n",
    "        else:\n",
    "            change_type = np.random.choice([-1, 0, 1])\n",
    "            \n",
    "        Delta_hat_candidate = Delta_hat.copy()\n",
    "        print(change_type)\n",
    "        if change_type != 0:\n",
    "            \n",
    "            if change_type == 1:\n",
    "                possible_change_indices = np.where(Delta_hat[1:] == 0)[0]+1\n",
    "            elif change_type == -1:\n",
    "                possible_change_indices = np.where(Delta_hat[1:] == 1)[0]+1\n",
    "            index_to_change = np.random.choice(possible_change_indices)\n",
    "\n",
    "            Delta_hat_candidate[index_to_change] = 1 - Delta_hat_candidate[index_to_change]\n",
    "            Stage_hat_candidate = np.cumsum(Delta_hat_candidate)-1\n",
    "\n",
    "            if change_type == 1:\n",
    "                possible_change_indices_candidate = np.where(Delta_hat_candidate[1:] == 1)[0] + 1\n",
    "                phase_original  = np.array([Stage_hat[index_to_change]])\n",
    "                phase_candidate = np.array([Stage_hat[index_to_change], Stage_hat_candidate[index_to_change]])\n",
    "            elif change_type == -1:\n",
    "                possible_change_indices_candidate = np.where(Delta_hat_candidate[1:] == 0)[0] + 1\n",
    "                phase_original  = np.array([Stage_hat[index_to_change], Stage_hat_candidate[index_to_change]])\n",
    "                phase_candidate = np.array([Stage_hat_candidate[index_to_change]])\n",
    "        \n",
    "            logp_original = 0\n",
    "            logp_candidate = 0\n",
    "\n",
    "            for i in phase_original:\n",
    "                L_i_original = np.where(Stage_hat == i)[0]\n",
    "\n",
    "                logp_original += np.sum(np.log(np.arange(1, len(L_i_original)) - 1 + b_shape)) \\\n",
    "                               - np.log(gamma_b_shape) + b_shape * np.log(b_rate) \\\n",
    "                               - (b_shape + len(L_i_original)) * np.log(b_rate + np.sum(beta_hat[L_i_original]))\n",
    "                logp_original += np.sum(np.log(np.arange(1, len(L_i_original)) - 1 + r_shape)) \\\n",
    "                               - np.log(gamma_r_shape) + r_shape * np.log(r_rate) \\\n",
    "                               - (r_shape + len(L_i_original)) * np.log(r_rate + np.sum(-np.log(gamma_hat[L_i_original])))\n",
    "                logp_original -= np.sum(np.log(np.arange(1, len(L_i_original))))\n",
    "\n",
    "            for i in phase_candidate:\n",
    "                L_i_candidate = np.where(Stage_hat_candidate == i)[0]\n",
    "\n",
    "                logp_candidate += np.sum(np.log(np.arange(1, len(L_i_candidate)) - 1 + b_shape)) \\\n",
    "                                - np.log(gamma_b_shape) + b_shape * np.log(b_rate) \\\n",
    "                                - (b_shape + len(L_i_candidate)) * np.log(b_rate + np.sum(beta_hat[L_i_candidate]))\n",
    "                logp_candidate += np.sum(np.log(np.arange(1, len(L_i_candidate)) - 1 + r_shape)) \\\n",
    "                                - np.log(gamma_r_shape) + r_shape * np.log(r_rate) \\\n",
    "                                - (r_shape + len(L_i_candidate)) * np.log(r_rate + np.sum(-np.log(gamma_hat[L_i_candidate])))\n",
    "                logp_candidate -= np.sum(np.log(np.arange(1, len(L_i_candidate))))\n",
    "\n",
    "            logp_candidate += np.log(p_a / p_b) + np.log((3 - 2 * (K_hat == 1)) \\\n",
    "                            * len(possible_change_indices) / (3 - 2 * ((K_hat + 1) == T_max)) / len(possible_change_indices_candidate))\n",
    "\n",
    "            ratio = np.exp(min([0, logp_candidate - logp_original]))\n",
    "            print(np.exp(logp_candidate - logp_original))\n",
    "        elif change_type == 0:\n",
    "            \n",
    "            possible_change_indices = np.where(np.abs(Delta_hat[1:-1] - Delta_hat[2:]) == 1)[0]+1\n",
    "            index_to_change = np.random.choice(possible_change_indices, 1)\n",
    "\n",
    "            Delta_hat_candidate[index_to_change + np.array([0, 1])] = Delta_hat_candidate[index_to_change + np.array([1, 0])]\n",
    "            Stage_hat_candidate = np.cumsum(Delta_hat_candidate)-1\n",
    "   \n",
    "            possible_change_indices_candidate = np.where(np.abs(Delta_hat_candidate[1:-1] - Delta_hat_candidate[2:]) == 1)[0]+1\n",
    "        \n",
    "            phase = np.array([Stage_hat[index_to_change], Stage_hat_candidate[index_to_change]])\n",
    "    \n",
    "            logp_original = 0\n",
    "            logp_candidate = 0\n",
    "        \n",
    "            for i in phase:\n",
    "                L_i_original = np.where(Stage_hat == i)[0]\n",
    "                logp_original += np.sum(np.log(np.arange(1, len(L_i_original)) - 1 + b_shape)) \\\n",
    "                               - np.log(gamma_b_shape) + b_shape * np.log(b_rate) \\\n",
    "                               - (b_shape + len(L_i_original)) * np.log(b_rate + np.sum(beta_hat[L_i_original]))\n",
    "                logp_original += np.sum(np.log(np.arange(1, len(L_i_original)) - 1 + r_shape)) \\\n",
    "                               - np.log(gamma_b_shape) + r_shape * np.log(r_rate) \\\n",
    "                               - (r_shape + len(L_i_original)) * np.log(r_rate + np.sum(-np.log(gamma_hat[L_i_original])))\n",
    "                logp_original -= np.sum(np.log(np.arange(1, len(L_i_original))))\n",
    "\n",
    "                L_i_candidate = np.where(Stage_hat_candidate == i)[0]\n",
    "                logp_candidate += np.sum(np.log(np.arange(1, len(L_i_candidate)) - 1 + b_shape)) \\\n",
    "                                - np.log(gamma_b_shape) + b_shape * np.log(b_rate) \\\n",
    "                                - (b_shape + len(L_i_candidate)) * np.log(b_rate + np.sum(beta_hat[L_i_candidate]))\n",
    "                logp_candidate += np.sum(np.log(np.arange(1, len(L_i_candidate)) - 1 + r_shape)) \\\n",
    "                                - np.log(gamma_b_shape) + r_shape * np.log(r_rate) \\\n",
    "                                - (r_shape + len(L_i_candidate)) * np.log(r_rate + np.sum(-np.log(gamma_hat[L_i_candidate])))\n",
    "                logp_candidate -= np.sum(np.log(np.arange(1, len(L_i_candidate))))\n",
    "\n",
    "            ratio = np.exp(min([0, logp_candidate - logp_original + np.log(len(possible_change_indices) / len(possible_change_indices_candidate))]))\n",
    "            print(np.exp(logp_candidate - logp_original + np.log(len(possible_change_indices) / len(possible_change_indices_candidate))))\n",
    "        cxx = np.random.binomial(1, ratio)      \n",
    "        if cxx == 1:\n",
    "            Delta_hat = Delta_hat_candidate\n",
    "            Stage_hat = Stage_hat_candidate\n",
    "        \n",
    "        \n",
    "        ##### b and r sampling\n",
    "            \n",
    "        K_hat = np.sum(Delta_hat)\n",
    "        \n",
    "        b_hat = np.zeros(K_hat)\n",
    "        r_hat = np.zeros(K_hat)\n",
    "        for i in range(K_hat):\n",
    "            L_i = np.where(Stage_hat == i)[0]\n",
    "            b_hat[i] = gamma.rvs(size=1, a=(b_shape + len(L_i)), scale=1/(b_rate + np.sum(beta_hat[L_i])))\n",
    "            r_hat[i] = gamma.rvs(size=1, a=(r_shape + len(L_i)), scale=1/(r_rate + np.sum(-np.log(gamma_hat[L_i]))))\n",
    "    \n",
    "        \n",
    "        ##### beta and gamma sampling\n",
    "\n",
    "        beta_hat    = gamma.rvs(a=contact_hat + 1, scale=1/(b_hat[Stage_hat] + PI_obs[:-1]*S_obs[:-1]))\n",
    "        gamma_hat   = beta.rvs(a=N_recovery_obs + r_hat[Stage_hat], b=1 + I_obs[:-1] - N_recovery_obs)\n",
    "        lambda_t    = beta_hat * PI_obs[:-1]\n",
    "        p_upper     = 1 - poisson.cdf(0, lambda_t)\n",
    "        pp          = [uniform.rvs(size=N_infect_obs[t]) * p_upper[t] + (1 - p_upper[t]) for t in range(T_max)]\n",
    "        contact_hat = np.array(Parallel(n_jobs=-1)(delayed(calculate_contact_hat_parallel)((pp[t], lambda_t[t],)) for t in range(T_max)))\n",
    "    \n",
    "       \n",
    "\n",
    "\n",
    "        if step % 100 == 0 and step != 0:\n",
    "            print(\"\\nStep:\",step)\n",
    "            #print(\"Delta_hat:\",Delta_hat)\n",
    "            #print(\"b_hat:\",b_hat)\n",
    "            #print(\"r_hat:\",r_hat)\n",
    "            #print(\"beta_hat:\",beta_hat)\n",
    "            #print(\"gamma_hat:\",gamma_hat)\n",
    "            print(\"----------------------------------------------------\")\n",
    "            \n",
    "        Delta_all.append(Delta_hat)\n",
    "        Stage_all.append(Stage_hat)\n",
    "        b_all.append(b_hat)\n",
    "        r_all.append(r_hat)\n",
    "        beta_all.append(beta_hat)\n",
    "        gamma_all.append(gamma_hat)\n",
    "  \n",
    "    # Creazione del DataFrame\n",
    "    MCMC_chain = {\n",
    "        'Delta': Delta_all[burnin::thinning],\n",
    "        'Stage': Stage_all[burnin::thinning],\n",
    "        'b': b_all[burnin::thinning],\n",
    "        'r': r_all[burnin::thinning],\n",
    "        'beta': beta_all[burnin::thinning],\n",
    "        'gamma': gamma_all[burnin::thinning]\n",
    "            }\n",
    "    \n",
    "    return MCMC_chain"
   ]
  },
  {
   "cell_type": "code",
   "execution_count": null,
   "metadata": {
    "scrolled": true
   },
   "outputs": [
    {
     "name": "stdout",
     "output_type": "stream",
     "text": [
      "Initialization:\n",
      "\n",
      "Delta_hat: [1 0 0 0 0 0 0 0 0 0 0 0 0 0 0 0 0 0 0 0 0 0 0 0 0 0 0 0 0 0 0 0 0 0 0 0 0\n",
      " 0 0 0 0 0 0 0 0 0 0 0 0 0 0 0 0 0 0 0 0 0 0 0 0 0 0 0 0 0 0 0 0 0 0 0 0 0\n",
      " 0 0 0 0 0 0 0 0 0 0 0 0 0 0 0 0 0 0 0 0 0 0 0 0 0 0]\n",
      "b_hat: [0.00121858]\n",
      "r_hat: [4.72039065e-23]\n",
      "beta_hat: [2.87185123e-01 3.14597787e-01 5.04175711e-01 3.50660502e-01\n",
      " 3.10818622e-01 5.02809436e-01 3.50428623e-01 3.27376657e-01\n",
      " 3.26183159e-01 3.33902073e-01 2.83252419e-01 3.53332073e-01\n",
      " 4.01043455e-01 5.89561122e-01 1.24694194e+00 3.09552588e-01\n",
      " 5.60615859e-01 3.66422994e-01 4.63505753e-01 4.99158293e-01\n",
      " 2.03876230e+00 7.43523679e+00 1.47394391e+00 7.45092419e+00\n",
      " 3.10038181e+00 4.17967983e+00 4.21683331e+00 3.39417582e+00\n",
      " 6.03238433e+00 2.05503714e+01 8.40460013e+00 3.77106248e+00\n",
      " 2.40743679e+01 5.59954905e+00 2.38068298e+01 1.03601139e+02\n",
      " 1.47240725e+01 1.95281803e+00 4.37628447e+01 3.22728395e+00\n",
      " 2.65019633e+01 9.70065362e+01 1.14000766e+02 9.51155882e+01\n",
      " 2.47756072e+02 6.46096234e+01 4.69415460e+01 8.70874120e+01\n",
      " 9.59376914e+01 6.55267022e+01 7.65086347e+01 2.53240333e+01\n",
      " 3.71531073e+00 2.69847242e+01 1.31943354e+01 5.11801635e+01\n",
      " 1.07301004e+01 5.98172223e+00 2.80743007e+00 1.54129708e+00\n",
      " 4.64149156e+00 2.85375076e+00 6.13644696e+00 7.24683249e+00\n",
      " 4.95299316e-01 1.18164719e+00 2.10763237e+00 1.65156291e+00\n",
      " 6.24948220e-01 4.03274666e+00 2.79013344e-01 2.80943548e+00\n",
      " 1.19430254e+00 1.16066737e+00 1.11262134e+00 7.19213267e-01\n",
      " 2.63260379e-01 2.40809644e-01 3.64466244e-01 3.93776336e-01\n",
      " 2.63767194e-01 4.35212299e-01 3.60934478e-01 2.50500000e-01\n",
      " 4.16828362e-01 2.13006659e-01 1.56034372e-01 3.54148025e-01\n",
      " 4.23414065e-01 7.72270367e-02 9.73048256e-02 5.02140960e-01\n",
      " 6.62353786e-01 2.93121192e-01 1.17319589e-01 1.12206129e-01\n",
      " 1.08969117e-01 1.93429236e+00 1.10541100e+00 6.13881981e-01]\n",
      "gamma_hat: [0.03104126 0.05890562 0.04849377 0.05955766 0.0424531  0.02308154\n",
      " 0.031698   0.03794906 0.09092093 0.0585567  0.07300562 0.04176103\n",
      " 0.04791678 0.05346315 0.04895061 0.03991906 0.0372464  0.04204525\n",
      " 0.04855283 0.04555172 0.04482318 0.05298456 0.04720663 0.05505218\n",
      " 0.04881735 0.13895185 0.15222347 0.15194188 0.15021734 0.14913295\n",
      " 0.15173676 0.15089867 0.14651265 0.14824657 0.14824468 0.14960233\n",
      " 0.14885854 0.1513657  0.15074724 0.15104617 0.15088087 0.15065726\n",
      " 0.15128867 0.15069372 0.14842731 0.14884503 0.15046784 0.15050435\n",
      " 0.1512457  0.15004411 0.19892842 0.20014048 0.19877556 0.19969367\n",
      " 0.20229356 0.19904492 0.20223242 0.19910654 0.19788833 0.19910643\n",
      " 0.19976173 0.19933908 0.20032998 0.19799223 0.19930266 0.19907595\n",
      " 0.20909895 0.19629303 0.20005792 0.19335817 0.20821454 0.19974286\n",
      " 0.20440852 0.20560982 0.21213291 0.25671676 0.24419768 0.26239052\n",
      " 0.22741224 0.23345149 0.26242982 0.24036246 0.22854542 0.2691196\n",
      " 0.2855654  0.2881819  0.25104522 0.22677099 0.27195537 0.22767903\n",
      " 0.16465367 0.14385686 0.20118618 0.27353388 0.1366953  0.13573083\n",
      " 0.16642131 0.51450297 0.23290758 0.2879949 ]\n",
      "----------------------------------------------------\n",
      "----------------------------------------------------\n"
     ]
    },
    {
     "name": "stderr",
     "output_type": "stream",
     "text": [
      "\r",
      "  0%|                                                        | 0/200 [00:00<?, ?it/s]"
     ]
    },
    {
     "name": "stdout",
     "output_type": "stream",
     "text": [
      "1\n",
      "1.558284347072993e-05\n"
     ]
    },
    {
     "name": "stderr",
     "output_type": "stream",
     "text": [
      "\r",
      "  0%|▏                                               | 1/200 [00:01<03:44,  1.13s/it]"
     ]
    },
    {
     "name": "stdout",
     "output_type": "stream",
     "text": [
      "1\n",
      "1.2429924685006875e+23\n"
     ]
    },
    {
     "name": "stderr",
     "output_type": "stream",
     "text": [
      "\r",
      "  1%|▍                                               | 2/200 [00:01<03:00,  1.10it/s]"
     ]
    },
    {
     "name": "stdout",
     "output_type": "stream",
     "text": [
      "0\n",
      "2.119794714335619\n"
     ]
    },
    {
     "name": "stderr",
     "output_type": "stream",
     "text": [
      "\r",
      "  2%|▋                                               | 3/200 [00:02<02:47,  1.17it/s]"
     ]
    },
    {
     "name": "stdout",
     "output_type": "stream",
     "text": [
      "1\n",
      "160523.41101498203\n"
     ]
    },
    {
     "name": "stderr",
     "output_type": "stream",
     "text": [
      "\r",
      "  2%|▉                                               | 4/200 [00:03<03:07,  1.04it/s]"
     ]
    },
    {
     "name": "stdout",
     "output_type": "stream",
     "text": [
      "0\n",
      "0.3034568510837373\n"
     ]
    },
    {
     "name": "stderr",
     "output_type": "stream",
     "text": [
      "\r",
      "  2%|█▏                                              | 5/200 [00:05<03:28,  1.07s/it]"
     ]
    },
    {
     "name": "stdout",
     "output_type": "stream",
     "text": [
      "-1\n",
      "5.623539546229162e-19\n"
     ]
    },
    {
     "name": "stderr",
     "output_type": "stream",
     "text": [
      "\r",
      "  3%|█▍                                              | 6/200 [00:06<03:47,  1.17s/it]"
     ]
    },
    {
     "name": "stdout",
     "output_type": "stream",
     "text": [
      "-1\n",
      "7.100980180151153e-23\n"
     ]
    },
    {
     "name": "stderr",
     "output_type": "stream",
     "text": [
      "\r",
      "  4%|█▋                                              | 7/200 [00:07<03:33,  1.11s/it]"
     ]
    },
    {
     "name": "stdout",
     "output_type": "stream",
     "text": [
      "-1\n",
      "5.358242071438587e-19\n"
     ]
    },
    {
     "name": "stderr",
     "output_type": "stream",
     "text": [
      "\r",
      "  4%|█▉                                              | 8/200 [00:08<03:12,  1.00s/it]"
     ]
    },
    {
     "name": "stdout",
     "output_type": "stream",
     "text": [
      "1\n",
      "2.250717573115289e-07\n"
     ]
    },
    {
     "name": "stderr",
     "output_type": "stream",
     "text": [
      "\r",
      "  4%|██▏                                             | 9/200 [00:08<02:58,  1.07it/s]"
     ]
    },
    {
     "name": "stdout",
     "output_type": "stream",
     "text": [
      "0\n",
      "1.5657146395075727\n"
     ]
    },
    {
     "name": "stderr",
     "output_type": "stream",
     "text": [
      "\r",
      "  5%|██▎                                            | 10/200 [00:09<02:59,  1.06it/s]"
     ]
    },
    {
     "name": "stdout",
     "output_type": "stream",
     "text": [
      "-1\n",
      "3.0753320567865685e-19\n"
     ]
    },
    {
     "name": "stderr",
     "output_type": "stream",
     "text": [
      "\r",
      "  6%|██▌                                            | 11/200 [00:10<02:53,  1.09it/s]"
     ]
    },
    {
     "name": "stdout",
     "output_type": "stream",
     "text": [
      "1\n",
      "9.794017158729014e-06\n"
     ]
    },
    {
     "name": "stderr",
     "output_type": "stream",
     "text": [
      "\r",
      "  6%|██▊                                            | 12/200 [00:11<02:56,  1.06it/s]"
     ]
    },
    {
     "name": "stdout",
     "output_type": "stream",
     "text": [
      "0\n",
      "0.3275450136159221\n"
     ]
    },
    {
     "name": "stderr",
     "output_type": "stream",
     "text": [
      "\r",
      "  6%|███                                            | 13/200 [00:12<02:54,  1.07it/s]"
     ]
    },
    {
     "name": "stdout",
     "output_type": "stream",
     "text": [
      "1\n",
      "9.286888434421816e-08\n"
     ]
    },
    {
     "name": "stderr",
     "output_type": "stream",
     "text": [
      "\r",
      "  7%|███▎                                           | 14/200 [00:13<02:58,  1.04it/s]"
     ]
    },
    {
     "name": "stdout",
     "output_type": "stream",
     "text": [
      "0\n",
      "2.984359130653778\n"
     ]
    },
    {
     "name": "stderr",
     "output_type": "stream",
     "text": [
      "\r",
      "  8%|███▌                                           | 15/200 [00:14<03:05,  1.00s/it]"
     ]
    },
    {
     "name": "stdout",
     "output_type": "stream",
     "text": [
      "0\n",
      "0.639446523939219\n"
     ]
    },
    {
     "name": "stderr",
     "output_type": "stream",
     "text": [
      "\r",
      "  8%|███▊                                           | 16/200 [00:16<03:22,  1.10s/it]"
     ]
    },
    {
     "name": "stdout",
     "output_type": "stream",
     "text": [
      "-1\n",
      "5.287788796112621e-19\n"
     ]
    },
    {
     "name": "stderr",
     "output_type": "stream",
     "text": [
      "\r",
      "  8%|███▉                                           | 17/200 [00:17<03:19,  1.09s/it]"
     ]
    },
    {
     "name": "stdout",
     "output_type": "stream",
     "text": [
      "-1\n",
      "4.239499872712927e-23\n"
     ]
    },
    {
     "name": "stderr",
     "output_type": "stream",
     "text": [
      "\r",
      "  9%|████▏                                          | 18/200 [00:18<03:22,  1.11s/it]"
     ]
    },
    {
     "name": "stdout",
     "output_type": "stream",
     "text": [
      "-1\n",
      "6.418802164343983e-19\n"
     ]
    },
    {
     "name": "stderr",
     "output_type": "stream",
     "text": [
      "\r",
      " 10%|████▍                                          | 19/200 [00:19<03:18,  1.10s/it]"
     ]
    },
    {
     "name": "stdout",
     "output_type": "stream",
     "text": [
      "0\n",
      "2.9098630281897093\n"
     ]
    },
    {
     "name": "stderr",
     "output_type": "stream",
     "text": [
      "\r",
      " 10%|████▋                                          | 20/200 [00:20<03:07,  1.04s/it]"
     ]
    },
    {
     "name": "stdout",
     "output_type": "stream",
     "text": [
      "-1\n",
      "8.929176936061281e-24\n"
     ]
    },
    {
     "name": "stderr",
     "output_type": "stream",
     "text": [
      "\r",
      " 10%|████▉                                          | 21/200 [00:21<02:57,  1.01it/s]"
     ]
    },
    {
     "name": "stdout",
     "output_type": "stream",
     "text": [
      "1\n",
      "2.8915649099486693e-07\n"
     ]
    },
    {
     "name": "stderr",
     "output_type": "stream",
     "text": [
      "\r",
      " 11%|█████▏                                         | 22/200 [00:22<02:45,  1.07it/s]"
     ]
    },
    {
     "name": "stdout",
     "output_type": "stream",
     "text": [
      "1\n",
      "3.0729513374334466e-07\n"
     ]
    },
    {
     "name": "stderr",
     "output_type": "stream",
     "text": [
      "\r",
      " 12%|█████▍                                         | 23/200 [00:22<02:36,  1.13it/s]"
     ]
    },
    {
     "name": "stdout",
     "output_type": "stream",
     "text": [
      "1\n",
      "4.3703010184910246e-05\n"
     ]
    },
    {
     "name": "stderr",
     "output_type": "stream",
     "text": [
      "\r",
      " 12%|█████▋                                         | 24/200 [00:23<02:30,  1.17it/s]"
     ]
    },
    {
     "name": "stdout",
     "output_type": "stream",
     "text": [
      "-1\n",
      "2.205566983374098e-19\n"
     ]
    },
    {
     "name": "stderr",
     "output_type": "stream",
     "text": [
      "\r",
      " 12%|█████▉                                         | 25/200 [00:24<02:31,  1.16it/s]"
     ]
    },
    {
     "name": "stdout",
     "output_type": "stream",
     "text": [
      "1\n",
      "40.27653346497102\n"
     ]
    },
    {
     "name": "stderr",
     "output_type": "stream",
     "text": [
      "\r",
      " 13%|██████                                         | 26/200 [00:25<02:30,  1.16it/s]"
     ]
    },
    {
     "name": "stdout",
     "output_type": "stream",
     "text": [
      "1\n",
      "4.88528860427099e-08\n"
     ]
    },
    {
     "name": "stderr",
     "output_type": "stream",
     "text": [
      "\r",
      " 14%|██████▎                                        | 27/200 [00:26<02:31,  1.14it/s]"
     ]
    },
    {
     "name": "stdout",
     "output_type": "stream",
     "text": [
      "1\n",
      "1.047115340136985e-07\n"
     ]
    },
    {
     "name": "stderr",
     "output_type": "stream",
     "text": [
      "\r",
      " 14%|██████▌                                        | 28/200 [00:27<02:30,  1.14it/s]"
     ]
    },
    {
     "name": "stdout",
     "output_type": "stream",
     "text": [
      "0\n",
      "0.6075187522644775\n"
     ]
    },
    {
     "name": "stderr",
     "output_type": "stream",
     "text": [
      "\r",
      " 14%|██████▊                                        | 29/200 [00:27<02:29,  1.14it/s]"
     ]
    },
    {
     "name": "stdout",
     "output_type": "stream",
     "text": [
      "1\n",
      "6.150746770262345e-06\n"
     ]
    },
    {
     "name": "stderr",
     "output_type": "stream",
     "text": [
      "\r",
      " 15%|███████                                        | 30/200 [00:29<02:36,  1.09it/s]"
     ]
    },
    {
     "name": "stdout",
     "output_type": "stream",
     "text": [
      "1\n",
      "7.059582494476018e-08\n"
     ]
    },
    {
     "name": "stderr",
     "output_type": "stream",
     "text": [
      "\r",
      " 16%|███████▎                                       | 31/200 [00:29<02:32,  1.11it/s]"
     ]
    },
    {
     "name": "stdout",
     "output_type": "stream",
     "text": [
      "-1\n",
      "5.421926301734657e-19\n"
     ]
    },
    {
     "name": "stderr",
     "output_type": "stream",
     "text": [
      "\r",
      " 16%|███████▌                                       | 32/200 [00:30<02:25,  1.15it/s]"
     ]
    },
    {
     "name": "stdout",
     "output_type": "stream",
     "text": [
      "1\n",
      "1.354112712742025e-06\n"
     ]
    },
    {
     "name": "stderr",
     "output_type": "stream",
     "text": [
      "\r",
      " 16%|███████▊                                       | 33/200 [00:31<02:33,  1.09it/s]"
     ]
    },
    {
     "name": "stdout",
     "output_type": "stream",
     "text": [
      "1\n",
      "3.6996355928089154e-07\n"
     ]
    },
    {
     "name": "stderr",
     "output_type": "stream",
     "text": [
      "\r",
      " 17%|███████▉                                       | 34/200 [00:32<02:26,  1.13it/s]"
     ]
    },
    {
     "name": "stdout",
     "output_type": "stream",
     "text": [
      "-1\n",
      "6.745855416228602e-19\n"
     ]
    },
    {
     "name": "stderr",
     "output_type": "stream",
     "text": [
      "\r",
      " 18%|████████▏                                      | 35/200 [00:33<02:39,  1.04it/s]"
     ]
    },
    {
     "name": "stdout",
     "output_type": "stream",
     "text": [
      "-1\n",
      "6.2690841142477385e-19\n"
     ]
    },
    {
     "name": "stderr",
     "output_type": "stream",
     "text": [
      "\r",
      " 18%|████████▍                                      | 36/200 [00:35<03:02,  1.12s/it]"
     ]
    },
    {
     "name": "stdout",
     "output_type": "stream",
     "text": [
      "-1\n",
      "6.643125929520034e-19\n"
     ]
    },
    {
     "name": "stderr",
     "output_type": "stream",
     "text": [
      "\r",
      " 18%|████████▋                                      | 37/200 [00:36<03:06,  1.15s/it]"
     ]
    },
    {
     "name": "stdout",
     "output_type": "stream",
     "text": [
      "-1\n",
      "4.145730687473214e-19\n"
     ]
    },
    {
     "name": "stderr",
     "output_type": "stream",
     "text": [
      "\r",
      " 19%|████████▉                                      | 38/200 [00:37<03:09,  1.17s/it]"
     ]
    },
    {
     "name": "stdout",
     "output_type": "stream",
     "text": [
      "1\n",
      "4.495789186307094e-05\n"
     ]
    },
    {
     "name": "stderr",
     "output_type": "stream",
     "text": [
      "\r",
      " 20%|█████████▏                                     | 39/200 [00:39<03:22,  1.26s/it]"
     ]
    },
    {
     "name": "stdout",
     "output_type": "stream",
     "text": [
      "0\n",
      "0.6084440750984292\n"
     ]
    },
    {
     "name": "stderr",
     "output_type": "stream",
     "text": [
      "\r",
      " 20%|█████████▍                                     | 40/200 [00:39<03:05,  1.16s/it]"
     ]
    },
    {
     "name": "stdout",
     "output_type": "stream",
     "text": [
      "-1\n",
      "4.61564133198272e-19\n"
     ]
    },
    {
     "name": "stderr",
     "output_type": "stream",
     "text": [
      "\r",
      " 20%|█████████▋                                     | 41/200 [00:40<02:46,  1.05s/it]"
     ]
    },
    {
     "name": "stdout",
     "output_type": "stream",
     "text": [
      "-1\n",
      "5.95420352306178e-19\n"
     ]
    },
    {
     "name": "stderr",
     "output_type": "stream",
     "text": [
      "\r",
      " 21%|█████████▊                                     | 42/200 [00:41<02:34,  1.02it/s]"
     ]
    },
    {
     "name": "stdout",
     "output_type": "stream",
     "text": [
      "0\n",
      "0.7806724714568503\n"
     ]
    },
    {
     "name": "stderr",
     "output_type": "stream",
     "text": [
      "\r",
      " 22%|██████████                                     | 43/200 [00:42<02:41,  1.03s/it]"
     ]
    },
    {
     "name": "stdout",
     "output_type": "stream",
     "text": [
      "-1\n",
      "6.057631188067799e-19\n"
     ]
    },
    {
     "name": "stderr",
     "output_type": "stream",
     "text": [
      "\r",
      " 22%|██████████▎                                    | 44/200 [00:43<02:37,  1.01s/it]"
     ]
    },
    {
     "name": "stdout",
     "output_type": "stream",
     "text": [
      "1\n",
      "3.3529160602449796e-06\n"
     ]
    },
    {
     "name": "stderr",
     "output_type": "stream",
     "text": [
      "\r",
      " 22%|██████████▌                                    | 45/200 [00:44<02:29,  1.04it/s]"
     ]
    },
    {
     "name": "stdout",
     "output_type": "stream",
     "text": [
      "0\n",
      "1.635875077468825\n"
     ]
    },
    {
     "name": "stderr",
     "output_type": "stream",
     "text": [
      "\r",
      " 23%|██████████▊                                    | 46/200 [00:45<02:20,  1.10it/s]"
     ]
    },
    {
     "name": "stdout",
     "output_type": "stream",
     "text": [
      "-1\n",
      "3.142650929048589e-19\n"
     ]
    },
    {
     "name": "stderr",
     "output_type": "stream",
     "text": [
      "\r",
      " 24%|███████████                                    | 47/200 [00:46<02:14,  1.14it/s]"
     ]
    },
    {
     "name": "stdout",
     "output_type": "stream",
     "text": [
      "0\n",
      "0.6140167077937732\n"
     ]
    },
    {
     "name": "stderr",
     "output_type": "stream",
     "text": [
      "\r",
      " 24%|███████████▎                                   | 48/200 [00:46<02:09,  1.17it/s]"
     ]
    },
    {
     "name": "stdout",
     "output_type": "stream",
     "text": [
      "-1\n",
      "8.699264286043786e-19\n"
     ]
    },
    {
     "name": "stderr",
     "output_type": "stream",
     "text": [
      "\r",
      " 24%|███████████▌                                   | 49/200 [00:47<02:08,  1.17it/s]"
     ]
    },
    {
     "name": "stdout",
     "output_type": "stream",
     "text": [
      "-1\n",
      "5.761558688014479e-19\n"
     ]
    },
    {
     "name": "stderr",
     "output_type": "stream",
     "text": [
      "\r",
      " 25%|███████████▊                                   | 50/200 [00:48<02:05,  1.19it/s]"
     ]
    },
    {
     "name": "stdout",
     "output_type": "stream",
     "text": [
      "0\n",
      "0.7322247649467146\n"
     ]
    },
    {
     "name": "stderr",
     "output_type": "stream",
     "text": [
      "\r",
      " 26%|███████████▉                                   | 51/200 [00:49<02:03,  1.21it/s]"
     ]
    },
    {
     "name": "stdout",
     "output_type": "stream",
     "text": [
      "1\n",
      "1.3717527651990385e-07\n"
     ]
    },
    {
     "name": "stderr",
     "output_type": "stream",
     "text": [
      "\r",
      " 26%|████████████▏                                  | 52/200 [00:50<02:01,  1.22it/s]"
     ]
    },
    {
     "name": "stdout",
     "output_type": "stream",
     "text": [
      "0\n",
      "0.5443917284340193\n"
     ]
    },
    {
     "name": "stderr",
     "output_type": "stream",
     "text": [
      "\r",
      " 26%|████████████▍                                  | 53/200 [00:50<01:59,  1.23it/s]"
     ]
    },
    {
     "name": "stdout",
     "output_type": "stream",
     "text": [
      "0\n",
      "0.5404548716906585\n"
     ]
    },
    {
     "name": "stderr",
     "output_type": "stream",
     "text": [
      "\r",
      " 27%|████████████▋                                  | 54/200 [00:51<01:58,  1.24it/s]"
     ]
    },
    {
     "name": "stdout",
     "output_type": "stream",
     "text": [
      "0\n",
      "0.5105194434473702\n"
     ]
    },
    {
     "name": "stderr",
     "output_type": "stream",
     "text": [
      "\r",
      " 28%|████████████▉                                  | 55/200 [00:52<01:57,  1.24it/s]"
     ]
    },
    {
     "name": "stdout",
     "output_type": "stream",
     "text": [
      "-1\n",
      "6.834089266311554e-19\n"
     ]
    },
    {
     "name": "stderr",
     "output_type": "stream",
     "text": [
      "\r",
      " 28%|█████████████▏                                 | 56/200 [00:53<01:56,  1.24it/s]"
     ]
    },
    {
     "name": "stdout",
     "output_type": "stream",
     "text": [
      "1\n",
      "7.159224857320426e-08\n"
     ]
    },
    {
     "name": "stderr",
     "output_type": "stream",
     "text": [
      "\r",
      " 28%|█████████████▍                                 | 57/200 [00:54<01:55,  1.24it/s]"
     ]
    },
    {
     "name": "stdout",
     "output_type": "stream",
     "text": [
      "1\n",
      "8.953248258847489e-09\n"
     ]
    },
    {
     "name": "stderr",
     "output_type": "stream",
     "text": [
      "\r",
      " 29%|█████████████▋                                 | 58/200 [00:55<02:00,  1.18it/s]"
     ]
    },
    {
     "name": "stdout",
     "output_type": "stream",
     "text": [
      "0\n",
      "1.454112035446203\n"
     ]
    },
    {
     "name": "stderr",
     "output_type": "stream",
     "text": [
      "\r",
      " 30%|█████████████▊                                 | 59/200 [00:55<01:58,  1.19it/s]"
     ]
    },
    {
     "name": "stdout",
     "output_type": "stream",
     "text": [
      "0\n",
      "0.4823582057737577\n"
     ]
    },
    {
     "name": "stderr",
     "output_type": "stream",
     "text": [
      "\r",
      " 30%|██████████████                                 | 60/200 [00:56<01:57,  1.19it/s]"
     ]
    },
    {
     "name": "stdout",
     "output_type": "stream",
     "text": [
      "0\n",
      "0.44476685491727364\n"
     ]
    },
    {
     "name": "stderr",
     "output_type": "stream",
     "text": [
      "\r",
      " 30%|██████████████▎                                | 61/200 [00:57<01:55,  1.20it/s]"
     ]
    },
    {
     "name": "stdout",
     "output_type": "stream",
     "text": [
      "1\n",
      "2.2309634058870274e-08\n"
     ]
    },
    {
     "name": "stderr",
     "output_type": "stream",
     "text": [
      "\r",
      " 31%|██████████████▌                                | 62/200 [00:58<01:53,  1.21it/s]"
     ]
    },
    {
     "name": "stdout",
     "output_type": "stream",
     "text": [
      "-1\n",
      "1.5685772274846577e-17\n"
     ]
    },
    {
     "name": "stderr",
     "output_type": "stream",
     "text": [
      "\r",
      " 32%|██████████████▊                                | 63/200 [00:59<01:55,  1.19it/s]"
     ]
    },
    {
     "name": "stdout",
     "output_type": "stream",
     "text": [
      "0\n",
      "0.6726782260741819\n"
     ]
    },
    {
     "name": "stderr",
     "output_type": "stream",
     "text": [
      "\r",
      " 32%|███████████████                                | 64/200 [01:00<01:56,  1.17it/s]"
     ]
    },
    {
     "name": "stdout",
     "output_type": "stream",
     "text": [
      "-1\n",
      "1.4885374506748357e-17\n"
     ]
    },
    {
     "name": "stderr",
     "output_type": "stream",
     "text": [
      "\r",
      " 32%|███████████████▎                               | 65/200 [01:00<01:53,  1.19it/s]"
     ]
    },
    {
     "name": "stdout",
     "output_type": "stream",
     "text": [
      "0\n",
      "2.0813648111327243\n"
     ]
    },
    {
     "name": "stderr",
     "output_type": "stream",
     "text": [
      "\r",
      " 33%|███████████████▌                               | 66/200 [01:01<01:50,  1.21it/s]"
     ]
    },
    {
     "name": "stdout",
     "output_type": "stream",
     "text": [
      "-1\n",
      "3.4571750360308607e-19\n"
     ]
    },
    {
     "name": "stderr",
     "output_type": "stream",
     "text": [
      "\r",
      " 34%|███████████████▋                               | 67/200 [01:02<01:49,  1.22it/s]"
     ]
    },
    {
     "name": "stdout",
     "output_type": "stream",
     "text": [
      "-1\n",
      "5.1449171258597095e-18\n"
     ]
    },
    {
     "name": "stderr",
     "output_type": "stream",
     "text": [
      "\r",
      " 34%|███████████████▉                               | 68/200 [01:03<01:47,  1.23it/s]"
     ]
    },
    {
     "name": "stdout",
     "output_type": "stream",
     "text": [
      "-1\n",
      "1.035062122327952e-17\n"
     ]
    },
    {
     "name": "stderr",
     "output_type": "stream",
     "text": [
      "\r",
      " 34%|████████████████▏                              | 69/200 [01:04<01:45,  1.24it/s]"
     ]
    },
    {
     "name": "stdout",
     "output_type": "stream",
     "text": [
      "-1\n",
      "5.094676976760867e-18\n"
     ]
    },
    {
     "name": "stderr",
     "output_type": "stream",
     "text": [
      "\r",
      " 35%|████████████████▍                              | 70/200 [01:04<01:44,  1.24it/s]"
     ]
    },
    {
     "name": "stdout",
     "output_type": "stream",
     "text": [
      "1\n",
      "1.587572580996352e-06\n"
     ]
    },
    {
     "name": "stderr",
     "output_type": "stream",
     "text": [
      "\r",
      " 36%|████████████████▋                              | 71/200 [01:05<01:43,  1.25it/s]"
     ]
    },
    {
     "name": "stdout",
     "output_type": "stream",
     "text": [
      "-1\n",
      "5.375457433586406e-18\n"
     ]
    },
    {
     "name": "stderr",
     "output_type": "stream",
     "text": [
      "\r",
      " 36%|████████████████▉                              | 72/200 [01:06<01:41,  1.26it/s]"
     ]
    },
    {
     "name": "stdout",
     "output_type": "stream",
     "text": [
      "1\n",
      "1.57832153200931e-08\n"
     ]
    },
    {
     "name": "stderr",
     "output_type": "stream",
     "text": [
      "\r",
      " 36%|█████████████████▏                             | 73/200 [01:07<01:41,  1.25it/s]"
     ]
    },
    {
     "name": "stdout",
     "output_type": "stream",
     "text": [
      "1\n",
      "8.961332428006734e-08\n"
     ]
    },
    {
     "name": "stderr",
     "output_type": "stream",
     "text": [
      "\r",
      " 37%|█████████████████▍                             | 74/200 [01:08<01:40,  1.26it/s]"
     ]
    },
    {
     "name": "stdout",
     "output_type": "stream",
     "text": [
      "0\n",
      "0.46832067884661477\n"
     ]
    },
    {
     "name": "stderr",
     "output_type": "stream",
     "text": [
      "\r",
      " 38%|█████████████████▋                             | 75/200 [01:08<01:39,  1.26it/s]"
     ]
    },
    {
     "name": "stdout",
     "output_type": "stream",
     "text": [
      "0\n",
      "0.692370950619849\n"
     ]
    },
    {
     "name": "stderr",
     "output_type": "stream",
     "text": [
      "\r",
      " 38%|█████████████████▊                             | 76/200 [01:09<01:37,  1.27it/s]"
     ]
    },
    {
     "name": "stdout",
     "output_type": "stream",
     "text": [
      "-1\n",
      "1.8012806575946663e-17\n"
     ]
    },
    {
     "name": "stderr",
     "output_type": "stream",
     "text": [
      "\r",
      " 38%|██████████████████                             | 77/200 [01:10<01:37,  1.26it/s]"
     ]
    },
    {
     "name": "stdout",
     "output_type": "stream",
     "text": [
      "0\n",
      "0.43964714464143245\n"
     ]
    },
    {
     "name": "stderr",
     "output_type": "stream",
     "text": [
      "\r",
      " 39%|██████████████████▎                            | 78/200 [01:11<01:36,  1.26it/s]"
     ]
    },
    {
     "name": "stdout",
     "output_type": "stream",
     "text": [
      "0\n",
      "0.6800184144214207\n"
     ]
    },
    {
     "name": "stderr",
     "output_type": "stream",
     "text": [
      "\r",
      " 40%|██████████████████▌                            | 79/200 [01:12<01:36,  1.26it/s]"
     ]
    },
    {
     "name": "stdout",
     "output_type": "stream",
     "text": [
      "-1\n",
      "2.633246165270571e-17\n"
     ]
    },
    {
     "name": "stderr",
     "output_type": "stream",
     "text": [
      "\r",
      " 40%|██████████████████▊                            | 80/200 [01:12<01:35,  1.26it/s]"
     ]
    },
    {
     "name": "stdout",
     "output_type": "stream",
     "text": [
      "-1\n",
      "5.944360610768784e-19\n"
     ]
    },
    {
     "name": "stderr",
     "output_type": "stream",
     "text": [
      "\r",
      " 40%|███████████████████                            | 81/200 [01:13<01:34,  1.26it/s]"
     ]
    },
    {
     "name": "stdout",
     "output_type": "stream",
     "text": [
      "-1\n",
      "5.4074487970809835e-17\n"
     ]
    },
    {
     "name": "stderr",
     "output_type": "stream",
     "text": [
      "\r",
      " 41%|███████████████████▎                           | 82/200 [01:14<01:33,  1.26it/s]"
     ]
    },
    {
     "name": "stdout",
     "output_type": "stream",
     "text": [
      "1\n",
      "1.763445587364538e-08\n"
     ]
    },
    {
     "name": "stderr",
     "output_type": "stream",
     "text": [
      "\r",
      " 42%|███████████████████▌                           | 83/200 [01:15<01:32,  1.26it/s]"
     ]
    },
    {
     "name": "stdout",
     "output_type": "stream",
     "text": [
      "1\n",
      "1.9505871588765413e-06\n"
     ]
    },
    {
     "name": "stderr",
     "output_type": "stream",
     "text": [
      "\r",
      " 42%|███████████████████▋                           | 84/200 [01:16<01:31,  1.26it/s]"
     ]
    },
    {
     "name": "stdout",
     "output_type": "stream",
     "text": [
      "1\n",
      "1.8527081726745054e-08\n"
     ]
    },
    {
     "name": "stderr",
     "output_type": "stream",
     "text": [
      "\r",
      " 42%|███████████████████▉                           | 85/200 [01:16<01:30,  1.27it/s]"
     ]
    },
    {
     "name": "stdout",
     "output_type": "stream",
     "text": [
      "1\n",
      "3.636235428251825e-05\n"
     ]
    },
    {
     "name": "stderr",
     "output_type": "stream",
     "text": [
      "\r",
      " 43%|████████████████████▏                          | 86/200 [01:17<01:30,  1.26it/s]"
     ]
    },
    {
     "name": "stdout",
     "output_type": "stream",
     "text": [
      "0\n",
      "0.42412700124693825\n"
     ]
    },
    {
     "name": "stderr",
     "output_type": "stream",
     "text": [
      "\r",
      " 44%|████████████████████▍                          | 87/200 [01:18<01:29,  1.26it/s]"
     ]
    },
    {
     "name": "stdout",
     "output_type": "stream",
     "text": [
      "1\n",
      "0.0002170741903894074\n"
     ]
    },
    {
     "name": "stderr",
     "output_type": "stream",
     "text": [
      "\r",
      " 44%|████████████████████▋                          | 88/200 [01:19<01:28,  1.26it/s]"
     ]
    },
    {
     "name": "stdout",
     "output_type": "stream",
     "text": [
      "0\n",
      "2.2362107276023737\n"
     ]
    },
    {
     "name": "stderr",
     "output_type": "stream",
     "text": [
      "\r",
      " 44%|████████████████████▉                          | 89/200 [01:20<01:28,  1.26it/s]"
     ]
    },
    {
     "name": "stdout",
     "output_type": "stream",
     "text": [
      "0\n",
      "0.6741688188172623\n"
     ]
    },
    {
     "name": "stderr",
     "output_type": "stream",
     "text": [
      "\r",
      " 45%|█████████████████████▏                         | 90/200 [01:20<01:27,  1.26it/s]"
     ]
    },
    {
     "name": "stdout",
     "output_type": "stream",
     "text": [
      "-1\n",
      "2.438076687426992e-17\n"
     ]
    },
    {
     "name": "stderr",
     "output_type": "stream",
     "text": [
      "\r",
      " 46%|█████████████████████▍                         | 91/200 [01:21<01:25,  1.27it/s]"
     ]
    },
    {
     "name": "stdout",
     "output_type": "stream",
     "text": [
      "-1\n",
      "8.212503866975864e-18\n"
     ]
    },
    {
     "name": "stderr",
     "output_type": "stream",
     "text": [
      "\r",
      " 46%|█████████████████████▌                         | 92/200 [01:22<01:25,  1.27it/s]"
     ]
    },
    {
     "name": "stdout",
     "output_type": "stream",
     "text": [
      "1\n",
      "0.0036417235781142005\n"
     ]
    },
    {
     "name": "stderr",
     "output_type": "stream",
     "text": [
      "\r",
      " 46%|█████████████████████▊                         | 93/200 [01:23<01:24,  1.27it/s]"
     ]
    },
    {
     "name": "stdout",
     "output_type": "stream",
     "text": [
      "-1\n",
      "2.479801790946255e-17\n"
     ]
    },
    {
     "name": "stderr",
     "output_type": "stream",
     "text": [
      "\r",
      " 47%|██████████████████████                         | 94/200 [01:23<01:23,  1.27it/s]"
     ]
    },
    {
     "name": "stdout",
     "output_type": "stream",
     "text": [
      "-1\n",
      "1.016576267654148e-18\n"
     ]
    },
    {
     "name": "stderr",
     "output_type": "stream",
     "text": [
      "\r",
      " 48%|██████████████████████▎                        | 95/200 [01:24<01:22,  1.27it/s]"
     ]
    },
    {
     "name": "stdout",
     "output_type": "stream",
     "text": [
      "-1\n",
      "8.146575266493104e-18\n"
     ]
    },
    {
     "name": "stderr",
     "output_type": "stream",
     "text": [
      "\r",
      " 48%|██████████████████████▌                        | 96/200 [01:25<01:22,  1.26it/s]"
     ]
    },
    {
     "name": "stdout",
     "output_type": "stream",
     "text": [
      "1\n",
      "0.00011061408479581216\n"
     ]
    },
    {
     "name": "stderr",
     "output_type": "stream",
     "text": [
      "\r",
      " 48%|██████████████████████▊                        | 97/200 [01:26<01:21,  1.27it/s]"
     ]
    },
    {
     "name": "stdout",
     "output_type": "stream",
     "text": [
      "1\n",
      "3.046322855948712e-07\n"
     ]
    },
    {
     "name": "stderr",
     "output_type": "stream",
     "text": [
      "\r",
      " 49%|███████████████████████                        | 98/200 [01:27<01:21,  1.26it/s]"
     ]
    },
    {
     "name": "stdout",
     "output_type": "stream",
     "text": [
      "0\n",
      "0.4431137626448037\n"
     ]
    },
    {
     "name": "stderr",
     "output_type": "stream",
     "text": [
      "\r",
      " 50%|███████████████████████▎                       | 99/200 [01:27<01:20,  1.26it/s]"
     ]
    },
    {
     "name": "stdout",
     "output_type": "stream",
     "text": [
      "1\n",
      "3.0556521985045554e-08\n"
     ]
    },
    {
     "name": "stderr",
     "output_type": "stream",
     "text": [
      "\r",
      " 50%|███████████████████████                       | 100/200 [01:28<01:19,  1.26it/s]"
     ]
    },
    {
     "name": "stdout",
     "output_type": "stream",
     "text": [
      "0\n",
      "0.669593650871921\n"
     ]
    },
    {
     "name": "stderr",
     "output_type": "stream",
     "text": [
      "\r",
      " 50%|███████████████████████▏                      | 101/200 [01:29<01:19,  1.24it/s]"
     ]
    },
    {
     "name": "stdout",
     "output_type": "stream",
     "text": [
      "\n",
      "Step: 100\n",
      "----------------------------------------------------\n",
      "1\n",
      "0.00017923491273889817\n"
     ]
    },
    {
     "name": "stderr",
     "output_type": "stream",
     "text": [
      "\r",
      " 51%|███████████████████████▍                      | 102/200 [01:30<01:19,  1.24it/s]"
     ]
    },
    {
     "name": "stdout",
     "output_type": "stream",
     "text": [
      "0\n",
      "0.4333519770158698\n"
     ]
    },
    {
     "name": "stderr",
     "output_type": "stream",
     "text": [
      "\r",
      " 52%|███████████████████████▋                      | 103/200 [01:31<01:18,  1.24it/s]"
     ]
    },
    {
     "name": "stdout",
     "output_type": "stream",
     "text": [
      "1\n",
      "1.5461501571013396e-07\n"
     ]
    },
    {
     "name": "stderr",
     "output_type": "stream",
     "text": [
      "\r",
      " 52%|███████████████████████▉                      | 104/200 [01:31<01:17,  1.24it/s]"
     ]
    },
    {
     "name": "stdout",
     "output_type": "stream",
     "text": [
      "1\n",
      "0.004158413990480382\n"
     ]
    },
    {
     "name": "stderr",
     "output_type": "stream",
     "text": [
      "\r",
      " 52%|████████████████████████▏                     | 105/200 [01:32<01:16,  1.24it/s]"
     ]
    },
    {
     "name": "stdout",
     "output_type": "stream",
     "text": [
      "1\n",
      "0.00022558615113396898\n"
     ]
    },
    {
     "name": "stderr",
     "output_type": "stream",
     "text": [
      "\r",
      " 53%|████████████████████████▍                     | 106/200 [01:33<01:15,  1.24it/s]"
     ]
    },
    {
     "name": "stdout",
     "output_type": "stream",
     "text": [
      "-1\n",
      "1.7484768942285407e-18\n"
     ]
    },
    {
     "name": "stderr",
     "output_type": "stream",
     "text": [
      "\r",
      " 54%|████████████████████████▌                     | 107/200 [01:34<01:14,  1.24it/s]"
     ]
    },
    {
     "name": "stdout",
     "output_type": "stream",
     "text": [
      "0\n",
      "0.4360002387967741\n"
     ]
    },
    {
     "name": "stderr",
     "output_type": "stream",
     "text": [
      "\r",
      " 54%|████████████████████████▊                     | 108/200 [01:35<01:14,  1.24it/s]"
     ]
    },
    {
     "name": "stdout",
     "output_type": "stream",
     "text": [
      "0\n",
      "2.1751166184269333\n"
     ]
    },
    {
     "name": "stderr",
     "output_type": "stream",
     "text": [
      "\r",
      " 55%|█████████████████████████                     | 109/200 [01:35<01:13,  1.24it/s]"
     ]
    },
    {
     "name": "stdout",
     "output_type": "stream",
     "text": [
      "1\n",
      "1.5073495168153538e-08\n"
     ]
    },
    {
     "name": "stderr",
     "output_type": "stream",
     "text": [
      "\r",
      " 55%|█████████████████████████▎                    | 110/200 [01:36<01:12,  1.25it/s]"
     ]
    },
    {
     "name": "stdout",
     "output_type": "stream",
     "text": [
      "1\n",
      "2.0421645081989396e-07\n"
     ]
    },
    {
     "name": "stderr",
     "output_type": "stream",
     "text": [
      "\r",
      " 56%|█████████████████████████▌                    | 111/200 [01:37<01:11,  1.24it/s]"
     ]
    },
    {
     "name": "stdout",
     "output_type": "stream",
     "text": [
      "0\n",
      "1.539489034759304\n"
     ]
    },
    {
     "name": "stderr",
     "output_type": "stream",
     "text": [
      "\r",
      " 56%|█████████████████████████▊                    | 112/200 [01:38<01:10,  1.25it/s]"
     ]
    },
    {
     "name": "stdout",
     "output_type": "stream",
     "text": [
      "0\n",
      "0.647132939564254\n"
     ]
    },
    {
     "name": "stderr",
     "output_type": "stream",
     "text": [
      "\r",
      " 56%|█████████████████████████▉                    | 113/200 [01:39<01:09,  1.25it/s]"
     ]
    },
    {
     "name": "stdout",
     "output_type": "stream",
     "text": [
      "1\n",
      "3.9320408021697117e-07\n"
     ]
    },
    {
     "name": "stderr",
     "output_type": "stream",
     "text": [
      "\r",
      " 57%|██████████████████████████▏                   | 114/200 [01:39<01:09,  1.24it/s]"
     ]
    },
    {
     "name": "stdout",
     "output_type": "stream",
     "text": [
      "-1\n",
      "1.210330403004728e-18\n"
     ]
    },
    {
     "name": "stderr",
     "output_type": "stream",
     "text": [
      "\r",
      " 57%|██████████████████████████▍                   | 115/200 [01:40<01:08,  1.24it/s]"
     ]
    },
    {
     "name": "stdout",
     "output_type": "stream",
     "text": [
      "-1\n",
      "1.858412080001532e-18\n"
     ]
    },
    {
     "name": "stderr",
     "output_type": "stream",
     "text": [
      "\r",
      " 58%|██████████████████████████▋                   | 116/200 [01:41<01:09,  1.21it/s]"
     ]
    },
    {
     "name": "stdout",
     "output_type": "stream",
     "text": [
      "-1\n",
      "2.7750942387889647e-18\n"
     ]
    },
    {
     "name": "stderr",
     "output_type": "stream",
     "text": [
      "\r",
      " 58%|██████████████████████████▉                   | 117/200 [01:42<01:08,  1.22it/s]"
     ]
    },
    {
     "name": "stdout",
     "output_type": "stream",
     "text": [
      "0\n",
      "0.4839419228872142\n"
     ]
    },
    {
     "name": "stderr",
     "output_type": "stream",
     "text": [
      "\r",
      " 59%|███████████████████████████▏                  | 118/200 [01:43<01:07,  1.22it/s]"
     ]
    },
    {
     "name": "stdout",
     "output_type": "stream",
     "text": [
      "-1\n",
      "2.6886419829711397e-18\n"
     ]
    },
    {
     "name": "stderr",
     "output_type": "stream",
     "text": [
      "\r",
      " 60%|███████████████████████████▎                  | 119/200 [01:44<01:05,  1.23it/s]"
     ]
    },
    {
     "name": "stdout",
     "output_type": "stream",
     "text": [
      "1\n",
      "3.4479279105219594e-05\n"
     ]
    },
    {
     "name": "stderr",
     "output_type": "stream",
     "text": [
      "\r",
      " 60%|███████████████████████████▌                  | 120/200 [01:44<01:04,  1.24it/s]"
     ]
    },
    {
     "name": "stdout",
     "output_type": "stream",
     "text": [
      "0\n",
      "1.5231424862737795\n"
     ]
    },
    {
     "name": "stderr",
     "output_type": "stream",
     "text": [
      "\r",
      " 60%|███████████████████████████▊                  | 121/200 [01:45<01:03,  1.24it/s]"
     ]
    },
    {
     "name": "stdout",
     "output_type": "stream",
     "text": [
      "-1\n",
      "1.0013400149572021e-18\n"
     ]
    },
    {
     "name": "stderr",
     "output_type": "stream",
     "text": [
      "\r",
      " 61%|████████████████████████████                  | 122/200 [01:46<01:02,  1.25it/s]"
     ]
    },
    {
     "name": "stdout",
     "output_type": "stream",
     "text": [
      "1\n",
      "4.357286774786164e-07\n"
     ]
    },
    {
     "name": "stderr",
     "output_type": "stream",
     "text": [
      "\r",
      " 62%|████████████████████████████▎                 | 123/200 [01:47<01:01,  1.25it/s]"
     ]
    },
    {
     "name": "stdout",
     "output_type": "stream",
     "text": [
      "-1\n",
      "2.780007902904546e-18\n"
     ]
    },
    {
     "name": "stderr",
     "output_type": "stream",
     "text": [
      "\r",
      " 62%|████████████████████████████▌                 | 124/200 [01:48<01:00,  1.26it/s]"
     ]
    },
    {
     "name": "stdout",
     "output_type": "stream",
     "text": [
      "-1\n",
      "7.244082794305402e-18\n"
     ]
    },
    {
     "name": "stderr",
     "output_type": "stream",
     "text": [
      "\r",
      " 62%|████████████████████████████▊                 | 125/200 [01:48<00:59,  1.26it/s]"
     ]
    },
    {
     "name": "stdout",
     "output_type": "stream",
     "text": [
      "0\n",
      "0.4703190210179267\n"
     ]
    },
    {
     "name": "stderr",
     "output_type": "stream",
     "text": [
      "\r",
      " 63%|████████████████████████████▉                 | 126/200 [01:49<00:58,  1.27it/s]"
     ]
    },
    {
     "name": "stdout",
     "output_type": "stream",
     "text": [
      "1\n",
      "0.00012460756947742257\n"
     ]
    },
    {
     "name": "stderr",
     "output_type": "stream",
     "text": [
      "\r",
      " 64%|█████████████████████████████▏                | 127/200 [01:50<00:57,  1.26it/s]"
     ]
    },
    {
     "name": "stdout",
     "output_type": "stream",
     "text": [
      "1\n",
      "1.0962779100282463e-07\n"
     ]
    },
    {
     "name": "stderr",
     "output_type": "stream",
     "text": [
      "\r",
      " 64%|█████████████████████████████▍                | 128/200 [01:51<00:56,  1.27it/s]"
     ]
    },
    {
     "name": "stdout",
     "output_type": "stream",
     "text": [
      "0\n",
      "0.44131279872149876\n"
     ]
    },
    {
     "name": "stderr",
     "output_type": "stream",
     "text": [
      "\r",
      " 64%|█████████████████████████████▋                | 129/200 [01:52<00:56,  1.26it/s]"
     ]
    },
    {
     "name": "stdout",
     "output_type": "stream",
     "text": [
      "0\n",
      "0.6834083725233026\n"
     ]
    },
    {
     "name": "stderr",
     "output_type": "stream",
     "text": [
      "\r",
      " 65%|█████████████████████████████▉                | 130/200 [01:52<00:55,  1.27it/s]"
     ]
    },
    {
     "name": "stdout",
     "output_type": "stream",
     "text": [
      "-1\n",
      "4.797475471522512e-18\n"
     ]
    },
    {
     "name": "stderr",
     "output_type": "stream",
     "text": [
      "\r",
      " 66%|██████████████████████████████▏               | 131/200 [01:53<00:54,  1.26it/s]"
     ]
    },
    {
     "name": "stdout",
     "output_type": "stream",
     "text": [
      "-1\n",
      "3.8862360167661095e-18\n"
     ]
    },
    {
     "name": "stderr",
     "output_type": "stream",
     "text": [
      "\r",
      " 66%|██████████████████████████████▎               | 132/200 [01:54<00:53,  1.27it/s]"
     ]
    },
    {
     "name": "stdout",
     "output_type": "stream",
     "text": [
      "0\n",
      "1.6098396550395369\n"
     ]
    },
    {
     "name": "stderr",
     "output_type": "stream",
     "text": [
      "\r",
      " 66%|██████████████████████████████▌               | 133/200 [01:55<00:52,  1.26it/s]"
     ]
    },
    {
     "name": "stdout",
     "output_type": "stream",
     "text": [
      "1\n",
      "4.3523482339110644e-07\n"
     ]
    },
    {
     "name": "stderr",
     "output_type": "stream",
     "text": [
      "\r",
      " 67%|██████████████████████████████▊               | 134/200 [01:55<00:52,  1.27it/s]"
     ]
    },
    {
     "name": "stdout",
     "output_type": "stream",
     "text": [
      "1\n",
      "2.4005884499699538e-05\n"
     ]
    },
    {
     "name": "stderr",
     "output_type": "stream",
     "text": [
      "\r",
      " 68%|███████████████████████████████               | 135/200 [01:56<00:51,  1.25it/s]"
     ]
    },
    {
     "name": "stdout",
     "output_type": "stream",
     "text": [
      "-1\n",
      "9.950315930185197e-18\n"
     ]
    },
    {
     "name": "stderr",
     "output_type": "stream",
     "text": [
      "\r",
      " 68%|███████████████████████████████▎              | 136/200 [01:57<00:51,  1.25it/s]"
     ]
    },
    {
     "name": "stdout",
     "output_type": "stream",
     "text": [
      "0\n",
      "2.1553053970375133\n"
     ]
    },
    {
     "name": "stderr",
     "output_type": "stream",
     "text": [
      "\r",
      " 68%|███████████████████████████████▌              | 137/200 [01:58<00:50,  1.26it/s]"
     ]
    },
    {
     "name": "stdout",
     "output_type": "stream",
     "text": [
      "0\n",
      "2.000165112260519\n"
     ]
    },
    {
     "name": "stderr",
     "output_type": "stream",
     "text": [
      "\r",
      " 69%|███████████████████████████████▋              | 138/200 [01:59<00:49,  1.26it/s]"
     ]
    },
    {
     "name": "stdout",
     "output_type": "stream",
     "text": [
      "1\n",
      "8.801880318907906e-08\n"
     ]
    },
    {
     "name": "stderr",
     "output_type": "stream",
     "text": [
      "\r",
      " 70%|███████████████████████████████▉              | 139/200 [01:59<00:48,  1.26it/s]"
     ]
    },
    {
     "name": "stdout",
     "output_type": "stream",
     "text": [
      "0\n",
      "1.882925242990665\n"
     ]
    },
    {
     "name": "stderr",
     "output_type": "stream",
     "text": [
      "\r",
      " 70%|████████████████████████████████▏             | 140/200 [02:00<00:47,  1.26it/s]"
     ]
    },
    {
     "name": "stdout",
     "output_type": "stream",
     "text": [
      "0\n",
      "0.7256519659717295\n"
     ]
    },
    {
     "name": "stderr",
     "output_type": "stream",
     "text": [
      "\r",
      " 70%|████████████████████████████████▍             | 141/200 [02:01<00:46,  1.26it/s]"
     ]
    },
    {
     "name": "stdout",
     "output_type": "stream",
     "text": [
      "1\n",
      "6.796853935954174e-05\n"
     ]
    },
    {
     "name": "stderr",
     "output_type": "stream",
     "text": [
      "\r",
      " 71%|████████████████████████████████▋             | 142/200 [02:02<00:45,  1.26it/s]"
     ]
    },
    {
     "name": "stdout",
     "output_type": "stream",
     "text": [
      "0\n",
      "1.283599512032607\n"
     ]
    },
    {
     "name": "stderr",
     "output_type": "stream",
     "text": [
      "\r",
      " 72%|████████████████████████████████▉             | 143/200 [02:03<00:45,  1.26it/s]"
     ]
    },
    {
     "name": "stdout",
     "output_type": "stream",
     "text": [
      "1\n",
      "0.0011935701902459313\n"
     ]
    },
    {
     "name": "stderr",
     "output_type": "stream",
     "text": [
      "\r",
      " 72%|█████████████████████████████████             | 144/200 [02:03<00:44,  1.27it/s]"
     ]
    },
    {
     "name": "stdout",
     "output_type": "stream",
     "text": [
      "1\n",
      "1.8177303166771012e-07\n"
     ]
    },
    {
     "name": "stderr",
     "output_type": "stream",
     "text": [
      "\r",
      " 72%|█████████████████████████████████▎            | 145/200 [02:04<00:43,  1.27it/s]"
     ]
    },
    {
     "name": "stdout",
     "output_type": "stream",
     "text": [
      "0\n",
      "0.6552685881820368\n"
     ]
    },
    {
     "name": "stderr",
     "output_type": "stream",
     "text": [
      "\r",
      " 73%|█████████████████████████████████▌            | 146/200 [02:05<00:42,  1.26it/s]"
     ]
    },
    {
     "name": "stdout",
     "output_type": "stream",
     "text": [
      "1\n",
      "1.4235042447774701e-05\n"
     ]
    },
    {
     "name": "stderr",
     "output_type": "stream",
     "text": [
      "\r",
      " 74%|█████████████████████████████████▊            | 147/200 [02:06<00:41,  1.27it/s]"
     ]
    },
    {
     "name": "stdout",
     "output_type": "stream",
     "text": [
      "1\n",
      "3.781838478924072e-05\n"
     ]
    },
    {
     "name": "stderr",
     "output_type": "stream",
     "text": [
      "\r",
      " 74%|██████████████████████████████████            | 148/200 [02:07<00:41,  1.26it/s]"
     ]
    },
    {
     "name": "stdout",
     "output_type": "stream",
     "text": [
      "1\n",
      "3.454567787840035e-08\n"
     ]
    },
    {
     "name": "stderr",
     "output_type": "stream",
     "text": [
      "\r",
      " 74%|██████████████████████████████████▎           | 149/200 [02:07<00:40,  1.26it/s]"
     ]
    },
    {
     "name": "stdout",
     "output_type": "stream",
     "text": [
      "-1\n",
      "6.118577796114578e-20\n"
     ]
    },
    {
     "name": "stderr",
     "output_type": "stream",
     "text": [
      "\r",
      " 75%|██████████████████████████████████▌           | 150/200 [02:08<00:39,  1.27it/s]"
     ]
    },
    {
     "name": "stdout",
     "output_type": "stream",
     "text": [
      "-1\n",
      "4.477615560816147e-19\n"
     ]
    },
    {
     "name": "stderr",
     "output_type": "stream",
     "text": [
      "\r",
      " 76%|██████████████████████████████████▋           | 151/200 [02:09<00:38,  1.27it/s]"
     ]
    },
    {
     "name": "stdout",
     "output_type": "stream",
     "text": [
      "0\n",
      "0.5605282342887852\n"
     ]
    },
    {
     "name": "stderr",
     "output_type": "stream",
     "text": [
      "\r",
      " 76%|██████████████████████████████████▉           | 152/200 [02:10<00:37,  1.27it/s]"
     ]
    },
    {
     "name": "stdout",
     "output_type": "stream",
     "text": [
      "1\n",
      "2.823619125120404e-08\n"
     ]
    },
    {
     "name": "stderr",
     "output_type": "stream",
     "text": [
      "\r",
      " 76%|███████████████████████████████████▏          | 153/200 [02:10<00:36,  1.28it/s]"
     ]
    },
    {
     "name": "stdout",
     "output_type": "stream",
     "text": [
      "1\n",
      "1.5764813169825233e-06\n"
     ]
    },
    {
     "name": "stderr",
     "output_type": "stream",
     "text": [
      "\r",
      " 77%|███████████████████████████████████▍          | 154/200 [02:11<00:36,  1.27it/s]"
     ]
    },
    {
     "name": "stdout",
     "output_type": "stream",
     "text": [
      "1\n",
      "7.716389125498405e-05\n"
     ]
    },
    {
     "name": "stderr",
     "output_type": "stream",
     "text": [
      "\r",
      " 78%|███████████████████████████████████▋          | 155/200 [02:12<00:35,  1.27it/s]"
     ]
    },
    {
     "name": "stdout",
     "output_type": "stream",
     "text": [
      "-1\n",
      "5.058522782056964e-19\n"
     ]
    },
    {
     "name": "stderr",
     "output_type": "stream",
     "text": [
      "\r",
      " 78%|███████████████████████████████████▉          | 156/200 [02:13<00:35,  1.23it/s]"
     ]
    },
    {
     "name": "stdout",
     "output_type": "stream",
     "text": [
      "0\n",
      "0.6280208811731417\n"
     ]
    },
    {
     "name": "stderr",
     "output_type": "stream",
     "text": [
      "\r",
      " 78%|████████████████████████████████████          | 157/200 [02:14<00:43,  1.00s/it]"
     ]
    },
    {
     "name": "stdout",
     "output_type": "stream",
     "text": [
      "-1\n",
      "6.673661526095355e-20\n"
     ]
    },
    {
     "name": "stderr",
     "output_type": "stream",
     "text": [
      "\r",
      " 79%|████████████████████████████████████▎         | 158/200 [02:16<00:45,  1.09s/it]"
     ]
    },
    {
     "name": "stdout",
     "output_type": "stream",
     "text": [
      "-1\n",
      "4.04281259458003e-17\n"
     ]
    },
    {
     "name": "stderr",
     "output_type": "stream",
     "text": [
      "\r",
      " 80%|████████████████████████████████████▌         | 159/200 [02:17<00:47,  1.17s/it]"
     ]
    },
    {
     "name": "stdout",
     "output_type": "stream",
     "text": [
      "-1\n",
      "4.365530968231077e-17\n"
     ]
    },
    {
     "name": "stderr",
     "output_type": "stream",
     "text": [
      "\r",
      " 80%|████████████████████████████████████▊         | 160/200 [02:18<00:47,  1.18s/it]"
     ]
    },
    {
     "name": "stdout",
     "output_type": "stream",
     "text": [
      "1\n",
      "1.8856690949827298e-05\n"
     ]
    },
    {
     "name": "stderr",
     "output_type": "stream",
     "text": [
      "\r",
      " 80%|█████████████████████████████████████         | 161/200 [02:19<00:42,  1.08s/it]"
     ]
    },
    {
     "name": "stdout",
     "output_type": "stream",
     "text": [
      "1\n",
      "2.396876680671839e-07\n"
     ]
    },
    {
     "name": "stderr",
     "output_type": "stream",
     "text": [
      "\r",
      " 81%|█████████████████████████████████████▎        | 162/200 [02:20<00:37,  1.00it/s]"
     ]
    },
    {
     "name": "stdout",
     "output_type": "stream",
     "text": [
      "1\n",
      "3.9438056788954475e-06\n"
     ]
    },
    {
     "name": "stderr",
     "output_type": "stream",
     "text": [
      "\r",
      " 82%|█████████████████████████████████████▍        | 163/200 [02:21<00:34,  1.07it/s]"
     ]
    },
    {
     "name": "stdout",
     "output_type": "stream",
     "text": [
      "0\n",
      "0.5569340907825969\n"
     ]
    },
    {
     "name": "stderr",
     "output_type": "stream",
     "text": [
      "\r",
      " 82%|█████████████████████████████████████▋        | 164/200 [02:21<00:32,  1.11it/s]"
     ]
    },
    {
     "name": "stdout",
     "output_type": "stream",
     "text": [
      "-1\n",
      "7.682675560782072e-20\n"
     ]
    },
    {
     "name": "stderr",
     "output_type": "stream",
     "text": [
      "\r",
      " 82%|█████████████████████████████████████▉        | 165/200 [02:22<00:30,  1.15it/s]"
     ]
    },
    {
     "name": "stdout",
     "output_type": "stream",
     "text": [
      "1\n",
      "1.058120972424101e-07\n"
     ]
    },
    {
     "name": "stderr",
     "output_type": "stream",
     "text": [
      "\r",
      " 83%|██████████████████████████████████████▏       | 166/200 [02:23<00:28,  1.18it/s]"
     ]
    },
    {
     "name": "stdout",
     "output_type": "stream",
     "text": [
      "-1\n",
      "2.1096734111335562e-19\n"
     ]
    },
    {
     "name": "stderr",
     "output_type": "stream",
     "text": [
      "\r",
      " 84%|██████████████████████████████████████▍       | 167/200 [02:24<00:27,  1.20it/s]"
     ]
    },
    {
     "name": "stdout",
     "output_type": "stream",
     "text": [
      "0\n",
      "1.3410099182618918\n"
     ]
    },
    {
     "name": "stderr",
     "output_type": "stream",
     "text": [
      "\r",
      " 84%|██████████████████████████████████████▋       | 168/200 [02:25<00:26,  1.22it/s]"
     ]
    },
    {
     "name": "stdout",
     "output_type": "stream",
     "text": [
      "1\n",
      "1.5409505726951773e-06\n"
     ]
    },
    {
     "name": "stderr",
     "output_type": "stream",
     "text": [
      "\r",
      " 84%|██████████████████████████████████████▊       | 169/200 [02:25<00:25,  1.23it/s]"
     ]
    },
    {
     "name": "stdout",
     "output_type": "stream",
     "text": [
      "1\n",
      "1.571651878633635e-08\n"
     ]
    },
    {
     "name": "stderr",
     "output_type": "stream",
     "text": [
      "\r",
      " 85%|███████████████████████████████████████       | 170/200 [02:26<00:24,  1.23it/s]"
     ]
    },
    {
     "name": "stdout",
     "output_type": "stream",
     "text": [
      "-1\n",
      "1.0946745884279364e-16\n"
     ]
    },
    {
     "name": "stderr",
     "output_type": "stream",
     "text": [
      "\r",
      " 86%|███████████████████████████████████████▎      | 171/200 [02:27<00:24,  1.20it/s]"
     ]
    },
    {
     "name": "stdout",
     "output_type": "stream",
     "text": [
      "0\n",
      "1.6210160567874823\n"
     ]
    },
    {
     "name": "stderr",
     "output_type": "stream",
     "text": [
      "\r",
      " 86%|███████████████████████████████████████▌      | 172/200 [02:28<00:26,  1.04it/s]"
     ]
    },
    {
     "name": "stdout",
     "output_type": "stream",
     "text": [
      "-1\n",
      "1.526479543542131e-20\n"
     ]
    },
    {
     "name": "stderr",
     "output_type": "stream",
     "text": [
      "\r",
      " 86%|███████████████████████████████████████▊      | 173/200 [02:29<00:24,  1.09it/s]"
     ]
    },
    {
     "name": "stdout",
     "output_type": "stream",
     "text": [
      "1\n",
      "1.6210988868787224e-06\n"
     ]
    },
    {
     "name": "stderr",
     "output_type": "stream",
     "text": [
      "\r",
      " 87%|████████████████████████████████████████      | 174/200 [02:30<00:22,  1.13it/s]"
     ]
    },
    {
     "name": "stdout",
     "output_type": "stream",
     "text": [
      "-1\n",
      "1.6807530590754576e-20\n"
     ]
    },
    {
     "name": "stderr",
     "output_type": "stream",
     "text": [
      "\r",
      " 88%|████████████████████████████████████████▎     | 175/200 [02:31<00:21,  1.17it/s]"
     ]
    },
    {
     "name": "stdout",
     "output_type": "stream",
     "text": [
      "-1\n",
      "8.448877582649892e-17\n"
     ]
    },
    {
     "name": "stderr",
     "output_type": "stream",
     "text": [
      "\r",
      " 88%|████████████████████████████████████████▍     | 176/200 [02:32<00:20,  1.19it/s]"
     ]
    },
    {
     "name": "stdout",
     "output_type": "stream",
     "text": [
      "-1\n",
      "4.835135804275094e-20\n"
     ]
    },
    {
     "name": "stderr",
     "output_type": "stream",
     "text": [
      "\r",
      " 88%|████████████████████████████████████████▋     | 177/200 [02:32<00:19,  1.21it/s]"
     ]
    },
    {
     "name": "stdout",
     "output_type": "stream",
     "text": [
      "1\n",
      "0.0009192644465110379\n"
     ]
    },
    {
     "name": "stderr",
     "output_type": "stream",
     "text": [
      "\r",
      " 89%|████████████████████████████████████████▉     | 178/200 [02:33<00:18,  1.21it/s]"
     ]
    },
    {
     "name": "stdout",
     "output_type": "stream",
     "text": [
      "-1\n",
      "1.6629658984167598e-20\n"
     ]
    },
    {
     "name": "stderr",
     "output_type": "stream",
     "text": [
      "\r",
      " 90%|█████████████████████████████████████████▏    | 179/200 [02:34<00:17,  1.23it/s]"
     ]
    },
    {
     "name": "stdout",
     "output_type": "stream",
     "text": [
      "1\n",
      "0.0008760980476555501\n"
     ]
    },
    {
     "name": "stderr",
     "output_type": "stream",
     "text": [
      "\r",
      " 90%|█████████████████████████████████████████▍    | 180/200 [02:35<00:16,  1.24it/s]"
     ]
    },
    {
     "name": "stdout",
     "output_type": "stream",
     "text": [
      "1\n",
      "3.534508232861855e-05\n"
     ]
    },
    {
     "name": "stderr",
     "output_type": "stream",
     "text": [
      "\r",
      " 90%|█████████████████████████████████████████▋    | 181/200 [02:36<00:15,  1.25it/s]"
     ]
    },
    {
     "name": "stdout",
     "output_type": "stream",
     "text": [
      "0\n",
      "1.5988264263379692\n"
     ]
    }
   ],
   "source": [
    "MCMC_chain=gibbs_sampling(data, samples=200, burnin=0, thinning=1)"
   ]
  },
  {
   "cell_type": "markdown",
   "metadata": {},
   "source": [
    "### Estimators"
   ]
  },
  {
   "cell_type": "code",
   "execution_count": null,
   "metadata": {},
   "outputs": [],
   "source": [
    "def compute_loss(delta, Q_tt):\n",
    "    stage = np.cumsum(delta, dtype=int)-1\n",
    "    Q_candidate = (stage[:, np.newaxis] == stage)\n",
    "    return np.sum(np.abs(Q_candidate - Q_tt))\n",
    "\n",
    "def get_estimators(chain, T_max=100, samples=1000):\n",
    "\n",
    "    ##### delta\n",
    "\n",
    "    delta = np.array(MCMC_chain[\"Delta\"])\n",
    "    stage = np.array(MCMC_chain[\"Stage\"])\n",
    "    masks = (stage[:, :, np.newaxis] == stage[:, np.newaxis, :])\n",
    "    Q_ttprime = np.sum(masks, axis=0)/samples\n",
    "\n",
    "    Delta_final = np.zeros(shape=T_max, dtype=int)\n",
    "    Delta_final[0] = 1\n",
    "    Stage_final = np.cumsum(Delta_final, dtype=int)-1 \n",
    "    current_loss = compute_loss(Delta_final, Q_ttprime)\n",
    "\n",
    "    check_add_drop = True\n",
    "    check_swap = True\n",
    "    while(check_add_drop==True or check_swap==True):\n",
    "        # check add or drop\n",
    "        candidates_loss = np.zeros(shape=(T_max))\n",
    "        for i in range(1, T_max):\n",
    "            Delta_candidate = Delta_final.copy()\n",
    "            Delta_candidate[i] = 1-Delta_candidate[i]\n",
    "            candidates_loss[i] = compute_loss(Delta_candidate, Q_ttprime)\n",
    "        index_min = np.argmin(candidates_loss[1:])+1\n",
    "        if candidates_loss[index_min] < current_loss:\n",
    "            current_loss = candidates_loss[index_min]\n",
    "            Delta_final[index_min] = 1-Delta_final[index_min]\n",
    "            check_add_drop = True\n",
    "        else:\n",
    "            check_add_drop = False\n",
    "\n",
    "        possible_change_indices = np.where(np.abs(Delta_final[1:-1] - Delta_final[2:]) == 1)[0]+1\n",
    "        candidates_loss = np.zeros(shape=(len(possible_change_indices)))\n",
    "        for i, idx in enumerate(possible_change_indices):\n",
    "            Delta_candidate = Delta_final.copy()\n",
    "            Delta_candidate[idx+np.array([0,1])] = Delta_candidate[idx+np.array([1,0])]\n",
    "            candidates_loss[i] = compute_loss(Delta_candidate, Q_ttprime)\n",
    "        index_min = np.argmin(candidates_loss)\n",
    "        if candidates_loss[index_min] < current_loss:\n",
    "            current_loss = candidates_loss[index_min]\n",
    "            Delta_candidate[possible_change_indices[index_min]+np.array([0,1])] = Delta_candidate[possible_change_indices[index_min]+np.array([1,0])]\n",
    "            check_swap = True\n",
    "        else:\n",
    "            check_swap = False\n",
    "\n",
    "        # check swap\n",
    "        if np.sum(Delta_final) in np.arange(1,T_max-1):\n",
    "            possible_change_indices = np.where(np.abs(Delta_final[1:-1] - Delta_final[2:]) == 1)[0]+1\n",
    "            candidates_loss = np.zeros(shape=(len(possible_change_indices)))\n",
    "            for i, idx in enumerate(possible_change_indices):\n",
    "                Delta_candidate = Delta_final.copy()\n",
    "                Delta_candidate[idx+np.array([0,1])] = Delta_candidate[idx+np.array([1,0])]\n",
    "                candidates_loss[i] = compute_loss(Delta_candidate, Q_ttprime)\n",
    "            index_min = np.argmin(candidates_loss)\n",
    "            if candidates_loss[index_min] < current_loss:\n",
    "                current_loss = candidates_loss[index_min]\n",
    "                Delta_candidate[possible_change_indices[index_min]+np.array([0,1])] = Delta_candidate[possible_change_indices[index_min]+np.array([1,0])]\n",
    "                check_swap = True\n",
    "            else:\n",
    "                check_swap = False\n",
    "\n",
    "\n",
    "    ##### beta and gamma\n",
    "                \n",
    "    b = np.array([[MCMC_chain[\"b\"][s][stage[s][t]] for t in range(T_max)] for s in range(samples)])\n",
    "    r = np.array([[MCMC_chain[\"r\"][s][stage[s][t]] for t in range(T_max)] for s in range(samples)])\n",
    "    beta_final  = np.sum(1/b, axis=0)/samples\n",
    "    gamma_final = np.sum(r/(1+r), axis=0)/samples\n",
    "\n",
    "\n",
    "    return Delta_final, beta_final, gamma_final\n",
    "        "
   ]
  },
  {
   "cell_type": "code",
   "execution_count": null,
   "metadata": {},
   "outputs": [],
   "source": [
    "delta_est, beta_est, gamma_est = get_estimators(MCMC_chain, 100, 200)\n",
    "stage_est = np.cumsum(delta_est)-1"
   ]
  },
  {
   "cell_type": "code",
   "execution_count": null,
   "metadata": {},
   "outputs": [],
   "source": [
    "delta_true = np.array([(t in chg_pt or t==1) for t in range(1, T_max+1)]).astype(int)\n",
    "stage_true = np.cumsum(delta_true)-1\n",
    "print(f\"True change points={np.where(delta_true==1)[0]}\")\n",
    "print(f\"Predicted change points={np.where(delta_est==1)[0]}\")"
   ]
  },
  {
   "cell_type": "code",
   "execution_count": null,
   "metadata": {},
   "outputs": [],
   "source": [
    "n_sc=3\n",
    "true_beta  = np.array([[scenarios[i,(chg_pt <= t+1).sum(),0] for t in range(T)] for i in range(n_sc)])\n",
    "true_gamma = np.array([[scenarios[i,(chg_pt <= t+1).sum(),1] for t in range(T)] for i in range(n_sc)])\n",
    "\n",
    "fig, ax = plt.subplots()\n",
    "plt.plot(beta_est, label=\"Estimated Beta\", color='dodgerblue')\n",
    "plt.plot(true_beta[0], label=\"True Beta\", color='dodgerblue', linestyle='dashed', alpha=0.7)\n",
    "plt.plot(gamma_est, label=\"Estimated Gamma\", color='darkorange')\n",
    "plt.plot(true_gamma[0], label=\"True Gamma\", color='darkorange', linestyle='dashed', alpha=0.7)\n",
    "ax.set_xlabel(\"Day\")\n",
    "plt.legend(loc=\"best\")"
   ]
  },
  {
   "cell_type": "markdown",
   "metadata": {},
   "source": [
    "### Agreement with True Values"
   ]
  },
  {
   "cell_type": "code",
   "execution_count": null,
   "metadata": {},
   "outputs": [],
   "source": [
    "def comp_ARI(true, estim, T_max=100):\n",
    "\n",
    "    comb = np.array(list(itertools.combinations(range(T_max), 2))).T\n",
    "    true_mask = (true[comb[0]] == true[comb[1]]).astype(int)\n",
    "    estim_mask = (estim[comb[0]] == estim[comb[1]]).astype(int)\n",
    "\n",
    "    TP = np.mean(true_mask*estim_mask)\n",
    "    FP = np.mean((1-true_mask)*estim_mask)\n",
    "    FN = np.mean(true_mask*(1-estim_mask))\n",
    "    TN = np.mean((1-true_mask)*(1-estim_mask))\n",
    "    num = TP+TN-(TP+FP)*(TP+FN)-(TN+FP)*(TN+FN)\n",
    "    den = 1-(TP+FP)*(TP+FN)-(TN+FP)*(TN+FN)\n",
    "\n",
    "    ARI = num/den\n",
    "\n",
    "    return ARI\n"
   ]
  },
  {
   "cell_type": "code",
   "execution_count": null,
   "metadata": {},
   "outputs": [],
   "source": [
    "def comp_MI(true, estim, T_max=100):\n",
    "    n_kkprime = np.histogram2d(true, estim, bins=(np.max(true)+1, np.max(estim)+1))[0]\n",
    "    n_k = np.sum(n_kkprime, axis=1)\n",
    "    n_kprime = np.sum(n_kkprime, axis=0)\n",
    "    \n",
    "    MI = np.sum(n_kkprime/T_max*np.log((n_kkprime+(n_kkprime==0))*T_max/np.outer(n_k, n_kprime)))\n",
    "    return MI"
   ]
  },
  {
   "cell_type": "code",
   "execution_count": null,
   "metadata": {},
   "outputs": [],
   "source": [
    "ARI = comp_ARI(stage_true, stage_est)\n",
    "MI = comp_MI(stage_true, stage_est)\n",
    "print(f\"ARI = {ARI} out of 1\\nMI = {MI} out of 1.386\")"
   ]
  },
  {
   "cell_type": "code",
   "execution_count": null,
   "metadata": {},
   "outputs": [],
   "source": []
  }
 ],
 "metadata": {
  "kernelspec": {
   "display_name": "Python 3 (ipykernel)",
   "language": "python",
   "name": "python3"
  },
  "language_info": {
   "codemirror_mode": {
    "name": "ipython",
    "version": 3
   },
   "file_extension": ".py",
   "mimetype": "text/x-python",
   "name": "python",
   "nbconvert_exporter": "python",
   "pygments_lexer": "ipython3",
   "version": "3.10.10"
  }
 },
 "nbformat": 4,
 "nbformat_minor": 2
}
