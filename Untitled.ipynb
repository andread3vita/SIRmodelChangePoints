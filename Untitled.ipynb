{
 "cells": [
  {
   "cell_type": "code",
   "execution_count": 1,
   "id": "bb4b1106",
   "metadata": {},
   "outputs": [],
   "source": [
    "import numpy as np\n",
    "from scipy.stats import gamma, beta, poisson"
   ]
  },
  {
   "cell_type": "code",
   "execution_count": null,
   "id": "18391852",
   "metadata": {},
   "outputs": [],
   "source": [
    "def evolution(duration,S0,I0,R0,beta,gamma):\n",
    "    \n",
    "    #initialization\n",
    "    S=np.zeros(duration)\n",
    "    I=np.zeros(duration)\n",
    "    R=np.zeros(duration)\n",
    "    \n",
    "    S[0] = S0\n",
    "    I[0] = I0\n",
    "    R[0] = R0\n",
    "    \n",
    "    N = S0+I0+R0\n",
    "    for t in range(1,duration):\n",
    "        \n",
    "        nI = S[t-1]\n",
    "        pI = 1 - np.exp(-beta[t]*I[t-1]/N)\n",
    "        nR = I[t-1]\n",
    "        pR = gamma[t]\n",
    "        \n",
    "        dI = np.random.binomial(nI, pI)\n",
    "        dR = np.random.binomial(nR, pR)\n",
    "        \n",
    "        S[t] = S[t-1] - dI\n",
    "        I[t] = I[t-1] + dI - dR\n",
    "        R[t] = R[t-1] + dR\n",
    "        \n",
    "    "
   ]
  },
  {
   "cell_type": "code",
   "execution_count": null,
   "id": "7d751096",
   "metadata": {},
   "outputs": [],
   "source": []
  }
 ],
 "metadata": {
  "kernelspec": {
   "display_name": "Python 3 (ipykernel)",
   "language": "python",
   "name": "python3"
  },
  "language_info": {
   "codemirror_mode": {
    "name": "ipython",
    "version": 3
   },
   "file_extension": ".py",
   "mimetype": "text/x-python",
   "name": "python",
   "nbconvert_exporter": "python",
   "pygments_lexer": "ipython3",
   "version": "3.9.7"
  }
 },
 "nbformat": 4,
 "nbformat_minor": 5
}
