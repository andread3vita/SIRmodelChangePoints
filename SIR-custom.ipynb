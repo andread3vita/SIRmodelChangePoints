{
 "cells": [
  {
   "cell_type": "markdown",
   "metadata": {},
   "source": [
    "# Bayesian SIR Model with Change Points"
   ]
  },
  {
   "cell_type": "code",
   "execution_count": 1,
   "metadata": {},
   "outputs": [],
   "source": [
    "import numpy as np\n",
    "from scipy.stats import binom, gamma, beta, expon, poisson, uniform, bernoulli\n",
    "from joblib import Parallel, delayed\n",
    "from scipy.special import gamma as gammaFunc\n",
    "import random\n",
    "\n",
    "import pandas as pd\n",
    "\n",
    "import matplotlib.pyplot as plt\n",
    "\n",
    "import tqdm\n",
    "\n",
    "import itertools"
   ]
  },
  {
   "cell_type": "markdown",
   "metadata": {},
   "source": [
    "## Data Simulation"
   ]
  },
  {
   "cell_type": "code",
   "execution_count": 2,
   "metadata": {},
   "outputs": [],
   "source": [
    "def sim_dataset(chg_pt, scenarios, T, S0, I0, R0, n_datasets):\n",
    "\n",
    "    N = S0 + I0 + R0\n",
    "    n_sc = scenarios.shape[0]\n",
    "\n",
    "    # create array of transmission and removal rate parameters at each time step\n",
    "    beta  = np.array([[scenarios[i,(chg_pt <= t+1).sum(),0] for t in range(T)] for i in range(n_sc)])\n",
    "    gamma = np.array([[scenarios[i,(chg_pt <= t+1).sum(),1] for t in range(T)] for i in range(n_sc)])\n",
    "\n",
    "\n",
    "    Delta_I = np.zeros(shape=(n_datasets, n_sc, T), dtype=np.int32)\n",
    "    Delta_R = np.zeros(shape=(n_datasets, n_sc, T), dtype=np.int32)\n",
    "    S       = np.zeros(shape=(n_datasets, n_sc, T), dtype=np.int32)\n",
    "    I       = np.zeros(shape=(n_datasets, n_sc, T), dtype=np.int32)\n",
    "    R       = np.zeros(shape=(n_datasets, n_sc, T), dtype=np.int32)\n",
    "\n",
    "    Delta_I[:,:,0] = binom.rvs(S0, 1-np.exp(-beta[:,0]*I0/N), size=(n_datasets, n_sc))\n",
    "    Delta_R[:,:,0] = binom.rvs(I0, gamma[:,0], size=(n_datasets, n_sc))\n",
    "    S[:,:,0]       = S0 - Delta_I[:,:,0]\n",
    "    I[:,:,0]       = I0 + Delta_I[:,:,0] - Delta_R[:,:,0]\n",
    "    R[:,:,0]       = R0 + Delta_R[:,:,0]\n",
    "\n",
    "    for t in range(1, T):\n",
    "        Delta_I[:,:,t] = binom.rvs(S[:,:,t-1], 1-np.exp(-beta[:,t]*I[:,:,t-1]/N))\n",
    "        Delta_R[:,:,t] = binom.rvs(I[:,:,t-1], gamma[:,t])\n",
    "        S[:,:,t]       = S[:,:,t-1] - Delta_I[:,:,t]\n",
    "        I[:,:,t]       = I[:,:,t-1] + Delta_I[:,:,t] - Delta_R[:,:,t]\n",
    "        R[:,:,t]       = R[:,:,t-1] + Delta_R[:,:,t]\n",
    "\n",
    "    return Delta_I, Delta_R, S, I, R"
   ]
  },
  {
   "cell_type": "code",
   "execution_count": 3,
   "metadata": {},
   "outputs": [],
   "source": [
    "def plot_SRI(S, I, R, sc=0, d=None, start_cond=(999_950, 50, 0), tot=1_000_000, time=100):\n",
    "\n",
    "    if d is None:\n",
    "        S = np.expand_dims(np.mean(S, axis=0), 0)\n",
    "        I = np.expand_dims(np.mean(I, axis=0), 0)\n",
    "        R = np.expand_dims(np.mean(R, axis=0), 0)\n",
    "        d = 0\n",
    "\n",
    "    S = np.concatenate([[start_cond[0]], S[d,sc]])\n",
    "    I = np.concatenate([[start_cond[1]], I[d,sc]])\n",
    "    R = np.concatenate([[start_cond[2]], R[d,sc]])\n",
    "\n",
    "    # plot\n",
    "    fig, ax = plt.subplots()\n",
    "\n",
    "    y = np.vstack([S, I, R])\n",
    "    ax.stackplot(np.arange(time+1), y/tot, labels=[\"S\",\"I\",\"R\"], alpha=0.8)\n",
    "\n",
    "    ax.set_xlabel(\"Day\")\n",
    "    ax.set_ylabel(\"Proportion\")\n",
    "    ax.set_xticks(np.concatenate([[0], np.arange(25, time+1, 25)]))\n",
    "    ax.set_yticks([0, 0.2, 0.4, 0.6, 0.8, 1])\n",
    "    plt.legend(loc=\"upper right\")\n",
    "\n",
    "    plt.show()"
   ]
  },
  {
   "cell_type": "markdown",
   "metadata": {},
   "source": [
    "### Example"
   ]
  },
  {
   "cell_type": "code",
   "execution_count": 4,
   "metadata": {},
   "outputs": [],
   "source": [
    "T = 100\n",
    "N = 1_000_000\n",
    "\n",
    "chg_pt = np.array([26, 51, 76])\n",
    "\n",
    "sc_1 = [(0.3, 0.05), (0.4, 0.15), (0.25, 0.2),  (0.2,  0.25)]\n",
    "sc_2 = [(0.4, 0.1),  (0.4, 0.25), (0.25, 0.25), (0.25, 0.4) ]\n",
    "sc_3 = [(0.5, 0.1),  (0.3, 0.3),  (0.4,  0.2),  (0.2,  0.4) ]\n",
    "scenarios = np.array([sc_1, sc_2, sc_3])\n",
    "\n",
    "S0 = N-50\n",
    "I0 = 50\n",
    "R0 = 0\n",
    "\n",
    "n_datasets = 100"
   ]
  },
  {
   "cell_type": "code",
   "execution_count": 5,
   "metadata": {},
   "outputs": [],
   "source": [
    "Delta_I, Delta_R, S, I, R =  sim_dataset(chg_pt, scenarios, T, S0, I0, R0, n_datasets)\n",
    "#for i in range(len(scenarios)):\n",
    " #   print(f\"Scenario {i+1}:\")\n",
    "#    plot_SRI(S, I, R, sc=i)"
   ]
  },
  {
   "cell_type": "markdown",
   "metadata": {},
   "source": [
    "## Gibbs Sampling"
   ]
  },
  {
   "cell_type": "code",
   "execution_count": 6,
   "metadata": {},
   "outputs": [],
   "source": [
    "S_obs = np.concatenate(([S0],S[0,0]))\n",
    "I_obs = np.concatenate(([I0],I[0,0]))\n",
    "R_obs = np.concatenate(([R0],R[0,0]))\n",
    "PI_obs = I_obs/N\n",
    "N_infect_obs = np.concatenate(([I0],Delta_I[0,0]))\n",
    "N_recovery_obs = np.concatenate(([R0],Delta_R[0,0]))\n",
    "\n",
    "data = pd.DataFrame({\n",
    "        'susceptible': S_obs,\n",
    "        'infects': I_obs,\n",
    "        'recovered': R_obs,\n",
    "        'PI': PI_obs,\n",
    "        'deltaI': N_infect_obs,\n",
    "        'deltaR': N_recovery_obs\n",
    "    })"
   ]
  },
  {
   "cell_type": "code",
   "execution_count": 7,
   "metadata": {},
   "outputs": [
    {
     "data": {
      "text/html": [
       "<div>\n",
       "<style scoped>\n",
       "    .dataframe tbody tr th:only-of-type {\n",
       "        vertical-align: middle;\n",
       "    }\n",
       "\n",
       "    .dataframe tbody tr th {\n",
       "        vertical-align: top;\n",
       "    }\n",
       "\n",
       "    .dataframe thead th {\n",
       "        text-align: right;\n",
       "    }\n",
       "</style>\n",
       "<table border=\"1\" class=\"dataframe\">\n",
       "  <thead>\n",
       "    <tr style=\"text-align: right;\">\n",
       "      <th></th>\n",
       "      <th>susceptible</th>\n",
       "      <th>infects</th>\n",
       "      <th>recovered</th>\n",
       "      <th>PI</th>\n",
       "      <th>deltaI</th>\n",
       "      <th>deltaR</th>\n",
       "    </tr>\n",
       "  </thead>\n",
       "  <tbody>\n",
       "    <tr>\n",
       "      <th>0</th>\n",
       "      <td>999950</td>\n",
       "      <td>50</td>\n",
       "      <td>0</td>\n",
       "      <td>0.000050</td>\n",
       "      <td>50</td>\n",
       "      <td>0</td>\n",
       "    </tr>\n",
       "    <tr>\n",
       "      <th>1</th>\n",
       "      <td>999934</td>\n",
       "      <td>64</td>\n",
       "      <td>2</td>\n",
       "      <td>0.000064</td>\n",
       "      <td>16</td>\n",
       "      <td>2</td>\n",
       "    </tr>\n",
       "    <tr>\n",
       "      <th>2</th>\n",
       "      <td>999909</td>\n",
       "      <td>87</td>\n",
       "      <td>4</td>\n",
       "      <td>0.000087</td>\n",
       "      <td>25</td>\n",
       "      <td>2</td>\n",
       "    </tr>\n",
       "    <tr>\n",
       "      <th>3</th>\n",
       "      <td>999884</td>\n",
       "      <td>102</td>\n",
       "      <td>14</td>\n",
       "      <td>0.000102</td>\n",
       "      <td>25</td>\n",
       "      <td>10</td>\n",
       "    </tr>\n",
       "    <tr>\n",
       "      <th>4</th>\n",
       "      <td>999843</td>\n",
       "      <td>141</td>\n",
       "      <td>16</td>\n",
       "      <td>0.000141</td>\n",
       "      <td>41</td>\n",
       "      <td>2</td>\n",
       "    </tr>\n",
       "    <tr>\n",
       "      <th>...</th>\n",
       "      <td>...</td>\n",
       "      <td>...</td>\n",
       "      <td>...</td>\n",
       "      <td>...</td>\n",
       "      <td>...</td>\n",
       "      <td>...</td>\n",
       "    </tr>\n",
       "    <tr>\n",
       "      <th>96</th>\n",
       "      <td>160039</td>\n",
       "      <td>18</td>\n",
       "      <td>839943</td>\n",
       "      <td>0.000018</td>\n",
       "      <td>2</td>\n",
       "      <td>5</td>\n",
       "    </tr>\n",
       "    <tr>\n",
       "      <th>97</th>\n",
       "      <td>160038</td>\n",
       "      <td>16</td>\n",
       "      <td>839946</td>\n",
       "      <td>0.000016</td>\n",
       "      <td>1</td>\n",
       "      <td>3</td>\n",
       "    </tr>\n",
       "    <tr>\n",
       "      <th>98</th>\n",
       "      <td>160036</td>\n",
       "      <td>14</td>\n",
       "      <td>839950</td>\n",
       "      <td>0.000014</td>\n",
       "      <td>2</td>\n",
       "      <td>4</td>\n",
       "    </tr>\n",
       "    <tr>\n",
       "      <th>99</th>\n",
       "      <td>160036</td>\n",
       "      <td>12</td>\n",
       "      <td>839952</td>\n",
       "      <td>0.000012</td>\n",
       "      <td>0</td>\n",
       "      <td>2</td>\n",
       "    </tr>\n",
       "    <tr>\n",
       "      <th>100</th>\n",
       "      <td>160035</td>\n",
       "      <td>12</td>\n",
       "      <td>839953</td>\n",
       "      <td>0.000012</td>\n",
       "      <td>1</td>\n",
       "      <td>1</td>\n",
       "    </tr>\n",
       "  </tbody>\n",
       "</table>\n",
       "<p>101 rows × 6 columns</p>\n",
       "</div>"
      ],
      "text/plain": [
       "     susceptible  infects  recovered        PI  deltaI  deltaR\n",
       "0         999950       50          0  0.000050      50       0\n",
       "1         999934       64          2  0.000064      16       2\n",
       "2         999909       87          4  0.000087      25       2\n",
       "3         999884      102         14  0.000102      25      10\n",
       "4         999843      141         16  0.000141      41       2\n",
       "..           ...      ...        ...       ...     ...     ...\n",
       "96        160039       18     839943  0.000018       2       5\n",
       "97        160038       16     839946  0.000016       1       3\n",
       "98        160036       14     839950  0.000014       2       4\n",
       "99        160036       12     839952  0.000012       0       2\n",
       "100       160035       12     839953  0.000012       1       1\n",
       "\n",
       "[101 rows x 6 columns]"
      ]
     },
     "execution_count": 7,
     "metadata": {},
     "output_type": "execute_result"
    }
   ],
   "source": [
    "data"
   ]
  },
  {
   "cell_type": "code",
   "execution_count": 131,
   "metadata": {},
   "outputs": [],
   "source": [
    "def delta_sampling(Delta_hat,Stage_hat,K_hat,p,beta_hat,gamma_hat):\n",
    "    \n",
    "    ########## change type\n",
    "    ## add–delete–swap - proposal step\n",
    "    # -1 delete\n",
    "    # 0 swap\n",
    "    # +1 add\n",
    "    if K_hat==1:\n",
    "            change_type = 1\n",
    "        \n",
    "    elif K_hat==T_max:\n",
    "        change_type = -1\n",
    "\n",
    "    else:\n",
    "        change_type = np.random.choice([-1, 0, 1])\n",
    "            \n",
    "    Delta_hat_candidate = Delta_hat.copy()\n",
    "    \n",
    "    ########## proposal phase\n",
    "    if change_type != 0:\n",
    "        if change_type == 1:\n",
    "            possible_change_indices = np.where(Delta_hat[1:] == 0)[0]+1\n",
    "        if change_type == -1:\n",
    "            possible_change_indices = np.where(Delta_hat[1:] == 1)[0]+1\n",
    "            \n",
    "        index_to_change = np.random.choice(possible_change_indices)\n",
    "            \n",
    "        Delta_hat_candidate[index_to_change] = 1 - Delta_hat_candidate[index_to_change]\n",
    "        Stage_hat_candidate = np.cumsum(Delta_hat_candidate)-1\n",
    "            \n",
    "    else:\n",
    "    \n",
    "        possible_change_indices = np.where(np.abs(Delta_hat[1:-1] - Delta_hat[2:]) == 1)[0]+1\n",
    "        one_index = Delta_hat[possible_change_indices]\n",
    "        index_to_change = np.random.choice(possible_change_indices)\n",
    "\n",
    "        Delta_hat_candidate[index_to_change + np.array([0, 1])] = Delta_hat_candidate[index_to_change + np.array([1, 0])]\n",
    "        Stage_hat_candidate = np.cumsum(Delta_hat_candidate)-1\n",
    "    \n",
    "    print(\"Original:\",np.where(Delta_hat==1)[0])\n",
    "    print(\"Candidate:\",np.where(Delta_hat_candidate==1)[0])\n",
    "    print(\"---------------------------\")\n",
    "    ########## metropolis hastings phase\n",
    "    #compute pi(delta*)/pi(delta^g)\n",
    "    pi = (p/(1-p))**(np.sum(Delta_hat_candidate - Delta_hat))\n",
    "        \n",
    "    #compute J/J\n",
    "    JJ = 0\n",
    "    delta_sum_candidate = np.sum(Delta_hat_candidate)\n",
    "    delta_sum = np.sum(Delta_hat)\n",
    "    if delta_sum == delta_sum_candidate:\n",
    "        JJ = 1 \n",
    "    elif ([delta_sum_candidate, delta_sum] == [1, 2] or [delta_sum_candidate, delta_sum] == [T_max, T_max-1]):\n",
    "        JJ = 3/(T_max-1)\n",
    "    elif ([delta_sum_candidate, delta_sum] == [2, 1] or [delta_sum_candidate, delta_sum] == [T_max-1, T_max]):\n",
    "        JJ = (T_max-1)/3\n",
    "    elif delta_sum_candidate - delta_sum == -1 and (delta_sum_candidate != 1 and delta_sum_candidate != T_max-1):\n",
    "        JJ = (delta_sum-1)/(T_max - delta_sum_candidate)\n",
    "    elif delta_sum_candidate - delta_sum == 1 and (delta_sum_candidate != 2 and delta_sum_candidate != T_max):\n",
    "        JJ = (T_max - delta_sum)/(delta_sum_candidate-1)\n",
    "\n",
    "    #compute pi(beta,gamma|delta*)/pi(beta,gamma|delta)\n",
    "    log1_candidate = 0\n",
    "    log2_candidate = 0\n",
    "        \n",
    "    for k in range(np.sum(Delta_hat_candidate)):\n",
    "        ind_k = np.where(Stage_hat_candidate == k)[0]\n",
    "        log1_candidate += np.log(gammaFunc(0.1+len(ind_k))) - (0.1+len(ind_k))*np.log(0.1+np.sum(beta_hat[ind_k]))\n",
    "        log2_candidate += np.log(gammaFunc(0.1+len(ind_k))) - (0.1+len(ind_k))*np.log(0.1+np.sum(-np.log(gamma_hat[ind_k])))\n",
    "        \n",
    "    log1_original = 0\n",
    "    log2_original = 0\n",
    "                                     \n",
    "    for k in range(np.sum(Delta_hat)):\n",
    "        ind_k = np.where(Stage_hat == k)[0]\n",
    "        log1_original += np.log(gammaFunc(0.1+len(ind_k))) - (0.1+len(ind_k))*np.log(0.1+np.sum(beta_hat[ind_k]))\n",
    "        log2_original += np.log(gammaFunc(0.1+len(ind_k))) - (0.1+len(ind_k))*np.log(0.1+np.sum(-np.log(gamma_hat[ind_k])))\n",
    "        \n",
    "    log_final = (log1_candidate+log2_candidate) - (log1_original+log2_original)     \n",
    "        \n",
    "    intermediate_ratio = np.exp(log_final)\n",
    "    m_mh = intermediate_ratio*JJ*pi\n",
    "    ratio = min(1.,m_mh)\n",
    "    print(\"ratio:\",ratio)\n",
    "    cxx = np.random.binomial(1, ratio) \n",
    "        \n",
    "    if cxx == 1:\n",
    "        Delta_hat = Delta_hat_candidate\n",
    "        Stage_hat = Stage_hat_candidate\n",
    "        K_hat = delta_sum_candidate\n",
    "        \n",
    "    return Delta_hat,Stage_hat,K_hat"
   ]
  },
  {
   "cell_type": "code",
   "execution_count": 138,
   "metadata": {},
   "outputs": [],
   "source": [
    "def calculate_contact_hat_parallel(pp_lambda_t):\n",
    "    pp, lambda_t = pp_lambda_t\n",
    "    return np.sum(poisson.ppf(pp, lambda_t))\n",
    "\n",
    "def gibbs_sampling(data, p=0.01,samples=10000, T_max=100, burnin=1000, thinning=10):\n",
    "    \n",
    "    ############# data\n",
    "    # Data is expected to be a dataframe with 101 rows (100 steps + initial one)\n",
    "    # OBS: the initial row should display the starting values \n",
    "    #      for Susceptible (S), Infected (I), and Recovered (R), with zero values in the \n",
    "    #      columns representing changes (deltas) over time.\n",
    "    \n",
    "    I_obs = data[\"infects\"].values\n",
    "    S_obs = data[\"susceptible\"].values\n",
    "    PI_obs = data[\"PI\"].values\n",
    "    N_infect_obs = data[\"deltaI\"].values[1:]\n",
    "    N_recovery_obs = data[\"deltaR\"].values[1:]\n",
    "    \n",
    "\n",
    "    #######################\n",
    "    ##  HYPERPARAMETERS  ##\n",
    "    #######################\n",
    "    \n",
    "    b_shape = 0.1\n",
    "    b_rate = 0.1\n",
    "    r_shape = 0.1\n",
    "    r_rate = 0.1    \n",
    "\n",
    "    ######################\n",
    "    ##  INITIALIZATION  ##\n",
    "    ######################\n",
    "    \n",
    "    ##### delta\n",
    "    Delta_hat = np.zeros(T_max,dtype=int)\n",
    "    Delta_hat[0] = 1\n",
    "    Stage_hat = np.cumsum(Delta_hat, dtype=int)-1\n",
    "    K_hat     = np.sum(Delta_hat, dtype=int)\n",
    "\n",
    "    ##### b and r\n",
    "    b_hat    = gamma.rvs(a=b_shape, scale=1/b_rate, size=K_hat)\n",
    "    r_hat    = gamma.rvs(a=r_shape, scale=1/r_rate, size=K_hat)\n",
    "    \n",
    "    ##### beta and gamma\n",
    "    beta_hat    = expon.rvs(scale=1/b_hat[Stage_hat[0]], size=T_max)\n",
    "    gamma_hat   = beta.rvs(a=r_hat[Stage_hat[0]], b=1, size=T_max)\n",
    "    lambda_t    = beta_hat*PI_obs[:-1]\n",
    "    p_upper     = 1 - poisson.cdf(0, lambda_t)\n",
    "    pp          = [uniform.rvs(size=N_infect_obs[t]) * p_upper[t] + (1 - p_upper[t]) for t in range(T_max)]\n",
    "    contact_hat = np.array(Parallel(n_jobs=-1)(delayed(calculate_contact_hat_parallel)((pp[t], lambda_t[t],)) for t in range(T_max)))\n",
    "    \n",
    "    \n",
    "    beta_hat    = gamma.rvs(a=contact_hat + 1, scale=1/(b_hat[Stage_hat] + PI_obs[:-1]*S_obs[:-1]))\n",
    "    gamma_hat   = beta.rvs(a=N_recovery_obs + r_hat[Stage_hat], b=1 + I_obs[:-1] - N_recovery_obs)\n",
    "    lambda_t    = beta_hat * PI_obs[:-1]\n",
    "    p_upper     = 1 - poisson.cdf(0, lambda_t)\n",
    "    pp          = [uniform.rvs(size=N_infect_obs[t]) * p_upper[t] + (1 - p_upper[t]) for t in range(T_max)]\n",
    "    contact_hat = np.array(Parallel(n_jobs=-1)(delayed(calculate_contact_hat_parallel)((pp[t], lambda_t[t],)) for t in range(T_max)))\n",
    "    \n",
    "    \n",
    "    print(\"Initialization:\\n\")\n",
    "    print(\"Delta_hat:\",Delta_hat)\n",
    "    print(\"b_hat:\",b_hat)\n",
    "    print(\"r_hat:\",r_hat)\n",
    "    print(\"beta_hat:\",beta_hat)\n",
    "    print(\"gamma_hat:\",gamma_hat)\n",
    "    print(\"----------------------------------------------------\")\n",
    "    print(\"----------------------------------------------------\")\n",
    "    \n",
    "\n",
    "    ################\n",
    "    ##  SAMPLING  ##\n",
    "    ################\n",
    "    \n",
    "    Delta_all = []\n",
    "    Stage_all = []\n",
    "    b_all     = []\n",
    "    r_all     = []\n",
    "    beta_all  = []\n",
    "    gamma_all = []\n",
    "    \n",
    "    for step in tqdm.tqdm(range(samples)):\n",
    "        \n",
    "        ###### delta_hat sampling\n",
    "                \n",
    "        Delta_hat, Stage_hat, K_hat = delta_sampling(Delta_hat,Stage_hat,K_hat,p,beta_hat,gamma_hat)\n",
    "                                  \n",
    "        ##### b and r sampling\n",
    "        \n",
    "        b_hat = np.zeros(K_hat)\n",
    "        r_hat = np.zeros(K_hat)\n",
    "        for i in range(K_hat):\n",
    "            L_i = np.where(Stage_hat == i)[0]\n",
    "            b_hat[i] = gamma.rvs(size=1, a=(b_shape + len(L_i)), scale=1/(b_rate + np.sum(beta_hat[L_i])))\n",
    "            r_hat[i] = gamma.rvs(size=1, a=(r_shape + len(L_i)), scale=1/(r_rate + np.sum(-np.log(gamma_hat[L_i]))))\n",
    "    \n",
    "        \n",
    "        ##### beta and gamma sampling\n",
    "\n",
    "        beta_hat    = gamma.rvs(a=contact_hat + 1, scale=1/(b_hat[Stage_hat] + PI_obs[:-1]*S_obs[:-1]))\n",
    "        gamma_hat   = beta.rvs(a=N_recovery_obs + r_hat[Stage_hat], b=1 + I_obs[:-1] - N_recovery_obs)\n",
    "        lambda_t    = beta_hat * PI_obs[:-1]\n",
    "        p_upper     = 1 - poisson.cdf(0, lambda_t)\n",
    "        pp          = [uniform.rvs(size=N_infect_obs[t]) * p_upper[t] + (1 - p_upper[t]) for t in range(T_max)]\n",
    "        contact_hat = np.array(Parallel(n_jobs=-1)(delayed(calculate_contact_hat_parallel)((pp[t], lambda_t[t],)) for t in range(T_max)))\n",
    "    \n",
    "        if step % 100 == 0 and step != 0:\n",
    "            print(\"\\nStep:\",step)\n",
    "            #print(\"Delta_hat:\",Delta_hat)\n",
    "            #print(\"b_hat:\",b_hat)\n",
    "            #print(\"r_hat:\",r_hat)\n",
    "            #print(\"beta_hat:\",beta_hat)\n",
    "            #print(\"gamma_hat:\",gamma_hat)\n",
    "            print(\"----------------------------------------------------\")\n",
    "            \n",
    "        Delta_all.append(Delta_hat)\n",
    "        Stage_all.append(Stage_hat)\n",
    "        b_all.append(b_hat)\n",
    "        r_all.append(r_hat)\n",
    "        beta_all.append(beta_hat)\n",
    "        gamma_all.append(gamma_hat)\n",
    "  \n",
    "    # Creazione del DataFrame\n",
    "    MCMC_chain = {\n",
    "        'Delta': Delta_all[burnin::thinning],\n",
    "        'Stage': Stage_all[burnin::thinning],\n",
    "        'b': b_all[burnin::thinning],\n",
    "        'r': r_all[burnin::thinning],\n",
    "        'beta': beta_all[burnin::thinning],\n",
    "        'gamma': gamma_all[burnin::thinning]\n",
    "            }\n",
    "    \n",
    "    return MCMC_chain"
   ]
  },
  {
   "cell_type": "code",
   "execution_count": 140,
   "metadata": {
    "scrolled": true
   },
   "outputs": [
    {
     "name": "stdout",
     "output_type": "stream",
     "text": [
      "Initialization:\n",
      "\n",
      "Delta_hat: [1 0 0 0 0 0 0 0 0 0 0 0 0 0 0 0 0 0 0 0 0 0 0 0 0 0 0 0 0 0 0 0 0 0 0 0 0\n",
      " 0 0 0 0 0 0 0 0 0 0 0 0 0 0 0 0 0 0 0 0 0 0 0 0 0 0 0 0 0 0 0 0 0 0 0 0 0\n",
      " 0 0 0 0 0 0 0 0 0 0 0 0 0 0 0 0 0 0 0 0 0 0 0 0 0 0]\n",
      "b_hat: [0.7074441]\n",
      "r_hat: [0.01321713]\n",
      "beta_hat: [0.3126258  0.37351176 0.32322012 0.27643223 0.32936979 0.25791684\n",
      " 0.32577987 0.33849252 0.36655114 0.28428002 0.32473981 0.26730881\n",
      " 0.26586469 0.2540368  0.30202967 0.30800688 0.3283289  0.31183168\n",
      " 0.29444476 0.28917267 0.29076936 0.3002374  0.28915149 0.31146479\n",
      " 0.32366895 0.40405367 0.39746407 0.39802888 0.39280017 0.40861544\n",
      " 0.39767972 0.40436917 0.46414389 0.39736702 0.41606052 0.40180793\n",
      " 0.51683915 0.40926621 0.3946753  0.47162544 0.41912889 0.64142755\n",
      " 0.40918379 0.41122911 0.39215043 0.4230985  0.44014885 0.49338454\n",
      " 0.51629007 0.44185591 0.24733301 0.25321538 0.24322788 0.29255242\n",
      " 0.24107639 0.25218915 0.25963409 0.25311151 0.2641984  0.26023585\n",
      " 0.26733943 0.26584389 0.24132598 0.25380988 0.23657939 0.25393582\n",
      " 0.25052079 0.23195631 0.26737446 0.2016538  0.2432184  0.26013491\n",
      " 0.26027876 0.29953884 0.2835839  0.20676307 0.19913781 0.20379481\n",
      " 0.21931745 0.26086009 0.16400827 0.14428543 0.21668496 0.06046449\n",
      " 0.49293285 0.29804544 0.31167255 0.48745827 0.24996384 0.16096508\n",
      " 0.06644752 0.06215283 0.6028991  0.48719878 0.3576415  0.64183646\n",
      " 0.5698145  1.16664296 1.13717901 0.85503381]\n",
      "gamma_hat: [0.01523461 0.01463227 0.08729159 0.03557244 0.08398594 0.03469325\n",
      " 0.0319562  0.08018815 0.071141   0.03813978 0.04639056 0.03908318\n",
      " 0.05309844 0.04340997 0.05134916 0.04616946 0.04974205 0.05574266\n",
      " 0.05050653 0.05462701 0.04505007 0.05138907 0.05042239 0.05130331\n",
      " 0.04960341 0.15090071 0.14859419 0.15070526 0.15316113 0.14766095\n",
      " 0.1493816  0.14857846 0.14970111 0.14865053 0.14955119 0.14931045\n",
      " 0.15157127 0.14913724 0.14806152 0.14867569 0.14875688 0.14965501\n",
      " 0.15169882 0.1499969  0.15029642 0.14950076 0.15202327 0.15150334\n",
      " 0.15201915 0.14903417 0.1993943  0.20132023 0.19907663 0.20146658\n",
      " 0.20165775 0.19923671 0.20015124 0.19781011 0.20028782 0.20309791\n",
      " 0.20296922 0.19982402 0.19886865 0.19702639 0.19677152 0.1959034\n",
      " 0.19182857 0.20466049 0.20497045 0.18923456 0.20063149 0.19951298\n",
      " 0.20589806 0.21452888 0.18400347 0.24925329 0.2422853  0.23574698\n",
      " 0.24942223 0.26919891 0.2544575  0.24370773 0.24780399 0.25402796\n",
      " 0.17646543 0.25680565 0.22986881 0.24417634 0.22153031 0.28225138\n",
      " 0.19560784 0.31592849 0.13095574 0.44537781 0.46602096 0.31666909\n",
      " 0.06141274 0.36908371 0.21226414 0.11257072]\n",
      "----------------------------------------------------\n",
      "----------------------------------------------------\n"
     ]
    },
    {
     "name": "stderr",
     "output_type": "stream",
     "text": [
      "\r",
      "  0%|                                                        | 0/650 [00:00<?, ?it/s]"
     ]
    },
    {
     "name": "stdout",
     "output_type": "stream",
     "text": [
      "Original: [0]\n",
      "Candidate: [ 0 37]\n",
      "---------------------------\n",
      "ratio: 1.0\n"
     ]
    },
    {
     "name": "stderr",
     "output_type": "stream",
     "text": [
      "\r",
      "  0%|                                                | 1/650 [00:00<08:44,  1.24it/s]"
     ]
    },
    {
     "name": "stdout",
     "output_type": "stream",
     "text": [
      "Original: [ 0 37]\n",
      "Candidate: [ 0 18 37]\n",
      "---------------------------\n",
      "ratio: 0.3984844049676498\n"
     ]
    },
    {
     "name": "stderr",
     "output_type": "stream",
     "text": [
      "\r",
      "  0%|▏                                               | 2/650 [00:01<08:12,  1.32it/s]"
     ]
    },
    {
     "name": "stdout",
     "output_type": "stream",
     "text": [
      "Original: [ 0 37]\n",
      "Candidate: [ 0 37 46]\n",
      "---------------------------\n",
      "ratio: 0.7878595013878762\n"
     ]
    },
    {
     "name": "stderr",
     "output_type": "stream",
     "text": [
      "\r",
      "  0%|▏                                               | 3/650 [00:02<08:00,  1.35it/s]"
     ]
    },
    {
     "name": "stdout",
     "output_type": "stream",
     "text": [
      "Original: [ 0 37 46]\n",
      "Candidate: [ 0 37 46 86]\n",
      "---------------------------\n",
      "ratio: 0.3437718797185113\n"
     ]
    },
    {
     "name": "stderr",
     "output_type": "stream",
     "text": [
      "\r",
      "  1%|▎                                               | 4/650 [00:02<07:58,  1.35it/s]"
     ]
    },
    {
     "name": "stdout",
     "output_type": "stream",
     "text": [
      "Original: [ 0 37 46 86]\n",
      "Candidate: [ 0 37 46 50 86]\n",
      "---------------------------\n",
      "ratio: 0.6321365772720581\n"
     ]
    },
    {
     "name": "stderr",
     "output_type": "stream",
     "text": [
      "\r",
      "  1%|▎                                               | 5/650 [00:03<07:54,  1.36it/s]"
     ]
    },
    {
     "name": "stdout",
     "output_type": "stream",
     "text": [
      "Original: [ 0 37 46 86]\n",
      "Candidate: [ 0 37 46 63 86]\n",
      "---------------------------\n",
      "ratio: 0.14701006550678342\n"
     ]
    },
    {
     "name": "stderr",
     "output_type": "stream",
     "text": [
      "\r",
      "  1%|▍                                               | 6/650 [00:04<07:54,  1.36it/s]"
     ]
    },
    {
     "name": "stdout",
     "output_type": "stream",
     "text": [
      "Original: [ 0 37 46 86]\n",
      "Candidate: [ 0 37 46]\n",
      "---------------------------\n",
      "ratio: 1.0\n"
     ]
    },
    {
     "name": "stderr",
     "output_type": "stream",
     "text": [
      "\r",
      "  1%|▌                                               | 7/650 [00:05<07:54,  1.36it/s]"
     ]
    },
    {
     "name": "stdout",
     "output_type": "stream",
     "text": [
      "Original: [ 0 37 46]\n",
      "Candidate: [ 0 37 45]\n",
      "---------------------------\n",
      "ratio: 1.0\n"
     ]
    },
    {
     "name": "stderr",
     "output_type": "stream",
     "text": [
      "\r",
      "  1%|▌                                               | 8/650 [00:05<07:55,  1.35it/s]"
     ]
    },
    {
     "name": "stdout",
     "output_type": "stream",
     "text": [
      "Original: [ 0 37 45]\n",
      "Candidate: [ 0 37 45 64]\n",
      "---------------------------\n",
      "ratio: 0.1696589585163591\n"
     ]
    },
    {
     "name": "stderr",
     "output_type": "stream",
     "text": [
      "\r",
      "  1%|▋                                               | 9/650 [00:06<07:59,  1.34it/s]"
     ]
    },
    {
     "name": "stdout",
     "output_type": "stream",
     "text": [
      "Original: [ 0 37 45]\n",
      "Candidate: [ 0 37 44]\n",
      "---------------------------\n",
      "ratio: 1.0\n"
     ]
    },
    {
     "name": "stderr",
     "output_type": "stream",
     "text": [
      "\r",
      "  2%|▋                                              | 10/650 [00:07<07:59,  1.33it/s]"
     ]
    },
    {
     "name": "stdout",
     "output_type": "stream",
     "text": [
      "Original: [ 0 37 44]\n",
      "Candidate: [ 0 37 45]\n",
      "---------------------------\n",
      "ratio: 0.9907414725643535\n"
     ]
    },
    {
     "name": "stderr",
     "output_type": "stream",
     "text": [
      "\r",
      "  2%|▊                                              | 11/650 [00:08<07:59,  1.33it/s]"
     ]
    },
    {
     "name": "stdout",
     "output_type": "stream",
     "text": [
      "Original: [ 0 37 45]\n",
      "Candidate: [ 0 37 46]\n",
      "---------------------------\n",
      "ratio: 1.0\n"
     ]
    },
    {
     "name": "stderr",
     "output_type": "stream",
     "text": [
      "\r",
      "  2%|▊                                              | 12/650 [00:08<08:01,  1.32it/s]"
     ]
    },
    {
     "name": "stdout",
     "output_type": "stream",
     "text": [
      "Original: [ 0 37 46]\n",
      "Candidate: [ 0 34 37 46]\n",
      "---------------------------\n",
      "ratio: 0.7152959265298864\n"
     ]
    },
    {
     "name": "stderr",
     "output_type": "stream",
     "text": [
      "\r",
      "  2%|▉                                              | 13/650 [00:09<07:59,  1.33it/s]"
     ]
    },
    {
     "name": "stdout",
     "output_type": "stream",
     "text": [
      "Original: [ 0 37 46]\n",
      "Candidate: [ 0 46]\n",
      "---------------------------\n",
      "ratio: 1.0\n"
     ]
    },
    {
     "name": "stderr",
     "output_type": "stream",
     "text": [
      "\r",
      "  2%|█                                              | 14/650 [00:10<08:00,  1.32it/s]"
     ]
    },
    {
     "name": "stdout",
     "output_type": "stream",
     "text": [
      "Original: [ 0 46]\n",
      "Candidate: [ 0 46 62]\n",
      "---------------------------\n",
      "ratio: 0.25181896258687436\n"
     ]
    },
    {
     "name": "stderr",
     "output_type": "stream",
     "text": [
      "\r",
      "  2%|█                                              | 15/650 [00:11<08:00,  1.32it/s]"
     ]
    },
    {
     "name": "stdout",
     "output_type": "stream",
     "text": [
      "Original: [ 0 46]\n",
      "Candidate: [0]\n",
      "---------------------------\n",
      "ratio: 0.42457314151594\n"
     ]
    },
    {
     "name": "stderr",
     "output_type": "stream",
     "text": [
      "\r",
      "  2%|█▏                                             | 16/650 [00:12<07:59,  1.32it/s]"
     ]
    },
    {
     "name": "stdout",
     "output_type": "stream",
     "text": [
      "Original: [ 0 46]\n",
      "Candidate: [0]\n",
      "---------------------------\n",
      "ratio: 0.37594876763778623\n"
     ]
    },
    {
     "name": "stderr",
     "output_type": "stream",
     "text": [
      "\r",
      "  3%|█▏                                             | 17/650 [00:12<08:00,  1.32it/s]"
     ]
    },
    {
     "name": "stdout",
     "output_type": "stream",
     "text": [
      "Original: [0]\n",
      "Candidate: [ 0 24]\n",
      "---------------------------\n",
      "ratio: 1.0\n"
     ]
    },
    {
     "name": "stderr",
     "output_type": "stream",
     "text": [
      "\r",
      "  3%|█▎                                             | 18/650 [00:13<07:58,  1.32it/s]"
     ]
    },
    {
     "name": "stdout",
     "output_type": "stream",
     "text": [
      "Original: [ 0 24]\n",
      "Candidate: [ 0 24 97]\n",
      "---------------------------\n",
      "ratio: 0.9512965132679545\n"
     ]
    },
    {
     "name": "stderr",
     "output_type": "stream",
     "text": [
      "\r",
      "  3%|█▎                                             | 19/650 [00:14<08:13,  1.28it/s]"
     ]
    },
    {
     "name": "stdout",
     "output_type": "stream",
     "text": [
      "Original: [ 0 24 97]\n",
      "Candidate: [ 0 23 97]\n",
      "---------------------------\n",
      "ratio: 0.8237092671521433\n"
     ]
    },
    {
     "name": "stderr",
     "output_type": "stream",
     "text": [
      "\r",
      "  3%|█▍                                             | 20/650 [00:15<08:14,  1.27it/s]"
     ]
    },
    {
     "name": "stdout",
     "output_type": "stream",
     "text": [
      "Original: [ 0 24 97]\n",
      "Candidate: [ 0 24]\n",
      "---------------------------\n",
      "ratio: 0.1909770399825632\n"
     ]
    },
    {
     "name": "stderr",
     "output_type": "stream",
     "text": [
      "\r",
      "  3%|█▌                                             | 21/650 [00:15<08:11,  1.28it/s]"
     ]
    },
    {
     "name": "stdout",
     "output_type": "stream",
     "text": [
      "Original: [ 0 24 97]\n",
      "Candidate: [ 0 24 62 97]\n",
      "---------------------------\n",
      "ratio: 0.23156302993222413\n"
     ]
    },
    {
     "name": "stderr",
     "output_type": "stream",
     "text": [
      "\r",
      "  3%|█▌                                             | 22/650 [00:16<08:09,  1.28it/s]"
     ]
    },
    {
     "name": "stdout",
     "output_type": "stream",
     "text": [
      "Original: [ 0 24 97]\n",
      "Candidate: [ 0 97]\n",
      "---------------------------\n",
      "ratio: 0.1760680825270368\n"
     ]
    },
    {
     "name": "stderr",
     "output_type": "stream",
     "text": [
      "\r",
      "  4%|█▋                                             | 23/650 [00:17<08:07,  1.29it/s]"
     ]
    },
    {
     "name": "stdout",
     "output_type": "stream",
     "text": [
      "Original: [ 0 24 97]\n",
      "Candidate: [ 0 24]\n",
      "---------------------------\n",
      "ratio: 1.0\n"
     ]
    },
    {
     "name": "stderr",
     "output_type": "stream",
     "text": [
      "\r",
      "  4%|█▋                                             | 24/650 [00:18<08:04,  1.29it/s]"
     ]
    },
    {
     "name": "stdout",
     "output_type": "stream",
     "text": [
      "Original: [ 0 24]\n",
      "Candidate: [0]\n",
      "---------------------------\n",
      "ratio: 0.5043453856015842\n"
     ]
    },
    {
     "name": "stderr",
     "output_type": "stream",
     "text": [
      "\r",
      "  4%|█▊                                             | 25/650 [00:19<08:02,  1.30it/s]"
     ]
    },
    {
     "name": "stdout",
     "output_type": "stream",
     "text": [
      "Original: [ 0 24]\n",
      "Candidate: [ 0 22 24]\n",
      "---------------------------\n",
      "ratio: 1.0\n"
     ]
    },
    {
     "name": "stderr",
     "output_type": "stream",
     "text": [
      "\r",
      "  4%|█▉                                             | 26/650 [00:19<08:01,  1.30it/s]"
     ]
    },
    {
     "name": "stdout",
     "output_type": "stream",
     "text": [
      "Original: [ 0 22 24]\n",
      "Candidate: [ 0 21 24]\n",
      "---------------------------\n",
      "ratio: 0.6916921168471531\n"
     ]
    },
    {
     "name": "stderr",
     "output_type": "stream",
     "text": [
      "\r",
      "  4%|█▉                                             | 27/650 [00:20<08:01,  1.29it/s]"
     ]
    },
    {
     "name": "stdout",
     "output_type": "stream",
     "text": [
      "Original: [ 0 22 24]\n",
      "Candidate: [ 0 22]\n",
      "---------------------------\n",
      "ratio: 0.5491386186474867\n"
     ]
    },
    {
     "name": "stderr",
     "output_type": "stream",
     "text": [
      "\r",
      "  4%|██                                             | 28/650 [00:21<08:01,  1.29it/s]"
     ]
    },
    {
     "name": "stdout",
     "output_type": "stream",
     "text": [
      "Original: [ 0 22]\n",
      "Candidate: [0]\n",
      "---------------------------\n",
      "ratio: 0.36499230236279323\n"
     ]
    },
    {
     "name": "stderr",
     "output_type": "stream",
     "text": [
      "\r",
      "  4%|██                                             | 29/650 [00:22<08:00,  1.29it/s]"
     ]
    },
    {
     "name": "stdout",
     "output_type": "stream",
     "text": [
      "Original: [0]\n",
      "Candidate: [ 0 53]\n",
      "---------------------------\n",
      "ratio: 1.0\n"
     ]
    },
    {
     "name": "stderr",
     "output_type": "stream",
     "text": [
      "\r",
      "  5%|██▏                                            | 30/650 [00:22<07:59,  1.29it/s]"
     ]
    },
    {
     "name": "stdout",
     "output_type": "stream",
     "text": [
      "Original: [ 0 53]\n",
      "Candidate: [ 0 54]\n",
      "---------------------------\n",
      "ratio: 0.8905160312549928\n"
     ]
    },
    {
     "name": "stderr",
     "output_type": "stream",
     "text": [
      "\r",
      "  5%|██▏                                            | 31/650 [00:23<08:02,  1.28it/s]"
     ]
    },
    {
     "name": "stdout",
     "output_type": "stream",
     "text": [
      "Original: [ 0 54]\n",
      "Candidate: [0]\n",
      "---------------------------\n",
      "ratio: 0.28182195909567154\n"
     ]
    },
    {
     "name": "stderr",
     "output_type": "stream",
     "text": [
      "\r",
      "  5%|██▎                                            | 32/650 [00:24<08:01,  1.28it/s]"
     ]
    },
    {
     "name": "stdout",
     "output_type": "stream",
     "text": [
      "Original: [ 0 54]\n",
      "Candidate: [0]\n",
      "---------------------------\n",
      "ratio: 0.1249428567832881\n"
     ]
    },
    {
     "name": "stderr",
     "output_type": "stream",
     "text": [
      "\r",
      "  5%|██▍                                            | 33/650 [00:25<08:10,  1.26it/s]"
     ]
    },
    {
     "name": "stdout",
     "output_type": "stream",
     "text": [
      "Original: [ 0 54]\n",
      "Candidate: [ 0 54 64]\n",
      "---------------------------\n",
      "ratio: 0.28863597431997284\n"
     ]
    },
    {
     "name": "stderr",
     "output_type": "stream",
     "text": [
      "\r",
      "  5%|██▍                                            | 34/650 [00:26<08:09,  1.26it/s]"
     ]
    },
    {
     "name": "stdout",
     "output_type": "stream",
     "text": [
      "Original: [ 0 54]\n",
      "Candidate: [0]\n",
      "---------------------------\n",
      "ratio: 0.24121178038399296\n"
     ]
    },
    {
     "name": "stderr",
     "output_type": "stream",
     "text": [
      "\r",
      "  5%|██▌                                            | 35/650 [00:26<08:16,  1.24it/s]"
     ]
    },
    {
     "name": "stdout",
     "output_type": "stream",
     "text": [
      "Original: [0]\n",
      "Candidate: [ 0 98]\n",
      "---------------------------\n",
      "ratio: 1.0\n"
     ]
    },
    {
     "name": "stderr",
     "output_type": "stream",
     "text": [
      "\r",
      "  6%|██▌                                            | 36/650 [00:27<08:12,  1.25it/s]"
     ]
    },
    {
     "name": "stdout",
     "output_type": "stream",
     "text": [
      "Original: [ 0 98]\n",
      "Candidate: [ 0 94 98]\n",
      "---------------------------\n",
      "ratio: 0.6618334576807671\n"
     ]
    },
    {
     "name": "stderr",
     "output_type": "stream",
     "text": [
      "\r",
      "  6%|██▋                                            | 37/650 [00:28<08:07,  1.26it/s]"
     ]
    },
    {
     "name": "stdout",
     "output_type": "stream",
     "text": [
      "Original: [ 0 98]\n",
      "Candidate: [0]\n",
      "---------------------------\n",
      "ratio: 0.9872130210393643\n"
     ]
    },
    {
     "name": "stderr",
     "output_type": "stream",
     "text": [
      "\r",
      "  6%|██▋                                            | 38/650 [00:29<08:05,  1.26it/s]"
     ]
    },
    {
     "name": "stdout",
     "output_type": "stream",
     "text": [
      "Original: [0]\n",
      "Candidate: [ 0 65]\n",
      "---------------------------\n",
      "ratio: 0.9179693612900159\n"
     ]
    },
    {
     "name": "stderr",
     "output_type": "stream",
     "text": [
      "\r",
      "  6%|██▊                                            | 39/650 [00:30<08:02,  1.27it/s]"
     ]
    },
    {
     "name": "stdout",
     "output_type": "stream",
     "text": [
      "Original: [ 0 65]\n",
      "Candidate: [ 0 64]\n",
      "---------------------------\n",
      "ratio: 1.0\n"
     ]
    },
    {
     "name": "stderr",
     "output_type": "stream",
     "text": [
      "\r",
      "  6%|██▉                                            | 40/650 [00:30<08:00,  1.27it/s]"
     ]
    },
    {
     "name": "stdout",
     "output_type": "stream",
     "text": [
      "Original: [ 0 64]\n",
      "Candidate: [0]\n",
      "---------------------------\n",
      "ratio: 0.7582257243141122\n"
     ]
    },
    {
     "name": "stderr",
     "output_type": "stream",
     "text": [
      "\r",
      "  6%|██▉                                            | 41/650 [00:31<08:04,  1.26it/s]"
     ]
    },
    {
     "name": "stdout",
     "output_type": "stream",
     "text": [
      "Original: [0]\n",
      "Candidate: [ 0 47]\n",
      "---------------------------\n",
      "ratio: 1.0\n"
     ]
    },
    {
     "name": "stderr",
     "output_type": "stream",
     "text": [
      "\r",
      "  6%|███                                            | 42/650 [00:32<08:00,  1.26it/s]"
     ]
    },
    {
     "name": "stdout",
     "output_type": "stream",
     "text": [
      "Original: [ 0 47]\n",
      "Candidate: [ 0 47 72]\n",
      "---------------------------\n",
      "ratio: 0.19426043903228649\n"
     ]
    },
    {
     "name": "stderr",
     "output_type": "stream",
     "text": [
      "\r",
      "  7%|███                                            | 43/650 [00:33<07:58,  1.27it/s]"
     ]
    },
    {
     "name": "stdout",
     "output_type": "stream",
     "text": [
      "Original: [ 0 47]\n",
      "Candidate: [ 0 46]\n",
      "---------------------------\n",
      "ratio: 0.9101197131573487\n"
     ]
    },
    {
     "name": "stderr",
     "output_type": "stream",
     "text": [
      "\r",
      "  7%|███▏                                           | 44/650 [00:33<07:57,  1.27it/s]"
     ]
    },
    {
     "name": "stdout",
     "output_type": "stream",
     "text": [
      "Original: [ 0 46]\n",
      "Candidate: [ 0 47]\n",
      "---------------------------\n",
      "ratio: 1.0\n"
     ]
    },
    {
     "name": "stderr",
     "output_type": "stream",
     "text": [
      "\r",
      "  7%|███▎                                           | 45/650 [00:34<07:57,  1.27it/s]"
     ]
    },
    {
     "name": "stdout",
     "output_type": "stream",
     "text": [
      "Original: [ 0 47]\n",
      "Candidate: [0]\n",
      "---------------------------\n",
      "ratio: 0.2762396941116881\n"
     ]
    },
    {
     "name": "stderr",
     "output_type": "stream",
     "text": [
      "\r",
      "  7%|███▎                                           | 46/650 [00:35<07:59,  1.26it/s]"
     ]
    },
    {
     "name": "stdout",
     "output_type": "stream",
     "text": [
      "Original: [ 0 47]\n",
      "Candidate: [ 0 47 81]\n",
      "---------------------------\n",
      "ratio: 0.18267283671714793\n"
     ]
    },
    {
     "name": "stderr",
     "output_type": "stream",
     "text": [
      "\r",
      "  7%|███▍                                           | 47/650 [00:36<07:59,  1.26it/s]"
     ]
    },
    {
     "name": "stdout",
     "output_type": "stream",
     "text": [
      "Original: [ 0 47]\n",
      "Candidate: [ 0 47 63]\n",
      "---------------------------\n",
      "ratio: 0.2174022642775034\n"
     ]
    },
    {
     "name": "stderr",
     "output_type": "stream",
     "text": [
      "\r",
      "  7%|███▍                                           | 48/650 [00:37<07:58,  1.26it/s]"
     ]
    },
    {
     "name": "stdout",
     "output_type": "stream",
     "text": [
      "Original: [ 0 47]\n",
      "Candidate: [0]\n",
      "---------------------------\n",
      "ratio: 0.4350617325084551\n"
     ]
    },
    {
     "name": "stderr",
     "output_type": "stream",
     "text": [
      "\r",
      "  8%|███▌                                           | 49/650 [00:37<07:56,  1.26it/s]"
     ]
    },
    {
     "name": "stdout",
     "output_type": "stream",
     "text": [
      "Original: [ 0 47]\n",
      "Candidate: [ 0 46]\n",
      "---------------------------\n",
      "ratio: 0.9487403502182842\n"
     ]
    },
    {
     "name": "stderr",
     "output_type": "stream",
     "text": [
      "\r",
      "  8%|███▌                                           | 50/650 [00:38<07:56,  1.26it/s]"
     ]
    },
    {
     "name": "stdout",
     "output_type": "stream",
     "text": [
      "Original: [ 0 46]\n",
      "Candidate: [0]\n",
      "---------------------------\n",
      "ratio: 0.2117734470242907\n"
     ]
    },
    {
     "name": "stderr",
     "output_type": "stream",
     "text": [
      "\r",
      "  8%|███▋                                           | 51/650 [00:39<07:55,  1.26it/s]"
     ]
    },
    {
     "name": "stdout",
     "output_type": "stream",
     "text": [
      "Original: [ 0 46]\n",
      "Candidate: [ 0 46 54]\n",
      "---------------------------\n",
      "ratio: 0.5165508540618325\n"
     ]
    },
    {
     "name": "stderr",
     "output_type": "stream",
     "text": [
      "\r",
      "  8%|███▊                                           | 52/650 [00:40<07:56,  1.25it/s]"
     ]
    },
    {
     "name": "stdout",
     "output_type": "stream",
     "text": [
      "Original: [ 0 46 54]\n",
      "Candidate: [ 0 46]\n",
      "---------------------------\n",
      "ratio: 1.0\n"
     ]
    },
    {
     "name": "stderr",
     "output_type": "stream",
     "text": [
      "\r",
      "  8%|███▊                                           | 53/650 [00:41<07:55,  1.26it/s]"
     ]
    },
    {
     "name": "stdout",
     "output_type": "stream",
     "text": [
      "Original: [ 0 46]\n",
      "Candidate: [ 0 46 59]\n",
      "---------------------------\n",
      "ratio: 0.2744921757341576\n"
     ]
    },
    {
     "name": "stderr",
     "output_type": "stream",
     "text": [
      "\r",
      "  8%|███▉                                           | 54/650 [00:41<07:55,  1.25it/s]"
     ]
    },
    {
     "name": "stdout",
     "output_type": "stream",
     "text": [
      "Original: [ 0 46]\n",
      "Candidate: [0]\n",
      "---------------------------\n",
      "ratio: 0.390909787853168\n"
     ]
    },
    {
     "name": "stderr",
     "output_type": "stream",
     "text": [
      "\r",
      "  8%|███▉                                           | 55/650 [00:42<08:00,  1.24it/s]"
     ]
    },
    {
     "name": "stdout",
     "output_type": "stream",
     "text": [
      "Original: [0]\n",
      "Candidate: [ 0 56]\n",
      "---------------------------\n",
      "ratio: 1.0\n"
     ]
    },
    {
     "name": "stderr",
     "output_type": "stream",
     "text": [
      "\r",
      "  9%|████                                           | 56/650 [00:43<08:05,  1.22it/s]"
     ]
    },
    {
     "name": "stdout",
     "output_type": "stream",
     "text": [
      "Original: [ 0 56]\n",
      "Candidate: [0]\n",
      "---------------------------\n",
      "ratio: 0.561062821259675\n"
     ]
    },
    {
     "name": "stderr",
     "output_type": "stream",
     "text": [
      "\r",
      "  9%|████                                           | 57/650 [00:44<08:07,  1.22it/s]"
     ]
    },
    {
     "name": "stdout",
     "output_type": "stream",
     "text": [
      "Original: [ 0 56]\n",
      "Candidate: [ 0 56 65]\n",
      "---------------------------\n",
      "ratio: 0.3126272802800606\n"
     ]
    },
    {
     "name": "stderr",
     "output_type": "stream",
     "text": [
      "\r",
      "  9%|████▏                                          | 58/650 [00:45<08:03,  1.22it/s]"
     ]
    },
    {
     "name": "stdout",
     "output_type": "stream",
     "text": [
      "Original: [ 0 56]\n",
      "Candidate: [ 0  3 56]\n",
      "---------------------------\n",
      "ratio: 0.9675523499605025\n"
     ]
    },
    {
     "name": "stderr",
     "output_type": "stream",
     "text": [
      "\r",
      "  9%|████▎                                          | 59/650 [00:46<08:06,  1.21it/s]"
     ]
    },
    {
     "name": "stdout",
     "output_type": "stream",
     "text": [
      "Original: [ 0  3 56]\n",
      "Candidate: [ 0  3 55]\n",
      "---------------------------\n",
      "ratio: 1.0\n"
     ]
    },
    {
     "name": "stderr",
     "output_type": "stream",
     "text": [
      "\r",
      "  9%|████▎                                          | 60/650 [00:46<08:05,  1.21it/s]"
     ]
    },
    {
     "name": "stdout",
     "output_type": "stream",
     "text": [
      "Original: [ 0  3 55]\n",
      "Candidate: [ 0 55]\n",
      "---------------------------\n",
      "ratio: 1.0\n"
     ]
    },
    {
     "name": "stderr",
     "output_type": "stream",
     "text": [
      "\r",
      "  9%|████▍                                          | 61/650 [00:47<08:01,  1.22it/s]"
     ]
    },
    {
     "name": "stdout",
     "output_type": "stream",
     "text": [
      "Original: [ 0 55]\n",
      "Candidate: [ 0 28 55]\n",
      "---------------------------\n",
      "ratio: 0.7849578923516803\n"
     ]
    },
    {
     "name": "stderr",
     "output_type": "stream",
     "text": [
      "\r",
      " 10%|████▍                                          | 62/650 [00:48<08:00,  1.22it/s]"
     ]
    },
    {
     "name": "stdout",
     "output_type": "stream",
     "text": [
      "Original: [ 0 28 55]\n",
      "Candidate: [ 0 27 55]\n",
      "---------------------------\n",
      "ratio: 1.0\n"
     ]
    },
    {
     "name": "stderr",
     "output_type": "stream",
     "text": [
      "\r",
      " 10%|████▌                                          | 63/650 [00:49<07:58,  1.23it/s]"
     ]
    },
    {
     "name": "stdout",
     "output_type": "stream",
     "text": [
      "Original: [ 0 27 55]\n",
      "Candidate: [ 0 28 55]\n",
      "---------------------------\n",
      "ratio: 0.9092351999492474\n"
     ]
    },
    {
     "name": "stderr",
     "output_type": "stream",
     "text": [
      "\r",
      " 10%|████▋                                          | 64/650 [00:50<07:56,  1.23it/s]"
     ]
    },
    {
     "name": "stdout",
     "output_type": "stream",
     "text": [
      "Original: [ 0 28 55]\n",
      "Candidate: [ 0 28 54]\n",
      "---------------------------\n",
      "ratio: 1.0\n"
     ]
    },
    {
     "name": "stderr",
     "output_type": "stream",
     "text": [
      "\r",
      " 10%|████▋                                          | 65/650 [00:50<07:54,  1.23it/s]"
     ]
    },
    {
     "name": "stdout",
     "output_type": "stream",
     "text": [
      "Original: [ 0 28 54]\n",
      "Candidate: [ 0 54]\n",
      "---------------------------\n",
      "ratio: 1.0\n"
     ]
    },
    {
     "name": "stderr",
     "output_type": "stream",
     "text": [
      "\r",
      " 10%|████▊                                          | 66/650 [00:51<07:52,  1.24it/s]"
     ]
    },
    {
     "name": "stdout",
     "output_type": "stream",
     "text": [
      "Original: [ 0 54]\n",
      "Candidate: [ 0 53]\n",
      "---------------------------\n",
      "ratio: 1.0\n"
     ]
    },
    {
     "name": "stderr",
     "output_type": "stream",
     "text": [
      "\r",
      " 10%|████▊                                          | 67/650 [00:52<07:52,  1.23it/s]"
     ]
    },
    {
     "name": "stdout",
     "output_type": "stream",
     "text": [
      "Original: [ 0 53]\n",
      "Candidate: [ 0 52]\n",
      "---------------------------\n",
      "ratio: 1.0\n"
     ]
    },
    {
     "name": "stderr",
     "output_type": "stream",
     "text": [
      "\r",
      " 10%|████▉                                          | 68/650 [00:53<07:51,  1.24it/s]"
     ]
    },
    {
     "name": "stdout",
     "output_type": "stream",
     "text": [
      "Original: [ 0 52]\n",
      "Candidate: [ 0 52 83]\n",
      "---------------------------\n",
      "ratio: 0.19484654308796218\n"
     ]
    },
    {
     "name": "stderr",
     "output_type": "stream",
     "text": [
      "\r",
      " 11%|████▉                                          | 69/650 [00:54<07:52,  1.23it/s]"
     ]
    },
    {
     "name": "stdout",
     "output_type": "stream",
     "text": [
      "Original: [ 0 52]\n",
      "Candidate: [ 0 52 66]\n",
      "---------------------------\n",
      "ratio: 0.23774300753283836\n"
     ]
    },
    {
     "name": "stderr",
     "output_type": "stream",
     "text": [
      "\r",
      " 11%|█████                                          | 70/650 [00:55<07:51,  1.23it/s]"
     ]
    },
    {
     "name": "stdout",
     "output_type": "stream",
     "text": [
      "Original: [ 0 52]\n",
      "Candidate: [0]\n",
      "---------------------------\n",
      "ratio: 0.23223295939244873\n"
     ]
    },
    {
     "name": "stderr",
     "output_type": "stream",
     "text": [
      "\r",
      " 11%|█████▏                                         | 71/650 [00:55<07:59,  1.21it/s]"
     ]
    },
    {
     "name": "stdout",
     "output_type": "stream",
     "text": [
      "Original: [ 0 52]\n",
      "Candidate: [ 0 36 52]\n",
      "---------------------------\n",
      "ratio: 0.4773000588886974\n"
     ]
    },
    {
     "name": "stderr",
     "output_type": "stream",
     "text": [
      "\r",
      " 11%|█████▏                                         | 72/650 [00:56<07:55,  1.21it/s]"
     ]
    },
    {
     "name": "stdout",
     "output_type": "stream",
     "text": [
      "Original: [ 0 52]\n",
      "Candidate: [0]\n",
      "---------------------------\n",
      "ratio: 0.11615020484487729\n"
     ]
    },
    {
     "name": "stderr",
     "output_type": "stream",
     "text": [
      "\r",
      " 11%|█████▎                                         | 73/650 [00:57<07:52,  1.22it/s]"
     ]
    },
    {
     "name": "stdout",
     "output_type": "stream",
     "text": [
      "Original: [ 0 52]\n",
      "Candidate: [ 0 28 52]\n",
      "---------------------------\n",
      "ratio: 0.6773454112549916\n"
     ]
    },
    {
     "name": "stderr",
     "output_type": "stream",
     "text": [
      "\r",
      " 11%|█████▎                                         | 74/650 [00:58<07:50,  1.22it/s]"
     ]
    },
    {
     "name": "stdout",
     "output_type": "stream",
     "text": [
      "Original: [ 0 28 52]\n",
      "Candidate: [ 0 28 52 53]\n",
      "---------------------------\n",
      "ratio: 1.0\n"
     ]
    },
    {
     "name": "stderr",
     "output_type": "stream",
     "text": [
      "\r",
      " 12%|█████▍                                         | 75/650 [00:59<07:49,  1.22it/s]"
     ]
    },
    {
     "name": "stdout",
     "output_type": "stream",
     "text": [
      "Original: [ 0 28 52 53]\n",
      "Candidate: [ 0 29 52 53]\n",
      "---------------------------\n",
      "ratio: 0.9214913635792962\n"
     ]
    },
    {
     "name": "stderr",
     "output_type": "stream",
     "text": [
      "\r",
      " 12%|█████▍                                         | 76/650 [00:59<07:47,  1.23it/s]"
     ]
    },
    {
     "name": "stdout",
     "output_type": "stream",
     "text": [
      "Original: [ 0 29 52 53]\n",
      "Candidate: [ 0 29 52 53 75]\n",
      "---------------------------\n",
      "ratio: 0.10737698552130504\n"
     ]
    },
    {
     "name": "stderr",
     "output_type": "stream",
     "text": [
      "\r",
      " 12%|█████▌                                         | 77/650 [01:00<07:46,  1.23it/s]"
     ]
    },
    {
     "name": "stdout",
     "output_type": "stream",
     "text": [
      "Original: [ 0 29 52 53]\n",
      "Candidate: [ 0 30 52 53]\n",
      "---------------------------\n",
      "ratio: 0.9207324946378905\n"
     ]
    },
    {
     "name": "stderr",
     "output_type": "stream",
     "text": [
      "\r",
      " 12%|█████▋                                         | 78/650 [01:01<07:44,  1.23it/s]"
     ]
    },
    {
     "name": "stdout",
     "output_type": "stream",
     "text": [
      "Original: [ 0 30 52 53]\n",
      "Candidate: [ 0 20 30 52 53]\n",
      "---------------------------\n",
      "ratio: 0.1988335926010207\n"
     ]
    },
    {
     "name": "stderr",
     "output_type": "stream",
     "text": [
      "\r",
      " 12%|█████▋                                         | 79/650 [01:02<07:42,  1.23it/s]"
     ]
    },
    {
     "name": "stdout",
     "output_type": "stream",
     "text": [
      "Original: [ 0 30 52 53]\n",
      "Candidate: [ 0  1 30 52 53]\n",
      "---------------------------\n",
      "ratio: 1.0\n"
     ]
    },
    {
     "name": "stderr",
     "output_type": "stream",
     "text": [
      "\r",
      " 12%|█████▊                                         | 80/650 [01:03<07:42,  1.23it/s]"
     ]
    },
    {
     "name": "stdout",
     "output_type": "stream",
     "text": [
      "Original: [ 0  1 30 52 53]\n",
      "Candidate: [ 0  1 30 51 53]\n",
      "---------------------------\n",
      "ratio: 0.5597972717857059\n"
     ]
    },
    {
     "name": "stderr",
     "output_type": "stream",
     "text": [
      "\r",
      " 12%|█████▊                                         | 81/650 [01:04<08:20,  1.14it/s]"
     ]
    },
    {
     "name": "stdout",
     "output_type": "stream",
     "text": [
      "Original: [ 0  1 30 51 53]\n",
      "Candidate: [ 0  1 30 33 51 53]\n",
      "---------------------------\n",
      "ratio: 0.36547612273962343\n"
     ]
    },
    {
     "name": "stderr",
     "output_type": "stream",
     "text": [
      "\r",
      " 13%|█████▉                                         | 82/650 [01:05<09:48,  1.04s/it]"
     ]
    },
    {
     "name": "stdout",
     "output_type": "stream",
     "text": [
      "Original: [ 0  1 30 51 53]\n",
      "Candidate: [ 0  1 51 53]\n",
      "---------------------------\n",
      "ratio: 1.0\n"
     ]
    },
    {
     "name": "stderr",
     "output_type": "stream",
     "text": [
      "\r",
      " 13%|██████                                         | 83/650 [01:07<10:59,  1.16s/it]"
     ]
    },
    {
     "name": "stdout",
     "output_type": "stream",
     "text": [
      "Original: [ 0  1 51 53]\n",
      "Candidate: [ 0  1 45 51 53]\n",
      "---------------------------\n",
      "ratio: 0.28411527235761835\n"
     ]
    },
    {
     "name": "stderr",
     "output_type": "stream",
     "text": [
      "\r",
      " 13%|██████                                         | 84/650 [01:08<10:28,  1.11s/it]"
     ]
    },
    {
     "name": "stdout",
     "output_type": "stream",
     "text": [
      "Original: [ 0  1 51 53]\n",
      "Candidate: [ 0  1 50 53]\n",
      "---------------------------\n",
      "ratio: 0.7652661251971647\n"
     ]
    },
    {
     "name": "stderr",
     "output_type": "stream",
     "text": [
      "\r",
      " 13%|██████▏                                        | 85/650 [01:09<10:10,  1.08s/it]"
     ]
    },
    {
     "name": "stdout",
     "output_type": "stream",
     "text": [
      "Original: [ 0  1 50 53]\n",
      "Candidate: [ 0  1 50 53 57]\n",
      "---------------------------\n",
      "ratio: 0.2956153309528045\n"
     ]
    },
    {
     "name": "stderr",
     "output_type": "stream",
     "text": [
      "\r",
      " 13%|██████▏                                        | 86/650 [01:10<10:33,  1.12s/it]"
     ]
    },
    {
     "name": "stdout",
     "output_type": "stream",
     "text": [
      "Original: [ 0  1 50 53]\n",
      "Candidate: [ 0  1 50 53 84]\n",
      "---------------------------\n",
      "ratio: 0.10893680941053842\n"
     ]
    },
    {
     "name": "stderr",
     "output_type": "stream",
     "text": [
      "\r",
      " 13%|██████▎                                        | 87/650 [01:11<09:46,  1.04s/it]"
     ]
    },
    {
     "name": "stdout",
     "output_type": "stream",
     "text": [
      "Original: [ 0  1 50 53]\n",
      "Candidate: [ 0  1 14 50 53]\n",
      "---------------------------\n",
      "ratio: 0.2188797545167999\n"
     ]
    },
    {
     "name": "stderr",
     "output_type": "stream",
     "text": [
      "\r",
      " 14%|██████▎                                        | 88/650 [01:12<10:17,  1.10s/it]"
     ]
    },
    {
     "name": "stdout",
     "output_type": "stream",
     "text": [
      "Original: [ 0  1 50 53]\n",
      "Candidate: [ 0  1  6 50 53]\n",
      "---------------------------\n",
      "ratio: 0.29913359744521234\n"
     ]
    },
    {
     "name": "stderr",
     "output_type": "stream",
     "text": [
      "\r",
      " 14%|██████▍                                        | 89/650 [01:13<09:30,  1.02s/it]"
     ]
    },
    {
     "name": "stdout",
     "output_type": "stream",
     "text": [
      "Original: [ 0  1 50 53]\n",
      "Candidate: [ 0  1 53]\n",
      "---------------------------\n",
      "ratio: 1.0\n"
     ]
    },
    {
     "name": "stderr",
     "output_type": "stream",
     "text": [
      "\r",
      " 14%|██████▌                                        | 90/650 [01:14<08:57,  1.04it/s]"
     ]
    },
    {
     "name": "stdout",
     "output_type": "stream",
     "text": [
      "Original: [ 0  1 53]\n",
      "Candidate: [ 0  1 54]\n",
      "---------------------------\n",
      "ratio: 0.8910366207099658\n"
     ]
    },
    {
     "name": "stderr",
     "output_type": "stream",
     "text": [
      "\r",
      " 14%|██████▌                                        | 91/650 [01:14<08:31,  1.09it/s]"
     ]
    },
    {
     "name": "stdout",
     "output_type": "stream",
     "text": [
      "Original: [ 0  1 54]\n",
      "Candidate: [ 0  1 53]\n",
      "---------------------------\n",
      "ratio: 1.0\n"
     ]
    },
    {
     "name": "stderr",
     "output_type": "stream",
     "text": [
      "\r",
      " 14%|██████▋                                        | 92/650 [01:15<08:13,  1.13it/s]"
     ]
    },
    {
     "name": "stdout",
     "output_type": "stream",
     "text": [
      "Original: [ 0  1 53]\n",
      "Candidate: [0 1]\n",
      "---------------------------\n",
      "ratio: 0.3876972845861588\n"
     ]
    },
    {
     "name": "stderr",
     "output_type": "stream",
     "text": [
      "\r",
      " 14%|██████▋                                        | 93/650 [01:16<08:02,  1.15it/s]"
     ]
    },
    {
     "name": "stdout",
     "output_type": "stream",
     "text": [
      "Original: [ 0  1 53]\n",
      "Candidate: [ 0  2 53]\n",
      "---------------------------\n",
      "ratio: 0.5317047160333269\n"
     ]
    },
    {
     "name": "stderr",
     "output_type": "stream",
     "text": [
      "\r",
      " 14%|██████▊                                        | 94/650 [01:17<07:52,  1.18it/s]"
     ]
    },
    {
     "name": "stdout",
     "output_type": "stream",
     "text": [
      "Original: [ 0  1 53]\n",
      "Candidate: [ 0  1 54]\n",
      "---------------------------\n",
      "ratio: 0.8976599550408627\n"
     ]
    },
    {
     "name": "stderr",
     "output_type": "stream",
     "text": [
      "\r",
      " 15%|██████▊                                        | 95/650 [01:18<07:45,  1.19it/s]"
     ]
    },
    {
     "name": "stdout",
     "output_type": "stream",
     "text": [
      "Original: [ 0  1 53]\n",
      "Candidate: [ 0  1 21 53]\n",
      "---------------------------\n",
      "ratio: 0.5431999290844914\n"
     ]
    },
    {
     "name": "stderr",
     "output_type": "stream",
     "text": [
      "\r",
      " 15%|██████▉                                        | 96/650 [01:18<07:43,  1.20it/s]"
     ]
    },
    {
     "name": "stdout",
     "output_type": "stream",
     "text": [
      "Original: [ 0  1 21 53]\n",
      "Candidate: [ 0  2 21 53]\n",
      "---------------------------\n",
      "ratio: 0.5212097582565121\n"
     ]
    },
    {
     "name": "stderr",
     "output_type": "stream",
     "text": [
      "\r",
      " 15%|███████                                        | 97/650 [01:19<07:40,  1.20it/s]"
     ]
    },
    {
     "name": "stdout",
     "output_type": "stream",
     "text": [
      "Original: [ 0  2 21 53]\n",
      "Candidate: [ 0  2 21 53 75]\n",
      "---------------------------\n",
      "ratio: 0.11358343140171735\n"
     ]
    },
    {
     "name": "stderr",
     "output_type": "stream",
     "text": [
      "\r",
      " 15%|███████                                        | 98/650 [01:20<07:37,  1.21it/s]"
     ]
    },
    {
     "name": "stdout",
     "output_type": "stream",
     "text": [
      "Original: [ 0  2 21 53]\n",
      "Candidate: [ 0  2 20 53]\n",
      "---------------------------\n",
      "ratio: 0.898196352003802\n"
     ]
    },
    {
     "name": "stderr",
     "output_type": "stream",
     "text": [
      "\r",
      " 15%|███████▏                                       | 99/650 [01:21<07:35,  1.21it/s]"
     ]
    },
    {
     "name": "stdout",
     "output_type": "stream",
     "text": [
      "Original: [ 0  2 21 53]\n",
      "Candidate: [ 0  3 21 53]\n",
      "---------------------------\n",
      "ratio: 0.5725636426770789\n"
     ]
    },
    {
     "name": "stderr",
     "output_type": "stream",
     "text": [
      "\r",
      " 15%|███████                                       | 100/650 [01:22<07:33,  1.21it/s]"
     ]
    },
    {
     "name": "stdout",
     "output_type": "stream",
     "text": [
      "Original: [ 0  2 21 53]\n",
      "Candidate: [ 0  2 21 53 65]\n",
      "---------------------------\n",
      "ratio: 0.12078355029657417\n"
     ]
    },
    {
     "name": "stderr",
     "output_type": "stream",
     "text": [
      "\r",
      " 16%|███████▏                                      | 101/650 [01:23<07:30,  1.22it/s]"
     ]
    },
    {
     "name": "stdout",
     "output_type": "stream",
     "text": [
      "\n",
      "Step: 100\n",
      "----------------------------------------------------\n",
      "Original: [ 0  2 21 53]\n",
      "Candidate: [ 0  2 53]\n",
      "---------------------------\n",
      "ratio: 1.0\n"
     ]
    },
    {
     "name": "stderr",
     "output_type": "stream",
     "text": [
      "\r",
      " 16%|███████▏                                      | 102/650 [01:23<07:29,  1.22it/s]"
     ]
    },
    {
     "name": "stdout",
     "output_type": "stream",
     "text": [
      "Original: [ 0  2 53]\n",
      "Candidate: [0 2]\n",
      "---------------------------\n",
      "ratio: 0.3600865215719243\n"
     ]
    },
    {
     "name": "stderr",
     "output_type": "stream",
     "text": [
      "\r",
      " 16%|███████▎                                      | 103/650 [01:24<07:29,  1.22it/s]"
     ]
    },
    {
     "name": "stdout",
     "output_type": "stream",
     "text": [
      "Original: [ 0  2 53]\n",
      "Candidate: [ 0  2 52]\n",
      "---------------------------\n",
      "ratio: 1.0\n"
     ]
    },
    {
     "name": "stderr",
     "output_type": "stream",
     "text": [
      "\r",
      " 16%|███████▎                                      | 104/650 [01:25<07:27,  1.22it/s]"
     ]
    },
    {
     "name": "stdout",
     "output_type": "stream",
     "text": [
      "Original: [ 0  2 52]\n",
      "Candidate: [ 0  3 52]\n",
      "---------------------------\n",
      "ratio: 0.6213576289143673\n"
     ]
    },
    {
     "name": "stderr",
     "output_type": "stream",
     "text": [
      "\r",
      " 16%|███████▍                                      | 105/650 [01:26<07:26,  1.22it/s]"
     ]
    },
    {
     "name": "stdout",
     "output_type": "stream",
     "text": [
      "Original: [ 0  3 52]\n",
      "Candidate: [ 0  3 52 89]\n",
      "---------------------------\n",
      "ratio: 0.2974060311339915\n"
     ]
    },
    {
     "name": "stderr",
     "output_type": "stream",
     "text": [
      "\r",
      " 16%|███████▌                                      | 106/650 [01:27<07:27,  1.22it/s]"
     ]
    },
    {
     "name": "stdout",
     "output_type": "stream",
     "text": [
      "Original: [ 0  3 52]\n",
      "Candidate: [0 3]\n",
      "---------------------------\n",
      "ratio: 0.31232199104613145\n"
     ]
    },
    {
     "name": "stderr",
     "output_type": "stream",
     "text": [
      "\r",
      " 16%|███████▌                                      | 107/650 [01:27<07:24,  1.22it/s]"
     ]
    },
    {
     "name": "stdout",
     "output_type": "stream",
     "text": [
      "Original: [ 0  3 52]\n",
      "Candidate: [0 3]\n",
      "---------------------------\n",
      "ratio: 0.16280403081823078\n"
     ]
    },
    {
     "name": "stderr",
     "output_type": "stream",
     "text": [
      "\r",
      " 17%|███████▋                                      | 108/650 [01:28<07:23,  1.22it/s]"
     ]
    },
    {
     "name": "stdout",
     "output_type": "stream",
     "text": [
      "Original: [ 0  3 52]\n",
      "Candidate: [0 3]\n",
      "---------------------------\n",
      "ratio: 0.15311832886679666\n"
     ]
    },
    {
     "name": "stderr",
     "output_type": "stream",
     "text": [
      "\r",
      " 17%|███████▋                                      | 109/650 [01:29<07:23,  1.22it/s]"
     ]
    },
    {
     "name": "stdout",
     "output_type": "stream",
     "text": [
      "Original: [ 0  3 52]\n",
      "Candidate: [ 0  3 53]\n",
      "---------------------------\n",
      "ratio: 0.8788422531447144\n"
     ]
    },
    {
     "name": "stderr",
     "output_type": "stream",
     "text": [
      "\r",
      " 17%|███████▊                                      | 110/650 [01:30<07:21,  1.22it/s]"
     ]
    },
    {
     "name": "stdout",
     "output_type": "stream",
     "text": [
      "Original: [ 0  3 52]\n",
      "Candidate: [0 3]\n",
      "---------------------------\n",
      "ratio: 0.28201265786141305\n"
     ]
    },
    {
     "name": "stderr",
     "output_type": "stream",
     "text": [
      "\r",
      " 17%|███████▊                                      | 111/650 [01:31<07:20,  1.22it/s]"
     ]
    },
    {
     "name": "stdout",
     "output_type": "stream",
     "text": [
      "Original: [0 3]\n",
      "Candidate: [0 4]\n",
      "---------------------------\n",
      "ratio: 1.0\n"
     ]
    },
    {
     "name": "stderr",
     "output_type": "stream",
     "text": [
      "\r",
      " 17%|███████▉                                      | 112/650 [01:32<07:19,  1.22it/s]"
     ]
    },
    {
     "name": "stdout",
     "output_type": "stream",
     "text": [
      "Original: [0 4]\n",
      "Candidate: [0]\n",
      "---------------------------\n",
      "ratio: 1.0\n"
     ]
    },
    {
     "name": "stderr",
     "output_type": "stream",
     "text": [
      "\r",
      " 17%|███████▉                                      | 113/650 [01:32<07:20,  1.22it/s]"
     ]
    },
    {
     "name": "stdout",
     "output_type": "stream",
     "text": [
      "Original: [0]\n",
      "Candidate: [ 0 17]\n",
      "---------------------------\n",
      "ratio: 1.0\n"
     ]
    },
    {
     "name": "stderr",
     "output_type": "stream",
     "text": [
      "\r",
      " 18%|████████                                      | 114/650 [01:33<07:17,  1.22it/s]"
     ]
    },
    {
     "name": "stdout",
     "output_type": "stream",
     "text": [
      "Original: [ 0 17]\n",
      "Candidate: [ 0 18]\n",
      "---------------------------\n",
      "ratio: 1.0\n"
     ]
    },
    {
     "name": "stderr",
     "output_type": "stream",
     "text": [
      "\r",
      " 18%|████████▏                                     | 115/650 [01:34<07:18,  1.22it/s]"
     ]
    },
    {
     "name": "stdout",
     "output_type": "stream",
     "text": [
      "Original: [ 0 18]\n",
      "Candidate: [0]\n",
      "---------------------------\n",
      "ratio: 0.4777372577646879\n"
     ]
    },
    {
     "name": "stderr",
     "output_type": "stream",
     "text": [
      "\r",
      " 18%|████████▏                                     | 116/650 [01:35<07:17,  1.22it/s]"
     ]
    },
    {
     "name": "stdout",
     "output_type": "stream",
     "text": [
      "Original: [0]\n",
      "Candidate: [ 0 47]\n",
      "---------------------------\n",
      "ratio: 1.0\n"
     ]
    },
    {
     "name": "stderr",
     "output_type": "stream",
     "text": [
      "\r",
      " 18%|████████▎                                     | 117/650 [01:36<07:17,  1.22it/s]"
     ]
    },
    {
     "name": "stdout",
     "output_type": "stream",
     "text": [
      "Original: [ 0 47]\n",
      "Candidate: [ 0 21 47]\n",
      "---------------------------\n",
      "ratio: 0.6354910962313921\n"
     ]
    },
    {
     "name": "stderr",
     "output_type": "stream",
     "text": [
      "\r",
      " 18%|████████▎                                     | 118/650 [01:36<07:15,  1.22it/s]"
     ]
    },
    {
     "name": "stdout",
     "output_type": "stream",
     "text": [
      "Original: [ 0 47]\n",
      "Candidate: [ 0 46]\n",
      "---------------------------\n",
      "ratio: 0.915001033569641\n"
     ]
    },
    {
     "name": "stderr",
     "output_type": "stream",
     "text": [
      "\r",
      " 18%|████████▍                                     | 119/650 [01:37<07:14,  1.22it/s]"
     ]
    },
    {
     "name": "stdout",
     "output_type": "stream",
     "text": [
      "Original: [ 0 46]\n",
      "Candidate: [0]\n",
      "---------------------------\n",
      "ratio: 0.5455848183017842\n"
     ]
    },
    {
     "name": "stderr",
     "output_type": "stream",
     "text": [
      "\r",
      " 18%|████████▍                                     | 120/650 [01:38<07:13,  1.22it/s]"
     ]
    },
    {
     "name": "stdout",
     "output_type": "stream",
     "text": [
      "Original: [0]\n",
      "Candidate: [ 0 10]\n",
      "---------------------------\n",
      "ratio: 0.76531958803471\n"
     ]
    },
    {
     "name": "stderr",
     "output_type": "stream",
     "text": [
      "\r",
      " 19%|████████▌                                     | 121/650 [01:39<07:17,  1.21it/s]"
     ]
    },
    {
     "name": "stdout",
     "output_type": "stream",
     "text": [
      "Original: [ 0 10]\n",
      "Candidate: [0]\n",
      "---------------------------\n",
      "ratio: 1.0\n"
     ]
    },
    {
     "name": "stderr",
     "output_type": "stream",
     "text": [
      "\r",
      " 19%|████████▋                                     | 122/650 [01:40<07:18,  1.21it/s]"
     ]
    },
    {
     "name": "stdout",
     "output_type": "stream",
     "text": [
      "Original: [0]\n",
      "Candidate: [ 0 11]\n",
      "---------------------------\n",
      "ratio: 0.5185288959304049\n"
     ]
    },
    {
     "name": "stderr",
     "output_type": "stream",
     "text": [
      "\r",
      " 19%|████████▋                                     | 123/650 [01:41<07:15,  1.21it/s]"
     ]
    },
    {
     "name": "stdout",
     "output_type": "stream",
     "text": [
      "Original: [ 0 11]\n",
      "Candidate: [ 0 12]\n",
      "---------------------------\n",
      "ratio: 1.0\n"
     ]
    },
    {
     "name": "stderr",
     "output_type": "stream",
     "text": [
      "\r",
      " 19%|████████▊                                     | 124/650 [01:41<07:13,  1.21it/s]"
     ]
    },
    {
     "name": "stdout",
     "output_type": "stream",
     "text": [
      "Original: [ 0 12]\n",
      "Candidate: [ 0 12 79]\n",
      "---------------------------\n",
      "ratio: 0.5341473061765786\n"
     ]
    },
    {
     "name": "stderr",
     "output_type": "stream",
     "text": [
      "\r",
      " 19%|████████▊                                     | 125/650 [01:42<07:15,  1.21it/s]"
     ]
    },
    {
     "name": "stdout",
     "output_type": "stream",
     "text": [
      "Original: [ 0 12]\n",
      "Candidate: [ 0 13]\n",
      "---------------------------\n",
      "ratio: 1.0\n"
     ]
    },
    {
     "name": "stderr",
     "output_type": "stream",
     "text": [
      "\r",
      " 19%|████████▉                                     | 126/650 [01:43<07:13,  1.21it/s]"
     ]
    },
    {
     "name": "stdout",
     "output_type": "stream",
     "text": [
      "Original: [ 0 13]\n",
      "Candidate: [0]\n",
      "---------------------------\n",
      "ratio: 1.0\n"
     ]
    },
    {
     "name": "stderr",
     "output_type": "stream",
     "text": [
      "\r",
      " 20%|████████▉                                     | 127/650 [01:44<07:11,  1.21it/s]"
     ]
    },
    {
     "name": "stdout",
     "output_type": "stream",
     "text": [
      "Original: [0]\n",
      "Candidate: [0 9]\n",
      "---------------------------\n",
      "ratio: 0.6041009372405305\n"
     ]
    },
    {
     "name": "stderr",
     "output_type": "stream",
     "text": [
      "\r",
      " 20%|█████████                                     | 128/650 [01:45<07:09,  1.22it/s]"
     ]
    },
    {
     "name": "stdout",
     "output_type": "stream",
     "text": [
      "Original: [0 9]\n",
      "Candidate: [0]\n",
      "---------------------------\n",
      "ratio: 0.9873500441861772\n"
     ]
    },
    {
     "name": "stderr",
     "output_type": "stream",
     "text": [
      "\r",
      " 20%|█████████▏                                    | 129/650 [01:46<07:08,  1.21it/s]"
     ]
    },
    {
     "name": "stdout",
     "output_type": "stream",
     "text": [
      "Original: [0]\n",
      "Candidate: [ 0 67]\n",
      "---------------------------\n",
      "ratio: 0.3759114401423163\n"
     ]
    },
    {
     "name": "stderr",
     "output_type": "stream",
     "text": [
      "\r",
      " 20%|█████████▏                                    | 130/650 [01:46<07:06,  1.22it/s]"
     ]
    },
    {
     "name": "stdout",
     "output_type": "stream",
     "text": [
      "Original: [ 0 67]\n",
      "Candidate: [0]\n",
      "---------------------------\n",
      "ratio: 0.4228869163300644\n"
     ]
    },
    {
     "name": "stderr",
     "output_type": "stream",
     "text": [
      "\r",
      " 20%|█████████▎                                    | 131/650 [01:47<07:05,  1.22it/s]"
     ]
    },
    {
     "name": "stdout",
     "output_type": "stream",
     "text": [
      "Original: [ 0 67]\n",
      "Candidate: [0]\n",
      "---------------------------\n",
      "ratio: 1.0\n"
     ]
    },
    {
     "name": "stderr",
     "output_type": "stream",
     "text": [
      "\r",
      " 20%|█████████▎                                    | 132/650 [01:48<07:03,  1.22it/s]"
     ]
    },
    {
     "name": "stdout",
     "output_type": "stream",
     "text": [
      "Original: [0]\n",
      "Candidate: [0 5]\n",
      "---------------------------\n",
      "ratio: 0.4893157767450127\n"
     ]
    },
    {
     "name": "stderr",
     "output_type": "stream",
     "text": [
      "\r",
      " 20%|█████████▍                                    | 133/650 [01:49<07:04,  1.22it/s]"
     ]
    },
    {
     "name": "stdout",
     "output_type": "stream",
     "text": [
      "Original: [0 5]\n",
      "Candidate: [ 0  5 22]\n",
      "---------------------------\n",
      "ratio: 1.0\n"
     ]
    },
    {
     "name": "stderr",
     "output_type": "stream",
     "text": [
      "\r",
      " 21%|█████████▍                                    | 134/650 [01:50<07:02,  1.22it/s]"
     ]
    },
    {
     "name": "stdout",
     "output_type": "stream",
     "text": [
      "Original: [ 0  5 22]\n",
      "Candidate: [ 0  6 22]\n",
      "---------------------------\n",
      "ratio: 0.9382399785011728\n"
     ]
    },
    {
     "name": "stderr",
     "output_type": "stream",
     "text": [
      "\r",
      " 21%|█████████▌                                    | 135/650 [01:50<07:00,  1.22it/s]"
     ]
    },
    {
     "name": "stdout",
     "output_type": "stream",
     "text": [
      "Original: [ 0  6 22]\n",
      "Candidate: [ 0  6 23]\n",
      "---------------------------\n",
      "ratio: 1.0\n"
     ]
    },
    {
     "name": "stderr",
     "output_type": "stream",
     "text": [
      "\r",
      " 21%|█████████▌                                    | 136/650 [01:51<06:59,  1.22it/s]"
     ]
    },
    {
     "name": "stdout",
     "output_type": "stream",
     "text": [
      "Original: [ 0  6 23]\n",
      "Candidate: [ 0  5 23]\n",
      "---------------------------\n",
      "ratio: 1.0\n"
     ]
    },
    {
     "name": "stderr",
     "output_type": "stream",
     "text": [
      "\r",
      " 21%|█████████▋                                    | 137/650 [01:52<06:58,  1.22it/s]"
     ]
    },
    {
     "name": "stdout",
     "output_type": "stream",
     "text": [
      "Original: [ 0  5 23]\n",
      "Candidate: [ 0 23]\n",
      "---------------------------\n",
      "ratio: 1.0\n"
     ]
    },
    {
     "name": "stderr",
     "output_type": "stream",
     "text": [
      "\r",
      " 21%|█████████▊                                    | 138/650 [01:53<06:57,  1.23it/s]"
     ]
    },
    {
     "name": "stdout",
     "output_type": "stream",
     "text": [
      "Original: [ 0 23]\n",
      "Candidate: [0]\n",
      "---------------------------\n",
      "ratio: 0.43587944874054274\n"
     ]
    },
    {
     "name": "stderr",
     "output_type": "stream",
     "text": [
      "\r",
      " 21%|█████████▊                                    | 139/650 [01:54<06:56,  1.23it/s]"
     ]
    },
    {
     "name": "stdout",
     "output_type": "stream",
     "text": [
      "Original: [ 0 23]\n",
      "Candidate: [ 0 23 94]\n",
      "---------------------------\n",
      "ratio: 0.6652596041066666\n"
     ]
    },
    {
     "name": "stderr",
     "output_type": "stream",
     "text": [
      "\r",
      " 22%|█████████▉                                    | 140/650 [01:55<06:56,  1.22it/s]"
     ]
    },
    {
     "name": "stdout",
     "output_type": "stream",
     "text": [
      "Original: [ 0 23 94]\n",
      "Candidate: [ 0 22 94]\n",
      "---------------------------\n",
      "ratio: 0.8564755815944489\n"
     ]
    },
    {
     "name": "stderr",
     "output_type": "stream",
     "text": [
      "\r",
      " 22%|█████████▉                                    | 141/650 [01:55<06:57,  1.22it/s]"
     ]
    },
    {
     "name": "stdout",
     "output_type": "stream",
     "text": [
      "Original: [ 0 22 94]\n",
      "Candidate: [ 0 22]\n",
      "---------------------------\n",
      "ratio: 1.0\n"
     ]
    },
    {
     "name": "stderr",
     "output_type": "stream",
     "text": [
      "\r",
      " 22%|██████████                                    | 142/650 [01:56<06:55,  1.22it/s]"
     ]
    },
    {
     "name": "stdout",
     "output_type": "stream",
     "text": [
      "Original: [ 0 22]\n",
      "Candidate: [ 0 23]\n",
      "---------------------------\n",
      "ratio: 1.0\n"
     ]
    },
    {
     "name": "stderr",
     "output_type": "stream",
     "text": [
      "\r",
      " 22%|██████████                                    | 143/650 [01:57<06:54,  1.22it/s]"
     ]
    },
    {
     "name": "stdout",
     "output_type": "stream",
     "text": [
      "Original: [ 0 23]\n",
      "Candidate: [ 0 22]\n",
      "---------------------------\n",
      "ratio: 0.8603214826221515\n"
     ]
    },
    {
     "name": "stderr",
     "output_type": "stream",
     "text": [
      "\r",
      " 22%|██████████▏                                   | 144/650 [01:58<06:52,  1.23it/s]"
     ]
    },
    {
     "name": "stdout",
     "output_type": "stream",
     "text": [
      "Original: [ 0 22]\n",
      "Candidate: [ 0 23]\n",
      "---------------------------\n",
      "ratio: 1.0\n"
     ]
    },
    {
     "name": "stderr",
     "output_type": "stream",
     "text": [
      "\r",
      " 22%|██████████▎                                   | 145/650 [01:59<06:52,  1.23it/s]"
     ]
    },
    {
     "name": "stdout",
     "output_type": "stream",
     "text": [
      "Original: [ 0 23]\n",
      "Candidate: [0]\n",
      "---------------------------\n",
      "ratio: 0.35494197921836623\n"
     ]
    },
    {
     "name": "stderr",
     "output_type": "stream",
     "text": [
      "\r",
      " 22%|██████████▎                                   | 146/650 [01:59<06:52,  1.22it/s]"
     ]
    },
    {
     "name": "stdout",
     "output_type": "stream",
     "text": [
      "Original: [ 0 23]\n",
      "Candidate: [ 0 24]\n",
      "---------------------------\n",
      "ratio: 1.0\n"
     ]
    },
    {
     "name": "stderr",
     "output_type": "stream",
     "text": [
      "\r",
      " 23%|██████████▍                                   | 147/650 [02:00<06:53,  1.22it/s]"
     ]
    },
    {
     "name": "stdout",
     "output_type": "stream",
     "text": [
      "Original: [ 0 24]\n",
      "Candidate: [ 0 25]\n",
      "---------------------------\n",
      "ratio: 1.0\n"
     ]
    },
    {
     "name": "stderr",
     "output_type": "stream",
     "text": [
      "\r",
      " 23%|██████████▍                                   | 148/650 [02:01<06:53,  1.21it/s]"
     ]
    },
    {
     "name": "stdout",
     "output_type": "stream",
     "text": [
      "Original: [ 0 25]\n",
      "Candidate: [ 0 25 41]\n",
      "---------------------------\n",
      "ratio: 0.6113311498532423\n"
     ]
    },
    {
     "name": "stderr",
     "output_type": "stream",
     "text": [
      "\r",
      " 23%|██████████▌                                   | 149/650 [02:02<06:52,  1.21it/s]"
     ]
    },
    {
     "name": "stdout",
     "output_type": "stream",
     "text": [
      "Original: [ 0 25 41]\n",
      "Candidate: [ 0  5 25 41]\n",
      "---------------------------\n",
      "ratio: 0.37413650631896406\n"
     ]
    },
    {
     "name": "stderr",
     "output_type": "stream",
     "text": [
      "\r",
      " 23%|██████████▌                                   | 150/650 [02:03<06:51,  1.22it/s]"
     ]
    },
    {
     "name": "stdout",
     "output_type": "stream",
     "text": [
      "Original: [ 0 25 41]\n",
      "Candidate: [ 0 41]\n",
      "---------------------------\n",
      "ratio: 1.0\n"
     ]
    },
    {
     "name": "stderr",
     "output_type": "stream",
     "text": [
      "\r",
      " 23%|██████████▋                                   | 151/650 [02:04<06:48,  1.22it/s]"
     ]
    },
    {
     "name": "stdout",
     "output_type": "stream",
     "text": [
      "Original: [ 0 41]\n",
      "Candidate: [ 0 42]\n",
      "---------------------------\n",
      "ratio: 1.0\n"
     ]
    },
    {
     "name": "stderr",
     "output_type": "stream",
     "text": [
      "\r",
      " 23%|██████████▊                                   | 152/650 [02:04<06:49,  1.22it/s]"
     ]
    },
    {
     "name": "stdout",
     "output_type": "stream",
     "text": [
      "Original: [ 0 42]\n",
      "Candidate: [0]\n",
      "---------------------------\n",
      "ratio: 0.5571314834767789\n"
     ]
    },
    {
     "name": "stderr",
     "output_type": "stream",
     "text": [
      "\r",
      " 24%|██████████▊                                   | 153/650 [02:05<06:48,  1.22it/s]"
     ]
    },
    {
     "name": "stdout",
     "output_type": "stream",
     "text": [
      "Original: [ 0 42]\n",
      "Candidate: [ 0  9 42]\n",
      "---------------------------\n",
      "ratio: 0.4477376311806245\n"
     ]
    },
    {
     "name": "stderr",
     "output_type": "stream",
     "text": [
      "\r",
      " 24%|██████████▉                                   | 154/650 [02:06<06:46,  1.22it/s]"
     ]
    },
    {
     "name": "stdout",
     "output_type": "stream",
     "text": [
      "Original: [ 0  9 42]\n",
      "Candidate: [ 0 42]\n",
      "---------------------------\n",
      "ratio: 1.0\n"
     ]
    },
    {
     "name": "stderr",
     "output_type": "stream",
     "text": [
      "\r",
      " 24%|██████████▉                                   | 155/650 [02:07<06:45,  1.22it/s]"
     ]
    },
    {
     "name": "stdout",
     "output_type": "stream",
     "text": [
      "Original: [ 0 42]\n",
      "Candidate: [ 0 41]\n",
      "---------------------------\n",
      "ratio: 0.9796567983565393\n"
     ]
    },
    {
     "name": "stderr",
     "output_type": "stream",
     "text": [
      "\r",
      " 24%|███████████                                   | 156/650 [02:08<06:44,  1.22it/s]"
     ]
    },
    {
     "name": "stdout",
     "output_type": "stream",
     "text": [
      "Original: [ 0 41]\n",
      "Candidate: [0]\n",
      "---------------------------\n",
      "ratio: 0.48144048065505074\n"
     ]
    },
    {
     "name": "stderr",
     "output_type": "stream",
     "text": [
      "\r",
      " 24%|███████████                                   | 157/650 [02:08<06:42,  1.23it/s]"
     ]
    },
    {
     "name": "stdout",
     "output_type": "stream",
     "text": [
      "Original: [ 0 41]\n",
      "Candidate: [ 0 40]\n",
      "---------------------------\n",
      "ratio: 0.9721752111247022\n"
     ]
    },
    {
     "name": "stderr",
     "output_type": "stream",
     "text": [
      "\r",
      " 24%|███████████▏                                  | 158/650 [02:09<06:41,  1.23it/s]"
     ]
    },
    {
     "name": "stdout",
     "output_type": "stream",
     "text": [
      "Original: [ 0 40]\n",
      "Candidate: [ 0 40 57]\n",
      "---------------------------\n",
      "ratio: 0.3738852580113307\n"
     ]
    },
    {
     "name": "stderr",
     "output_type": "stream",
     "text": [
      "\r",
      " 24%|███████████▎                                  | 159/650 [02:10<06:42,  1.22it/s]"
     ]
    },
    {
     "name": "stdout",
     "output_type": "stream",
     "text": [
      "Original: [ 0 40]\n",
      "Candidate: [ 0 41]\n",
      "---------------------------\n",
      "ratio: 1.0\n"
     ]
    },
    {
     "name": "stderr",
     "output_type": "stream",
     "text": [
      "\r",
      " 25%|███████████▎                                  | 160/650 [02:11<06:40,  1.22it/s]"
     ]
    },
    {
     "name": "stdout",
     "output_type": "stream",
     "text": [
      "Original: [ 0 41]\n",
      "Candidate: [ 0 41 86]\n",
      "---------------------------\n",
      "ratio: 0.2498494288515641\n"
     ]
    },
    {
     "name": "stderr",
     "output_type": "stream",
     "text": [
      "\r",
      " 25%|███████████▍                                  | 161/650 [02:12<06:41,  1.22it/s]"
     ]
    },
    {
     "name": "stdout",
     "output_type": "stream",
     "text": [
      "Original: [ 0 41 86]\n",
      "Candidate: [ 0 86]\n",
      "---------------------------\n",
      "ratio: 0.6329392635879568\n"
     ]
    },
    {
     "name": "stderr",
     "output_type": "stream",
     "text": [
      "\r",
      " 25%|███████████▍                                  | 162/650 [02:13<06:42,  1.21it/s]"
     ]
    },
    {
     "name": "stdout",
     "output_type": "stream",
     "text": [
      "Original: [ 0 41 86]\n",
      "Candidate: [ 0 41 85 86]\n",
      "---------------------------\n",
      "ratio: 1.0\n"
     ]
    },
    {
     "name": "stderr",
     "output_type": "stream",
     "text": [
      "\r",
      " 25%|███████████▌                                  | 163/650 [02:13<06:41,  1.21it/s]"
     ]
    },
    {
     "name": "stdout",
     "output_type": "stream",
     "text": [
      "Original: [ 0 41 85 86]\n",
      "Candidate: [ 0 41 84 86]\n",
      "---------------------------\n",
      "ratio: 0.476681575952727\n"
     ]
    },
    {
     "name": "stderr",
     "output_type": "stream",
     "text": [
      "\r",
      " 25%|███████████▌                                  | 164/650 [02:14<06:38,  1.22it/s]"
     ]
    },
    {
     "name": "stdout",
     "output_type": "stream",
     "text": [
      "Original: [ 0 41 85 86]\n",
      "Candidate: [ 0 17 41 85 86]\n",
      "---------------------------\n",
      "ratio: 0.21651194073043709\n"
     ]
    },
    {
     "name": "stderr",
     "output_type": "stream",
     "text": [
      "\r",
      " 25%|███████████▋                                  | 165/650 [02:15<06:37,  1.22it/s]"
     ]
    },
    {
     "name": "stdout",
     "output_type": "stream",
     "text": [
      "Original: [ 0 41 85 86]\n",
      "Candidate: [ 0 41 85]\n",
      "---------------------------\n",
      "ratio: 0.5305042724711531\n"
     ]
    },
    {
     "name": "stderr",
     "output_type": "stream",
     "text": [
      "\r",
      " 26%|███████████▋                                  | 166/650 [02:16<06:36,  1.22it/s]"
     ]
    },
    {
     "name": "stdout",
     "output_type": "stream",
     "text": [
      "Original: [ 0 41 85]\n",
      "Candidate: [ 0 41 71 85]\n",
      "---------------------------\n",
      "ratio: 0.23665342858068347\n"
     ]
    },
    {
     "name": "stderr",
     "output_type": "stream",
     "text": [
      "\r",
      " 26%|███████████▊                                  | 167/650 [02:17<06:35,  1.22it/s]"
     ]
    },
    {
     "name": "stdout",
     "output_type": "stream",
     "text": [
      "Original: [ 0 41 85]\n",
      "Candidate: [ 0 41 43 85]\n",
      "---------------------------\n",
      "ratio: 1.0\n"
     ]
    },
    {
     "name": "stderr",
     "output_type": "stream",
     "text": [
      "\r",
      " 26%|███████████▉                                  | 168/650 [02:18<06:34,  1.22it/s]"
     ]
    },
    {
     "name": "stdout",
     "output_type": "stream",
     "text": [
      "Original: [ 0 41 43 85]\n",
      "Candidate: [ 0 16 41 43 85]\n",
      "---------------------------\n",
      "ratio: 0.2198380778615108\n"
     ]
    },
    {
     "name": "stderr",
     "output_type": "stream",
     "text": [
      "\r",
      " 26%|███████████▉                                  | 169/650 [02:18<06:34,  1.22it/s]"
     ]
    },
    {
     "name": "stdout",
     "output_type": "stream",
     "text": [
      "Original: [ 0 41 43 85]\n",
      "Candidate: [ 0 41 43 85 97]\n",
      "---------------------------\n",
      "ratio: 0.543772218379673\n"
     ]
    },
    {
     "name": "stderr",
     "output_type": "stream",
     "text": [
      "\r",
      " 26%|████████████                                  | 170/650 [02:19<06:32,  1.22it/s]"
     ]
    },
    {
     "name": "stdout",
     "output_type": "stream",
     "text": [
      "Original: [ 0 41 43 85 97]\n",
      "Candidate: [ 0 41 43 85 98]\n",
      "---------------------------\n",
      "ratio: 1.0\n"
     ]
    },
    {
     "name": "stderr",
     "output_type": "stream",
     "text": [
      "\r",
      " 26%|████████████                                  | 171/650 [02:20<06:31,  1.22it/s]"
     ]
    },
    {
     "name": "stdout",
     "output_type": "stream",
     "text": [
      "Original: [ 0 41 43 85 98]\n",
      "Candidate: [ 0 40 43 85 98]\n",
      "---------------------------\n",
      "ratio: 0.7130837455931125\n"
     ]
    },
    {
     "name": "stderr",
     "output_type": "stream",
     "text": [
      "\r",
      " 26%|████████████▏                                 | 172/650 [02:21<06:29,  1.23it/s]"
     ]
    },
    {
     "name": "stdout",
     "output_type": "stream",
     "text": [
      "Original: [ 0 40 43 85 98]\n",
      "Candidate: [ 0 38 40 43 85 98]\n",
      "---------------------------\n",
      "ratio: 0.5735371173403379\n"
     ]
    },
    {
     "name": "stderr",
     "output_type": "stream",
     "text": [
      "\r",
      " 27%|████████████▏                                 | 173/650 [02:22<06:36,  1.20it/s]"
     ]
    },
    {
     "name": "stdout",
     "output_type": "stream",
     "text": [
      "Original: [ 0 40 43 85 98]\n",
      "Candidate: [ 0 40 43 84 85 98]\n",
      "---------------------------\n",
      "ratio: 0.975132499814718\n"
     ]
    },
    {
     "name": "stderr",
     "output_type": "stream",
     "text": [
      "\r",
      " 27%|████████████▎                                 | 174/650 [02:23<08:27,  1.07s/it]"
     ]
    },
    {
     "name": "stdout",
     "output_type": "stream",
     "text": [
      "Original: [ 0 40 43 84 85 98]\n",
      "Candidate: [ 0 40 43 84 85 99]\n",
      "---------------------------\n",
      "ratio: 1.0\n"
     ]
    },
    {
     "name": "stderr",
     "output_type": "stream",
     "text": [
      "\r",
      " 27%|████████████▍                                 | 175/650 [02:25<09:41,  1.22s/it]"
     ]
    },
    {
     "name": "stdout",
     "output_type": "stream",
     "text": [
      "Original: [ 0 40 43 84 85 99]\n",
      "Candidate: [ 0 24 40 43 84 85 99]\n",
      "---------------------------\n",
      "ratio: 0.2685017568551009\n"
     ]
    },
    {
     "name": "stderr",
     "output_type": "stream",
     "text": [
      "\r",
      " 27%|████████████▍                                 | 176/650 [02:26<08:52,  1.12s/it]"
     ]
    },
    {
     "name": "stdout",
     "output_type": "stream",
     "text": [
      "Original: [ 0 24 40 43 84 85 99]\n",
      "Candidate: [ 0 24 40 43 83 85 99]\n",
      "---------------------------\n",
      "ratio: 0.5549087984050893\n"
     ]
    },
    {
     "name": "stderr",
     "output_type": "stream",
     "text": [
      "\r",
      " 27%|████████████▌                                 | 177/650 [02:27<08:27,  1.07s/it]"
     ]
    },
    {
     "name": "stdout",
     "output_type": "stream",
     "text": [
      "Original: [ 0 24 40 43 83 85 99]\n",
      "Candidate: [ 0 24 40 83 85 99]\n",
      "---------------------------\n",
      "ratio: 1.0\n"
     ]
    },
    {
     "name": "stderr",
     "output_type": "stream",
     "text": [
      "\r",
      " 27%|████████████▌                                 | 178/650 [02:28<08:07,  1.03s/it]"
     ]
    },
    {
     "name": "stdout",
     "output_type": "stream",
     "text": [
      "Original: [ 0 24 40 83 85 99]\n",
      "Candidate: [ 0 24 40 84 85 99]\n",
      "---------------------------\n",
      "ratio: 1.0\n"
     ]
    },
    {
     "name": "stderr",
     "output_type": "stream",
     "text": [
      "\r",
      " 28%|████████████▋                                 | 179/650 [02:28<07:37,  1.03it/s]"
     ]
    },
    {
     "name": "stdout",
     "output_type": "stream",
     "text": [
      "Original: [ 0 24 40 84 85 99]\n",
      "Candidate: [ 0 24 40 84 85]\n",
      "---------------------------\n",
      "ratio: 1.0\n"
     ]
    },
    {
     "name": "stderr",
     "output_type": "stream",
     "text": [
      "\r",
      " 28%|████████████▋                                 | 180/650 [02:29<07:31,  1.04it/s]"
     ]
    },
    {
     "name": "stdout",
     "output_type": "stream",
     "text": [
      "Original: [ 0 24 40 84 85]\n",
      "Candidate: [ 0 24 41 84 85]\n",
      "---------------------------\n",
      "ratio: 1.0\n"
     ]
    },
    {
     "name": "stderr",
     "output_type": "stream",
     "text": [
      "\r",
      " 28%|████████████▊                                 | 181/650 [02:31<07:53,  1.01s/it]"
     ]
    },
    {
     "name": "stdout",
     "output_type": "stream",
     "text": [
      "Original: [ 0 24 41 84 85]\n",
      "Candidate: [ 0 24 33 41 84 85]\n",
      "---------------------------\n",
      "ratio: 0.22077954877268371\n"
     ]
    },
    {
     "name": "stderr",
     "output_type": "stream",
     "text": [
      "\r",
      " 28%|████████████▉                                 | 182/650 [02:32<08:09,  1.05s/it]"
     ]
    },
    {
     "name": "stdout",
     "output_type": "stream",
     "text": [
      "Original: [ 0 24 33 41 84 85]\n",
      "Candidate: [ 0 24 33 41 53 84 85]\n",
      "---------------------------\n",
      "ratio: 0.2060387521800789\n"
     ]
    },
    {
     "name": "stderr",
     "output_type": "stream",
     "text": [
      "\r",
      " 28%|████████████▉                                 | 183/650 [02:32<07:38,  1.02it/s]"
     ]
    },
    {
     "name": "stdout",
     "output_type": "stream",
     "text": [
      "Original: [ 0 24 33 41 84 85]\n",
      "Candidate: [ 0 33 41 84 85]\n",
      "---------------------------\n",
      "ratio: 1.0\n"
     ]
    },
    {
     "name": "stderr",
     "output_type": "stream",
     "text": [
      "\r",
      " 28%|█████████████                                 | 184/650 [02:33<07:15,  1.07it/s]"
     ]
    },
    {
     "name": "stdout",
     "output_type": "stream",
     "text": [
      "Original: [ 0 33 41 84 85]\n",
      "Candidate: [ 0 17 33 41 84 85]\n",
      "---------------------------\n",
      "ratio: 0.13421635730836456\n"
     ]
    },
    {
     "name": "stderr",
     "output_type": "stream",
     "text": [
      "\r",
      " 28%|█████████████                                 | 185/650 [02:35<07:55,  1.02s/it]"
     ]
    },
    {
     "name": "stdout",
     "output_type": "stream",
     "text": [
      "Original: [ 0 33 41 84 85]\n",
      "Candidate: [ 0 33 41 84]\n",
      "---------------------------\n",
      "ratio: 0.7372319076664878\n"
     ]
    },
    {
     "name": "stderr",
     "output_type": "stream",
     "text": [
      "\r",
      " 29%|█████████████▏                                | 186/650 [02:35<07:33,  1.02it/s]"
     ]
    },
    {
     "name": "stdout",
     "output_type": "stream",
     "text": [
      "Original: [ 0 33 41 84]\n",
      "Candidate: [ 0 41 84]\n",
      "---------------------------\n",
      "ratio: 1.0\n"
     ]
    },
    {
     "name": "stderr",
     "output_type": "stream",
     "text": [
      "\r",
      " 29%|█████████████▏                                | 187/650 [02:36<07:15,  1.06it/s]"
     ]
    },
    {
     "name": "stdout",
     "output_type": "stream",
     "text": [
      "Original: [ 0 41 84]\n",
      "Candidate: [ 0 41]\n",
      "---------------------------\n",
      "ratio: 1.0\n"
     ]
    },
    {
     "name": "stderr",
     "output_type": "stream",
     "text": [
      "\r",
      " 29%|█████████████▎                                | 188/650 [02:37<07:30,  1.03it/s]"
     ]
    },
    {
     "name": "stdout",
     "output_type": "stream",
     "text": [
      "Original: [ 0 41]\n",
      "Candidate: [ 0 42]\n",
      "---------------------------\n",
      "ratio: 1.0\n"
     ]
    },
    {
     "name": "stderr",
     "output_type": "stream",
     "text": [
      "\r",
      " 29%|█████████████▍                                | 189/650 [02:38<07:48,  1.02s/it]"
     ]
    },
    {
     "name": "stdout",
     "output_type": "stream",
     "text": [
      "Original: [ 0 42]\n",
      "Candidate: [0]\n",
      "---------------------------\n",
      "ratio: 0.43474780221189546\n"
     ]
    },
    {
     "name": "stderr",
     "output_type": "stream",
     "text": [
      "\r",
      " 29%|█████████████▍                                | 190/650 [02:40<08:10,  1.07s/it]"
     ]
    },
    {
     "name": "stdout",
     "output_type": "stream",
     "text": [
      "Original: [0]\n",
      "Candidate: [ 0 73]\n",
      "---------------------------\n",
      "ratio: 0.33019715488332774\n"
     ]
    },
    {
     "name": "stderr",
     "output_type": "stream",
     "text": [
      "\r",
      " 29%|█████████████▌                                | 191/650 [02:40<07:38,  1.00it/s]"
     ]
    },
    {
     "name": "stdout",
     "output_type": "stream",
     "text": [
      "Original: [0]\n",
      "Candidate: [ 0 67]\n",
      "---------------------------\n",
      "ratio: 0.9098661789765159\n"
     ]
    },
    {
     "name": "stderr",
     "output_type": "stream",
     "text": [
      "\r",
      " 30%|█████████████▌                                | 192/650 [02:42<07:47,  1.02s/it]"
     ]
    },
    {
     "name": "stdout",
     "output_type": "stream",
     "text": [
      "Original: [ 0 67]\n",
      "Candidate: [0]\n",
      "---------------------------\n",
      "ratio: 0.8480576690260629\n"
     ]
    },
    {
     "name": "stderr",
     "output_type": "stream",
     "text": [
      "\r",
      " 30%|█████████████▋                                | 193/650 [02:43<08:29,  1.11s/it]"
     ]
    },
    {
     "name": "stdout",
     "output_type": "stream",
     "text": [
      "Original: [0]\n",
      "Candidate: [ 0 26]\n",
      "---------------------------\n",
      "ratio: 1.0\n"
     ]
    },
    {
     "name": "stderr",
     "output_type": "stream",
     "text": [
      "\r",
      " 30%|█████████████▋                                | 194/650 [02:44<08:07,  1.07s/it]"
     ]
    },
    {
     "name": "stdout",
     "output_type": "stream",
     "text": [
      "Original: [ 0 26]\n",
      "Candidate: [ 0 26 27]\n",
      "---------------------------\n",
      "ratio: 1.0\n"
     ]
    },
    {
     "name": "stderr",
     "output_type": "stream",
     "text": [
      "\r",
      " 30%|█████████████▊                                | 195/650 [02:45<08:13,  1.09s/it]"
     ]
    },
    {
     "name": "stdout",
     "output_type": "stream",
     "text": [
      "Original: [ 0 26 27]\n",
      "Candidate: [ 0 26]\n",
      "---------------------------\n",
      "ratio: 0.3794112750542771\n"
     ]
    },
    {
     "name": "stderr",
     "output_type": "stream",
     "text": [
      "\r",
      " 30%|█████████████▊                                | 196/650 [02:46<08:21,  1.10s/it]"
     ]
    },
    {
     "name": "stdout",
     "output_type": "stream",
     "text": [
      "Original: [ 0 26]\n",
      "Candidate: [ 0 26 50]\n",
      "---------------------------\n",
      "ratio: 0.48471033058333163\n"
     ]
    },
    {
     "name": "stderr",
     "output_type": "stream",
     "text": [
      "\r",
      " 30%|█████████████▉                                | 197/650 [02:47<07:44,  1.03s/it]"
     ]
    },
    {
     "name": "stdout",
     "output_type": "stream",
     "text": [
      "Original: [ 0 26 50]\n",
      "Candidate: [ 0 10 26 50]\n",
      "---------------------------\n",
      "ratio: 0.2531136559551799\n"
     ]
    },
    {
     "name": "stderr",
     "output_type": "stream",
     "text": [
      "\r",
      " 30%|██████████████                                | 198/650 [02:48<07:21,  1.02it/s]"
     ]
    },
    {
     "name": "stdout",
     "output_type": "stream",
     "text": [
      "Original: [ 0 26 50]\n",
      "Candidate: [ 0 50]\n",
      "---------------------------\n",
      "ratio: 1.0\n"
     ]
    },
    {
     "name": "stderr",
     "output_type": "stream",
     "text": [
      "\r",
      " 31%|██████████████                                | 199/650 [02:49<07:00,  1.07it/s]"
     ]
    },
    {
     "name": "stdout",
     "output_type": "stream",
     "text": [
      "Original: [ 0 50]\n",
      "Candidate: [ 0 51]\n",
      "---------------------------\n",
      "ratio: 0.876995259549027\n"
     ]
    },
    {
     "name": "stderr",
     "output_type": "stream",
     "text": [
      "\r",
      " 31%|██████████████▏                               | 200/650 [02:49<06:44,  1.11it/s]"
     ]
    },
    {
     "name": "stdout",
     "output_type": "stream",
     "text": [
      "Original: [ 0 51]\n",
      "Candidate: [ 0 51 59]\n",
      "---------------------------\n",
      "ratio: 0.32697179645114266\n"
     ]
    },
    {
     "name": "stderr",
     "output_type": "stream",
     "text": [
      "\r",
      " 31%|██████████████▏                               | 201/650 [02:50<06:33,  1.14it/s]"
     ]
    },
    {
     "name": "stdout",
     "output_type": "stream",
     "text": [
      "\n",
      "Step: 200\n",
      "----------------------------------------------------\n",
      "Original: [ 0 51]\n",
      "Candidate: [ 0  2 51]\n",
      "---------------------------\n",
      "ratio: 1.0\n"
     ]
    },
    {
     "name": "stderr",
     "output_type": "stream",
     "text": [
      "\r",
      " 31%|██████████████▎                               | 202/650 [02:51<06:47,  1.10it/s]"
     ]
    },
    {
     "name": "stdout",
     "output_type": "stream",
     "text": [
      "Original: [ 0  2 51]\n",
      "Candidate: [ 0  2 50]\n",
      "---------------------------\n",
      "ratio: 1.0\n"
     ]
    },
    {
     "name": "stderr",
     "output_type": "stream",
     "text": [
      "\r",
      " 31%|██████████████▎                               | 203/650 [02:52<07:05,  1.05it/s]"
     ]
    },
    {
     "name": "stdout",
     "output_type": "stream",
     "text": [
      "Original: [ 0  2 50]\n",
      "Candidate: [ 0  2 51]\n",
      "---------------------------\n",
      "ratio: 0.888825939900034\n"
     ]
    },
    {
     "name": "stderr",
     "output_type": "stream",
     "text": [
      "\r",
      " 31%|██████████████▍                               | 204/650 [02:53<07:20,  1.01it/s]"
     ]
    },
    {
     "name": "stdout",
     "output_type": "stream",
     "text": [
      "Original: [ 0  2 50]\n",
      "Candidate: [ 0  2 50 54]\n",
      "---------------------------\n",
      "ratio: 0.39557631369378526\n"
     ]
    },
    {
     "name": "stderr",
     "output_type": "stream",
     "text": [
      "\r",
      " 32%|██████████████▌                               | 205/650 [02:54<07:10,  1.03it/s]"
     ]
    },
    {
     "name": "stdout",
     "output_type": "stream",
     "text": [
      "Original: [ 0  2 50]\n",
      "Candidate: [ 0  2 50 65]\n",
      "---------------------------\n",
      "ratio: 0.14312827362351674\n"
     ]
    },
    {
     "name": "stderr",
     "output_type": "stream",
     "text": [
      "\r",
      " 32%|██████████████▌                               | 206/650 [02:55<07:02,  1.05it/s]"
     ]
    },
    {
     "name": "stdout",
     "output_type": "stream",
     "text": [
      "Original: [ 0  2 50]\n",
      "Candidate: [ 0  2 50 69]\n",
      "---------------------------\n",
      "ratio: 0.1237239360775781\n"
     ]
    },
    {
     "name": "stderr",
     "output_type": "stream",
     "text": [
      "\r",
      " 32%|██████████████▋                               | 207/650 [02:56<07:34,  1.03s/it]"
     ]
    },
    {
     "name": "stdout",
     "output_type": "stream",
     "text": [
      "Original: [ 0  2 50 69]\n",
      "Candidate: [ 0  2 50 69 80]\n",
      "---------------------------\n",
      "ratio: 0.15094458232588062\n"
     ]
    },
    {
     "name": "stderr",
     "output_type": "stream",
     "text": [
      "\r",
      " 32%|██████████████▋                               | 208/650 [02:57<07:11,  1.03it/s]"
     ]
    },
    {
     "name": "stdout",
     "output_type": "stream",
     "text": [
      "Original: [ 0  2 50 69 80]\n",
      "Candidate: [ 0  2 32 50 69 80]\n",
      "---------------------------\n",
      "ratio: 0.22794031743120052\n"
     ]
    },
    {
     "name": "stderr",
     "output_type": "stream",
     "text": [
      "\r",
      " 32%|██████████████▊                               | 209/650 [02:58<06:50,  1.07it/s]"
     ]
    },
    {
     "name": "stdout",
     "output_type": "stream",
     "text": [
      "Original: [ 0  2 32 50 69 80]\n",
      "Candidate: [ 0  2 32 42 50 69 80]\n",
      "---------------------------\n",
      "ratio: 0.17214309271775186\n"
     ]
    },
    {
     "name": "stderr",
     "output_type": "stream",
     "text": [
      "\r",
      " 32%|██████████████▊                               | 210/650 [02:59<07:23,  1.01s/it]"
     ]
    },
    {
     "name": "stdout",
     "output_type": "stream",
     "text": [
      "Original: [ 0  2 32 50 69 80]\n",
      "Candidate: [ 0  2 32 50 69 80 81]\n",
      "---------------------------\n",
      "ratio: 0.8205862283978912\n"
     ]
    },
    {
     "name": "stderr",
     "output_type": "stream",
     "text": [
      "\r",
      " 32%|██████████████▉                               | 211/650 [03:00<06:59,  1.05it/s]"
     ]
    },
    {
     "name": "stdout",
     "output_type": "stream",
     "text": [
      "Original: [ 0  2 32 50 69 80 81]\n",
      "Candidate: [ 0  2 32 50 69 81]\n",
      "---------------------------\n",
      "ratio: 1.0\n"
     ]
    },
    {
     "name": "stderr",
     "output_type": "stream",
     "text": [
      "\r",
      " 33%|███████████████                               | 212/650 [03:01<06:43,  1.08it/s]"
     ]
    },
    {
     "name": "stdout",
     "output_type": "stream",
     "text": [
      "Original: [ 0  2 32 50 69 81]\n",
      "Candidate: [ 0  2 32 50 70 81]\n",
      "---------------------------\n",
      "ratio: 1.0\n"
     ]
    },
    {
     "name": "stderr",
     "output_type": "stream",
     "text": [
      "\r",
      " 33%|███████████████                               | 213/650 [03:02<06:44,  1.08it/s]"
     ]
    },
    {
     "name": "stdout",
     "output_type": "stream",
     "text": [
      "Original: [ 0  2 32 50 70 81]\n",
      "Candidate: [ 0  2 32 50 70 82]\n",
      "---------------------------\n",
      "ratio: 1.0\n"
     ]
    },
    {
     "name": "stderr",
     "output_type": "stream",
     "text": [
      "\r",
      " 33%|███████████████▏                              | 214/650 [03:03<07:40,  1.06s/it]"
     ]
    },
    {
     "name": "stdout",
     "output_type": "stream",
     "text": [
      "Original: [ 0  2 32 50 70 82]\n",
      "Candidate: [ 0  2 32 50 69 82]\n",
      "---------------------------\n",
      "ratio: 0.9660223971379324\n"
     ]
    },
    {
     "name": "stderr",
     "output_type": "stream",
     "text": [
      "\r",
      " 33%|███████████████▏                              | 215/650 [03:04<07:30,  1.04s/it]"
     ]
    },
    {
     "name": "stdout",
     "output_type": "stream",
     "text": [
      "Original: [ 0  2 32 50 69 82]\n",
      "Candidate: [ 0  2 32 69 82]\n",
      "---------------------------\n",
      "ratio: 1.0\n"
     ]
    },
    {
     "name": "stderr",
     "output_type": "stream",
     "text": [
      "\r",
      " 33%|███████████████▎                              | 216/650 [03:05<07:22,  1.02s/it]"
     ]
    },
    {
     "name": "stdout",
     "output_type": "stream",
     "text": [
      "Original: [ 0  2 32 69 82]\n",
      "Candidate: [ 0  3 32 69 82]\n",
      "---------------------------\n",
      "ratio: 0.649740767876153\n"
     ]
    },
    {
     "name": "stderr",
     "output_type": "stream",
     "text": [
      "\r",
      " 33%|███████████████▎                              | 217/650 [03:06<06:58,  1.04it/s]"
     ]
    },
    {
     "name": "stdout",
     "output_type": "stream",
     "text": [
      "Original: [ 0  3 32 69 82]\n",
      "Candidate: [ 0  3  4 32 69 82]\n",
      "---------------------------\n",
      "ratio: 0.9970290429344199\n"
     ]
    },
    {
     "name": "stderr",
     "output_type": "stream",
     "text": [
      "\r",
      " 34%|███████████████▍                              | 218/650 [03:07<06:41,  1.08it/s]"
     ]
    },
    {
     "name": "stdout",
     "output_type": "stream",
     "text": [
      "Original: [ 0  3  4 32 69 82]\n",
      "Candidate: [ 0  3  4 32 69 82 85]\n",
      "---------------------------\n",
      "ratio: 0.3800333971276584\n"
     ]
    },
    {
     "name": "stderr",
     "output_type": "stream",
     "text": [
      "\r",
      " 34%|███████████████▍                              | 219/650 [03:08<06:59,  1.03it/s]"
     ]
    },
    {
     "name": "stdout",
     "output_type": "stream",
     "text": [
      "Original: [ 0  3  4 32 69 82 85]\n",
      "Candidate: [ 0  3  4 32 82 85]\n",
      "---------------------------\n",
      "ratio: 1.0\n"
     ]
    },
    {
     "name": "stderr",
     "output_type": "stream",
     "text": [
      "\r",
      " 34%|███████████████▌                              | 220/650 [03:09<06:41,  1.07it/s]"
     ]
    },
    {
     "name": "stdout",
     "output_type": "stream",
     "text": [
      "Original: [ 0  3  4 32 82 85]\n",
      "Candidate: [ 0  3  4 32 83 85]\n",
      "---------------------------\n",
      "ratio: 1.0\n"
     ]
    },
    {
     "name": "stderr",
     "output_type": "stream",
     "text": [
      "\r",
      " 34%|███████████████▋                              | 221/650 [03:10<06:29,  1.10it/s]"
     ]
    },
    {
     "name": "stdout",
     "output_type": "stream",
     "text": [
      "Original: [ 0  3  4 32 83 85]\n",
      "Candidate: [ 0  3  4 32 85]\n",
      "---------------------------\n",
      "ratio: 1.0\n"
     ]
    },
    {
     "name": "stderr",
     "output_type": "stream",
     "text": [
      "\r",
      " 34%|███████████████▋                              | 222/650 [03:11<07:37,  1.07s/it]"
     ]
    },
    {
     "name": "stdout",
     "output_type": "stream",
     "text": [
      "Original: [ 0  3  4 32 85]\n",
      "Candidate: [ 0  3  4 32 52 85]\n",
      "---------------------------\n",
      "ratio: 0.41797936458087054\n"
     ]
    },
    {
     "name": "stderr",
     "output_type": "stream",
     "text": [
      "\r",
      " 34%|███████████████▊                              | 223/650 [03:12<07:35,  1.07s/it]"
     ]
    },
    {
     "name": "stdout",
     "output_type": "stream",
     "text": [
      "Original: [ 0  3  4 32 52 85]\n",
      "Candidate: [ 0  3  4 32 52 84 85]\n",
      "---------------------------\n",
      "ratio: 0.7840094379886118\n"
     ]
    },
    {
     "name": "stderr",
     "output_type": "stream",
     "text": [
      "\r",
      " 34%|███████████████▊                              | 224/650 [03:13<07:48,  1.10s/it]"
     ]
    },
    {
     "name": "stdout",
     "output_type": "stream",
     "text": [
      "Original: [ 0  3  4 32 52 84 85]\n",
      "Candidate: [ 0  3  5 32 52 84 85]\n",
      "---------------------------\n",
      "ratio: 0.4660242169309314\n"
     ]
    },
    {
     "name": "stderr",
     "output_type": "stream",
     "text": [
      "\r",
      " 35%|███████████████▉                              | 225/650 [03:14<07:28,  1.06s/it]"
     ]
    },
    {
     "name": "stdout",
     "output_type": "stream",
     "text": [
      "Original: [ 0  3  5 32 52 84 85]\n",
      "Candidate: [ 0  3  4 32 52 84 85]\n",
      "---------------------------\n",
      "ratio: 1.0\n"
     ]
    },
    {
     "name": "stderr",
     "output_type": "stream",
     "text": [
      "\r",
      " 35%|███████████████▉                              | 226/650 [03:16<07:48,  1.11s/it]"
     ]
    },
    {
     "name": "stdout",
     "output_type": "stream",
     "text": [
      "Original: [ 0  3  4 32 52 84 85]\n",
      "Candidate: [ 0  3  4 32 51 84 85]\n",
      "---------------------------\n",
      "ratio: 1.0\n"
     ]
    },
    {
     "name": "stderr",
     "output_type": "stream",
     "text": [
      "\r",
      " 35%|████████████████                              | 227/650 [03:17<07:47,  1.11s/it]"
     ]
    },
    {
     "name": "stdout",
     "output_type": "stream",
     "text": [
      "Original: [ 0  3  4 32 51 84 85]\n",
      "Candidate: [ 0  3  4 31 51 84 85]\n",
      "---------------------------\n",
      "ratio: 1.0\n"
     ]
    },
    {
     "name": "stderr",
     "output_type": "stream",
     "text": [
      "\r",
      " 35%|████████████████▏                             | 228/650 [03:17<07:12,  1.03s/it]"
     ]
    },
    {
     "name": "stdout",
     "output_type": "stream",
     "text": [
      "Original: [ 0  3  4 31 51 84 85]\n",
      "Candidate: [ 0  3  4 31 51 85]\n",
      "---------------------------\n",
      "ratio: 1.0\n"
     ]
    },
    {
     "name": "stderr",
     "output_type": "stream",
     "text": [
      "\r",
      " 35%|████████████████▏                             | 229/650 [03:18<06:47,  1.03it/s]"
     ]
    },
    {
     "name": "stdout",
     "output_type": "stream",
     "text": [
      "Original: [ 0  3  4 31 51 85]\n",
      "Candidate: [ 0  3  4 31 51 63 85]\n",
      "---------------------------\n",
      "ratio: 0.09206839971085973\n"
     ]
    },
    {
     "name": "stderr",
     "output_type": "stream",
     "text": [
      "\r",
      " 35%|████████████████▎                             | 230/650 [03:19<06:43,  1.04it/s]"
     ]
    },
    {
     "name": "stdout",
     "output_type": "stream",
     "text": [
      "Original: [ 0  3  4 31 51 85]\n",
      "Candidate: [ 0  3  4 31 52 85]\n",
      "---------------------------\n",
      "ratio: 0.8859750618797874\n"
     ]
    },
    {
     "name": "stderr",
     "output_type": "stream",
     "text": [
      "\r",
      " 36%|████████████████▎                             | 231/650 [03:20<06:51,  1.02it/s]"
     ]
    },
    {
     "name": "stdout",
     "output_type": "stream",
     "text": [
      "Original: [ 0  3  4 31 52 85]\n",
      "Candidate: [ 0  3  4 31 85]\n",
      "---------------------------\n",
      "ratio: 1.0\n"
     ]
    },
    {
     "name": "stderr",
     "output_type": "stream",
     "text": [
      "\r",
      " 36%|████████████████▍                             | 232/650 [03:21<06:43,  1.04it/s]"
     ]
    },
    {
     "name": "stdout",
     "output_type": "stream",
     "text": [
      "Original: [ 0  3  4 31 85]\n",
      "Candidate: [ 0  3  4 31 34 85]\n",
      "---------------------------\n",
      "ratio: 0.41226367787480567\n"
     ]
    },
    {
     "name": "stderr",
     "output_type": "stream",
     "text": [
      "\r",
      " 36%|████████████████▍                             | 233/650 [03:22<06:24,  1.08it/s]"
     ]
    },
    {
     "name": "stdout",
     "output_type": "stream",
     "text": [
      "Original: [ 0  3  4 31 85]\n",
      "Candidate: [ 0  3  4 24 31 85]\n",
      "---------------------------\n",
      "ratio: 0.3003190535240761\n"
     ]
    },
    {
     "name": "stderr",
     "output_type": "stream",
     "text": [
      "\r",
      " 36%|████████████████▌                             | 234/650 [03:23<06:32,  1.06it/s]"
     ]
    },
    {
     "name": "stdout",
     "output_type": "stream",
     "text": [
      "Original: [ 0  3  4 24 31 85]\n",
      "Candidate: [ 0  3  4 24 32 85]\n",
      "---------------------------\n",
      "ratio: 0.9509259091726174\n"
     ]
    },
    {
     "name": "stderr",
     "output_type": "stream",
     "text": [
      "\r",
      " 36%|████████████████▋                             | 235/650 [03:24<07:07,  1.03s/it]"
     ]
    },
    {
     "name": "stdout",
     "output_type": "stream",
     "text": [
      "Original: [ 0  3  4 24 32 85]\n",
      "Candidate: [ 0  3  4 23 32 85]\n",
      "---------------------------\n",
      "ratio: 0.8391109459677952\n"
     ]
    },
    {
     "name": "stderr",
     "output_type": "stream",
     "text": [
      "\r",
      " 36%|████████████████▋                             | 236/650 [03:25<06:57,  1.01s/it]"
     ]
    },
    {
     "name": "stdout",
     "output_type": "stream",
     "text": [
      "Original: [ 0  3  4 23 32 85]\n",
      "Candidate: [ 0  3  5 23 32 85]\n",
      "---------------------------\n",
      "ratio: 0.5203971566401147\n"
     ]
    },
    {
     "name": "stderr",
     "output_type": "stream",
     "text": [
      "\r",
      " 36%|████████████████▊                             | 237/650 [03:26<07:16,  1.06s/it]"
     ]
    },
    {
     "name": "stdout",
     "output_type": "stream",
     "text": [
      "Original: [ 0  3  5 23 32 85]\n",
      "Candidate: [ 0  3  6 23 32 85]\n",
      "---------------------------\n",
      "ratio: 0.724403590762881\n"
     ]
    },
    {
     "name": "stderr",
     "output_type": "stream",
     "text": [
      "\r",
      " 37%|████████████████▊                             | 238/650 [03:28<07:35,  1.10s/it]"
     ]
    },
    {
     "name": "stdout",
     "output_type": "stream",
     "text": [
      "Original: [ 0  3  6 23 32 85]\n",
      "Candidate: [ 0  3  5 23 32 85]\n",
      "---------------------------\n",
      "ratio: 1.0\n"
     ]
    },
    {
     "name": "stderr",
     "output_type": "stream",
     "text": [
      "\r",
      " 37%|████████████████▉                             | 239/650 [03:29<07:30,  1.10s/it]"
     ]
    },
    {
     "name": "stdout",
     "output_type": "stream",
     "text": [
      "Original: [ 0  3  5 23 32 85]\n",
      "Candidate: [ 0  3  5 23 32 86]\n",
      "---------------------------\n",
      "ratio: 1.0\n"
     ]
    },
    {
     "name": "stderr",
     "output_type": "stream",
     "text": [
      "\r",
      " 37%|████████████████▉                             | 240/650 [03:30<07:20,  1.07s/it]"
     ]
    },
    {
     "name": "stdout",
     "output_type": "stream",
     "text": [
      "Original: [ 0  3  5 23 32 86]\n",
      "Candidate: [ 0  3  5 23 32 86 92]\n",
      "---------------------------\n",
      "ratio: 0.3102044736482517\n"
     ]
    },
    {
     "name": "stderr",
     "output_type": "stream",
     "text": [
      "\r",
      " 37%|█████████████████                             | 241/650 [03:31<06:49,  1.00s/it]"
     ]
    },
    {
     "name": "stdout",
     "output_type": "stream",
     "text": [
      "Original: [ 0  3  5 23 32 86 92]\n",
      "Candidate: [ 0  3  5  8 23 32 86 92]\n",
      "---------------------------\n",
      "ratio: 0.2555905458528238\n"
     ]
    },
    {
     "name": "stderr",
     "output_type": "stream",
     "text": [
      "\r",
      " 37%|█████████████████▏                            | 242/650 [03:31<06:26,  1.06it/s]"
     ]
    },
    {
     "name": "stdout",
     "output_type": "stream",
     "text": [
      "Original: [ 0  3  5 23 32 86 92]\n",
      "Candidate: [ 0  3  5 23 32 86 93]\n",
      "---------------------------\n",
      "ratio: 1.0\n"
     ]
    },
    {
     "name": "stderr",
     "output_type": "stream",
     "text": [
      "\r",
      " 37%|█████████████████▏                            | 243/650 [03:32<06:09,  1.10it/s]"
     ]
    },
    {
     "name": "stdout",
     "output_type": "stream",
     "text": [
      "Original: [ 0  3  5 23 32 86 93]\n",
      "Candidate: [ 0  3  5  8 23 32 86 93]\n",
      "---------------------------\n",
      "ratio: 0.25198511607242113\n"
     ]
    },
    {
     "name": "stderr",
     "output_type": "stream",
     "text": [
      "\r",
      " 38%|█████████████████▎                            | 244/650 [03:33<05:58,  1.13it/s]"
     ]
    },
    {
     "name": "stdout",
     "output_type": "stream",
     "text": [
      "Original: [ 0  3  5  8 23 32 86 93]\n",
      "Candidate: [ 0  3  5  8 16 23 32 86 93]\n",
      "---------------------------\n",
      "ratio: 0.13976441471568088\n"
     ]
    },
    {
     "name": "stderr",
     "output_type": "stream",
     "text": [
      "\r",
      " 38%|█████████████████▎                            | 245/650 [03:34<05:52,  1.15it/s]"
     ]
    },
    {
     "name": "stdout",
     "output_type": "stream",
     "text": [
      "Original: [ 0  3  5  8 23 32 86 93]\n",
      "Candidate: [ 0  3  5  8 23 32 65 86 93]\n",
      "---------------------------\n",
      "ratio: 0.13377566278306754\n"
     ]
    },
    {
     "name": "stderr",
     "output_type": "stream",
     "text": [
      "\r",
      " 38%|█████████████████▍                            | 246/650 [03:35<06:03,  1.11it/s]"
     ]
    },
    {
     "name": "stdout",
     "output_type": "stream",
     "text": [
      "Original: [ 0  3  5  8 23 32 65 86 93]\n",
      "Candidate: [ 0  3  5  8 23 28 32 65 86 93]\n",
      "---------------------------\n",
      "ratio: 0.23600904589039184\n"
     ]
    },
    {
     "name": "stderr",
     "output_type": "stream",
     "text": [
      "\r",
      " 38%|█████████████████▍                            | 247/650 [03:36<06:24,  1.05it/s]"
     ]
    },
    {
     "name": "stdout",
     "output_type": "stream",
     "text": [
      "Original: [ 0  3  5  8 23 32 65 86 93]\n",
      "Candidate: [ 0  3  5  8 23 33 65 86 93]\n",
      "---------------------------\n",
      "ratio: 0.9433750004590299\n"
     ]
    },
    {
     "name": "stderr",
     "output_type": "stream",
     "text": [
      "\r",
      " 38%|█████████████████▌                            | 248/650 [03:37<06:54,  1.03s/it]"
     ]
    },
    {
     "name": "stdout",
     "output_type": "stream",
     "text": [
      "Original: [ 0  3  5  8 23 33 65 86 93]\n",
      "Candidate: [ 0  3  5  8 23 33 52 65 86 93]\n",
      "---------------------------\n",
      "ratio: 0.12690065352715538\n"
     ]
    },
    {
     "name": "stderr",
     "output_type": "stream",
     "text": [
      "\r",
      " 38%|█████████████████▌                            | 249/650 [03:38<06:55,  1.03s/it]"
     ]
    },
    {
     "name": "stdout",
     "output_type": "stream",
     "text": [
      "Original: [ 0  3  5  8 23 33 65 86 93]\n",
      "Candidate: [ 0  3  5  8 23 33 48 65 86 93]\n",
      "---------------------------\n",
      "ratio: 0.12301327900707515\n"
     ]
    },
    {
     "name": "stderr",
     "output_type": "stream",
     "text": [
      "\r",
      " 38%|█████████████████▋                            | 250/650 [03:39<07:10,  1.08s/it]"
     ]
    },
    {
     "name": "stdout",
     "output_type": "stream",
     "text": [
      "Original: [ 0  3  5  8 23 33 65 86 93]\n",
      "Candidate: [ 0  3  8 23 33 65 86 93]\n",
      "---------------------------\n",
      "ratio: 1.0\n"
     ]
    },
    {
     "name": "stderr",
     "output_type": "stream",
     "text": [
      "\r",
      " 39%|█████████████████▊                            | 251/650 [03:40<07:14,  1.09s/it]"
     ]
    },
    {
     "name": "stdout",
     "output_type": "stream",
     "text": [
      "Original: [ 0  3  8 23 33 65 86 93]\n",
      "Candidate: [ 0  3 23 33 65 86 93]\n",
      "---------------------------\n",
      "ratio: 1.0\n"
     ]
    },
    {
     "name": "stderr",
     "output_type": "stream",
     "text": [
      "\r",
      " 39%|█████████████████▊                            | 252/650 [03:42<07:33,  1.14s/it]"
     ]
    },
    {
     "name": "stdout",
     "output_type": "stream",
     "text": [
      "Original: [ 0  3 23 33 65 86 93]\n",
      "Candidate: [ 0  2 23 33 65 86 93]\n",
      "---------------------------\n",
      "ratio: 1.0\n"
     ]
    },
    {
     "name": "stderr",
     "output_type": "stream",
     "text": [
      "\r",
      " 39%|█████████████████▉                            | 253/650 [03:43<07:29,  1.13s/it]"
     ]
    },
    {
     "name": "stdout",
     "output_type": "stream",
     "text": [
      "Original: [ 0  2 23 33 65 86 93]\n",
      "Candidate: [ 0  2 23 33 65 85 93]\n",
      "---------------------------\n",
      "ratio: 0.9109000650959164\n"
     ]
    },
    {
     "name": "stderr",
     "output_type": "stream",
     "text": [
      "\r",
      " 39%|█████████████████▉                            | 254/650 [03:45<08:49,  1.34s/it]"
     ]
    },
    {
     "name": "stdout",
     "output_type": "stream",
     "text": [
      "Original: [ 0  2 23 33 65 85 93]\n",
      "Candidate: [ 0  2 14 23 33 65 85 93]\n",
      "---------------------------\n",
      "ratio: 0.117354637786869\n"
     ]
    },
    {
     "name": "stderr",
     "output_type": "stream",
     "text": [
      "\r",
      " 39%|██████████████████                            | 255/650 [03:47<09:53,  1.50s/it]"
     ]
    },
    {
     "name": "stdout",
     "output_type": "stream",
     "text": [
      "Original: [ 0  2 23 33 65 85 93]\n",
      "Candidate: [ 0  2 23 25 33 65 85 93]\n",
      "---------------------------\n",
      "ratio: 0.4990899494701507\n"
     ]
    },
    {
     "name": "stderr",
     "output_type": "stream",
     "text": [
      "\r",
      " 39%|██████████████████                            | 256/650 [03:48<09:54,  1.51s/it]"
     ]
    },
    {
     "name": "stdout",
     "output_type": "stream",
     "text": [
      "Original: [ 0  2 23 25 33 65 85 93]\n",
      "Candidate: [ 0  2 23 25 33 65 85]\n",
      "---------------------------\n",
      "ratio: 1.0\n"
     ]
    },
    {
     "name": "stderr",
     "output_type": "stream",
     "text": [
      "\r",
      " 40%|██████████████████▏                           | 257/650 [03:50<10:37,  1.62s/it]"
     ]
    },
    {
     "name": "stdout",
     "output_type": "stream",
     "text": [
      "Original: [ 0  2 23 25 33 65 85]\n",
      "Candidate: [ 0  2 23 25 33 65 86]\n",
      "---------------------------\n",
      "ratio: 1.0\n"
     ]
    },
    {
     "name": "stderr",
     "output_type": "stream",
     "text": [
      "\r",
      " 40%|██████████████████▎                           | 258/650 [03:52<11:14,  1.72s/it]"
     ]
    },
    {
     "name": "stdout",
     "output_type": "stream",
     "text": [
      "Original: [ 0  2 23 25 33 65 86]\n",
      "Candidate: [ 0  2 23 25 33 55 65 86]\n",
      "---------------------------\n",
      "ratio: 0.14801160059526758\n"
     ]
    },
    {
     "name": "stderr",
     "output_type": "stream",
     "text": [
      "\r",
      " 40%|██████████████████▎                           | 259/650 [03:53<10:07,  1.55s/it]"
     ]
    },
    {
     "name": "stdout",
     "output_type": "stream",
     "text": [
      "Original: [ 0  2 23 25 33 65 86]\n",
      "Candidate: [ 0  3 23 25 33 65 86]\n",
      "---------------------------\n",
      "ratio: 0.6016105351554193\n"
     ]
    },
    {
     "name": "stderr",
     "output_type": "stream",
     "text": [
      "\r",
      " 40%|██████████████████▍                           | 260/650 [03:55<10:01,  1.54s/it]"
     ]
    },
    {
     "name": "stdout",
     "output_type": "stream",
     "text": [
      "Original: [ 0  3 23 25 33 65 86]\n",
      "Candidate: [ 0  3 23 25 33 64 86]\n",
      "---------------------------\n",
      "ratio: 1.0\n"
     ]
    },
    {
     "name": "stderr",
     "output_type": "stream",
     "text": [
      "\r",
      " 40%|██████████████████▍                           | 261/650 [03:56<09:34,  1.48s/it]"
     ]
    },
    {
     "name": "stdout",
     "output_type": "stream",
     "text": [
      "Original: [ 0  3 23 25 33 64 86]\n",
      "Candidate: [ 0  3 23 25 34 64 86]\n",
      "---------------------------\n",
      "ratio: 0.9334813198744154\n"
     ]
    },
    {
     "name": "stderr",
     "output_type": "stream",
     "text": [
      "\r",
      " 40%|██████████████████▌                           | 262/650 [03:57<09:13,  1.43s/it]"
     ]
    },
    {
     "name": "stdout",
     "output_type": "stream",
     "text": [
      "Original: [ 0  3 23 25 34 64 86]\n",
      "Candidate: [ 0  3 23 25 34 86]\n",
      "---------------------------\n",
      "ratio: 1.0\n"
     ]
    },
    {
     "name": "stderr",
     "output_type": "stream",
     "text": [
      "\r",
      " 40%|██████████████████▌                           | 263/650 [03:58<08:33,  1.33s/it]"
     ]
    },
    {
     "name": "stdout",
     "output_type": "stream",
     "text": [
      "Original: [ 0  3 23 25 34 86]\n",
      "Candidate: [ 0  3 22 25 34 86]\n",
      "---------------------------\n",
      "ratio: 0.6919233789945914\n"
     ]
    },
    {
     "name": "stderr",
     "output_type": "stream",
     "text": [
      "\r",
      " 41%|██████████████████▋                           | 264/650 [03:59<08:18,  1.29s/it]"
     ]
    },
    {
     "name": "stdout",
     "output_type": "stream",
     "text": [
      "Original: [ 0  3 22 25 34 86]\n",
      "Candidate: [ 0  3 15 22 25 34 86]\n",
      "---------------------------\n",
      "ratio: 0.16175232629946437\n"
     ]
    },
    {
     "name": "stderr",
     "output_type": "stream",
     "text": [
      "\r",
      " 41%|██████████████████▊                           | 265/650 [04:01<07:53,  1.23s/it]"
     ]
    },
    {
     "name": "stdout",
     "output_type": "stream",
     "text": [
      "Original: [ 0  3 15 22 25 34 86]\n",
      "Candidate: [ 0  3 14 15 22 25 34 86]\n",
      "---------------------------\n",
      "ratio: 0.7184944210145412\n"
     ]
    },
    {
     "name": "stderr",
     "output_type": "stream",
     "text": [
      "\r",
      " 41%|██████████████████▊                           | 266/650 [04:02<07:53,  1.23s/it]"
     ]
    },
    {
     "name": "stdout",
     "output_type": "stream",
     "text": [
      "Original: [ 0  3 14 15 22 25 34 86]\n",
      "Candidate: [ 0  3 14 15 22 25 35 86]\n",
      "---------------------------\n",
      "ratio: 0.9856376046715681\n"
     ]
    },
    {
     "name": "stderr",
     "output_type": "stream",
     "text": [
      "\r",
      " 41%|██████████████████▉                           | 267/650 [04:03<07:44,  1.21s/it]"
     ]
    },
    {
     "name": "stdout",
     "output_type": "stream",
     "text": [
      "Original: [ 0  3 14 15 22 25 35 86]\n",
      "Candidate: [ 0  3 14 15 22 25 86]\n",
      "---------------------------\n",
      "ratio: 1.0\n"
     ]
    },
    {
     "name": "stderr",
     "output_type": "stream",
     "text": [
      "\r",
      " 41%|██████████████████▉                           | 268/650 [04:04<07:22,  1.16s/it]"
     ]
    },
    {
     "name": "stdout",
     "output_type": "stream",
     "text": [
      "Original: [ 0  3 14 15 22 25 86]\n",
      "Candidate: [ 0  3 14 15 22 25 32 86]\n",
      "---------------------------\n",
      "ratio: 0.14875983470224757\n"
     ]
    },
    {
     "name": "stderr",
     "output_type": "stream",
     "text": [
      "\r",
      " 41%|███████████████████                           | 269/650 [04:06<08:07,  1.28s/it]"
     ]
    },
    {
     "name": "stdout",
     "output_type": "stream",
     "text": [
      "Original: [ 0  3 14 15 22 25 86]\n",
      "Candidate: [ 0  3 14 15 22 25]\n",
      "---------------------------\n",
      "ratio: 1.0\n"
     ]
    },
    {
     "name": "stderr",
     "output_type": "stream",
     "text": [
      "\r",
      " 42%|███████████████████                           | 270/650 [04:07<07:59,  1.26s/it]"
     ]
    },
    {
     "name": "stdout",
     "output_type": "stream",
     "text": [
      "Original: [ 0  3 14 15 22 25]\n",
      "Candidate: [ 0  2 14 15 22 25]\n",
      "---------------------------\n",
      "ratio: 1.0\n"
     ]
    },
    {
     "name": "stderr",
     "output_type": "stream",
     "text": [
      "\r",
      " 42%|███████████████████▏                          | 271/650 [04:08<07:10,  1.14s/it]"
     ]
    },
    {
     "name": "stdout",
     "output_type": "stream",
     "text": [
      "Original: [ 0  2 14 15 22 25]\n",
      "Candidate: [ 0  2 14 15 22 25 78]\n",
      "---------------------------\n",
      "ratio: 0.05749269424467211\n"
     ]
    },
    {
     "name": "stderr",
     "output_type": "stream",
     "text": [
      "\r",
      " 42%|███████████████████▏                          | 272/650 [04:08<06:34,  1.04s/it]"
     ]
    },
    {
     "name": "stdout",
     "output_type": "stream",
     "text": [
      "Original: [ 0  2 14 15 22 25]\n",
      "Candidate: [ 0  2 14 15 22 25 76]\n",
      "---------------------------\n",
      "ratio: 0.05787324142045654\n"
     ]
    },
    {
     "name": "stderr",
     "output_type": "stream",
     "text": [
      "\r",
      " 42%|███████████████████▎                          | 273/650 [04:09<06:07,  1.03it/s]"
     ]
    },
    {
     "name": "stdout",
     "output_type": "stream",
     "text": [
      "Original: [ 0  2 14 15 22 25]\n",
      "Candidate: [ 0  2 14 15 22 26]\n",
      "---------------------------\n",
      "ratio: 0.7496680030890044\n"
     ]
    },
    {
     "name": "stderr",
     "output_type": "stream",
     "text": [
      "\r",
      " 42%|███████████████████▍                          | 274/650 [04:10<05:53,  1.06it/s]"
     ]
    },
    {
     "name": "stdout",
     "output_type": "stream",
     "text": [
      "Original: [ 0  2 14 15 22 26]\n",
      "Candidate: [ 0  2 14 15 21 26]\n",
      "---------------------------\n",
      "ratio: 0.9260157240258915\n"
     ]
    },
    {
     "name": "stderr",
     "output_type": "stream",
     "text": [
      "\r",
      " 42%|███████████████████▍                          | 275/650 [04:11<05:40,  1.10it/s]"
     ]
    },
    {
     "name": "stdout",
     "output_type": "stream",
     "text": [
      "Original: [ 0  2 14 15 21 26]\n",
      "Candidate: [ 0  2 13 15 21 26]\n",
      "---------------------------\n",
      "ratio: 0.5243591553465766\n"
     ]
    },
    {
     "name": "stderr",
     "output_type": "stream",
     "text": [
      "\r",
      " 42%|███████████████████▌                          | 276/650 [04:12<05:28,  1.14it/s]"
     ]
    },
    {
     "name": "stdout",
     "output_type": "stream",
     "text": [
      "Original: [ 0  2 13 15 21 26]\n",
      "Candidate: [ 0  2 13 15 21 26 53]\n",
      "---------------------------\n",
      "ratio: 0.3031759920519053\n"
     ]
    },
    {
     "name": "stderr",
     "output_type": "stream",
     "text": [
      "\r",
      " 43%|███████████████████▌                          | 277/650 [04:13<05:19,  1.17it/s]"
     ]
    },
    {
     "name": "stdout",
     "output_type": "stream",
     "text": [
      "Original: [ 0  2 13 15 21 26]\n",
      "Candidate: [ 0  2 13 15 21]\n",
      "---------------------------\n",
      "ratio: 1.0\n"
     ]
    },
    {
     "name": "stderr",
     "output_type": "stream",
     "text": [
      "\r",
      " 43%|███████████████████▋                          | 278/650 [04:13<05:12,  1.19it/s]"
     ]
    },
    {
     "name": "stdout",
     "output_type": "stream",
     "text": [
      "Original: [ 0  2 13 15 21]\n",
      "Candidate: [ 0  2 13 15]\n",
      "---------------------------\n",
      "ratio: 1.0\n"
     ]
    },
    {
     "name": "stderr",
     "output_type": "stream",
     "text": [
      "\r",
      " 43%|███████████████████▋                          | 279/650 [04:14<05:07,  1.21it/s]"
     ]
    },
    {
     "name": "stdout",
     "output_type": "stream",
     "text": [
      "Original: [ 0  2 13 15]\n",
      "Candidate: [ 0  2 13]\n",
      "---------------------------\n",
      "ratio: 1.0\n"
     ]
    },
    {
     "name": "stderr",
     "output_type": "stream",
     "text": [
      "\r",
      " 43%|███████████████████▊                          | 280/650 [04:15<05:05,  1.21it/s]"
     ]
    },
    {
     "name": "stdout",
     "output_type": "stream",
     "text": [
      "Original: [ 0  2 13]\n",
      "Candidate: [ 0  1 13]\n",
      "---------------------------\n",
      "ratio: 1.0\n"
     ]
    },
    {
     "name": "stderr",
     "output_type": "stream",
     "text": [
      "\r",
      " 43%|███████████████████▉                          | 281/650 [04:16<05:03,  1.22it/s]"
     ]
    },
    {
     "name": "stdout",
     "output_type": "stream",
     "text": [
      "Original: [ 0  1 13]\n",
      "Candidate: [ 0  2 13]\n",
      "---------------------------\n",
      "ratio: 0.5749098924529102\n"
     ]
    },
    {
     "name": "stderr",
     "output_type": "stream",
     "text": [
      "\r",
      " 43%|███████████████████▉                          | 282/650 [04:17<05:02,  1.22it/s]"
     ]
    },
    {
     "name": "stdout",
     "output_type": "stream",
     "text": [
      "Original: [ 0  2 13]\n",
      "Candidate: [ 0  2 14]\n",
      "---------------------------\n",
      "ratio: 1.0\n"
     ]
    },
    {
     "name": "stderr",
     "output_type": "stream",
     "text": [
      "\r",
      " 44%|████████████████████                          | 283/650 [04:17<04:59,  1.23it/s]"
     ]
    },
    {
     "name": "stdout",
     "output_type": "stream",
     "text": [
      "Original: [ 0  2 14]\n",
      "Candidate: [0 2]\n",
      "---------------------------\n",
      "ratio: 1.0\n"
     ]
    },
    {
     "name": "stderr",
     "output_type": "stream",
     "text": [
      "\r",
      " 44%|████████████████████                          | 284/650 [04:18<04:57,  1.23it/s]"
     ]
    },
    {
     "name": "stdout",
     "output_type": "stream",
     "text": [
      "Original: [0 2]\n",
      "Candidate: [ 0  2 24]\n",
      "---------------------------\n",
      "ratio: 1.0\n"
     ]
    },
    {
     "name": "stderr",
     "output_type": "stream",
     "text": [
      "\r",
      " 44%|████████████████████▏                         | 285/650 [04:19<04:55,  1.24it/s]"
     ]
    },
    {
     "name": "stdout",
     "output_type": "stream",
     "text": [
      "Original: [ 0  2 24]\n",
      "Candidate: [ 0  2 24 56]\n",
      "---------------------------\n",
      "ratio: 0.4685353801960185\n"
     ]
    },
    {
     "name": "stderr",
     "output_type": "stream",
     "text": [
      "\r",
      " 44%|████████████████████▏                         | 286/650 [04:20<04:54,  1.24it/s]"
     ]
    },
    {
     "name": "stdout",
     "output_type": "stream",
     "text": [
      "Original: [ 0  2 24]\n",
      "Candidate: [ 0  2 25]\n",
      "---------------------------\n",
      "ratio: 1.0\n"
     ]
    },
    {
     "name": "stderr",
     "output_type": "stream",
     "text": [
      "\r",
      " 44%|████████████████████▎                         | 287/650 [04:21<04:56,  1.22it/s]"
     ]
    },
    {
     "name": "stdout",
     "output_type": "stream",
     "text": [
      "Original: [ 0  2 25]\n",
      "Candidate: [ 0  2 25 88]\n",
      "---------------------------\n",
      "ratio: 0.17673272909100018\n"
     ]
    },
    {
     "name": "stderr",
     "output_type": "stream",
     "text": [
      "\r",
      " 44%|████████████████████▍                         | 288/650 [04:22<04:55,  1.23it/s]"
     ]
    },
    {
     "name": "stdout",
     "output_type": "stream",
     "text": [
      "Original: [ 0  2 25]\n",
      "Candidate: [ 0  3 25]\n",
      "---------------------------\n",
      "ratio: 0.642424686454723\n"
     ]
    },
    {
     "name": "stderr",
     "output_type": "stream",
     "text": [
      "\r",
      " 44%|████████████████████▍                         | 289/650 [04:22<04:52,  1.23it/s]"
     ]
    },
    {
     "name": "stdout",
     "output_type": "stream",
     "text": [
      "Original: [ 0  3 25]\n",
      "Candidate: [ 0  3 25 28]\n",
      "---------------------------\n",
      "ratio: 0.6387503459723828\n"
     ]
    },
    {
     "name": "stderr",
     "output_type": "stream",
     "text": [
      "\r",
      " 45%|████████████████████▌                         | 290/650 [04:23<04:55,  1.22it/s]"
     ]
    },
    {
     "name": "stdout",
     "output_type": "stream",
     "text": [
      "Original: [ 0  3 25]\n",
      "Candidate: [0 3]\n",
      "---------------------------\n",
      "ratio: 0.33961776066456767\n"
     ]
    },
    {
     "name": "stderr",
     "output_type": "stream",
     "text": [
      "\r",
      " 45%|████████████████████▌                         | 291/650 [04:24<05:21,  1.12it/s]"
     ]
    },
    {
     "name": "stdout",
     "output_type": "stream",
     "text": [
      "Original: [ 0  3 25]\n",
      "Candidate: [ 0  3  4 25]\n",
      "---------------------------\n",
      "ratio: 1.0\n"
     ]
    },
    {
     "name": "stderr",
     "output_type": "stream",
     "text": [
      "\r",
      " 45%|████████████████████▋                         | 292/650 [04:25<05:53,  1.01it/s]"
     ]
    },
    {
     "name": "stdout",
     "output_type": "stream",
     "text": [
      "Original: [ 0  3  4 25]\n",
      "Candidate: [ 0  3  4 26]\n",
      "---------------------------\n",
      "ratio: 0.8904572272123394\n"
     ]
    },
    {
     "name": "stderr",
     "output_type": "stream",
     "text": [
      "\r",
      " 45%|████████████████████▋                         | 293/650 [04:26<05:58,  1.00s/it]"
     ]
    },
    {
     "name": "stdout",
     "output_type": "stream",
     "text": [
      "Original: [ 0  3  4 26]\n",
      "Candidate: [0 3 4]\n",
      "---------------------------\n",
      "ratio: 0.588209161057236\n"
     ]
    },
    {
     "name": "stderr",
     "output_type": "stream",
     "text": [
      "\r",
      " 45%|████████████████████▊                         | 294/650 [04:27<05:40,  1.04it/s]"
     ]
    },
    {
     "name": "stdout",
     "output_type": "stream",
     "text": [
      "Original: [ 0  3  4 26]\n",
      "Candidate: [ 0  3  4 26 87]\n",
      "---------------------------\n",
      "ratio: 0.3762510267028996\n"
     ]
    },
    {
     "name": "stderr",
     "output_type": "stream",
     "text": [
      "\r",
      " 45%|████████████████████▉                         | 295/650 [04:28<05:24,  1.09it/s]"
     ]
    },
    {
     "name": "stdout",
     "output_type": "stream",
     "text": [
      "Original: [ 0  3  4 26 87]\n",
      "Candidate: [ 0  3  4 26 88]\n",
      "---------------------------\n",
      "ratio: 1.0\n"
     ]
    },
    {
     "name": "stderr",
     "output_type": "stream",
     "text": [
      "\r",
      " 46%|████████████████████▉                         | 296/650 [04:30<06:21,  1.08s/it]"
     ]
    },
    {
     "name": "stdout",
     "output_type": "stream",
     "text": [
      "Original: [ 0  3  4 26 88]\n",
      "Candidate: [ 0  3  4 88]\n",
      "---------------------------\n",
      "ratio: 0.6528662512017326\n"
     ]
    },
    {
     "name": "stderr",
     "output_type": "stream",
     "text": [
      "\r",
      " 46%|█████████████████████                         | 297/650 [04:30<05:54,  1.01s/it]"
     ]
    },
    {
     "name": "stdout",
     "output_type": "stream",
     "text": [
      "Original: [ 0  3  4 88]\n",
      "Candidate: [ 0  3  4 88 93]\n",
      "---------------------------\n",
      "ratio: 0.3381565495520554\n"
     ]
    },
    {
     "name": "stderr",
     "output_type": "stream",
     "text": [
      "\r",
      " 46%|█████████████████████                         | 298/650 [04:31<05:32,  1.06it/s]"
     ]
    },
    {
     "name": "stdout",
     "output_type": "stream",
     "text": [
      "Original: [ 0  3  4 88 93]\n",
      "Candidate: [ 0  3  4 88 92]\n",
      "---------------------------\n",
      "ratio: 1.0\n"
     ]
    },
    {
     "name": "stderr",
     "output_type": "stream",
     "text": [
      "\r",
      " 46%|█████████████████████▏                        | 299/650 [04:32<05:16,  1.11it/s]"
     ]
    },
    {
     "name": "stdout",
     "output_type": "stream",
     "text": [
      "Original: [ 0  3  4 88 92]\n",
      "Candidate: [ 0  3  4 69 88 92]\n",
      "---------------------------\n",
      "ratio: 0.26116317930843\n"
     ]
    },
    {
     "name": "stderr",
     "output_type": "stream",
     "text": [
      "\r",
      " 46%|█████████████████████▏                        | 300/650 [04:33<05:07,  1.14it/s]"
     ]
    },
    {
     "name": "stdout",
     "output_type": "stream",
     "text": [
      "Original: [ 0  3  4 88 92]\n",
      "Candidate: [ 0  2  4 88 92]\n",
      "---------------------------\n",
      "ratio: 0.7883753748887729\n"
     ]
    },
    {
     "name": "stderr",
     "output_type": "stream",
     "text": [
      "\r",
      " 46%|█████████████████████▎                        | 301/650 [04:34<04:58,  1.17it/s]"
     ]
    },
    {
     "name": "stdout",
     "output_type": "stream",
     "text": [
      "\n",
      "Step: 300\n",
      "----------------------------------------------------\n",
      "Original: [ 0  3  4 88 92]\n",
      "Candidate: [ 0  3  4 92]\n",
      "---------------------------\n",
      "ratio: 1.0\n"
     ]
    },
    {
     "name": "stderr",
     "output_type": "stream",
     "text": [
      "\r",
      " 46%|█████████████████████▎                        | 302/650 [04:34<04:51,  1.19it/s]"
     ]
    },
    {
     "name": "stdout",
     "output_type": "stream",
     "text": [
      "Original: [ 0  3  4 92]\n",
      "Candidate: [ 0  3 92]\n",
      "---------------------------\n",
      "ratio: 0.40824813181964875\n"
     ]
    },
    {
     "name": "stderr",
     "output_type": "stream",
     "text": [
      "\r",
      " 47%|█████████████████████▍                        | 303/650 [04:35<04:50,  1.19it/s]"
     ]
    },
    {
     "name": "stdout",
     "output_type": "stream",
     "text": [
      "Original: [ 0  3 92]\n",
      "Candidate: [ 0  3 93]\n",
      "---------------------------\n",
      "ratio: 0.9101751839295359\n"
     ]
    },
    {
     "name": "stderr",
     "output_type": "stream",
     "text": [
      "\r",
      " 47%|█████████████████████▌                        | 304/650 [04:36<04:50,  1.19it/s]"
     ]
    },
    {
     "name": "stdout",
     "output_type": "stream",
     "text": [
      "Original: [ 0  3 93]\n",
      "Candidate: [ 0  3 25 93]\n",
      "---------------------------\n",
      "ratio: 1.0\n"
     ]
    },
    {
     "name": "stderr",
     "output_type": "stream",
     "text": [
      "\r",
      " 47%|█████████████████████▌                        | 305/650 [04:37<04:48,  1.19it/s]"
     ]
    },
    {
     "name": "stdout",
     "output_type": "stream",
     "text": [
      "Original: [ 0  3 25 93]\n",
      "Candidate: [ 0 25 93]\n",
      "---------------------------\n",
      "ratio: 1.0\n"
     ]
    },
    {
     "name": "stderr",
     "output_type": "stream",
     "text": [
      "\r",
      " 47%|█████████████████████▋                        | 306/650 [04:38<04:49,  1.19it/s]"
     ]
    },
    {
     "name": "stdout",
     "output_type": "stream",
     "text": [
      "Original: [ 0 25 93]\n",
      "Candidate: [ 0 19 25 93]\n",
      "---------------------------\n",
      "ratio: 0.3265465847861876\n"
     ]
    },
    {
     "name": "stderr",
     "output_type": "stream",
     "text": [
      "\r",
      " 47%|█████████████████████▋                        | 307/650 [04:39<04:54,  1.17it/s]"
     ]
    },
    {
     "name": "stdout",
     "output_type": "stream",
     "text": [
      "Original: [ 0 25 93]\n",
      "Candidate: [ 0 25 35 93]\n",
      "---------------------------\n",
      "ratio: 0.3825354418604493\n"
     ]
    },
    {
     "name": "stderr",
     "output_type": "stream",
     "text": [
      "\r",
      " 47%|█████████████████████▊                        | 308/650 [04:40<05:34,  1.02it/s]"
     ]
    },
    {
     "name": "stdout",
     "output_type": "stream",
     "text": [
      "Original: [ 0 25 35 93]\n",
      "Candidate: [ 0 25 35 60 93]\n",
      "---------------------------\n",
      "ratio: 0.18993848564374038\n"
     ]
    },
    {
     "name": "stderr",
     "output_type": "stream",
     "text": [
      "\r",
      " 48%|█████████████████████▊                        | 309/650 [04:41<05:16,  1.08it/s]"
     ]
    },
    {
     "name": "stdout",
     "output_type": "stream",
     "text": [
      "Original: [ 0 25 35 93]\n",
      "Candidate: [ 0 25 35 94]\n",
      "---------------------------\n",
      "ratio: 0.9395073261776197\n"
     ]
    },
    {
     "name": "stderr",
     "output_type": "stream",
     "text": [
      "\r",
      " 48%|█████████████████████▉                        | 310/650 [04:42<05:05,  1.11it/s]"
     ]
    },
    {
     "name": "stdout",
     "output_type": "stream",
     "text": [
      "Original: [ 0 25 35 94]\n",
      "Candidate: [ 0 25 35]\n",
      "---------------------------\n",
      "ratio: 1.0\n"
     ]
    },
    {
     "name": "stderr",
     "output_type": "stream",
     "text": [
      "\r",
      " 48%|██████████████████████                        | 311/650 [04:43<05:25,  1.04it/s]"
     ]
    },
    {
     "name": "stdout",
     "output_type": "stream",
     "text": [
      "Original: [ 0 25 35]\n",
      "Candidate: [ 0 35]\n",
      "---------------------------\n",
      "ratio: 1.0\n"
     ]
    },
    {
     "name": "stderr",
     "output_type": "stream",
     "text": [
      "\r",
      " 48%|██████████████████████                        | 312/650 [04:44<05:12,  1.08it/s]"
     ]
    },
    {
     "name": "stdout",
     "output_type": "stream",
     "text": [
      "Original: [ 0 35]\n",
      "Candidate: [0]\n",
      "---------------------------\n",
      "ratio: 0.48677092744740447\n"
     ]
    },
    {
     "name": "stderr",
     "output_type": "stream",
     "text": [
      "\r",
      " 48%|██████████████████████▏                       | 313/650 [04:45<05:30,  1.02it/s]"
     ]
    },
    {
     "name": "stdout",
     "output_type": "stream",
     "text": [
      "Original: [0]\n",
      "Candidate: [ 0 67]\n",
      "---------------------------\n",
      "ratio: 0.440551585427446\n"
     ]
    },
    {
     "name": "stderr",
     "output_type": "stream",
     "text": [
      "\r",
      " 48%|██████████████████████▏                       | 314/650 [04:45<05:12,  1.08it/s]"
     ]
    },
    {
     "name": "stdout",
     "output_type": "stream",
     "text": [
      "Original: [ 0 67]\n",
      "Candidate: [ 0 66]\n",
      "---------------------------\n",
      "ratio: 1.0\n"
     ]
    },
    {
     "name": "stderr",
     "output_type": "stream",
     "text": [
      "\r",
      " 48%|██████████████████████▎                       | 315/650 [04:46<04:59,  1.12it/s]"
     ]
    },
    {
     "name": "stdout",
     "output_type": "stream",
     "text": [
      "Original: [ 0 66]\n",
      "Candidate: [0]\n",
      "---------------------------\n",
      "ratio: 0.4978594434883726\n"
     ]
    },
    {
     "name": "stderr",
     "output_type": "stream",
     "text": [
      "\r",
      " 49%|██████████████████████▎                       | 316/650 [04:47<04:52,  1.14it/s]"
     ]
    },
    {
     "name": "stdout",
     "output_type": "stream",
     "text": [
      "Original: [0]\n",
      "Candidate: [ 0 48]\n",
      "---------------------------\n",
      "ratio: 1.0\n"
     ]
    },
    {
     "name": "stderr",
     "output_type": "stream",
     "text": [
      "\r",
      " 49%|██████████████████████▍                       | 317/650 [04:48<04:48,  1.15it/s]"
     ]
    },
    {
     "name": "stdout",
     "output_type": "stream",
     "text": [
      "Original: [ 0 48]\n",
      "Candidate: [0]\n",
      "---------------------------\n",
      "ratio: 0.4329522371400742\n"
     ]
    },
    {
     "name": "stderr",
     "output_type": "stream",
     "text": [
      "\r",
      " 49%|██████████████████████▌                       | 318/650 [04:49<04:44,  1.16it/s]"
     ]
    },
    {
     "name": "stdout",
     "output_type": "stream",
     "text": [
      "Original: [ 0 48]\n",
      "Candidate: [ 0 49]\n",
      "---------------------------\n",
      "ratio: 1.0\n"
     ]
    },
    {
     "name": "stderr",
     "output_type": "stream",
     "text": [
      "\r",
      " 49%|██████████████████████▌                       | 319/650 [04:50<04:41,  1.17it/s]"
     ]
    },
    {
     "name": "stdout",
     "output_type": "stream",
     "text": [
      "Original: [ 0 49]\n",
      "Candidate: [0]\n",
      "---------------------------\n",
      "ratio: 0.4902762742817568\n"
     ]
    },
    {
     "name": "stderr",
     "output_type": "stream",
     "text": [
      "\r",
      " 49%|██████████████████████▋                       | 320/650 [04:50<04:38,  1.19it/s]"
     ]
    },
    {
     "name": "stdout",
     "output_type": "stream",
     "text": [
      "Original: [ 0 49]\n",
      "Candidate: [ 0  4 49]\n",
      "---------------------------\n",
      "ratio: 0.8307146581311687\n"
     ]
    },
    {
     "name": "stderr",
     "output_type": "stream",
     "text": [
      "\r",
      " 49%|██████████████████████▋                       | 321/650 [04:51<04:33,  1.20it/s]"
     ]
    },
    {
     "name": "stdout",
     "output_type": "stream",
     "text": [
      "Original: [ 0 49]\n",
      "Candidate: [0]\n",
      "---------------------------\n",
      "ratio: 0.28424094440220904\n"
     ]
    },
    {
     "name": "stderr",
     "output_type": "stream",
     "text": [
      "\r",
      " 50%|██████████████████████▊                       | 322/650 [04:52<04:28,  1.22it/s]"
     ]
    },
    {
     "name": "stdout",
     "output_type": "stream",
     "text": [
      "Original: [0]\n",
      "Candidate: [ 0 33]\n",
      "---------------------------\n",
      "ratio: 1.0\n"
     ]
    },
    {
     "name": "stderr",
     "output_type": "stream",
     "text": [
      "\r",
      " 50%|██████████████████████▊                       | 323/650 [04:53<04:26,  1.23it/s]"
     ]
    },
    {
     "name": "stdout",
     "output_type": "stream",
     "text": [
      "Original: [ 0 33]\n",
      "Candidate: [0]\n",
      "---------------------------\n",
      "ratio: 0.42756973589399266\n"
     ]
    },
    {
     "name": "stderr",
     "output_type": "stream",
     "text": [
      "\r",
      " 50%|██████████████████████▉                       | 324/650 [04:54<04:24,  1.23it/s]"
     ]
    },
    {
     "name": "stdout",
     "output_type": "stream",
     "text": [
      "Original: [ 0 33]\n",
      "Candidate: [ 0 33 61]\n",
      "---------------------------\n",
      "ratio: 0.6755805336641039\n"
     ]
    },
    {
     "name": "stderr",
     "output_type": "stream",
     "text": [
      "\r",
      " 50%|███████████████████████                       | 325/650 [04:54<04:22,  1.24it/s]"
     ]
    },
    {
     "name": "stdout",
     "output_type": "stream",
     "text": [
      "Original: [ 0 33]\n",
      "Candidate: [ 0 33 70]\n",
      "---------------------------\n",
      "ratio: 0.3044537630791858\n"
     ]
    },
    {
     "name": "stderr",
     "output_type": "stream",
     "text": [
      "\r",
      " 50%|███████████████████████                       | 326/650 [04:56<04:47,  1.13it/s]"
     ]
    },
    {
     "name": "stdout",
     "output_type": "stream",
     "text": [
      "Original: [ 0 33]\n",
      "Candidate: [ 0 33 39]\n",
      "---------------------------\n",
      "ratio: 0.7797043087183038\n"
     ]
    },
    {
     "name": "stderr",
     "output_type": "stream",
     "text": [
      "\r",
      " 50%|███████████████████████▏                      | 327/650 [04:56<04:41,  1.15it/s]"
     ]
    },
    {
     "name": "stdout",
     "output_type": "stream",
     "text": [
      "Original: [ 0 33]\n",
      "Candidate: [ 0 33 86]\n",
      "---------------------------\n",
      "ratio: 0.23081080325660355\n"
     ]
    },
    {
     "name": "stderr",
     "output_type": "stream",
     "text": [
      "\r",
      " 50%|███████████████████████▏                      | 328/650 [04:57<04:36,  1.16it/s]"
     ]
    },
    {
     "name": "stdout",
     "output_type": "stream",
     "text": [
      "Original: [ 0 33]\n",
      "Candidate: [ 0 17 33]\n",
      "---------------------------\n",
      "ratio: 0.33729249471578754\n"
     ]
    },
    {
     "name": "stderr",
     "output_type": "stream",
     "text": [
      "\r",
      " 51%|███████████████████████▎                      | 329/650 [04:58<04:31,  1.18it/s]"
     ]
    },
    {
     "name": "stdout",
     "output_type": "stream",
     "text": [
      "Original: [ 0 33]\n",
      "Candidate: [ 0 11 33]\n",
      "---------------------------\n",
      "ratio: 0.36909463038829127\n"
     ]
    },
    {
     "name": "stderr",
     "output_type": "stream",
     "text": [
      "\r",
      " 51%|███████████████████████▎                      | 330/650 [04:59<04:28,  1.19it/s]"
     ]
    },
    {
     "name": "stdout",
     "output_type": "stream",
     "text": [
      "Original: [ 0 33]\n",
      "Candidate: [0]\n",
      "---------------------------\n",
      "ratio: 0.33628935525996867\n"
     ]
    },
    {
     "name": "stderr",
     "output_type": "stream",
     "text": [
      "\r",
      " 51%|███████████████████████▍                      | 331/650 [05:00<04:25,  1.20it/s]"
     ]
    },
    {
     "name": "stdout",
     "output_type": "stream",
     "text": [
      "Original: [ 0 33]\n",
      "Candidate: [ 0 32]\n",
      "---------------------------\n",
      "ratio: 1.0\n"
     ]
    },
    {
     "name": "stderr",
     "output_type": "stream",
     "text": [
      "\r",
      " 51%|███████████████████████▍                      | 332/650 [05:00<04:23,  1.21it/s]"
     ]
    },
    {
     "name": "stdout",
     "output_type": "stream",
     "text": [
      "Original: [ 0 32]\n",
      "Candidate: [ 0 31]\n",
      "---------------------------\n",
      "ratio: 1.0\n"
     ]
    },
    {
     "name": "stderr",
     "output_type": "stream",
     "text": [
      "\r",
      " 51%|███████████████████████▌                      | 333/650 [05:01<04:21,  1.21it/s]"
     ]
    },
    {
     "name": "stdout",
     "output_type": "stream",
     "text": [
      "Original: [ 0 31]\n",
      "Candidate: [ 0 31 67]\n",
      "---------------------------\n",
      "ratio: 0.36354072906484924\n"
     ]
    },
    {
     "name": "stderr",
     "output_type": "stream",
     "text": [
      "\r",
      " 51%|███████████████████████▋                      | 334/650 [05:02<04:19,  1.22it/s]"
     ]
    },
    {
     "name": "stdout",
     "output_type": "stream",
     "text": [
      "Original: [ 0 31]\n",
      "Candidate: [0]\n",
      "---------------------------\n",
      "ratio: 0.3442228361179255\n"
     ]
    },
    {
     "name": "stderr",
     "output_type": "stream",
     "text": [
      "\r",
      " 52%|███████████████████████▋                      | 335/650 [05:03<04:17,  1.22it/s]"
     ]
    },
    {
     "name": "stdout",
     "output_type": "stream",
     "text": [
      "Original: [ 0 31]\n",
      "Candidate: [ 0  4 31]\n",
      "---------------------------\n",
      "ratio: 0.8364356301401266\n"
     ]
    },
    {
     "name": "stderr",
     "output_type": "stream",
     "text": [
      "\r",
      " 52%|███████████████████████▊                      | 336/650 [05:04<04:17,  1.22it/s]"
     ]
    },
    {
     "name": "stdout",
     "output_type": "stream",
     "text": [
      "Original: [ 0  4 31]\n",
      "Candidate: [ 0  4 32]\n",
      "---------------------------\n",
      "ratio: 0.9661779028168817\n"
     ]
    },
    {
     "name": "stderr",
     "output_type": "stream",
     "text": [
      "\r",
      " 52%|███████████████████████▊                      | 337/650 [05:05<04:16,  1.22it/s]"
     ]
    },
    {
     "name": "stdout",
     "output_type": "stream",
     "text": [
      "Original: [ 0  4 32]\n",
      "Candidate: [ 0  4 32 65]\n",
      "---------------------------\n",
      "ratio: 0.14643137111692406\n"
     ]
    },
    {
     "name": "stderr",
     "output_type": "stream",
     "text": [
      "\r",
      " 52%|███████████████████████▉                      | 338/650 [05:05<04:16,  1.22it/s]"
     ]
    },
    {
     "name": "stdout",
     "output_type": "stream",
     "text": [
      "Original: [ 0  4 32 65]\n",
      "Candidate: [ 0  4 32 54 65]\n",
      "---------------------------\n",
      "ratio: 0.2710781804585957\n"
     ]
    },
    {
     "name": "stderr",
     "output_type": "stream",
     "text": [
      "\r",
      " 52%|███████████████████████▉                      | 339/650 [05:06<04:17,  1.21it/s]"
     ]
    },
    {
     "name": "stdout",
     "output_type": "stream",
     "text": [
      "Original: [ 0  4 32 65]\n",
      "Candidate: [ 0  4 19 32 65]\n",
      "---------------------------\n",
      "ratio: 0.19882854443450265\n"
     ]
    },
    {
     "name": "stderr",
     "output_type": "stream",
     "text": [
      "\r",
      " 52%|████████████████████████                      | 340/650 [05:07<04:17,  1.20it/s]"
     ]
    },
    {
     "name": "stdout",
     "output_type": "stream",
     "text": [
      "Original: [ 0  4 32 65]\n",
      "Candidate: [ 0  4 32 65 99]\n",
      "---------------------------\n",
      "ratio: 1.0\n"
     ]
    },
    {
     "name": "stderr",
     "output_type": "stream",
     "text": [
      "\r",
      " 52%|████████████████████████▏                     | 341/650 [05:08<04:17,  1.20it/s]"
     ]
    },
    {
     "name": "stdout",
     "output_type": "stream",
     "text": [
      "Original: [ 0  4 32 65 99]\n",
      "Candidate: [ 0  4 32 65]\n",
      "---------------------------\n",
      "ratio: 0.6331847731292294\n"
     ]
    },
    {
     "name": "stderr",
     "output_type": "stream",
     "text": [
      "\r",
      " 53%|████████████████████████▏                     | 342/650 [05:09<04:16,  1.20it/s]"
     ]
    },
    {
     "name": "stdout",
     "output_type": "stream",
     "text": [
      "Original: [ 0  4 32 65]\n",
      "Candidate: [ 0  4 33 65]\n",
      "---------------------------\n",
      "ratio: 0.9546801993897203\n"
     ]
    },
    {
     "name": "stderr",
     "output_type": "stream",
     "text": [
      "\r",
      " 53%|████████████████████████▎                     | 343/650 [05:10<04:12,  1.22it/s]"
     ]
    },
    {
     "name": "stdout",
     "output_type": "stream",
     "text": [
      "Original: [ 0  4 33 65]\n",
      "Candidate: [ 0  4 33]\n",
      "---------------------------\n",
      "ratio: 1.0\n"
     ]
    },
    {
     "name": "stderr",
     "output_type": "stream",
     "text": [
      "\r",
      " 53%|████████████████████████▎                     | 344/650 [05:10<04:10,  1.22it/s]"
     ]
    },
    {
     "name": "stdout",
     "output_type": "stream",
     "text": [
      "Original: [ 0  4 33]\n",
      "Candidate: [ 0 33]\n",
      "---------------------------\n",
      "ratio: 1.0\n"
     ]
    },
    {
     "name": "stderr",
     "output_type": "stream",
     "text": [
      "\r",
      " 53%|████████████████████████▍                     | 345/650 [05:11<04:07,  1.23it/s]"
     ]
    },
    {
     "name": "stdout",
     "output_type": "stream",
     "text": [
      "Original: [ 0 33]\n",
      "Candidate: [ 0 34]\n",
      "---------------------------\n",
      "ratio: 0.9894149183433535\n"
     ]
    },
    {
     "name": "stderr",
     "output_type": "stream",
     "text": [
      "\r",
      " 53%|████████████████████████▍                     | 346/650 [05:12<04:05,  1.24it/s]"
     ]
    },
    {
     "name": "stdout",
     "output_type": "stream",
     "text": [
      "Original: [ 0 34]\n",
      "Candidate: [0]\n",
      "---------------------------\n",
      "ratio: 0.3856586823578158\n"
     ]
    },
    {
     "name": "stderr",
     "output_type": "stream",
     "text": [
      "\r",
      " 53%|████████████████████████▌                     | 347/650 [05:13<04:03,  1.25it/s]"
     ]
    },
    {
     "name": "stdout",
     "output_type": "stream",
     "text": [
      "Original: [ 0 34]\n",
      "Candidate: [ 0 35]\n",
      "---------------------------\n",
      "ratio: 0.9932835732673129\n"
     ]
    },
    {
     "name": "stderr",
     "output_type": "stream",
     "text": [
      "\r",
      " 54%|████████████████████████▋                     | 348/650 [05:14<04:00,  1.25it/s]"
     ]
    },
    {
     "name": "stdout",
     "output_type": "stream",
     "text": [
      "Original: [ 0 35]\n",
      "Candidate: [ 0 36]\n",
      "---------------------------\n",
      "ratio: 1.0\n"
     ]
    },
    {
     "name": "stderr",
     "output_type": "stream",
     "text": [
      "\r",
      " 54%|████████████████████████▋                     | 349/650 [05:14<03:59,  1.26it/s]"
     ]
    },
    {
     "name": "stdout",
     "output_type": "stream",
     "text": [
      "Original: [ 0 36]\n",
      "Candidate: [0]\n",
      "---------------------------\n",
      "ratio: 0.5446788981409507\n"
     ]
    },
    {
     "name": "stderr",
     "output_type": "stream",
     "text": [
      "\r",
      " 54%|████████████████████████▊                     | 350/650 [05:15<03:58,  1.26it/s]"
     ]
    },
    {
     "name": "stdout",
     "output_type": "stream",
     "text": [
      "Original: [0]\n",
      "Candidate: [ 0 11]\n",
      "---------------------------\n",
      "ratio: 0.43893288998272667\n"
     ]
    },
    {
     "name": "stderr",
     "output_type": "stream",
     "text": [
      "\r",
      " 54%|████████████████████████▊                     | 351/650 [05:16<03:57,  1.26it/s]"
     ]
    },
    {
     "name": "stdout",
     "output_type": "stream",
     "text": [
      "Original: [0]\n",
      "Candidate: [ 0 24]\n",
      "---------------------------\n",
      "ratio: 1.0\n"
     ]
    },
    {
     "name": "stderr",
     "output_type": "stream",
     "text": [
      "\r",
      " 54%|████████████████████████▉                     | 352/650 [05:17<03:55,  1.26it/s]"
     ]
    },
    {
     "name": "stdout",
     "output_type": "stream",
     "text": [
      "Original: [ 0 24]\n",
      "Candidate: [ 0  7 24]\n",
      "---------------------------\n",
      "ratio: 0.48617189019537477\n"
     ]
    },
    {
     "name": "stderr",
     "output_type": "stream",
     "text": [
      "\r",
      " 54%|████████████████████████▉                     | 353/650 [05:17<03:54,  1.27it/s]"
     ]
    },
    {
     "name": "stdout",
     "output_type": "stream",
     "text": [
      "Original: [ 0  7 24]\n",
      "Candidate: [0 7]\n",
      "---------------------------\n",
      "ratio: 0.49781529673451014\n"
     ]
    },
    {
     "name": "stderr",
     "output_type": "stream",
     "text": [
      "\r",
      " 54%|█████████████████████████                     | 354/650 [05:18<03:54,  1.26it/s]"
     ]
    },
    {
     "name": "stdout",
     "output_type": "stream",
     "text": [
      "Original: [ 0  7 24]\n",
      "Candidate: [ 0  7 23]\n",
      "---------------------------\n",
      "ratio: 0.8404250354014347\n"
     ]
    },
    {
     "name": "stderr",
     "output_type": "stream",
     "text": [
      "\r",
      " 55%|█████████████████████████                     | 355/650 [05:19<03:57,  1.24it/s]"
     ]
    },
    {
     "name": "stdout",
     "output_type": "stream",
     "text": [
      "Original: [ 0  7 23]\n",
      "Candidate: [ 0 23]\n",
      "---------------------------\n",
      "ratio: 1.0\n"
     ]
    },
    {
     "name": "stderr",
     "output_type": "stream",
     "text": [
      "\r",
      " 55%|█████████████████████████▏                    | 356/650 [05:20<04:00,  1.22it/s]"
     ]
    },
    {
     "name": "stdout",
     "output_type": "stream",
     "text": [
      "Original: [ 0 23]\n",
      "Candidate: [0]\n",
      "---------------------------\n",
      "ratio: 0.3279174270036425\n"
     ]
    },
    {
     "name": "stderr",
     "output_type": "stream",
     "text": [
      "\r",
      " 55%|█████████████████████████▎                    | 357/650 [05:21<04:24,  1.11it/s]"
     ]
    },
    {
     "name": "stdout",
     "output_type": "stream",
     "text": [
      "Original: [0]\n",
      "Candidate: [ 0 51]\n",
      "---------------------------\n",
      "ratio: 1.0\n"
     ]
    },
    {
     "name": "stderr",
     "output_type": "stream",
     "text": [
      "\r",
      " 55%|█████████████████████████▎                    | 358/650 [05:22<04:40,  1.04it/s]"
     ]
    },
    {
     "name": "stdout",
     "output_type": "stream",
     "text": [
      "Original: [ 0 51]\n",
      "Candidate: [0]\n",
      "---------------------------\n",
      "ratio: 0.19641406075119341\n"
     ]
    },
    {
     "name": "stderr",
     "output_type": "stream",
     "text": [
      "\r",
      " 55%|█████████████████████████▍                    | 359/650 [05:24<05:16,  1.09s/it]"
     ]
    },
    {
     "name": "stdout",
     "output_type": "stream",
     "text": [
      "Original: [ 0 51]\n",
      "Candidate: [0]\n",
      "---------------------------\n",
      "ratio: 0.08536193490182423\n"
     ]
    },
    {
     "name": "stderr",
     "output_type": "stream",
     "text": [
      "\r",
      " 55%|█████████████████████████▍                    | 360/650 [05:24<05:04,  1.05s/it]"
     ]
    },
    {
     "name": "stdout",
     "output_type": "stream",
     "text": [
      "Original: [ 0 51]\n",
      "Candidate: [ 0  1 51]\n",
      "---------------------------\n",
      "ratio: 1.0\n"
     ]
    },
    {
     "name": "stderr",
     "output_type": "stream",
     "text": [
      "\r",
      " 56%|█████████████████████████▌                    | 361/650 [05:26<05:29,  1.14s/it]"
     ]
    },
    {
     "name": "stdout",
     "output_type": "stream",
     "text": [
      "Original: [ 0  1 51]\n",
      "Candidate: [ 0  1 50]\n",
      "---------------------------\n",
      "ratio: 1.0\n"
     ]
    },
    {
     "name": "stderr",
     "output_type": "stream",
     "text": [
      "\r",
      " 56%|█████████████████████████▌                    | 362/650 [05:27<05:18,  1.11s/it]"
     ]
    },
    {
     "name": "stdout",
     "output_type": "stream",
     "text": [
      "Original: [ 0  1 50]\n",
      "Candidate: [ 0  1 50 57]\n",
      "---------------------------\n",
      "ratio: 0.24215817704193368\n"
     ]
    },
    {
     "name": "stderr",
     "output_type": "stream",
     "text": [
      "\r",
      " 56%|█████████████████████████▋                    | 363/650 [05:28<05:37,  1.18s/it]"
     ]
    },
    {
     "name": "stdout",
     "output_type": "stream",
     "text": [
      "Original: [ 0  1 50]\n",
      "Candidate: [ 0 50]\n",
      "---------------------------\n",
      "ratio: 0.39488867408794087\n"
     ]
    },
    {
     "name": "stderr",
     "output_type": "stream",
     "text": [
      "\r",
      " 56%|█████████████████████████▊                    | 364/650 [05:29<05:14,  1.10s/it]"
     ]
    },
    {
     "name": "stdout",
     "output_type": "stream",
     "text": [
      "Original: [ 0  1 50]\n",
      "Candidate: [ 0  2 50]\n",
      "---------------------------\n",
      "ratio: 0.49016845550097116\n"
     ]
    },
    {
     "name": "stderr",
     "output_type": "stream",
     "text": [
      "\r",
      " 56%|█████████████████████████▊                    | 365/650 [05:30<05:10,  1.09s/it]"
     ]
    },
    {
     "name": "stdout",
     "output_type": "stream",
     "text": [
      "Original: [ 0  2 50]\n",
      "Candidate: [ 0  2 50 52]\n",
      "---------------------------\n",
      "ratio: 0.7795060581319392\n"
     ]
    },
    {
     "name": "stderr",
     "output_type": "stream",
     "text": [
      "\r",
      " 56%|█████████████████████████▉                    | 366/650 [05:31<05:22,  1.13s/it]"
     ]
    },
    {
     "name": "stdout",
     "output_type": "stream",
     "text": [
      "Original: [ 0  2 50 52]\n",
      "Candidate: [ 0  2 51 52]\n",
      "---------------------------\n",
      "ratio: 1.0\n"
     ]
    },
    {
     "name": "stderr",
     "output_type": "stream",
     "text": [
      "\r",
      " 56%|█████████████████████████▉                    | 367/650 [05:32<05:02,  1.07s/it]"
     ]
    },
    {
     "name": "stdout",
     "output_type": "stream",
     "text": [
      "Original: [ 0  2 51 52]\n",
      "Candidate: [ 0  2 52]\n",
      "---------------------------\n",
      "ratio: 0.5578651691826074\n"
     ]
    },
    {
     "name": "stderr",
     "output_type": "stream",
     "text": [
      "\r",
      " 57%|██████████████████████████                    | 368/650 [05:34<05:07,  1.09s/it]"
     ]
    },
    {
     "name": "stdout",
     "output_type": "stream",
     "text": [
      "Original: [ 0  2 52]\n",
      "Candidate: [ 0  2 52 64]\n",
      "---------------------------\n",
      "ratio: 0.16315206700652748\n"
     ]
    },
    {
     "name": "stderr",
     "output_type": "stream",
     "text": [
      "\r",
      " 57%|██████████████████████████                    | 369/650 [05:34<04:44,  1.01s/it]"
     ]
    },
    {
     "name": "stdout",
     "output_type": "stream",
     "text": [
      "Original: [ 0  2 52]\n",
      "Candidate: [0 2]\n",
      "---------------------------\n",
      "ratio: 0.1981485334265968\n"
     ]
    },
    {
     "name": "stderr",
     "output_type": "stream",
     "text": [
      "\r",
      " 57%|██████████████████████████▏                   | 370/650 [05:35<04:27,  1.05it/s]"
     ]
    },
    {
     "name": "stdout",
     "output_type": "stream",
     "text": [
      "Original: [ 0  2 52]\n",
      "Candidate: [ 0 52]\n",
      "---------------------------\n",
      "ratio: 0.7701827044923182\n"
     ]
    },
    {
     "name": "stderr",
     "output_type": "stream",
     "text": [
      "\r",
      " 57%|██████████████████████████▎                   | 371/650 [05:36<04:17,  1.08it/s]"
     ]
    },
    {
     "name": "stdout",
     "output_type": "stream",
     "text": [
      "Original: [ 0  2 52]\n",
      "Candidate: [ 0  2 52 95]\n",
      "---------------------------\n",
      "ratio: 0.46944557465951425\n"
     ]
    },
    {
     "name": "stderr",
     "output_type": "stream",
     "text": [
      "\r",
      " 57%|██████████████████████████▎                   | 372/650 [05:37<04:08,  1.12it/s]"
     ]
    },
    {
     "name": "stdout",
     "output_type": "stream",
     "text": [
      "Original: [ 0  2 52]\n",
      "Candidate: [ 0  2 52 98]\n",
      "---------------------------\n",
      "ratio: 1.0\n"
     ]
    },
    {
     "name": "stderr",
     "output_type": "stream",
     "text": [
      "\r",
      " 57%|██████████████████████████▍                   | 373/650 [05:38<04:22,  1.06it/s]"
     ]
    },
    {
     "name": "stdout",
     "output_type": "stream",
     "text": [
      "Original: [ 0  2 52 98]\n",
      "Candidate: [ 0  2 53 98]\n",
      "---------------------------\n",
      "ratio: 0.8917047284301918\n"
     ]
    },
    {
     "name": "stderr",
     "output_type": "stream",
     "text": [
      "\r",
      " 58%|██████████████████████████▍                   | 374/650 [05:39<04:46,  1.04s/it]"
     ]
    },
    {
     "name": "stdout",
     "output_type": "stream",
     "text": [
      "Original: [ 0  2 53 98]\n",
      "Candidate: [ 0  2 24 53 98]\n",
      "---------------------------\n",
      "ratio: 0.433530372739354\n"
     ]
    },
    {
     "name": "stderr",
     "output_type": "stream",
     "text": [
      "\r",
      " 58%|██████████████████████████▌                   | 375/650 [05:41<05:11,  1.13s/it]"
     ]
    },
    {
     "name": "stdout",
     "output_type": "stream",
     "text": [
      "Original: [ 0  2 24 53 98]\n",
      "Candidate: [ 0  2 24 43 53 98]\n",
      "---------------------------\n",
      "ratio: 0.14739277674786058\n"
     ]
    },
    {
     "name": "stderr",
     "output_type": "stream",
     "text": [
      "\r",
      " 58%|██████████████████████████▌                   | 376/650 [05:42<05:43,  1.25s/it]"
     ]
    },
    {
     "name": "stdout",
     "output_type": "stream",
     "text": [
      "Original: [ 0  2 24 53 98]\n",
      "Candidate: [ 0  2 25 53 98]\n",
      "---------------------------\n",
      "ratio: 1.0\n"
     ]
    },
    {
     "name": "stderr",
     "output_type": "stream",
     "text": [
      "\r",
      " 58%|██████████████████████████▋                   | 377/650 [05:43<05:08,  1.13s/it]"
     ]
    },
    {
     "name": "stdout",
     "output_type": "stream",
     "text": [
      "Original: [ 0  2 25 53 98]\n",
      "Candidate: [ 0  2 26 53 98]\n",
      "---------------------------\n",
      "ratio: 0.887021110883205\n"
     ]
    },
    {
     "name": "stderr",
     "output_type": "stream",
     "text": [
      "\r",
      " 58%|██████████████████████████▊                   | 378/650 [05:44<04:41,  1.04s/it]"
     ]
    },
    {
     "name": "stdout",
     "output_type": "stream",
     "text": [
      "Original: [ 0  2 26 53 98]\n",
      "Candidate: [ 0  2 53 98]\n",
      "---------------------------\n",
      "ratio: 1.0\n"
     ]
    },
    {
     "name": "stderr",
     "output_type": "stream",
     "text": [
      "\r",
      " 58%|██████████████████████████▊                   | 379/650 [05:45<04:49,  1.07s/it]"
     ]
    },
    {
     "name": "stdout",
     "output_type": "stream",
     "text": [
      "Original: [ 0  2 53 98]\n",
      "Candidate: [ 0 53 98]\n",
      "---------------------------\n",
      "ratio: 0.929470946441722\n"
     ]
    },
    {
     "name": "stderr",
     "output_type": "stream",
     "text": [
      "\r",
      " 58%|██████████████████████████▉                   | 380/650 [05:46<04:37,  1.03s/it]"
     ]
    },
    {
     "name": "stdout",
     "output_type": "stream",
     "text": [
      "Original: [ 0 53 98]\n",
      "Candidate: [ 0 53 81 98]\n",
      "---------------------------\n",
      "ratio: 0.1651595390876917\n"
     ]
    },
    {
     "name": "stderr",
     "output_type": "stream",
     "text": [
      "\r",
      " 59%|██████████████████████████▉                   | 381/650 [05:47<04:20,  1.03it/s]"
     ]
    },
    {
     "name": "stdout",
     "output_type": "stream",
     "text": [
      "Original: [ 0 53 81 98]\n",
      "Candidate: [ 0 18 53 81 98]\n",
      "---------------------------\n",
      "ratio: 0.2414106732695818\n"
     ]
    },
    {
     "name": "stderr",
     "output_type": "stream",
     "text": [
      "\r",
      " 59%|███████████████████████████                   | 382/650 [05:47<04:09,  1.07it/s]"
     ]
    },
    {
     "name": "stdout",
     "output_type": "stream",
     "text": [
      "Original: [ 0 53 81 98]\n",
      "Candidate: [ 0 81 98]\n",
      "---------------------------\n",
      "ratio: 0.6919952049946888\n"
     ]
    },
    {
     "name": "stderr",
     "output_type": "stream",
     "text": [
      "\r",
      " 59%|███████████████████████████                   | 383/650 [05:48<04:06,  1.08it/s]"
     ]
    },
    {
     "name": "stdout",
     "output_type": "stream",
     "text": [
      "Original: [ 0 53 81 98]\n",
      "Candidate: [ 0 53 81 99]\n",
      "---------------------------\n",
      "ratio: 1.0\n"
     ]
    },
    {
     "name": "stderr",
     "output_type": "stream",
     "text": [
      "\r",
      " 59%|███████████████████████████▏                  | 384/650 [05:49<04:04,  1.09it/s]"
     ]
    },
    {
     "name": "stdout",
     "output_type": "stream",
     "text": [
      "Original: [ 0 53 81 99]\n",
      "Candidate: [ 0 54 81 99]\n",
      "---------------------------\n",
      "ratio: 0.9093928595877828\n"
     ]
    },
    {
     "name": "stderr",
     "output_type": "stream",
     "text": [
      "\r",
      " 59%|███████████████████████████▏                  | 385/650 [05:50<03:55,  1.12it/s]"
     ]
    },
    {
     "name": "stdout",
     "output_type": "stream",
     "text": [
      "Original: [ 0 54 81 99]\n",
      "Candidate: [ 0 54 81]\n",
      "---------------------------\n",
      "ratio: 0.47222782730568025\n"
     ]
    },
    {
     "name": "stderr",
     "output_type": "stream",
     "text": [
      "\r",
      " 59%|███████████████████████████▎                  | 386/650 [05:51<03:49,  1.15it/s]"
     ]
    },
    {
     "name": "stdout",
     "output_type": "stream",
     "text": [
      "Original: [ 0 54 81 99]\n",
      "Candidate: [ 0 55 81 99]\n",
      "---------------------------\n",
      "ratio: 0.8871649689044646\n"
     ]
    },
    {
     "name": "stderr",
     "output_type": "stream",
     "text": [
      "\r",
      " 60%|███████████████████████████▍                  | 387/650 [05:52<03:43,  1.18it/s]"
     ]
    },
    {
     "name": "stdout",
     "output_type": "stream",
     "text": [
      "Original: [ 0 55 81 99]\n",
      "Candidate: [ 0 55 81]\n",
      "---------------------------\n",
      "ratio: 0.14907282262017021\n"
     ]
    },
    {
     "name": "stderr",
     "output_type": "stream",
     "text": [
      "\r",
      " 60%|███████████████████████████▍                  | 388/650 [05:53<03:39,  1.19it/s]"
     ]
    },
    {
     "name": "stdout",
     "output_type": "stream",
     "text": [
      "Original: [ 0 55 81 99]\n",
      "Candidate: [ 0 55 99]\n",
      "---------------------------\n",
      "ratio: 1.0\n"
     ]
    },
    {
     "name": "stderr",
     "output_type": "stream",
     "text": [
      "\r",
      " 60%|███████████████████████████▌                  | 389/650 [05:53<03:35,  1.21it/s]"
     ]
    },
    {
     "name": "stdout",
     "output_type": "stream",
     "text": [
      "Original: [ 0 55 99]\n",
      "Candidate: [ 0 55]\n",
      "---------------------------\n",
      "ratio: 0.0004590974575234572\n"
     ]
    },
    {
     "name": "stderr",
     "output_type": "stream",
     "text": [
      "\r",
      " 60%|███████████████████████████▌                  | 390/650 [05:54<03:33,  1.22it/s]"
     ]
    },
    {
     "name": "stdout",
     "output_type": "stream",
     "text": [
      "Original: [ 0 55 99]\n",
      "Candidate: [ 0 55 98]\n",
      "---------------------------\n",
      "ratio: 0.7130421122849004\n"
     ]
    },
    {
     "name": "stderr",
     "output_type": "stream",
     "text": [
      "\r",
      " 60%|███████████████████████████▋                  | 391/650 [05:55<03:31,  1.23it/s]"
     ]
    },
    {
     "name": "stdout",
     "output_type": "stream",
     "text": [
      "Original: [ 0 55 98]\n",
      "Candidate: [ 0 54 98]\n",
      "---------------------------\n",
      "ratio: 1.0\n"
     ]
    },
    {
     "name": "stderr",
     "output_type": "stream",
     "text": [
      "\r",
      " 60%|███████████████████████████▋                  | 392/650 [05:56<03:29,  1.23it/s]"
     ]
    },
    {
     "name": "stdout",
     "output_type": "stream",
     "text": [
      "Original: [ 0 54 98]\n",
      "Candidate: [ 0 98]\n",
      "---------------------------\n",
      "ratio: 0.1283702381314352\n"
     ]
    },
    {
     "name": "stderr",
     "output_type": "stream",
     "text": [
      "\r",
      " 60%|███████████████████████████▊                  | 393/650 [05:57<03:28,  1.23it/s]"
     ]
    },
    {
     "name": "stdout",
     "output_type": "stream",
     "text": [
      "Original: [ 0 54 98]\n",
      "Candidate: [ 0 53 98]\n",
      "---------------------------\n",
      "ratio: 1.0\n"
     ]
    },
    {
     "name": "stderr",
     "output_type": "stream",
     "text": [
      "\r",
      " 61%|███████████████████████████▉                  | 394/650 [05:57<03:26,  1.24it/s]"
     ]
    },
    {
     "name": "stdout",
     "output_type": "stream",
     "text": [
      "Original: [ 0 53 98]\n",
      "Candidate: [ 0 35 53 98]\n",
      "---------------------------\n",
      "ratio: 0.31919500105558934\n"
     ]
    },
    {
     "name": "stderr",
     "output_type": "stream",
     "text": [
      "\r",
      " 61%|███████████████████████████▉                  | 395/650 [05:58<03:29,  1.22it/s]"
     ]
    },
    {
     "name": "stdout",
     "output_type": "stream",
     "text": [
      "Original: [ 0 53 98]\n",
      "Candidate: [ 0 53]\n",
      "---------------------------\n",
      "ratio: 0.6954973483767393\n"
     ]
    },
    {
     "name": "stderr",
     "output_type": "stream",
     "text": [
      "\r",
      " 61%|████████████████████████████                  | 396/650 [05:59<03:28,  1.22it/s]"
     ]
    },
    {
     "name": "stdout",
     "output_type": "stream",
     "text": [
      "Original: [ 0 53]\n",
      "Candidate: [ 0 54]\n",
      "---------------------------\n",
      "ratio: 0.8833456028347754\n"
     ]
    },
    {
     "name": "stderr",
     "output_type": "stream",
     "text": [
      "\r",
      " 61%|████████████████████████████                  | 397/650 [06:00<03:26,  1.23it/s]"
     ]
    },
    {
     "name": "stdout",
     "output_type": "stream",
     "text": [
      "Original: [ 0 54]\n",
      "Candidate: [ 0 53]\n",
      "---------------------------\n",
      "ratio: 1.0\n"
     ]
    },
    {
     "name": "stderr",
     "output_type": "stream",
     "text": [
      "\r",
      " 61%|████████████████████████████▏                 | 398/650 [06:01<03:24,  1.23it/s]"
     ]
    },
    {
     "name": "stdout",
     "output_type": "stream",
     "text": [
      "Original: [ 0 53]\n",
      "Candidate: [ 0 35 53]\n",
      "---------------------------\n",
      "ratio: 0.4820562834022786\n"
     ]
    },
    {
     "name": "stderr",
     "output_type": "stream",
     "text": [
      "\r",
      " 61%|████████████████████████████▏                 | 399/650 [06:01<03:23,  1.24it/s]"
     ]
    },
    {
     "name": "stdout",
     "output_type": "stream",
     "text": [
      "Original: [ 0 53]\n",
      "Candidate: [ 0 53 57]\n",
      "---------------------------\n",
      "ratio: 0.6007043568035789\n"
     ]
    },
    {
     "name": "stderr",
     "output_type": "stream",
     "text": [
      "\r",
      " 62%|████████████████████████████▎                 | 400/650 [06:02<03:34,  1.17it/s]"
     ]
    },
    {
     "name": "stdout",
     "output_type": "stream",
     "text": [
      "Original: [ 0 53]\n",
      "Candidate: [ 0 52]\n",
      "---------------------------\n",
      "ratio: 1.0\n"
     ]
    },
    {
     "name": "stderr",
     "output_type": "stream",
     "text": [
      "\r",
      " 62%|████████████████████████████▍                 | 401/650 [06:04<04:10,  1.01s/it]"
     ]
    },
    {
     "name": "stdout",
     "output_type": "stream",
     "text": [
      "\n",
      "Step: 400\n",
      "----------------------------------------------------\n",
      "Original: [ 0 52]\n",
      "Candidate: [0]\n",
      "---------------------------\n",
      "ratio: 0.40543476211708224\n"
     ]
    },
    {
     "name": "stderr",
     "output_type": "stream",
     "text": [
      "\r",
      " 62%|████████████████████████████▍                 | 402/650 [06:05<03:57,  1.04it/s]"
     ]
    },
    {
     "name": "stdout",
     "output_type": "stream",
     "text": [
      "Original: [ 0 52]\n",
      "Candidate: [ 0 53]\n",
      "---------------------------\n",
      "ratio: 0.8781425361460734\n"
     ]
    },
    {
     "name": "stderr",
     "output_type": "stream",
     "text": [
      "\r",
      " 62%|████████████████████████████▌                 | 403/650 [06:05<03:45,  1.10it/s]"
     ]
    },
    {
     "name": "stdout",
     "output_type": "stream",
     "text": [
      "Original: [ 0 52]\n",
      "Candidate: [ 0 49 52]\n",
      "---------------------------\n",
      "ratio: 1.0\n"
     ]
    },
    {
     "name": "stderr",
     "output_type": "stream",
     "text": [
      "\r",
      " 62%|████████████████████████████▌                 | 404/650 [06:06<03:41,  1.11it/s]"
     ]
    },
    {
     "name": "stdout",
     "output_type": "stream",
     "text": [
      "Original: [ 0 49 52]\n",
      "Candidate: [ 0 49 52 82]\n",
      "---------------------------\n",
      "ratio: 0.15407294736721203\n"
     ]
    },
    {
     "name": "stderr",
     "output_type": "stream",
     "text": [
      "\r",
      " 62%|████████████████████████████▋                 | 405/650 [06:07<03:46,  1.08it/s]"
     ]
    },
    {
     "name": "stdout",
     "output_type": "stream",
     "text": [
      "Original: [ 0 49 52]\n",
      "Candidate: [ 0 49 53]\n",
      "---------------------------\n",
      "ratio: 0.7432753006252346\n"
     ]
    },
    {
     "name": "stderr",
     "output_type": "stream",
     "text": [
      "\r",
      " 62%|████████████████████████████▋                 | 406/650 [06:09<04:20,  1.07s/it]"
     ]
    },
    {
     "name": "stdout",
     "output_type": "stream",
     "text": [
      "Original: [ 0 49 52]\n",
      "Candidate: [ 0 49 52 62]\n",
      "---------------------------\n",
      "ratio: 0.1841569823302411\n"
     ]
    },
    {
     "name": "stderr",
     "output_type": "stream",
     "text": [
      "\r",
      " 63%|████████████████████████████▊                 | 407/650 [06:10<04:24,  1.09s/it]"
     ]
    },
    {
     "name": "stdout",
     "output_type": "stream",
     "text": [
      "Original: [ 0 49 52]\n",
      "Candidate: [ 0 49 52 90]\n",
      "---------------------------\n",
      "ratio: 0.209764958821604\n"
     ]
    },
    {
     "name": "stderr",
     "output_type": "stream",
     "text": [
      "\r",
      " 63%|████████████████████████████▊                 | 408/650 [06:11<04:26,  1.10s/it]"
     ]
    },
    {
     "name": "stdout",
     "output_type": "stream",
     "text": [
      "Original: [ 0 49 52 90]\n",
      "Candidate: [ 0 49 53 90]\n",
      "---------------------------\n",
      "ratio: 0.7486895391397386\n"
     ]
    },
    {
     "name": "stderr",
     "output_type": "stream",
     "text": [
      "\r",
      " 63%|████████████████████████████▉                 | 409/650 [06:12<04:43,  1.17s/it]"
     ]
    },
    {
     "name": "stdout",
     "output_type": "stream",
     "text": [
      "Original: [ 0 49 52 90]\n",
      "Candidate: [ 0 49 51 90]\n",
      "---------------------------\n",
      "ratio: 1.0\n"
     ]
    },
    {
     "name": "stderr",
     "output_type": "stream",
     "text": [
      "\r",
      " 63%|█████████████████████████████                 | 410/650 [06:13<04:37,  1.16s/it]"
     ]
    },
    {
     "name": "stdout",
     "output_type": "stream",
     "text": [
      "Original: [ 0 49 51 90]\n",
      "Candidate: [ 0 51 90]\n",
      "---------------------------\n",
      "ratio: 1.0\n"
     ]
    },
    {
     "name": "stderr",
     "output_type": "stream",
     "text": [
      "\r",
      " 63%|█████████████████████████████                 | 411/650 [06:14<04:20,  1.09s/it]"
     ]
    },
    {
     "name": "stdout",
     "output_type": "stream",
     "text": [
      "Original: [ 0 51 90]\n",
      "Candidate: [ 0 90]\n",
      "---------------------------\n",
      "ratio: 0.10787162935614335\n"
     ]
    },
    {
     "name": "stderr",
     "output_type": "stream",
     "text": [
      "\r",
      " 63%|█████████████████████████████▏                | 412/650 [06:15<03:59,  1.01s/it]"
     ]
    },
    {
     "name": "stdout",
     "output_type": "stream",
     "text": [
      "Original: [ 0 51 90]\n",
      "Candidate: [ 0 50 90]\n",
      "---------------------------\n",
      "ratio: 1.0\n"
     ]
    },
    {
     "name": "stderr",
     "output_type": "stream",
     "text": [
      "\r",
      " 64%|█████████████████████████████▏                | 413/650 [06:16<04:13,  1.07s/it]"
     ]
    },
    {
     "name": "stdout",
     "output_type": "stream",
     "text": [
      "Original: [ 0 50 90]\n",
      "Candidate: [ 0 50 90 96]\n",
      "---------------------------\n",
      "ratio: 1.0\n"
     ]
    },
    {
     "name": "stderr",
     "output_type": "stream",
     "text": [
      "\r",
      " 64%|█████████████████████████████▎                | 414/650 [06:18<04:20,  1.10s/it]"
     ]
    },
    {
     "name": "stdout",
     "output_type": "stream",
     "text": [
      "Original: [ 0 50 90 96]\n",
      "Candidate: [ 0 50 91 96]\n",
      "---------------------------\n",
      "ratio: 1.0\n"
     ]
    },
    {
     "name": "stderr",
     "output_type": "stream",
     "text": [
      "\r",
      " 64%|█████████████████████████████▎                | 415/650 [06:19<04:17,  1.10s/it]"
     ]
    },
    {
     "name": "stdout",
     "output_type": "stream",
     "text": [
      "Original: [ 0 50 91 96]\n",
      "Candidate: [ 0 50 90 96]\n",
      "---------------------------\n",
      "ratio: 0.5795463149017392\n"
     ]
    },
    {
     "name": "stderr",
     "output_type": "stream",
     "text": [
      "\r",
      " 64%|█████████████████████████████▍                | 416/650 [06:20<04:17,  1.10s/it]"
     ]
    },
    {
     "name": "stdout",
     "output_type": "stream",
     "text": [
      "Original: [ 0 50 90 96]\n",
      "Candidate: [ 0 50 79 90 96]\n",
      "---------------------------\n",
      "ratio: 0.1656803083280031\n"
     ]
    },
    {
     "name": "stderr",
     "output_type": "stream",
     "text": [
      "\r",
      " 64%|█████████████████████████████▌                | 417/650 [06:21<03:56,  1.01s/it]"
     ]
    },
    {
     "name": "stdout",
     "output_type": "stream",
     "text": [
      "Original: [ 0 50 90 96]\n",
      "Candidate: [ 0  3 50 90 96]\n",
      "---------------------------\n",
      "ratio: 0.4209921730028942\n"
     ]
    },
    {
     "name": "stderr",
     "output_type": "stream",
     "text": [
      "\r",
      " 64%|█████████████████████████████▌                | 418/650 [06:21<03:41,  1.05it/s]"
     ]
    },
    {
     "name": "stdout",
     "output_type": "stream",
     "text": [
      "Original: [ 0 50 90 96]\n",
      "Candidate: [ 0 50 89 90 96]\n",
      "---------------------------\n",
      "ratio: 1.0\n"
     ]
    },
    {
     "name": "stderr",
     "output_type": "stream",
     "text": [
      "\r",
      " 64%|█████████████████████████████▋                | 419/650 [06:22<03:30,  1.10it/s]"
     ]
    },
    {
     "name": "stdout",
     "output_type": "stream",
     "text": [
      "Original: [ 0 50 89 90 96]\n",
      "Candidate: [ 0 27 50 89 90 96]\n",
      "---------------------------\n",
      "ratio: 0.382849471282264\n"
     ]
    },
    {
     "name": "stderr",
     "output_type": "stream",
     "text": [
      "\r",
      " 65%|█████████████████████████████▋                | 420/650 [06:23<03:47,  1.01it/s]"
     ]
    },
    {
     "name": "stdout",
     "output_type": "stream",
     "text": [
      "Original: [ 0 27 50 89 90 96]\n",
      "Candidate: [ 0 50 89 90 96]\n",
      "---------------------------\n",
      "ratio: 1.0\n"
     ]
    },
    {
     "name": "stderr",
     "output_type": "stream",
     "text": [
      "\r",
      " 65%|█████████████████████████████▊                | 421/650 [06:25<04:00,  1.05s/it]"
     ]
    },
    {
     "name": "stdout",
     "output_type": "stream",
     "text": [
      "Original: [ 0 50 89 90 96]\n",
      "Candidate: [ 0 89 90 96]\n",
      "---------------------------\n",
      "ratio: 0.326412429618348\n"
     ]
    },
    {
     "name": "stderr",
     "output_type": "stream",
     "text": [
      "\r",
      " 65%|█████████████████████████████▊                | 422/650 [06:25<03:46,  1.01it/s]"
     ]
    },
    {
     "name": "stdout",
     "output_type": "stream",
     "text": [
      "Original: [ 0 50 89 90 96]\n",
      "Candidate: [ 0  3 50 89 90 96]\n",
      "---------------------------\n",
      "ratio: 0.3292149915370268\n"
     ]
    },
    {
     "name": "stderr",
     "output_type": "stream",
     "text": [
      "\r",
      " 65%|█████████████████████████████▉                | 423/650 [06:26<03:34,  1.06it/s]"
     ]
    },
    {
     "name": "stdout",
     "output_type": "stream",
     "text": [
      "Original: [ 0 50 89 90 96]\n",
      "Candidate: [ 0 50 89 96]\n",
      "---------------------------\n",
      "ratio: 0.4037653197444474\n"
     ]
    },
    {
     "name": "stderr",
     "output_type": "stream",
     "text": [
      "\r",
      " 65%|██████████████████████████████                | 424/650 [06:27<03:49,  1.01s/it]"
     ]
    },
    {
     "name": "stdout",
     "output_type": "stream",
     "text": [
      "Original: [ 0 50 89 90 96]\n",
      "Candidate: [ 0 50 66 89 90 96]\n",
      "---------------------------\n",
      "ratio: 0.09345109923547476\n"
     ]
    },
    {
     "name": "stderr",
     "output_type": "stream",
     "text": [
      "\r",
      " 65%|██████████████████████████████                | 425/650 [06:28<03:35,  1.04it/s]"
     ]
    },
    {
     "name": "stdout",
     "output_type": "stream",
     "text": [
      "Original: [ 0 50 89 90 96]\n",
      "Candidate: [ 0 50 89 90 96 98]\n",
      "---------------------------\n",
      "ratio: 1.0\n"
     ]
    },
    {
     "name": "stderr",
     "output_type": "stream",
     "text": [
      "\r",
      " 66%|██████████████████████████████▏               | 426/650 [06:29<03:32,  1.05it/s]"
     ]
    },
    {
     "name": "stdout",
     "output_type": "stream",
     "text": [
      "Original: [ 0 50 89 90 96 98]\n",
      "Candidate: [ 0 50 89 90 98]\n",
      "---------------------------\n",
      "ratio: 1.0\n"
     ]
    },
    {
     "name": "stderr",
     "output_type": "stream",
     "text": [
      "\r",
      " 66%|██████████████████████████████▏               | 427/650 [06:30<03:23,  1.10it/s]"
     ]
    },
    {
     "name": "stdout",
     "output_type": "stream",
     "text": [
      "Original: [ 0 50 89 90 98]\n",
      "Candidate: [ 0 50 90 98]\n",
      "---------------------------\n",
      "ratio: 0.8779845597986848\n"
     ]
    },
    {
     "name": "stderr",
     "output_type": "stream",
     "text": [
      "\r",
      " 66%|██████████████████████████████▎               | 428/650 [06:31<03:37,  1.02it/s]"
     ]
    },
    {
     "name": "stdout",
     "output_type": "stream",
     "text": [
      "Original: [ 0 50 90 98]\n",
      "Candidate: [ 0 50 71 90 98]\n",
      "---------------------------\n",
      "ratio: 0.1303723784251485\n"
     ]
    },
    {
     "name": "stderr",
     "output_type": "stream",
     "text": [
      "\r",
      " 66%|██████████████████████████████▎               | 429/650 [06:32<03:49,  1.04s/it]"
     ]
    },
    {
     "name": "stdout",
     "output_type": "stream",
     "text": [
      "Original: [ 0 50 90 98]\n",
      "Candidate: [ 0 50 90 97]\n",
      "---------------------------\n",
      "ratio: 0.6011522667229748\n"
     ]
    },
    {
     "name": "stderr",
     "output_type": "stream",
     "text": [
      "\r",
      " 66%|██████████████████████████████▍               | 430/650 [06:33<03:45,  1.03s/it]"
     ]
    },
    {
     "name": "stdout",
     "output_type": "stream",
     "text": [
      "Original: [ 0 50 90 98]\n",
      "Candidate: [ 0 28 50 90 98]\n",
      "---------------------------\n",
      "ratio: 0.4409841830547821\n"
     ]
    },
    {
     "name": "stderr",
     "output_type": "stream",
     "text": [
      "\r",
      " 66%|██████████████████████████████▌               | 431/650 [06:35<04:08,  1.13s/it]"
     ]
    },
    {
     "name": "stdout",
     "output_type": "stream",
     "text": [
      "Original: [ 0 28 50 90 98]\n",
      "Candidate: [ 0 28 90 98]\n",
      "---------------------------\n",
      "ratio: 0.8494557217335017\n"
     ]
    },
    {
     "name": "stderr",
     "output_type": "stream",
     "text": [
      "\r",
      " 66%|██████████████████████████████▌               | 432/650 [06:36<04:19,  1.19s/it]"
     ]
    },
    {
     "name": "stdout",
     "output_type": "stream",
     "text": [
      "Original: [ 0 28 90 98]\n",
      "Candidate: [ 0 28 91 98]\n",
      "---------------------------\n",
      "ratio: 1.0\n"
     ]
    },
    {
     "name": "stderr",
     "output_type": "stream",
     "text": [
      "\r",
      " 67%|██████████████████████████████▋               | 433/650 [06:37<04:18,  1.19s/it]"
     ]
    },
    {
     "name": "stdout",
     "output_type": "stream",
     "text": [
      "Original: [ 0 28 91 98]\n",
      "Candidate: [ 0 91 98]\n",
      "---------------------------\n",
      "ratio: 0.4678939425868879\n"
     ]
    },
    {
     "name": "stderr",
     "output_type": "stream",
     "text": [
      "\r",
      " 67%|██████████████████████████████▋               | 434/650 [06:39<04:30,  1.25s/it]"
     ]
    },
    {
     "name": "stdout",
     "output_type": "stream",
     "text": [
      "Original: [ 0 28 91 98]\n",
      "Candidate: [ 0 27 91 98]\n",
      "---------------------------\n",
      "ratio: 1.0\n"
     ]
    },
    {
     "name": "stderr",
     "output_type": "stream",
     "text": [
      "\r",
      " 67%|██████████████████████████████▊               | 435/650 [06:40<04:50,  1.35s/it]"
     ]
    },
    {
     "name": "stdout",
     "output_type": "stream",
     "text": [
      "Original: [ 0 27 91 98]\n",
      "Candidate: [ 0 27 98]\n",
      "---------------------------\n",
      "ratio: 0.47462594429057503\n"
     ]
    },
    {
     "name": "stderr",
     "output_type": "stream",
     "text": [
      "\r",
      " 67%|██████████████████████████████▊               | 436/650 [06:41<04:37,  1.30s/it]"
     ]
    },
    {
     "name": "stdout",
     "output_type": "stream",
     "text": [
      "Original: [ 0 27 91 98]\n",
      "Candidate: [ 0 27 92 98]\n",
      "---------------------------\n",
      "ratio: 1.0\n"
     ]
    },
    {
     "name": "stderr",
     "output_type": "stream",
     "text": [
      "\r",
      " 67%|██████████████████████████████▉               | 437/650 [06:42<04:11,  1.18s/it]"
     ]
    },
    {
     "name": "stdout",
     "output_type": "stream",
     "text": [
      "Original: [ 0 27 92 98]\n",
      "Candidate: [ 0 28 92 98]\n",
      "---------------------------\n",
      "ratio: 0.9279473247347207\n"
     ]
    },
    {
     "name": "stderr",
     "output_type": "stream",
     "text": [
      "\r",
      " 67%|██████████████████████████████▉               | 438/650 [06:43<03:48,  1.08s/it]"
     ]
    },
    {
     "name": "stdout",
     "output_type": "stream",
     "text": [
      "Original: [ 0 28 92 98]\n",
      "Candidate: [ 0 28 91 98]\n",
      "---------------------------\n",
      "ratio: 1.0\n"
     ]
    },
    {
     "name": "stderr",
     "output_type": "stream",
     "text": [
      "\r",
      " 68%|███████████████████████████████               | 439/650 [06:44<03:31,  1.00s/it]"
     ]
    },
    {
     "name": "stdout",
     "output_type": "stream",
     "text": [
      "Original: [ 0 28 91 98]\n",
      "Candidate: [ 0 28 98]\n",
      "---------------------------\n",
      "ratio: 1.0\n"
     ]
    },
    {
     "name": "stderr",
     "output_type": "stream",
     "text": [
      "\r",
      " 68%|███████████████████████████████▏              | 440/650 [06:45<03:55,  1.12s/it]"
     ]
    },
    {
     "name": "stdout",
     "output_type": "stream",
     "text": [
      "Original: [ 0 28 98]\n",
      "Candidate: [ 0 28 97]\n",
      "---------------------------\n",
      "ratio: 0.6421132733125686\n"
     ]
    },
    {
     "name": "stderr",
     "output_type": "stream",
     "text": [
      "\r",
      " 68%|███████████████████████████████▏              | 441/650 [06:46<03:42,  1.06s/it]"
     ]
    },
    {
     "name": "stdout",
     "output_type": "stream",
     "text": [
      "Original: [ 0 28 97]\n",
      "Candidate: [ 0 28 98]\n",
      "---------------------------\n",
      "ratio: 1.0\n"
     ]
    },
    {
     "name": "stderr",
     "output_type": "stream",
     "text": [
      "\r",
      " 68%|███████████████████████████████▎              | 442/650 [06:47<03:26,  1.01it/s]"
     ]
    },
    {
     "name": "stdout",
     "output_type": "stream",
     "text": [
      "Original: [ 0 28 98]\n",
      "Candidate: [ 0 98]\n",
      "---------------------------\n",
      "ratio: 0.0986250762964933\n"
     ]
    },
    {
     "name": "stderr",
     "output_type": "stream",
     "text": [
      "\r",
      " 68%|███████████████████████████████▎              | 443/650 [06:48<03:15,  1.06it/s]"
     ]
    },
    {
     "name": "stdout",
     "output_type": "stream",
     "text": [
      "Original: [ 0 28 98]\n",
      "Candidate: [ 0 28 52 98]\n",
      "---------------------------\n",
      "ratio: 0.5811162962876426\n"
     ]
    },
    {
     "name": "stderr",
     "output_type": "stream",
     "text": [
      "\r",
      " 68%|███████████████████████████████▍              | 444/650 [06:49<03:09,  1.08it/s]"
     ]
    },
    {
     "name": "stdout",
     "output_type": "stream",
     "text": [
      "Original: [ 0 28 52 98]\n",
      "Candidate: [ 0 52 98]\n",
      "---------------------------\n",
      "ratio: 1.0\n"
     ]
    },
    {
     "name": "stderr",
     "output_type": "stream",
     "text": [
      "\r",
      " 68%|███████████████████████████████▍              | 445/650 [06:50<03:02,  1.12it/s]"
     ]
    },
    {
     "name": "stdout",
     "output_type": "stream",
     "text": [
      "Original: [ 0 52 98]\n",
      "Candidate: [ 0 52 54 98]\n",
      "---------------------------\n",
      "ratio: 0.779805970055305\n"
     ]
    },
    {
     "name": "stderr",
     "output_type": "stream",
     "text": [
      "\r",
      " 69%|███████████████████████████████▌              | 446/650 [06:50<02:59,  1.14it/s]"
     ]
    },
    {
     "name": "stdout",
     "output_type": "stream",
     "text": [
      "Original: [ 0 52 98]\n",
      "Candidate: [ 0 51 98]\n",
      "---------------------------\n",
      "ratio: 1.0\n"
     ]
    },
    {
     "name": "stderr",
     "output_type": "stream",
     "text": [
      "\r",
      " 69%|███████████████████████████████▋              | 447/650 [06:51<02:54,  1.16it/s]"
     ]
    },
    {
     "name": "stdout",
     "output_type": "stream",
     "text": [
      "Original: [ 0 51 98]\n",
      "Candidate: [ 0 52 98]\n",
      "---------------------------\n",
      "ratio: 0.8764541742562849\n"
     ]
    },
    {
     "name": "stderr",
     "output_type": "stream",
     "text": [
      "\r",
      " 69%|███████████████████████████████▋              | 448/650 [06:53<03:28,  1.03s/it]"
     ]
    },
    {
     "name": "stdout",
     "output_type": "stream",
     "text": [
      "Original: [ 0 51 98]\n",
      "Candidate: [ 0 51]\n",
      "---------------------------\n",
      "ratio: 0.6252189350489663\n"
     ]
    },
    {
     "name": "stderr",
     "output_type": "stream",
     "text": [
      "\r",
      " 69%|███████████████████████████████▊              | 449/650 [06:54<03:43,  1.11s/it]"
     ]
    },
    {
     "name": "stdout",
     "output_type": "stream",
     "text": [
      "Original: [ 0 51 98]\n",
      "Candidate: [ 0 51 99]\n",
      "---------------------------\n",
      "ratio: 0.960538435660492\n"
     ]
    },
    {
     "name": "stderr",
     "output_type": "stream",
     "text": [
      "\r",
      " 69%|███████████████████████████████▊              | 450/650 [06:55<03:29,  1.05s/it]"
     ]
    },
    {
     "name": "stdout",
     "output_type": "stream",
     "text": [
      "Original: [ 0 51 99]\n",
      "Candidate: [ 0 99]\n",
      "---------------------------\n",
      "ratio: 0.1350761713742459\n"
     ]
    },
    {
     "name": "stderr",
     "output_type": "stream",
     "text": [
      "\r",
      " 69%|███████████████████████████████▉              | 451/650 [06:56<03:15,  1.02it/s]"
     ]
    },
    {
     "name": "stdout",
     "output_type": "stream",
     "text": [
      "Original: [ 0 51 99]\n",
      "Candidate: [ 0 22 51 99]\n",
      "---------------------------\n",
      "ratio: 0.4001951389543498\n"
     ]
    },
    {
     "name": "stderr",
     "output_type": "stream",
     "text": [
      "\r",
      " 70%|███████████████████████████████▉              | 452/650 [06:57<03:05,  1.07it/s]"
     ]
    },
    {
     "name": "stdout",
     "output_type": "stream",
     "text": [
      "Original: [ 0 22 51 99]\n",
      "Candidate: [ 0 22 99]\n",
      "---------------------------\n",
      "ratio: 1.0\n"
     ]
    },
    {
     "name": "stderr",
     "output_type": "stream",
     "text": [
      "\r",
      " 70%|████████████████████████████████              | 453/650 [06:58<03:10,  1.03it/s]"
     ]
    },
    {
     "name": "stdout",
     "output_type": "stream",
     "text": [
      "Original: [ 0 22 99]\n",
      "Candidate: [ 0 22]\n",
      "---------------------------\n",
      "ratio: 0.24701260325827587\n"
     ]
    },
    {
     "name": "stderr",
     "output_type": "stream",
     "text": [
      "\r",
      " 70%|████████████████████████████████▏             | 454/650 [06:59<03:11,  1.02it/s]"
     ]
    },
    {
     "name": "stdout",
     "output_type": "stream",
     "text": [
      "Original: [ 0 22 99]\n",
      "Candidate: [ 0 22 84 99]\n",
      "---------------------------\n",
      "ratio: 0.15466799442891663\n"
     ]
    },
    {
     "name": "stderr",
     "output_type": "stream",
     "text": [
      "\r",
      " 70%|████████████████████████████████▏             | 455/650 [07:00<03:21,  1.03s/it]"
     ]
    },
    {
     "name": "stdout",
     "output_type": "stream",
     "text": [
      "Original: [ 0 22 99]\n",
      "Candidate: [ 0 23 99]\n",
      "---------------------------\n",
      "ratio: 1.0\n"
     ]
    },
    {
     "name": "stderr",
     "output_type": "stream",
     "text": [
      "\r",
      " 70%|████████████████████████████████▎             | 456/650 [07:01<03:09,  1.02it/s]"
     ]
    },
    {
     "name": "stdout",
     "output_type": "stream",
     "text": [
      "Original: [ 0 23 99]\n",
      "Candidate: [ 0 99]\n",
      "---------------------------\n",
      "ratio: 0.18536520421594194\n"
     ]
    },
    {
     "name": "stderr",
     "output_type": "stream",
     "text": [
      "\r",
      " 70%|████████████████████████████████▎             | 457/650 [07:02<03:16,  1.02s/it]"
     ]
    },
    {
     "name": "stdout",
     "output_type": "stream",
     "text": [
      "Original: [ 0 23 99]\n",
      "Candidate: [ 0 23]\n",
      "---------------------------\n",
      "ratio: 0.30637539503239825\n"
     ]
    },
    {
     "name": "stderr",
     "output_type": "stream",
     "text": [
      "\r",
      " 70%|████████████████████████████████▍             | 458/650 [07:03<03:05,  1.04it/s]"
     ]
    },
    {
     "name": "stdout",
     "output_type": "stream",
     "text": [
      "Original: [ 0 23]\n",
      "Candidate: [0]\n",
      "---------------------------\n",
      "ratio: 0.5431745942607213\n"
     ]
    },
    {
     "name": "stderr",
     "output_type": "stream",
     "text": [
      "\r",
      " 71%|████████████████████████████████▍             | 459/650 [07:03<02:56,  1.08it/s]"
     ]
    },
    {
     "name": "stdout",
     "output_type": "stream",
     "text": [
      "Original: [ 0 23]\n",
      "Candidate: [0]\n",
      "---------------------------\n",
      "ratio: 0.4064385079139772\n"
     ]
    },
    {
     "name": "stderr",
     "output_type": "stream",
     "text": [
      "\r",
      " 71%|████████████████████████████████▌             | 460/650 [07:04<02:49,  1.12it/s]"
     ]
    },
    {
     "name": "stdout",
     "output_type": "stream",
     "text": [
      "Original: [ 0 23]\n",
      "Candidate: [ 0 23 63]\n",
      "---------------------------\n",
      "ratio: 1.0\n"
     ]
    },
    {
     "name": "stderr",
     "output_type": "stream",
     "text": [
      "\r",
      " 71%|████████████████████████████████▌             | 461/650 [07:05<03:07,  1.01it/s]"
     ]
    },
    {
     "name": "stdout",
     "output_type": "stream",
     "text": [
      "Original: [ 0 23 63]\n",
      "Candidate: [ 0 23]\n",
      "---------------------------\n",
      "ratio: 1.0\n"
     ]
    },
    {
     "name": "stderr",
     "output_type": "stream",
     "text": [
      "\r",
      " 71%|████████████████████████████████▋             | 462/650 [07:07<03:20,  1.07s/it]"
     ]
    },
    {
     "name": "stdout",
     "output_type": "stream",
     "text": [
      "Original: [ 0 23]\n",
      "Candidate: [0]\n",
      "---------------------------\n",
      "ratio: 0.31466322418659143\n"
     ]
    },
    {
     "name": "stderr",
     "output_type": "stream",
     "text": [
      "\r",
      " 71%|████████████████████████████████▊             | 463/650 [07:08<03:36,  1.16s/it]"
     ]
    },
    {
     "name": "stdout",
     "output_type": "stream",
     "text": [
      "Original: [ 0 23]\n",
      "Candidate: [ 0 24]\n",
      "---------------------------\n",
      "ratio: 1.0\n"
     ]
    },
    {
     "name": "stderr",
     "output_type": "stream",
     "text": [
      "\r",
      " 71%|████████████████████████████████▊             | 464/650 [07:10<03:52,  1.25s/it]"
     ]
    },
    {
     "name": "stdout",
     "output_type": "stream",
     "text": [
      "Original: [ 0 24]\n",
      "Candidate: [0]\n",
      "---------------------------\n",
      "ratio: 0.23740653509174986\n"
     ]
    },
    {
     "name": "stderr",
     "output_type": "stream",
     "text": [
      "\r",
      " 72%|████████████████████████████████▉             | 465/650 [07:11<03:45,  1.22s/it]"
     ]
    },
    {
     "name": "stdout",
     "output_type": "stream",
     "text": [
      "Original: [ 0 24]\n",
      "Candidate: [ 0 23]\n",
      "---------------------------\n",
      "ratio: 0.8205897055471806\n"
     ]
    },
    {
     "name": "stderr",
     "output_type": "stream",
     "text": [
      "\r",
      " 72%|████████████████████████████████▉             | 466/650 [07:12<03:53,  1.27s/it]"
     ]
    },
    {
     "name": "stdout",
     "output_type": "stream",
     "text": [
      "Original: [ 0 23]\n",
      "Candidate: [ 0 22]\n",
      "---------------------------\n",
      "ratio: 0.8307328585608583\n"
     ]
    },
    {
     "name": "stderr",
     "output_type": "stream",
     "text": [
      "\r",
      " 72%|█████████████████████████████████             | 467/650 [07:13<03:52,  1.27s/it]"
     ]
    },
    {
     "name": "stdout",
     "output_type": "stream",
     "text": [
      "Original: [ 0 22]\n",
      "Candidate: [0]\n",
      "---------------------------\n",
      "ratio: 0.34253317828700247\n"
     ]
    },
    {
     "name": "stderr",
     "output_type": "stream",
     "text": [
      "\r",
      " 72%|█████████████████████████████████             | 468/650 [07:14<03:45,  1.24s/it]"
     ]
    },
    {
     "name": "stdout",
     "output_type": "stream",
     "text": [
      "Original: [ 0 22]\n",
      "Candidate: [ 0 23]\n",
      "---------------------------\n",
      "ratio: 1.0\n"
     ]
    },
    {
     "name": "stderr",
     "output_type": "stream",
     "text": [
      "\r",
      " 72%|█████████████████████████████████▏            | 469/650 [07:16<03:41,  1.22s/it]"
     ]
    },
    {
     "name": "stdout",
     "output_type": "stream",
     "text": [
      "Original: [ 0 23]\n",
      "Candidate: [ 0 24]\n",
      "---------------------------\n",
      "ratio: 1.0\n"
     ]
    },
    {
     "name": "stderr",
     "output_type": "stream",
     "text": [
      "\r",
      " 72%|█████████████████████████████████▎            | 470/650 [07:17<03:32,  1.18s/it]"
     ]
    },
    {
     "name": "stdout",
     "output_type": "stream",
     "text": [
      "Original: [ 0 24]\n",
      "Candidate: [ 0 23]\n",
      "---------------------------\n",
      "ratio: 0.7937771552504368\n"
     ]
    },
    {
     "name": "stderr",
     "output_type": "stream",
     "text": [
      "\r",
      " 72%|█████████████████████████████████▎            | 471/650 [07:18<03:35,  1.21s/it]"
     ]
    },
    {
     "name": "stdout",
     "output_type": "stream",
     "text": [
      "Original: [ 0 24]\n",
      "Candidate: [0]\n",
      "---------------------------\n",
      "ratio: 0.3714562060690862\n"
     ]
    },
    {
     "name": "stderr",
     "output_type": "stream",
     "text": [
      "\r",
      " 73%|█████████████████████████████████▍            | 472/650 [07:19<03:17,  1.11s/it]"
     ]
    },
    {
     "name": "stdout",
     "output_type": "stream",
     "text": [
      "Original: [ 0 24]\n",
      "Candidate: [0]\n",
      "---------------------------\n",
      "ratio: 0.2388848211901147\n"
     ]
    },
    {
     "name": "stderr",
     "output_type": "stream",
     "text": [
      "\r",
      " 73%|█████████████████████████████████▍            | 473/650 [07:20<03:01,  1.03s/it]"
     ]
    },
    {
     "name": "stdout",
     "output_type": "stream",
     "text": [
      "Original: [ 0 24]\n",
      "Candidate: [ 0  6 24]\n",
      "---------------------------\n",
      "ratio: 0.5189393352642052\n"
     ]
    },
    {
     "name": "stderr",
     "output_type": "stream",
     "text": [
      "\r",
      " 73%|█████████████████████████████████▌            | 474/650 [07:21<02:50,  1.03it/s]"
     ]
    },
    {
     "name": "stdout",
     "output_type": "stream",
     "text": [
      "Original: [ 0 24]\n",
      "Candidate: [ 0 25]\n",
      "---------------------------\n",
      "ratio: 1.0\n"
     ]
    },
    {
     "name": "stderr",
     "output_type": "stream",
     "text": [
      "\r",
      " 73%|█████████████████████████████████▌            | 475/650 [07:21<02:42,  1.07it/s]"
     ]
    },
    {
     "name": "stdout",
     "output_type": "stream",
     "text": [
      "Original: [ 0 25]\n",
      "Candidate: [ 0 24]\n",
      "---------------------------\n",
      "ratio: 0.826165754444075\n"
     ]
    },
    {
     "name": "stderr",
     "output_type": "stream",
     "text": [
      "\r",
      " 73%|█████████████████████████████████▋            | 476/650 [07:23<02:53,  1.00it/s]"
     ]
    },
    {
     "name": "stdout",
     "output_type": "stream",
     "text": [
      "Original: [ 0 24]\n",
      "Candidate: [0]\n",
      "---------------------------\n",
      "ratio: 0.3184496050018267\n"
     ]
    },
    {
     "name": "stderr",
     "output_type": "stream",
     "text": [
      "\r",
      " 73%|█████████████████████████████████▊            | 477/650 [07:24<02:56,  1.02s/it]"
     ]
    },
    {
     "name": "stdout",
     "output_type": "stream",
     "text": [
      "Original: [0]\n",
      "Candidate: [ 0 56]\n",
      "---------------------------\n",
      "ratio: 1.0\n"
     ]
    },
    {
     "name": "stderr",
     "output_type": "stream",
     "text": [
      "\r",
      " 74%|█████████████████████████████████▊            | 478/650 [07:25<02:59,  1.04s/it]"
     ]
    },
    {
     "name": "stdout",
     "output_type": "stream",
     "text": [
      "Original: [ 0 56]\n",
      "Candidate: [ 0 55]\n",
      "---------------------------\n",
      "ratio: 1.0\n"
     ]
    },
    {
     "name": "stderr",
     "output_type": "stream",
     "text": [
      "\r",
      " 74%|█████████████████████████████████▉            | 479/650 [07:26<03:29,  1.23s/it]"
     ]
    },
    {
     "name": "stdout",
     "output_type": "stream",
     "text": [
      "Original: [ 0 55]\n",
      "Candidate: [ 0 55 65]\n",
      "---------------------------\n",
      "ratio: 0.2942134999508164\n"
     ]
    },
    {
     "name": "stderr",
     "output_type": "stream",
     "text": [
      "\r",
      " 74%|█████████████████████████████████▉            | 480/650 [07:27<03:21,  1.19s/it]"
     ]
    },
    {
     "name": "stdout",
     "output_type": "stream",
     "text": [
      "Original: [ 0 55]\n",
      "Candidate: [ 0 37 55]\n",
      "---------------------------\n",
      "ratio: 0.4678133536449627\n"
     ]
    },
    {
     "name": "stderr",
     "output_type": "stream",
     "text": [
      "\r",
      " 74%|██████████████████████████████████            | 481/650 [07:29<03:36,  1.28s/it]"
     ]
    },
    {
     "name": "stdout",
     "output_type": "stream",
     "text": [
      "Original: [ 0 37 55]\n",
      "Candidate: [ 0 37]\n",
      "---------------------------\n",
      "ratio: 1.0\n"
     ]
    },
    {
     "name": "stderr",
     "output_type": "stream",
     "text": [
      "\r",
      " 74%|██████████████████████████████████            | 482/650 [07:30<03:25,  1.22s/it]"
     ]
    },
    {
     "name": "stdout",
     "output_type": "stream",
     "text": [
      "Original: [ 0 37]\n",
      "Candidate: [ 0 37 41]\n",
      "---------------------------\n",
      "ratio: 0.9034962879368882\n"
     ]
    },
    {
     "name": "stderr",
     "output_type": "stream",
     "text": [
      "\r",
      " 74%|██████████████████████████████████▏           | 483/650 [07:31<03:22,  1.22s/it]"
     ]
    },
    {
     "name": "stdout",
     "output_type": "stream",
     "text": [
      "Original: [ 0 37 41]\n",
      "Candidate: [ 0 36 41]\n",
      "---------------------------\n",
      "ratio: 0.8778008057232755\n"
     ]
    },
    {
     "name": "stderr",
     "output_type": "stream",
     "text": [
      "\r",
      " 74%|██████████████████████████████████▎           | 484/650 [07:32<03:02,  1.10s/it]"
     ]
    },
    {
     "name": "stdout",
     "output_type": "stream",
     "text": [
      "Original: [ 0 36 41]\n",
      "Candidate: [ 0 37 41]\n",
      "---------------------------\n",
      "ratio: 1.0\n"
     ]
    },
    {
     "name": "stderr",
     "output_type": "stream",
     "text": [
      "\r",
      " 75%|██████████████████████████████████▎           | 485/650 [07:33<02:47,  1.02s/it]"
     ]
    },
    {
     "name": "stdout",
     "output_type": "stream",
     "text": [
      "Original: [ 0 37 41]\n",
      "Candidate: [ 0 41]\n",
      "---------------------------\n",
      "ratio: 1.0\n"
     ]
    },
    {
     "name": "stderr",
     "output_type": "stream",
     "text": [
      "\r",
      " 75%|██████████████████████████████████▍           | 486/650 [07:34<02:51,  1.05s/it]"
     ]
    },
    {
     "name": "stdout",
     "output_type": "stream",
     "text": [
      "Original: [ 0 41]\n",
      "Candidate: [ 0 42]\n",
      "---------------------------\n",
      "ratio: 1.0\n"
     ]
    },
    {
     "name": "stderr",
     "output_type": "stream",
     "text": [
      "\r",
      " 75%|██████████████████████████████████▍           | 487/650 [07:35<02:40,  1.02it/s]"
     ]
    },
    {
     "name": "stdout",
     "output_type": "stream",
     "text": [
      "Original: [ 0 42]\n",
      "Candidate: [ 0 42 69]\n",
      "---------------------------\n",
      "ratio: 0.34686489392682157\n"
     ]
    },
    {
     "name": "stderr",
     "output_type": "stream",
     "text": [
      "\r",
      " 75%|██████████████████████████████████▌           | 488/650 [07:36<02:32,  1.07it/s]"
     ]
    },
    {
     "name": "stdout",
     "output_type": "stream",
     "text": [
      "Original: [ 0 42]\n",
      "Candidate: [ 0 41]\n",
      "---------------------------\n",
      "ratio: 0.981217141142065\n"
     ]
    },
    {
     "name": "stderr",
     "output_type": "stream",
     "text": [
      "\r",
      " 75%|██████████████████████████████████▌           | 489/650 [07:37<02:26,  1.10it/s]"
     ]
    },
    {
     "name": "stdout",
     "output_type": "stream",
     "text": [
      "Original: [ 0 41]\n",
      "Candidate: [ 0 40]\n",
      "---------------------------\n",
      "ratio: 0.9638015865127191\n"
     ]
    },
    {
     "name": "stderr",
     "output_type": "stream",
     "text": [
      "\r",
      " 75%|██████████████████████████████████▋           | 490/650 [07:37<02:20,  1.14it/s]"
     ]
    },
    {
     "name": "stdout",
     "output_type": "stream",
     "text": [
      "Original: [ 0 40]\n",
      "Candidate: [ 0 40 49]\n",
      "---------------------------\n",
      "ratio: 0.7283837196880337\n"
     ]
    },
    {
     "name": "stderr",
     "output_type": "stream",
     "text": [
      "\r",
      " 76%|██████████████████████████████████▋           | 491/650 [07:38<02:17,  1.16it/s]"
     ]
    },
    {
     "name": "stdout",
     "output_type": "stream",
     "text": [
      "Original: [ 0 40]\n",
      "Candidate: [ 0 41]\n",
      "---------------------------\n",
      "ratio: 1.0\n"
     ]
    },
    {
     "name": "stderr",
     "output_type": "stream",
     "text": [
      "\r",
      " 76%|██████████████████████████████████▊           | 492/650 [07:39<02:14,  1.18it/s]"
     ]
    },
    {
     "name": "stdout",
     "output_type": "stream",
     "text": [
      "Original: [ 0 41]\n",
      "Candidate: [ 0 40]\n",
      "---------------------------\n",
      "ratio: 0.9816928083461584\n"
     ]
    },
    {
     "name": "stderr",
     "output_type": "stream",
     "text": [
      "\r",
      " 76%|██████████████████████████████████▉           | 493/650 [07:40<02:12,  1.18it/s]"
     ]
    },
    {
     "name": "stdout",
     "output_type": "stream",
     "text": [
      "Original: [ 0 40]\n",
      "Candidate: [ 0 39]\n",
      "---------------------------\n",
      "ratio: 0.9193167499883232\n"
     ]
    },
    {
     "name": "stderr",
     "output_type": "stream",
     "text": [
      "\r",
      " 76%|██████████████████████████████████▉           | 494/650 [07:41<02:09,  1.20it/s]"
     ]
    },
    {
     "name": "stdout",
     "output_type": "stream",
     "text": [
      "Original: [ 0 39]\n",
      "Candidate: [ 0 39 68]\n",
      "---------------------------\n",
      "ratio: 0.18756831507433805\n"
     ]
    },
    {
     "name": "stderr",
     "output_type": "stream",
     "text": [
      "\r",
      " 76%|███████████████████████████████████           | 495/650 [07:41<02:09,  1.20it/s]"
     ]
    },
    {
     "name": "stdout",
     "output_type": "stream",
     "text": [
      "Original: [ 0 39]\n",
      "Candidate: [0]\n",
      "---------------------------\n",
      "ratio: 0.661188352914876\n"
     ]
    },
    {
     "name": "stderr",
     "output_type": "stream",
     "text": [
      "\r",
      " 76%|███████████████████████████████████           | 496/650 [07:43<02:30,  1.03it/s]"
     ]
    },
    {
     "name": "stdout",
     "output_type": "stream",
     "text": [
      "Original: [ 0 39]\n",
      "Candidate: [ 0 40]\n",
      "---------------------------\n",
      "ratio: 1.0\n"
     ]
    },
    {
     "name": "stderr",
     "output_type": "stream",
     "text": [
      "\r",
      " 76%|███████████████████████████████████▏          | 497/650 [07:44<02:40,  1.05s/it]"
     ]
    },
    {
     "name": "stdout",
     "output_type": "stream",
     "text": [
      "Original: [ 0 40]\n",
      "Candidate: [0]\n",
      "---------------------------\n",
      "ratio: 0.4081111843477648\n"
     ]
    },
    {
     "name": "stderr",
     "output_type": "stream",
     "text": [
      "\r",
      " 77%|███████████████████████████████████▏          | 498/650 [07:45<02:58,  1.17s/it]"
     ]
    },
    {
     "name": "stdout",
     "output_type": "stream",
     "text": [
      "Original: [ 0 40]\n",
      "Candidate: [0]\n",
      "---------------------------\n",
      "ratio: 0.34890169558884415\n"
     ]
    },
    {
     "name": "stderr",
     "output_type": "stream",
     "text": [
      "\r",
      " 77%|███████████████████████████████████▎          | 499/650 [07:46<02:50,  1.13s/it]"
     ]
    },
    {
     "name": "stdout",
     "output_type": "stream",
     "text": [
      "Original: [ 0 40]\n",
      "Candidate: [ 0 40 98]\n",
      "---------------------------\n",
      "ratio: 1.0\n"
     ]
    },
    {
     "name": "stderr",
     "output_type": "stream",
     "text": [
      "\r",
      " 77%|███████████████████████████████████▍          | 500/650 [07:47<02:35,  1.04s/it]"
     ]
    },
    {
     "name": "stdout",
     "output_type": "stream",
     "text": [
      "Original: [ 0 40 98]\n",
      "Candidate: [ 0 40 97]\n",
      "---------------------------\n",
      "ratio: 0.40768428877475926\n"
     ]
    },
    {
     "name": "stderr",
     "output_type": "stream",
     "text": [
      "\r",
      " 77%|███████████████████████████████████▍          | 501/650 [07:48<02:24,  1.03it/s]"
     ]
    },
    {
     "name": "stdout",
     "output_type": "stream",
     "text": [
      "\n",
      "Step: 500\n",
      "----------------------------------------------------\n",
      "Original: [ 0 40 98]\n",
      "Candidate: [ 0 40 99]\n",
      "---------------------------\n",
      "ratio: 1.0\n"
     ]
    },
    {
     "name": "stderr",
     "output_type": "stream",
     "text": [
      "\r",
      " 77%|███████████████████████████████████▌          | 502/650 [07:49<02:16,  1.08it/s]"
     ]
    },
    {
     "name": "stdout",
     "output_type": "stream",
     "text": [
      "Original: [ 0 40 99]\n",
      "Candidate: [ 0 40 61 99]\n",
      "---------------------------\n",
      "ratio: 0.14370727431567906\n"
     ]
    },
    {
     "name": "stderr",
     "output_type": "stream",
     "text": [
      "\r",
      " 77%|███████████████████████████████████▌          | 503/650 [07:50<02:32,  1.03s/it]"
     ]
    },
    {
     "name": "stdout",
     "output_type": "stream",
     "text": [
      "Original: [ 0 40 99]\n",
      "Candidate: [ 0 40 94 99]\n",
      "---------------------------\n",
      "ratio: 0.5301493874191516\n"
     ]
    },
    {
     "name": "stderr",
     "output_type": "stream",
     "text": [
      "\r",
      " 78%|███████████████████████████████████▋          | 504/650 [07:51<02:33,  1.05s/it]"
     ]
    },
    {
     "name": "stdout",
     "output_type": "stream",
     "text": [
      "Original: [ 0 40 94 99]\n",
      "Candidate: [ 0 40 86 94 99]\n",
      "---------------------------\n",
      "ratio: 0.1758934941533343\n"
     ]
    },
    {
     "name": "stderr",
     "output_type": "stream",
     "text": [
      "\r",
      " 78%|███████████████████████████████████▋          | 505/650 [07:52<02:22,  1.02it/s]"
     ]
    },
    {
     "name": "stdout",
     "output_type": "stream",
     "text": [
      "Original: [ 0 40 94 99]\n",
      "Candidate: [ 0 94 99]\n",
      "---------------------------\n",
      "ratio: 0.23439625866112174\n"
     ]
    },
    {
     "name": "stderr",
     "output_type": "stream",
     "text": [
      "\r",
      " 78%|███████████████████████████████████▊          | 506/650 [07:53<02:14,  1.07it/s]"
     ]
    },
    {
     "name": "stdout",
     "output_type": "stream",
     "text": [
      "Original: [ 0 40 94 99]\n",
      "Candidate: [ 0 40 94]\n",
      "---------------------------\n",
      "ratio: 0.45555758174674443\n"
     ]
    },
    {
     "name": "stderr",
     "output_type": "stream",
     "text": [
      "\r",
      " 78%|███████████████████████████████████▉          | 507/650 [07:54<02:07,  1.12it/s]"
     ]
    },
    {
     "name": "stdout",
     "output_type": "stream",
     "text": [
      "Original: [ 0 40 94 99]\n",
      "Candidate: [ 0 10 40 94 99]\n",
      "---------------------------\n",
      "ratio: 0.21763643424744006\n"
     ]
    },
    {
     "name": "stderr",
     "output_type": "stream",
     "text": [
      "\r",
      " 78%|███████████████████████████████████▉          | 508/650 [07:55<02:03,  1.15it/s]"
     ]
    },
    {
     "name": "stdout",
     "output_type": "stream",
     "text": [
      "Original: [ 0 10 40 94 99]\n",
      "Candidate: [ 0 11 40 94 99]\n",
      "---------------------------\n",
      "ratio: 0.9751939234224133\n"
     ]
    },
    {
     "name": "stderr",
     "output_type": "stream",
     "text": [
      "\r",
      " 78%|████████████████████████████████████          | 509/650 [07:56<02:15,  1.04it/s]"
     ]
    },
    {
     "name": "stdout",
     "output_type": "stream",
     "text": [
      "Original: [ 0 11 40 94 99]\n",
      "Candidate: [ 0 11 40 76 94 99]\n",
      "---------------------------\n",
      "ratio: 0.22559490980086733\n"
     ]
    },
    {
     "name": "stderr",
     "output_type": "stream",
     "text": [
      "\r",
      " 78%|████████████████████████████████████          | 510/650 [07:57<02:22,  1.01s/it]"
     ]
    },
    {
     "name": "stdout",
     "output_type": "stream",
     "text": [
      "Original: [ 0 11 40 94 99]\n",
      "Candidate: [ 0 11 94 99]\n",
      "---------------------------\n",
      "ratio: 1.0\n"
     ]
    },
    {
     "name": "stderr",
     "output_type": "stream",
     "text": [
      "\r",
      " 79%|████████████████████████████████████▏         | 511/650 [07:58<02:15,  1.03it/s]"
     ]
    },
    {
     "name": "stdout",
     "output_type": "stream",
     "text": [
      "Original: [ 0 11 94 99]\n",
      "Candidate: [ 0 94 99]\n",
      "---------------------------\n",
      "ratio: 1.0\n"
     ]
    },
    {
     "name": "stderr",
     "output_type": "stream",
     "text": [
      "\r",
      " 79%|████████████████████████████████████▏         | 512/650 [07:59<02:07,  1.08it/s]"
     ]
    },
    {
     "name": "stdout",
     "output_type": "stream",
     "text": [
      "Original: [ 0 94 99]\n",
      "Candidate: [ 0 94]\n",
      "---------------------------\n",
      "ratio: 0.12603765553126495\n"
     ]
    },
    {
     "name": "stderr",
     "output_type": "stream",
     "text": [
      "\r",
      " 79%|████████████████████████████████████▎         | 513/650 [07:59<02:01,  1.13it/s]"
     ]
    },
    {
     "name": "stdout",
     "output_type": "stream",
     "text": [
      "Original: [ 0 94 99]\n",
      "Candidate: [ 0 95 99]\n",
      "---------------------------\n",
      "ratio: 0.9245921428727776\n"
     ]
    },
    {
     "name": "stderr",
     "output_type": "stream",
     "text": [
      "\r",
      " 79%|████████████████████████████████████▍         | 514/650 [08:00<02:09,  1.05it/s]"
     ]
    },
    {
     "name": "stdout",
     "output_type": "stream",
     "text": [
      "Original: [ 0 95 99]\n",
      "Candidate: [ 0 95]\n",
      "---------------------------\n",
      "ratio: 0.1943622236201226\n"
     ]
    },
    {
     "name": "stderr",
     "output_type": "stream",
     "text": [
      "\r",
      " 79%|████████████████████████████████████▍         | 515/650 [08:02<02:17,  1.02s/it]"
     ]
    },
    {
     "name": "stdout",
     "output_type": "stream",
     "text": [
      "Original: [ 0 95 99]\n",
      "Candidate: [ 0 44 95 99]\n",
      "---------------------------\n",
      "ratio: 1.0\n"
     ]
    },
    {
     "name": "stderr",
     "output_type": "stream",
     "text": [
      "\r",
      " 79%|████████████████████████████████████▌         | 516/650 [08:03<02:12,  1.01it/s]"
     ]
    },
    {
     "name": "stdout",
     "output_type": "stream",
     "text": [
      "Original: [ 0 44 95 99]\n",
      "Candidate: [ 0 44 95 98]\n",
      "---------------------------\n",
      "ratio: 0.6220707681343717\n"
     ]
    },
    {
     "name": "stderr",
     "output_type": "stream",
     "text": [
      "\r",
      " 80%|████████████████████████████████████▌         | 517/650 [08:04<02:12,  1.00it/s]"
     ]
    },
    {
     "name": "stdout",
     "output_type": "stream",
     "text": [
      "Original: [ 0 44 95 98]\n",
      "Candidate: [ 0 44 96 98]\n",
      "---------------------------\n",
      "ratio: 1.0\n"
     ]
    },
    {
     "name": "stderr",
     "output_type": "stream",
     "text": [
      "\r",
      " 80%|████████████████████████████████████▋         | 518/650 [08:04<02:04,  1.06it/s]"
     ]
    },
    {
     "name": "stdout",
     "output_type": "stream",
     "text": [
      "Original: [ 0 44 96 98]\n",
      "Candidate: [ 0 29 44 96 98]\n",
      "---------------------------\n",
      "ratio: 0.3356677925397877\n"
     ]
    },
    {
     "name": "stderr",
     "output_type": "stream",
     "text": [
      "\r",
      " 80%|████████████████████████████████████▋         | 519/650 [08:05<01:58,  1.11it/s]"
     ]
    },
    {
     "name": "stdout",
     "output_type": "stream",
     "text": [
      "Original: [ 0 44 96 98]\n",
      "Candidate: [ 0 44 95 98]\n",
      "---------------------------\n",
      "ratio: 0.28551450660284305\n"
     ]
    },
    {
     "name": "stderr",
     "output_type": "stream",
     "text": [
      "\r",
      " 80%|████████████████████████████████████▊         | 520/650 [08:06<01:58,  1.09it/s]"
     ]
    },
    {
     "name": "stdout",
     "output_type": "stream",
     "text": [
      "Original: [ 0 44 96 98]\n",
      "Candidate: [ 0 44 86 96 98]\n",
      "---------------------------\n",
      "ratio: 0.17209330305259746\n"
     ]
    },
    {
     "name": "stderr",
     "output_type": "stream",
     "text": [
      "\r",
      " 80%|████████████████████████████████████▊         | 521/650 [08:08<02:15,  1.05s/it]"
     ]
    },
    {
     "name": "stdout",
     "output_type": "stream",
     "text": [
      "Original: [ 0 44 96 98]\n",
      "Candidate: [ 0 44 96]\n",
      "---------------------------\n",
      "ratio: 0.4438138145660199\n"
     ]
    },
    {
     "name": "stderr",
     "output_type": "stream",
     "text": [
      "\r",
      " 80%|████████████████████████████████████▉         | 522/650 [08:09<02:17,  1.07s/it]"
     ]
    },
    {
     "name": "stdout",
     "output_type": "stream",
     "text": [
      "Original: [ 0 44 96 98]\n",
      "Candidate: [ 0 44 96]\n",
      "---------------------------\n",
      "ratio: 0.5626993801847877\n"
     ]
    },
    {
     "name": "stderr",
     "output_type": "stream",
     "text": [
      "\r",
      " 80%|█████████████████████████████████████         | 523/650 [08:10<02:19,  1.10s/it]"
     ]
    },
    {
     "name": "stdout",
     "output_type": "stream",
     "text": [
      "Original: [ 0 44 96 98]\n",
      "Candidate: [ 0 44 97 98]\n",
      "---------------------------\n",
      "ratio: 1.0\n"
     ]
    },
    {
     "name": "stderr",
     "output_type": "stream",
     "text": [
      "\r",
      " 81%|█████████████████████████████████████         | 524/650 [08:11<02:10,  1.03s/it]"
     ]
    },
    {
     "name": "stdout",
     "output_type": "stream",
     "text": [
      "Original: [ 0 44 97 98]\n",
      "Candidate: [ 0 44 97 99]\n",
      "---------------------------\n",
      "ratio: 0.7090265869057131\n"
     ]
    },
    {
     "name": "stderr",
     "output_type": "stream",
     "text": [
      "\r",
      " 81%|█████████████████████████████████████▏        | 525/650 [08:12<02:01,  1.03it/s]"
     ]
    },
    {
     "name": "stdout",
     "output_type": "stream",
     "text": [
      "Original: [ 0 44 97 98]\n",
      "Candidate: [ 0 45 97 98]\n",
      "---------------------------\n",
      "ratio: 1.0\n"
     ]
    },
    {
     "name": "stderr",
     "output_type": "stream",
     "text": [
      "\r",
      " 81%|█████████████████████████████████████▏        | 526/650 [08:12<01:54,  1.08it/s]"
     ]
    },
    {
     "name": "stdout",
     "output_type": "stream",
     "text": [
      "Original: [ 0 45 97 98]\n",
      "Candidate: [ 0 46 97 98]\n",
      "---------------------------\n",
      "ratio: 1.0\n"
     ]
    },
    {
     "name": "stderr",
     "output_type": "stream",
     "text": [
      "\r",
      " 81%|█████████████████████████████████████▎        | 527/650 [08:13<01:49,  1.12it/s]"
     ]
    },
    {
     "name": "stdout",
     "output_type": "stream",
     "text": [
      "Original: [ 0 46 97 98]\n",
      "Candidate: [ 0 46 98]\n",
      "---------------------------\n",
      "ratio: 0.029003844427369238\n"
     ]
    },
    {
     "name": "stderr",
     "output_type": "stream",
     "text": [
      "\r",
      " 81%|█████████████████████████████████████▎        | 528/650 [08:14<01:45,  1.16it/s]"
     ]
    },
    {
     "name": "stdout",
     "output_type": "stream",
     "text": [
      "Original: [ 0 46 97 98]\n",
      "Candidate: [ 0 46 96 98]\n",
      "---------------------------\n",
      "ratio: 0.5641918597492063\n"
     ]
    },
    {
     "name": "stderr",
     "output_type": "stream",
     "text": [
      "\r",
      " 81%|█████████████████████████████████████▍        | 529/650 [08:15<01:42,  1.18it/s]"
     ]
    },
    {
     "name": "stdout",
     "output_type": "stream",
     "text": [
      "Original: [ 0 46 96 98]\n",
      "Candidate: [ 0 46 84 96 98]\n",
      "---------------------------\n",
      "ratio: 0.12549126416953413\n"
     ]
    },
    {
     "name": "stderr",
     "output_type": "stream",
     "text": [
      "\r",
      " 82%|█████████████████████████████████████▌        | 530/650 [08:16<01:39,  1.21it/s]"
     ]
    },
    {
     "name": "stdout",
     "output_type": "stream",
     "text": [
      "Original: [ 0 46 96 98]\n",
      "Candidate: [ 0 46 98]\n",
      "---------------------------\n",
      "ratio: 1.0\n"
     ]
    },
    {
     "name": "stderr",
     "output_type": "stream",
     "text": [
      "\r",
      " 82%|█████████████████████████████████████▌        | 531/650 [08:16<01:37,  1.22it/s]"
     ]
    },
    {
     "name": "stdout",
     "output_type": "stream",
     "text": [
      "Original: [ 0 46 98]\n",
      "Candidate: [ 0  5 46 98]\n",
      "---------------------------\n",
      "ratio: 0.36084258200080555\n"
     ]
    },
    {
     "name": "stderr",
     "output_type": "stream",
     "text": [
      "\r",
      " 82%|█████████████████████████████████████▋        | 532/650 [08:17<01:35,  1.23it/s]"
     ]
    },
    {
     "name": "stdout",
     "output_type": "stream",
     "text": [
      "Original: [ 0  5 46 98]\n",
      "Candidate: [ 0  5 46 72 98]\n",
      "---------------------------\n",
      "ratio: 0.09700770810107663\n"
     ]
    },
    {
     "name": "stderr",
     "output_type": "stream",
     "text": [
      "\r",
      " 82%|█████████████████████████████████████▋        | 533/650 [08:18<01:34,  1.24it/s]"
     ]
    },
    {
     "name": "stdout",
     "output_type": "stream",
     "text": [
      "Original: [ 0  5 46 72 98]\n",
      "Candidate: [ 0  5 46 72 97]\n",
      "---------------------------\n",
      "ratio: 1.0\n"
     ]
    },
    {
     "name": "stderr",
     "output_type": "stream",
     "text": [
      "\r",
      " 82%|█████████████████████████████████████▊        | 534/650 [08:19<01:33,  1.24it/s]"
     ]
    },
    {
     "name": "stdout",
     "output_type": "stream",
     "text": [
      "Original: [ 0  5 46 72 97]\n",
      "Candidate: [ 0  5 46 72 97 99]\n",
      "---------------------------\n",
      "ratio: 1.0\n"
     ]
    },
    {
     "name": "stderr",
     "output_type": "stream",
     "text": [
      "\r",
      " 82%|█████████████████████████████████████▊        | 535/650 [08:20<01:31,  1.25it/s]"
     ]
    },
    {
     "name": "stdout",
     "output_type": "stream",
     "text": [
      "Original: [ 0  5 46 72 97 99]\n",
      "Candidate: [ 0  5 46 72 98 99]\n",
      "---------------------------\n",
      "ratio: 1.0\n"
     ]
    },
    {
     "name": "stderr",
     "output_type": "stream",
     "text": [
      "\r",
      " 82%|█████████████████████████████████████▉        | 536/650 [08:20<01:31,  1.25it/s]"
     ]
    },
    {
     "name": "stdout",
     "output_type": "stream",
     "text": [
      "Original: [ 0  5 46 72 98 99]\n",
      "Candidate: [ 0  5 46 72 98]\n",
      "---------------------------\n",
      "ratio: 0.6777209767171939\n"
     ]
    },
    {
     "name": "stderr",
     "output_type": "stream",
     "text": [
      "\r",
      " 83%|██████████████████████████████████████        | 537/650 [08:21<01:29,  1.26it/s]"
     ]
    },
    {
     "name": "stdout",
     "output_type": "stream",
     "text": [
      "Original: [ 0  5 46 72 98]\n",
      "Candidate: [ 0  5 46 69 72 98]\n",
      "---------------------------\n",
      "ratio: 0.33038166496238547\n"
     ]
    },
    {
     "name": "stderr",
     "output_type": "stream",
     "text": [
      "\r",
      " 83%|██████████████████████████████████████        | 538/650 [08:22<01:28,  1.26it/s]"
     ]
    },
    {
     "name": "stdout",
     "output_type": "stream",
     "text": [
      "Original: [ 0  5 46 72 98]\n",
      "Candidate: [ 0  5 46 66 72 98]\n",
      "---------------------------\n",
      "ratio: 0.19028605503727278\n"
     ]
    },
    {
     "name": "stderr",
     "output_type": "stream",
     "text": [
      "\r",
      " 83%|██████████████████████████████████████▏       | 539/650 [08:23<01:28,  1.26it/s]"
     ]
    },
    {
     "name": "stdout",
     "output_type": "stream",
     "text": [
      "Original: [ 0  5 46 72 98]\n",
      "Candidate: [ 0  4 46 72 98]\n",
      "---------------------------\n",
      "ratio: 1.0\n"
     ]
    },
    {
     "name": "stderr",
     "output_type": "stream",
     "text": [
      "\r",
      " 83%|██████████████████████████████████████▏       | 540/650 [08:23<01:27,  1.26it/s]"
     ]
    },
    {
     "name": "stdout",
     "output_type": "stream",
     "text": [
      "Original: [ 0  4 46 72 98]\n",
      "Candidate: [ 0  4 46 72]\n",
      "---------------------------\n",
      "ratio: 0.72169454013045\n"
     ]
    },
    {
     "name": "stderr",
     "output_type": "stream",
     "text": [
      "\r",
      " 83%|██████████████████████████████████████▎       | 541/650 [08:24<01:26,  1.25it/s]"
     ]
    },
    {
     "name": "stdout",
     "output_type": "stream",
     "text": [
      "Original: [ 0  4 46 72]\n",
      "Candidate: [ 0  3 46 72]\n",
      "---------------------------\n",
      "ratio: 0.9406005724152605\n"
     ]
    },
    {
     "name": "stderr",
     "output_type": "stream",
     "text": [
      "\r",
      " 83%|██████████████████████████████████████▎       | 542/650 [08:25<01:28,  1.22it/s]"
     ]
    },
    {
     "name": "stdout",
     "output_type": "stream",
     "text": [
      "Original: [ 0  3 46 72]\n",
      "Candidate: [ 0  3 34 46 72]\n",
      "---------------------------\n",
      "ratio: 0.24383881835107407\n"
     ]
    },
    {
     "name": "stderr",
     "output_type": "stream",
     "text": [
      "\r",
      " 84%|██████████████████████████████████████▍       | 543/650 [08:26<01:27,  1.22it/s]"
     ]
    },
    {
     "name": "stdout",
     "output_type": "stream",
     "text": [
      "Original: [ 0  3 46 72]\n",
      "Candidate: [ 0  3 13 46 72]\n",
      "---------------------------\n",
      "ratio: 0.21986313581272401\n"
     ]
    },
    {
     "name": "stderr",
     "output_type": "stream",
     "text": [
      "\r",
      " 84%|██████████████████████████████████████▍       | 544/650 [08:27<01:28,  1.20it/s]"
     ]
    },
    {
     "name": "stdout",
     "output_type": "stream",
     "text": [
      "Original: [ 0  3 46 72]\n",
      "Candidate: [ 0  3 46]\n",
      "---------------------------\n",
      "ratio: 1.0\n"
     ]
    },
    {
     "name": "stderr",
     "output_type": "stream",
     "text": [
      "\r",
      " 84%|██████████████████████████████████████▌       | 545/650 [08:28<01:25,  1.22it/s]"
     ]
    },
    {
     "name": "stdout",
     "output_type": "stream",
     "text": [
      "Original: [ 0  3 46]\n",
      "Candidate: [ 0  3 33 46]\n",
      "---------------------------\n",
      "ratio: 0.363512692556201\n"
     ]
    },
    {
     "name": "stderr",
     "output_type": "stream",
     "text": [
      "\r",
      " 84%|██████████████████████████████████████▋       | 546/650 [08:29<01:33,  1.11it/s]"
     ]
    },
    {
     "name": "stdout",
     "output_type": "stream",
     "text": [
      "Original: [ 0  3 46]\n",
      "Candidate: [ 0  3 46 83]\n",
      "---------------------------\n",
      "ratio: 0.15781430775852695\n"
     ]
    },
    {
     "name": "stderr",
     "output_type": "stream",
     "text": [
      "\r",
      " 84%|██████████████████████████████████████▋       | 547/650 [08:30<01:49,  1.06s/it]"
     ]
    },
    {
     "name": "stdout",
     "output_type": "stream",
     "text": [
      "Original: [ 0  3 46]\n",
      "Candidate: [ 0  3 47]\n",
      "---------------------------\n",
      "ratio: 1.0\n"
     ]
    },
    {
     "name": "stderr",
     "output_type": "stream",
     "text": [
      "\r",
      " 84%|██████████████████████████████████████▊       | 548/650 [08:31<01:42,  1.00s/it]"
     ]
    },
    {
     "name": "stdout",
     "output_type": "stream",
     "text": [
      "Original: [ 0  3 47]\n",
      "Candidate: [ 0 47]\n",
      "---------------------------\n",
      "ratio: 1.0\n"
     ]
    },
    {
     "name": "stderr",
     "output_type": "stream",
     "text": [
      "\r",
      " 84%|██████████████████████████████████████▊       | 549/650 [08:32<01:35,  1.06it/s]"
     ]
    },
    {
     "name": "stdout",
     "output_type": "stream",
     "text": [
      "Original: [ 0 47]\n",
      "Candidate: [0]\n",
      "---------------------------\n",
      "ratio: 0.2977078466495138\n"
     ]
    },
    {
     "name": "stderr",
     "output_type": "stream",
     "text": [
      "\r",
      " 85%|██████████████████████████████████████▉       | 550/650 [08:33<01:40,  1.00s/it]"
     ]
    },
    {
     "name": "stdout",
     "output_type": "stream",
     "text": [
      "Original: [ 0 47]\n",
      "Candidate: [ 0 48]\n",
      "---------------------------\n",
      "ratio: 1.0\n"
     ]
    },
    {
     "name": "stderr",
     "output_type": "stream",
     "text": [
      "\r",
      " 85%|██████████████████████████████████████▉       | 551/650 [08:34<01:33,  1.05it/s]"
     ]
    },
    {
     "name": "stdout",
     "output_type": "stream",
     "text": [
      "Original: [ 0 48]\n",
      "Candidate: [ 0 15 48]\n",
      "---------------------------\n",
      "ratio: 0.49548405118671435\n"
     ]
    },
    {
     "name": "stderr",
     "output_type": "stream",
     "text": [
      "\r",
      " 85%|███████████████████████████████████████       | 552/650 [08:35<01:28,  1.11it/s]"
     ]
    },
    {
     "name": "stdout",
     "output_type": "stream",
     "text": [
      "Original: [ 0 48]\n",
      "Candidate: [ 0 47]\n",
      "---------------------------\n",
      "ratio: 0.9357365773583352\n"
     ]
    },
    {
     "name": "stderr",
     "output_type": "stream",
     "text": [
      "\r",
      " 85%|███████████████████████████████████████▏      | 553/650 [08:35<01:24,  1.14it/s]"
     ]
    },
    {
     "name": "stdout",
     "output_type": "stream",
     "text": [
      "Original: [ 0 47]\n",
      "Candidate: [ 0 47 69]\n",
      "---------------------------\n",
      "ratio: 0.17775272417705282\n"
     ]
    },
    {
     "name": "stderr",
     "output_type": "stream",
     "text": [
      "\r",
      " 85%|███████████████████████████████████████▏      | 554/650 [08:36<01:22,  1.16it/s]"
     ]
    },
    {
     "name": "stdout",
     "output_type": "stream",
     "text": [
      "Original: [ 0 47 69]\n",
      "Candidate: [ 0 47 70]\n",
      "---------------------------\n",
      "ratio: 0.9688034767994455\n"
     ]
    },
    {
     "name": "stderr",
     "output_type": "stream",
     "text": [
      "\r",
      " 85%|███████████████████████████████████████▎      | 555/650 [08:37<01:24,  1.13it/s]"
     ]
    },
    {
     "name": "stdout",
     "output_type": "stream",
     "text": [
      "Original: [ 0 47 70]\n",
      "Candidate: [ 0 70]\n",
      "---------------------------\n",
      "ratio: 1.0\n"
     ]
    },
    {
     "name": "stderr",
     "output_type": "stream",
     "text": [
      "\r",
      " 86%|███████████████████████████████████████▎      | 556/650 [08:38<01:32,  1.02it/s]"
     ]
    },
    {
     "name": "stdout",
     "output_type": "stream",
     "text": [
      "Original: [ 0 70]\n",
      "Candidate: [ 0 69]\n",
      "---------------------------\n",
      "ratio: 1.0\n"
     ]
    },
    {
     "name": "stderr",
     "output_type": "stream",
     "text": [
      "\r",
      " 86%|███████████████████████████████████████▍      | 557/650 [08:39<01:26,  1.08it/s]"
     ]
    },
    {
     "name": "stdout",
     "output_type": "stream",
     "text": [
      "Original: [ 0 69]\n",
      "Candidate: [0]\n",
      "---------------------------\n",
      "ratio: 1.0\n"
     ]
    },
    {
     "name": "stderr",
     "output_type": "stream",
     "text": [
      "\r",
      " 86%|███████████████████████████████████████▍      | 558/650 [08:40<01:22,  1.12it/s]"
     ]
    },
    {
     "name": "stdout",
     "output_type": "stream",
     "text": [
      "Original: [0]\n",
      "Candidate: [0 9]\n",
      "---------------------------\n",
      "ratio: 0.43049854538918547\n"
     ]
    },
    {
     "name": "stderr",
     "output_type": "stream",
     "text": [
      "\r",
      " 86%|███████████████████████████████████████▌      | 559/650 [08:41<01:18,  1.16it/s]"
     ]
    },
    {
     "name": "stdout",
     "output_type": "stream",
     "text": [
      "Original: [0]\n",
      "Candidate: [ 0 76]\n",
      "---------------------------\n",
      "ratio: 0.292312538893981\n"
     ]
    },
    {
     "name": "stderr",
     "output_type": "stream",
     "text": [
      "\r",
      " 86%|███████████████████████████████████████▋      | 560/650 [08:42<01:15,  1.19it/s]"
     ]
    },
    {
     "name": "stdout",
     "output_type": "stream",
     "text": [
      "Original: [0]\n",
      "Candidate: [ 0 74]\n",
      "---------------------------\n",
      "ratio: 0.4367816398754099\n"
     ]
    },
    {
     "name": "stderr",
     "output_type": "stream",
     "text": [
      "\r",
      " 86%|███████████████████████████████████████▋      | 561/650 [08:43<01:25,  1.05it/s]"
     ]
    },
    {
     "name": "stdout",
     "output_type": "stream",
     "text": [
      "Original: [0]\n",
      "Candidate: [ 0 97]\n",
      "---------------------------\n",
      "ratio: 0.9186066561363196\n"
     ]
    },
    {
     "name": "stderr",
     "output_type": "stream",
     "text": [
      "\r",
      " 86%|███████████████████████████████████████▊      | 562/650 [08:44<01:20,  1.10it/s]"
     ]
    },
    {
     "name": "stdout",
     "output_type": "stream",
     "text": [
      "Original: [ 0 97]\n",
      "Candidate: [ 0 96]\n",
      "---------------------------\n",
      "ratio: 0.7937475394542193\n"
     ]
    },
    {
     "name": "stderr",
     "output_type": "stream",
     "text": [
      "\r",
      " 87%|███████████████████████████████████████▊      | 563/650 [08:44<01:16,  1.14it/s]"
     ]
    },
    {
     "name": "stdout",
     "output_type": "stream",
     "text": [
      "Original: [ 0 96]\n",
      "Candidate: [ 0 95]\n",
      "---------------------------\n",
      "ratio: 0.911580757850531\n"
     ]
    },
    {
     "name": "stderr",
     "output_type": "stream",
     "text": [
      "\r",
      " 87%|███████████████████████████████████████▉      | 564/650 [08:45<01:13,  1.17it/s]"
     ]
    },
    {
     "name": "stdout",
     "output_type": "stream",
     "text": [
      "Original: [ 0 95]\n",
      "Candidate: [0]\n",
      "---------------------------\n",
      "ratio: 0.16387914037922488\n"
     ]
    },
    {
     "name": "stderr",
     "output_type": "stream",
     "text": [
      "\r",
      " 87%|███████████████████████████████████████▉      | 565/650 [08:46<01:11,  1.20it/s]"
     ]
    },
    {
     "name": "stdout",
     "output_type": "stream",
     "text": [
      "Original: [ 0 95]\n",
      "Candidate: [0]\n",
      "---------------------------\n",
      "ratio: 0.006132140408992688\n"
     ]
    },
    {
     "name": "stderr",
     "output_type": "stream",
     "text": [
      "\r",
      " 87%|████████████████████████████████████████      | 566/650 [08:47<01:20,  1.05it/s]"
     ]
    },
    {
     "name": "stdout",
     "output_type": "stream",
     "text": [
      "Original: [ 0 95]\n",
      "Candidate: [ 0 94]\n",
      "---------------------------\n",
      "ratio: 0.4331385927656195\n"
     ]
    },
    {
     "name": "stderr",
     "output_type": "stream",
     "text": [
      "\r",
      " 87%|████████████████████████████████████████▏     | 567/650 [08:48<01:21,  1.01it/s]"
     ]
    },
    {
     "name": "stdout",
     "output_type": "stream",
     "text": [
      "Original: [ 0 94]\n",
      "Candidate: [ 0 90 94]\n",
      "---------------------------\n",
      "ratio: 0.9864957209281722\n"
     ]
    },
    {
     "name": "stderr",
     "output_type": "stream",
     "text": [
      "\r",
      " 87%|████████████████████████████████████████▏     | 568/650 [08:49<01:18,  1.04it/s]"
     ]
    },
    {
     "name": "stdout",
     "output_type": "stream",
     "text": [
      "Original: [ 0 90 94]\n",
      "Candidate: [ 0 26 90 94]\n",
      "---------------------------\n",
      "ratio: 1.0\n"
     ]
    },
    {
     "name": "stderr",
     "output_type": "stream",
     "text": [
      "\r",
      " 88%|████████████████████████████████████████▎     | 569/650 [08:50<01:15,  1.07it/s]"
     ]
    },
    {
     "name": "stdout",
     "output_type": "stream",
     "text": [
      "Original: [ 0 26 90 94]\n",
      "Candidate: [ 0 26 90 92 94]\n",
      "---------------------------\n",
      "ratio: 1.0\n"
     ]
    },
    {
     "name": "stderr",
     "output_type": "stream",
     "text": [
      "\r",
      " 88%|████████████████████████████████████████▎     | 570/650 [08:51<01:19,  1.01it/s]"
     ]
    },
    {
     "name": "stdout",
     "output_type": "stream",
     "text": [
      "Original: [ 0 26 90 92 94]\n",
      "Candidate: [ 0 26 92 94]\n",
      "---------------------------\n",
      "ratio: 0.9205233417899126\n"
     ]
    },
    {
     "name": "stderr",
     "output_type": "stream",
     "text": [
      "\r",
      " 88%|████████████████████████████████████████▍     | 571/650 [08:52<01:17,  1.01it/s]"
     ]
    },
    {
     "name": "stdout",
     "output_type": "stream",
     "text": [
      "Original: [ 0 26 92 94]\n",
      "Candidate: [ 0 26 94]\n",
      "---------------------------\n",
      "ratio: 1.0\n"
     ]
    },
    {
     "name": "stderr",
     "output_type": "stream",
     "text": [
      "\r",
      " 88%|████████████████████████████████████████▍     | 572/650 [08:53<01:12,  1.07it/s]"
     ]
    },
    {
     "name": "stdout",
     "output_type": "stream",
     "text": [
      "Original: [ 0 26 94]\n",
      "Candidate: [ 0 94]\n",
      "---------------------------\n",
      "ratio: 0.15879220962209065\n"
     ]
    },
    {
     "name": "stderr",
     "output_type": "stream",
     "text": [
      "\r",
      " 88%|████████████████████████████████████████▌     | 573/650 [08:54<01:08,  1.12it/s]"
     ]
    },
    {
     "name": "stdout",
     "output_type": "stream",
     "text": [
      "Original: [ 0 26 94]\n",
      "Candidate: [ 0 26]\n",
      "---------------------------\n",
      "ratio: 1.0\n"
     ]
    },
    {
     "name": "stderr",
     "output_type": "stream",
     "text": [
      "\r",
      " 88%|████████████████████████████████████████▌     | 574/650 [08:55<01:10,  1.08it/s]"
     ]
    },
    {
     "name": "stdout",
     "output_type": "stream",
     "text": [
      "Original: [ 0 26]\n",
      "Candidate: [0]\n",
      "---------------------------\n",
      "ratio: 0.5018241491196923\n"
     ]
    },
    {
     "name": "stderr",
     "output_type": "stream",
     "text": [
      "\r",
      " 88%|████████████████████████████████████████▋     | 575/650 [08:56<01:06,  1.12it/s]"
     ]
    },
    {
     "name": "stdout",
     "output_type": "stream",
     "text": [
      "Original: [ 0 26]\n",
      "Candidate: [ 0 26 57]\n",
      "---------------------------\n",
      "ratio: 0.8861754746287988\n"
     ]
    },
    {
     "name": "stderr",
     "output_type": "stream",
     "text": [
      "\r",
      " 89%|████████████████████████████████████████▊     | 576/650 [08:57<01:07,  1.09it/s]"
     ]
    },
    {
     "name": "stdout",
     "output_type": "stream",
     "text": [
      "Original: [ 0 26 57]\n",
      "Candidate: [ 0 27 57]\n",
      "---------------------------\n",
      "ratio: 0.8981744500741546\n"
     ]
    },
    {
     "name": "stderr",
     "output_type": "stream",
     "text": [
      "\r",
      " 89%|████████████████████████████████████████▊     | 577/650 [08:58<01:11,  1.03it/s]"
     ]
    },
    {
     "name": "stdout",
     "output_type": "stream",
     "text": [
      "Original: [ 0 26 57]\n",
      "Candidate: [ 0 26 56]\n",
      "---------------------------\n",
      "ratio: 1.0\n"
     ]
    },
    {
     "name": "stderr",
     "output_type": "stream",
     "text": [
      "\r",
      " 89%|████████████████████████████████████████▉     | 578/650 [08:58<01:06,  1.09it/s]"
     ]
    },
    {
     "name": "stdout",
     "output_type": "stream",
     "text": [
      "Original: [ 0 26 56]\n",
      "Candidate: [ 0 26]\n",
      "---------------------------\n",
      "ratio: 0.6947611011838932\n"
     ]
    },
    {
     "name": "stderr",
     "output_type": "stream",
     "text": [
      "\r",
      " 89%|████████████████████████████████████████▉     | 579/650 [08:59<01:02,  1.14it/s]"
     ]
    },
    {
     "name": "stdout",
     "output_type": "stream",
     "text": [
      "Original: [ 0 26 56]\n",
      "Candidate: [ 0 26]\n",
      "---------------------------\n",
      "ratio: 1.0\n"
     ]
    },
    {
     "name": "stderr",
     "output_type": "stream",
     "text": [
      "\r",
      " 89%|█████████████████████████████████████████     | 580/650 [09:00<01:07,  1.04it/s]"
     ]
    },
    {
     "name": "stdout",
     "output_type": "stream",
     "text": [
      "Original: [ 0 26]\n",
      "Candidate: [0]\n",
      "---------------------------\n",
      "ratio: 0.27344628691208683\n"
     ]
    },
    {
     "name": "stderr",
     "output_type": "stream",
     "text": [
      "\r",
      " 89%|█████████████████████████████████████████     | 581/650 [09:01<01:02,  1.10it/s]"
     ]
    },
    {
     "name": "stdout",
     "output_type": "stream",
     "text": [
      "Original: [ 0 26]\n",
      "Candidate: [ 0 27]\n",
      "---------------------------\n",
      "ratio: 0.9095573262840411\n"
     ]
    },
    {
     "name": "stderr",
     "output_type": "stream",
     "text": [
      "\r",
      " 90%|█████████████████████████████████████████▏    | 582/650 [09:02<01:05,  1.04it/s]"
     ]
    },
    {
     "name": "stdout",
     "output_type": "stream",
     "text": [
      "Original: [ 0 27]\n",
      "Candidate: [ 0 26]\n",
      "---------------------------\n",
      "ratio: 1.0\n"
     ]
    },
    {
     "name": "stderr",
     "output_type": "stream",
     "text": [
      "\r",
      " 90%|█████████████████████████████████████████▎    | 583/650 [09:04<01:11,  1.07s/it]"
     ]
    },
    {
     "name": "stdout",
     "output_type": "stream",
     "text": [
      "Original: [ 0 26]\n",
      "Candidate: [ 0 26 39]\n",
      "---------------------------\n",
      "ratio: 0.3648455410617613\n"
     ]
    },
    {
     "name": "stderr",
     "output_type": "stream",
     "text": [
      "\r",
      " 90%|█████████████████████████████████████████▎    | 584/650 [09:05<01:25,  1.29s/it]"
     ]
    },
    {
     "name": "stdout",
     "output_type": "stream",
     "text": [
      "Original: [ 0 26]\n",
      "Candidate: [ 0 27]\n",
      "---------------------------\n",
      "ratio: 0.926165587025562\n"
     ]
    },
    {
     "name": "stderr",
     "output_type": "stream",
     "text": [
      "\r",
      " 90%|█████████████████████████████████████████▍    | 585/650 [09:06<01:19,  1.22s/it]"
     ]
    },
    {
     "name": "stdout",
     "output_type": "stream",
     "text": [
      "Original: [ 0 27]\n",
      "Candidate: [ 0 26]\n",
      "---------------------------\n",
      "ratio: 1.0\n"
     ]
    },
    {
     "name": "stderr",
     "output_type": "stream",
     "text": [
      "\r",
      " 90%|█████████████████████████████████████████▍    | 586/650 [09:08<01:15,  1.19s/it]"
     ]
    },
    {
     "name": "stdout",
     "output_type": "stream",
     "text": [
      "Original: [ 0 26]\n",
      "Candidate: [ 0 27]\n",
      "---------------------------\n",
      "ratio: 0.9323367784012203\n"
     ]
    },
    {
     "name": "stderr",
     "output_type": "stream",
     "text": [
      "\r",
      " 90%|█████████████████████████████████████████▌    | 587/650 [09:09<01:15,  1.20s/it]"
     ]
    },
    {
     "name": "stdout",
     "output_type": "stream",
     "text": [
      "Original: [ 0 27]\n",
      "Candidate: [ 0 25 27]\n",
      "---------------------------\n",
      "ratio: 1.0\n"
     ]
    },
    {
     "name": "stderr",
     "output_type": "stream",
     "text": [
      "\r",
      " 90%|█████████████████████████████████████████▌    | 588/650 [09:10<01:13,  1.18s/it]"
     ]
    },
    {
     "name": "stdout",
     "output_type": "stream",
     "text": [
      "Original: [ 0 25 27]\n",
      "Candidate: [ 0 25 28]\n",
      "---------------------------\n",
      "ratio: 0.6991942850177904\n"
     ]
    },
    {
     "name": "stderr",
     "output_type": "stream",
     "text": [
      "\r",
      " 91%|█████████████████████████████████████████▋    | 589/650 [09:11<01:13,  1.20s/it]"
     ]
    },
    {
     "name": "stdout",
     "output_type": "stream",
     "text": [
      "Original: [ 0 25 28]\n",
      "Candidate: [ 0 22 25 28]\n",
      "---------------------------\n",
      "ratio: 0.5630640903536944\n"
     ]
    },
    {
     "name": "stderr",
     "output_type": "stream",
     "text": [
      "\r",
      " 91%|█████████████████████████████████████████▊    | 590/650 [09:13<01:15,  1.26s/it]"
     ]
    },
    {
     "name": "stdout",
     "output_type": "stream",
     "text": [
      "Original: [ 0 22 25 28]\n",
      "Candidate: [ 0 25 28]\n",
      "---------------------------\n",
      "ratio: 1.0\n"
     ]
    },
    {
     "name": "stderr",
     "output_type": "stream",
     "text": [
      "\r",
      " 91%|█████████████████████████████████████████▊    | 591/650 [09:13<01:06,  1.14s/it]"
     ]
    },
    {
     "name": "stdout",
     "output_type": "stream",
     "text": [
      "Original: [ 0 25 28]\n",
      "Candidate: [ 0 28]\n",
      "---------------------------\n",
      "ratio: 0.722418456725827\n"
     ]
    },
    {
     "name": "stderr",
     "output_type": "stream",
     "text": [
      "\r",
      " 91%|█████████████████████████████████████████▉    | 592/650 [09:14<01:02,  1.08s/it]"
     ]
    },
    {
     "name": "stdout",
     "output_type": "stream",
     "text": [
      "Original: [ 0 25 28]\n",
      "Candidate: [ 0 28]\n",
      "---------------------------\n",
      "ratio: 0.7614497710687735\n"
     ]
    },
    {
     "name": "stderr",
     "output_type": "stream",
     "text": [
      "\r",
      " 91%|█████████████████████████████████████████▉    | 593/650 [09:15<01:00,  1.07s/it]"
     ]
    },
    {
     "name": "stdout",
     "output_type": "stream",
     "text": [
      "Original: [ 0 25 28]\n",
      "Candidate: [ 0 25 29]\n",
      "---------------------------\n",
      "ratio: 0.8031799707108611\n"
     ]
    },
    {
     "name": "stderr",
     "output_type": "stream",
     "text": [
      "\r",
      " 91%|██████████████████████████████████████████    | 594/650 [09:16<00:57,  1.02s/it]"
     ]
    },
    {
     "name": "stdout",
     "output_type": "stream",
     "text": [
      "Original: [ 0 25 28]\n",
      "Candidate: [ 0 25 28 82]\n",
      "---------------------------\n",
      "ratio: 0.14721472304836172\n"
     ]
    },
    {
     "name": "stderr",
     "output_type": "stream",
     "text": [
      "\r",
      " 92%|██████████████████████████████████████████    | 595/650 [09:17<00:58,  1.06s/it]"
     ]
    },
    {
     "name": "stdout",
     "output_type": "stream",
     "text": [
      "Original: [ 0 25 28 82]\n",
      "Candidate: [ 0 25 29 82]\n",
      "---------------------------\n",
      "ratio: 0.7918425724300632\n"
     ]
    },
    {
     "name": "stderr",
     "output_type": "stream",
     "text": [
      "\r",
      " 92%|██████████████████████████████████████████▏   | 596/650 [09:19<01:01,  1.13s/it]"
     ]
    },
    {
     "name": "stdout",
     "output_type": "stream",
     "text": [
      "Original: [ 0 25 29 82]\n",
      "Candidate: [ 0 25 29 82 99]\n",
      "---------------------------\n",
      "ratio: 1.0\n"
     ]
    },
    {
     "name": "stderr",
     "output_type": "stream",
     "text": [
      "\r",
      " 92%|██████████████████████████████████████████▏   | 597/650 [09:20<00:56,  1.07s/it]"
     ]
    },
    {
     "name": "stdout",
     "output_type": "stream",
     "text": [
      "Original: [ 0 25 29 82 99]\n",
      "Candidate: [ 0 25 29 82]\n",
      "---------------------------\n",
      "ratio: 0.11795475426865294\n"
     ]
    },
    {
     "name": "stderr",
     "output_type": "stream",
     "text": [
      "\r",
      " 92%|██████████████████████████████████████████▎   | 598/650 [09:21<00:52,  1.01s/it]"
     ]
    },
    {
     "name": "stdout",
     "output_type": "stream",
     "text": [
      "Original: [ 0 25 29 82 99]\n",
      "Candidate: [ 0 24 29 82 99]\n",
      "---------------------------\n",
      "ratio: 0.7305053886625753\n"
     ]
    },
    {
     "name": "stderr",
     "output_type": "stream",
     "text": [
      "\r",
      " 92%|██████████████████████████████████████████▍   | 599/650 [09:22<00:54,  1.07s/it]"
     ]
    },
    {
     "name": "stdout",
     "output_type": "stream",
     "text": [
      "Original: [ 0 24 29 82 99]\n",
      "Candidate: [ 0 23 29 82 99]\n",
      "---------------------------\n",
      "ratio: 0.800535153960855\n"
     ]
    },
    {
     "name": "stderr",
     "output_type": "stream",
     "text": [
      "\r",
      " 92%|██████████████████████████████████████████▍   | 600/650 [09:23<00:57,  1.16s/it]"
     ]
    },
    {
     "name": "stdout",
     "output_type": "stream",
     "text": [
      "Original: [ 0 23 29 82 99]\n",
      "Candidate: [ 0  7 23 29 82 99]\n",
      "---------------------------\n",
      "ratio: 0.19306068932134693\n"
     ]
    },
    {
     "name": "stderr",
     "output_type": "stream",
     "text": [
      "\r",
      " 92%|██████████████████████████████████████████▌   | 601/650 [09:24<00:55,  1.13s/it]"
     ]
    },
    {
     "name": "stdout",
     "output_type": "stream",
     "text": [
      "\n",
      "Step: 600\n",
      "----------------------------------------------------\n",
      "Original: [ 0 23 29 82 99]\n",
      "Candidate: [ 0 23 29 81 99]\n",
      "---------------------------\n",
      "ratio: 1.0\n"
     ]
    },
    {
     "name": "stderr",
     "output_type": "stream",
     "text": [
      "\r",
      " 93%|██████████████████████████████████████████▌   | 602/650 [09:25<00:51,  1.07s/it]"
     ]
    },
    {
     "name": "stdout",
     "output_type": "stream",
     "text": [
      "Original: [ 0 23 29 81 99]\n",
      "Candidate: [ 0 23 29 37 81 99]\n",
      "---------------------------\n",
      "ratio: 0.21041693994479463\n"
     ]
    },
    {
     "name": "stderr",
     "output_type": "stream",
     "text": [
      "\r",
      " 93%|██████████████████████████████████████████▋   | 603/650 [09:26<00:52,  1.11s/it]"
     ]
    },
    {
     "name": "stdout",
     "output_type": "stream",
     "text": [
      "Original: [ 0 23 29 37 81 99]\n",
      "Candidate: [ 0 23 29 37 54 81 99]\n",
      "---------------------------\n",
      "ratio: 0.19892523234405876\n"
     ]
    },
    {
     "name": "stderr",
     "output_type": "stream",
     "text": [
      "\r",
      " 93%|██████████████████████████████████████████▋   | 604/650 [09:27<00:50,  1.09s/it]"
     ]
    },
    {
     "name": "stdout",
     "output_type": "stream",
     "text": [
      "Original: [ 0 23 29 37 81 99]\n",
      "Candidate: [ 0 23 29 37 82 99]\n",
      "---------------------------\n",
      "ratio: 0.9338348819407767\n"
     ]
    },
    {
     "name": "stderr",
     "output_type": "stream",
     "text": [
      "\r",
      " 93%|██████████████████████████████████████████▊   | 605/650 [09:28<00:47,  1.07s/it]"
     ]
    },
    {
     "name": "stdout",
     "output_type": "stream",
     "text": [
      "Original: [ 0 23 29 37 82 99]\n",
      "Candidate: [ 0 23 29 36 82 99]\n",
      "---------------------------\n",
      "ratio: 1.0\n"
     ]
    },
    {
     "name": "stderr",
     "output_type": "stream",
     "text": [
      "\r",
      " 93%|██████████████████████████████████████████▉   | 606/650 [09:29<00:43,  1.00it/s]"
     ]
    },
    {
     "name": "stdout",
     "output_type": "stream",
     "text": [
      "Original: [ 0 23 29 36 82 99]\n",
      "Candidate: [ 0 23 29 36 72 82 99]\n",
      "---------------------------\n",
      "ratio: 0.1468675755877553\n"
     ]
    },
    {
     "name": "stderr",
     "output_type": "stream",
     "text": [
      "\r",
      " 93%|██████████████████████████████████████████▉   | 607/650 [09:30<00:42,  1.01it/s]"
     ]
    },
    {
     "name": "stdout",
     "output_type": "stream",
     "text": [
      "Original: [ 0 23 29 36 82 99]\n",
      "Candidate: [ 0 23 29 36 82 95 99]\n",
      "---------------------------\n",
      "ratio: 0.28561673605414006\n"
     ]
    },
    {
     "name": "stderr",
     "output_type": "stream",
     "text": [
      "\r",
      " 94%|███████████████████████████████████████████   | 608/650 [09:31<00:41,  1.02it/s]"
     ]
    },
    {
     "name": "stdout",
     "output_type": "stream",
     "text": [
      "Original: [ 0 23 29 36 82 99]\n",
      "Candidate: [ 0  9 23 29 36 82 99]\n",
      "---------------------------\n",
      "ratio: 0.1338038333842287\n"
     ]
    },
    {
     "name": "stderr",
     "output_type": "stream",
     "text": [
      "\r",
      " 94%|███████████████████████████████████████████   | 609/650 [09:32<00:38,  1.06it/s]"
     ]
    },
    {
     "name": "stdout",
     "output_type": "stream",
     "text": [
      "Original: [ 0 23 29 36 82 99]\n",
      "Candidate: [ 0 23 36 82 99]\n",
      "---------------------------\n",
      "ratio: 1.0\n"
     ]
    },
    {
     "name": "stderr",
     "output_type": "stream",
     "text": [
      "\r",
      " 94%|███████████████████████████████████████████▏  | 610/650 [09:33<00:40,  1.02s/it]"
     ]
    },
    {
     "name": "stdout",
     "output_type": "stream",
     "text": [
      "Original: [ 0 23 36 82 99]\n",
      "Candidate: [ 0 23 36 64 82 99]\n",
      "---------------------------\n",
      "ratio: 0.15140305674115942\n"
     ]
    },
    {
     "name": "stderr",
     "output_type": "stream",
     "text": [
      "\r",
      " 94%|███████████████████████████████████████████▏  | 611/650 [09:34<00:40,  1.04s/it]"
     ]
    },
    {
     "name": "stdout",
     "output_type": "stream",
     "text": [
      "Original: [ 0 23 36 82 99]\n",
      "Candidate: [ 0 36 82 99]\n",
      "---------------------------\n",
      "ratio: 1.0\n"
     ]
    },
    {
     "name": "stderr",
     "output_type": "stream",
     "text": [
      "\r",
      " 94%|███████████████████████████████████████████▎  | 612/650 [09:35<00:40,  1.05s/it]"
     ]
    },
    {
     "name": "stdout",
     "output_type": "stream",
     "text": [
      "Original: [ 0 36 82 99]\n",
      "Candidate: [ 0 36 81 99]\n",
      "---------------------------\n",
      "ratio: 1.0\n"
     ]
    },
    {
     "name": "stderr",
     "output_type": "stream",
     "text": [
      "\r",
      " 94%|███████████████████████████████████████████▍  | 613/650 [09:36<00:37,  1.00s/it]"
     ]
    },
    {
     "name": "stdout",
     "output_type": "stream",
     "text": [
      "Original: [ 0 36 81 99]\n",
      "Candidate: [ 0 36 82 99]\n",
      "---------------------------\n",
      "ratio: 1.0\n"
     ]
    },
    {
     "name": "stderr",
     "output_type": "stream",
     "text": [
      "\r",
      " 94%|███████████████████████████████████████████▍  | 614/650 [09:37<00:38,  1.07s/it]"
     ]
    },
    {
     "name": "stdout",
     "output_type": "stream",
     "text": [
      "Original: [ 0 36 82 99]\n",
      "Candidate: [ 0 36 82]\n",
      "---------------------------\n",
      "ratio: 0.12548376990581955\n"
     ]
    },
    {
     "name": "stderr",
     "output_type": "stream",
     "text": [
      "\r",
      " 95%|███████████████████████████████████████████▌  | 615/650 [09:38<00:36,  1.05s/it]"
     ]
    },
    {
     "name": "stdout",
     "output_type": "stream",
     "text": [
      "Original: [ 0 36 82 99]\n",
      "Candidate: [ 0  4 36 82 99]\n",
      "---------------------------\n",
      "ratio: 0.34512322485480385\n"
     ]
    },
    {
     "name": "stderr",
     "output_type": "stream",
     "text": [
      "\r",
      " 95%|███████████████████████████████████████████▌  | 616/650 [09:39<00:34,  1.00s/it]"
     ]
    },
    {
     "name": "stdout",
     "output_type": "stream",
     "text": [
      "Original: [ 0  4 36 82 99]\n",
      "Candidate: [ 0  4 36 82]\n",
      "---------------------------\n",
      "ratio: 0.7925148500322154\n"
     ]
    },
    {
     "name": "stderr",
     "output_type": "stream",
     "text": [
      "\r",
      " 95%|███████████████████████████████████████████▋  | 617/650 [09:40<00:32,  1.02it/s]"
     ]
    },
    {
     "name": "stdout",
     "output_type": "stream",
     "text": [
      "Original: [ 0  4 36 82]\n",
      "Candidate: [ 0  4 20 36 82]\n",
      "---------------------------\n",
      "ratio: 0.22764204098597154\n"
     ]
    },
    {
     "name": "stderr",
     "output_type": "stream",
     "text": [
      "\r",
      " 95%|███████████████████████████████████████████▋  | 618/650 [09:41<00:30,  1.03it/s]"
     ]
    },
    {
     "name": "stdout",
     "output_type": "stream",
     "text": [
      "Original: [ 0  4 36 82]\n",
      "Candidate: [ 0 36 82]\n",
      "---------------------------\n",
      "ratio: 1.0\n"
     ]
    },
    {
     "name": "stderr",
     "output_type": "stream",
     "text": [
      "\r",
      " 95%|███████████████████████████████████████████▊  | 619/650 [09:42<00:30,  1.03it/s]"
     ]
    },
    {
     "name": "stdout",
     "output_type": "stream",
     "text": [
      "Original: [ 0 36 82]\n",
      "Candidate: [ 0 36]\n",
      "---------------------------\n",
      "ratio: 1.0\n"
     ]
    },
    {
     "name": "stderr",
     "output_type": "stream",
     "text": [
      "\r",
      " 95%|███████████████████████████████████████████▉  | 620/650 [09:43<00:29,  1.02it/s]"
     ]
    },
    {
     "name": "stdout",
     "output_type": "stream",
     "text": [
      "Original: [ 0 36]\n",
      "Candidate: [ 0 36 57]\n",
      "---------------------------\n",
      "ratio: 0.3910807367041894\n"
     ]
    },
    {
     "name": "stderr",
     "output_type": "stream",
     "text": [
      "\r",
      " 96%|███████████████████████████████████████████▉  | 621/650 [09:44<00:26,  1.09it/s]"
     ]
    },
    {
     "name": "stdout",
     "output_type": "stream",
     "text": [
      "Original: [ 0 36]\n",
      "Candidate: [ 0 35]\n",
      "---------------------------\n",
      "ratio: 1.0\n"
     ]
    },
    {
     "name": "stderr",
     "output_type": "stream",
     "text": [
      "\r",
      " 96%|████████████████████████████████████████████  | 622/650 [09:45<00:24,  1.14it/s]"
     ]
    },
    {
     "name": "stdout",
     "output_type": "stream",
     "text": [
      "Original: [ 0 35]\n",
      "Candidate: [ 0 36]\n",
      "---------------------------\n",
      "ratio: 0.9899199978770704\n"
     ]
    },
    {
     "name": "stderr",
     "output_type": "stream",
     "text": [
      "\r",
      " 96%|████████████████████████████████████████████  | 623/650 [09:46<00:27,  1.01s/it]"
     ]
    },
    {
     "name": "stdout",
     "output_type": "stream",
     "text": [
      "Original: [ 0 36]\n",
      "Candidate: [0]\n",
      "---------------------------\n",
      "ratio: 0.5781201074762309\n"
     ]
    },
    {
     "name": "stderr",
     "output_type": "stream",
     "text": [
      "\r",
      " 96%|████████████████████████████████████████████▏ | 624/650 [09:47<00:28,  1.10s/it]"
     ]
    },
    {
     "name": "stdout",
     "output_type": "stream",
     "text": [
      "Original: [0]\n",
      "Candidate: [0 9]\n",
      "---------------------------\n",
      "ratio: 0.5407560609355928\n"
     ]
    },
    {
     "name": "stderr",
     "output_type": "stream",
     "text": [
      "\r",
      " 96%|████████████████████████████████████████████▏ | 625/650 [09:48<00:25,  1.04s/it]"
     ]
    },
    {
     "name": "stdout",
     "output_type": "stream",
     "text": [
      "Original: [0]\n",
      "Candidate: [ 0 58]\n",
      "---------------------------\n",
      "ratio: 1.0\n"
     ]
    },
    {
     "name": "stderr",
     "output_type": "stream",
     "text": [
      "\r",
      " 96%|████████████████████████████████████████████▎ | 626/650 [09:50<00:27,  1.13s/it]"
     ]
    },
    {
     "name": "stdout",
     "output_type": "stream",
     "text": [
      "Original: [ 0 58]\n",
      "Candidate: [ 0 59]\n",
      "---------------------------\n",
      "ratio: 0.8960608160483646\n"
     ]
    },
    {
     "name": "stderr",
     "output_type": "stream",
     "text": [
      "\r",
      " 96%|████████████████████████████████████████████▎ | 627/650 [09:51<00:25,  1.13s/it]"
     ]
    },
    {
     "name": "stdout",
     "output_type": "stream",
     "text": [
      "Original: [ 0 59]\n",
      "Candidate: [0]\n",
      "---------------------------\n",
      "ratio: 0.648254539851269\n"
     ]
    },
    {
     "name": "stderr",
     "output_type": "stream",
     "text": [
      "\r",
      " 97%|████████████████████████████████████████████▍ | 628/650 [09:52<00:23,  1.07s/it]"
     ]
    },
    {
     "name": "stdout",
     "output_type": "stream",
     "text": [
      "Original: [0]\n",
      "Candidate: [ 0 75]\n",
      "---------------------------\n",
      "ratio: 0.4461255713595521\n"
     ]
    },
    {
     "name": "stderr",
     "output_type": "stream",
     "text": [
      "\r",
      " 97%|████████████████████████████████████████████▌ | 629/650 [09:53<00:24,  1.15s/it]"
     ]
    },
    {
     "name": "stdout",
     "output_type": "stream",
     "text": [
      "Original: [ 0 75]\n",
      "Candidate: [ 0 74]\n",
      "---------------------------\n",
      "ratio: 1.0\n"
     ]
    },
    {
     "name": "stderr",
     "output_type": "stream",
     "text": [
      "\r",
      " 97%|████████████████████████████████████████████▌ | 630/650 [09:54<00:24,  1.21s/it]"
     ]
    },
    {
     "name": "stdout",
     "output_type": "stream",
     "text": [
      "Original: [ 0 74]\n",
      "Candidate: [ 0 75]\n",
      "---------------------------\n",
      "ratio: 0.98471717152717\n"
     ]
    },
    {
     "name": "stderr",
     "output_type": "stream",
     "text": [
      "\r",
      " 97%|████████████████████████████████████████████▋ | 631/650 [09:56<00:22,  1.20s/it]"
     ]
    },
    {
     "name": "stdout",
     "output_type": "stream",
     "text": [
      "Original: [ 0 75]\n",
      "Candidate: [ 0 75 81]\n",
      "---------------------------\n",
      "ratio: 0.5087814964319202\n"
     ]
    },
    {
     "name": "stderr",
     "output_type": "stream",
     "text": [
      "\r",
      " 97%|████████████████████████████████████████████▋ | 632/650 [09:57<00:21,  1.19s/it]"
     ]
    },
    {
     "name": "stdout",
     "output_type": "stream",
     "text": [
      "Original: [ 0 75 81]\n",
      "Candidate: [ 0 75 81 87]\n",
      "---------------------------\n",
      "ratio: 0.41341406959716576\n"
     ]
    },
    {
     "name": "stderr",
     "output_type": "stream",
     "text": [
      "\r",
      " 97%|████████████████████████████████████████████▊ | 633/650 [09:58<00:19,  1.14s/it]"
     ]
    },
    {
     "name": "stdout",
     "output_type": "stream",
     "text": [
      "Original: [ 0 75 81 87]\n",
      "Candidate: [ 0 75 81 88]\n",
      "---------------------------\n",
      "ratio: 1.0\n"
     ]
    },
    {
     "name": "stderr",
     "output_type": "stream",
     "text": [
      "\r",
      " 98%|████████████████████████████████████████████▊ | 634/650 [09:59<00:17,  1.06s/it]"
     ]
    },
    {
     "name": "stdout",
     "output_type": "stream",
     "text": [
      "Original: [ 0 75 81 88]\n",
      "Candidate: [ 0 64 75 81 88]\n",
      "---------------------------\n",
      "ratio: 0.25584168119708933\n"
     ]
    },
    {
     "name": "stderr",
     "output_type": "stream",
     "text": [
      "\r",
      " 98%|████████████████████████████████████████████▉ | 635/650 [10:00<00:14,  1.00it/s]"
     ]
    },
    {
     "name": "stdout",
     "output_type": "stream",
     "text": [
      "Original: [ 0 75 81 88]\n",
      "Candidate: [ 0 81 88]\n",
      "---------------------------\n",
      "ratio: 1.0\n"
     ]
    },
    {
     "name": "stderr",
     "output_type": "stream",
     "text": [
      "\r",
      " 98%|█████████████████████████████████████████████ | 636/650 [10:00<00:13,  1.06it/s]"
     ]
    },
    {
     "name": "stdout",
     "output_type": "stream",
     "text": [
      "Original: [ 0 81 88]\n",
      "Candidate: [ 0 81 87]\n",
      "---------------------------\n",
      "ratio: 1.0\n"
     ]
    },
    {
     "name": "stderr",
     "output_type": "stream",
     "text": [
      "\r",
      " 98%|█████████████████████████████████████████████ | 637/650 [10:01<00:11,  1.12it/s]"
     ]
    },
    {
     "name": "stdout",
     "output_type": "stream",
     "text": [
      "Original: [ 0 81 87]\n",
      "Candidate: [ 0 81 86]\n",
      "---------------------------\n",
      "ratio: 1.0\n"
     ]
    },
    {
     "name": "stderr",
     "output_type": "stream",
     "text": [
      "\r",
      " 98%|█████████████████████████████████████████████▏| 638/650 [10:02<00:10,  1.15it/s]"
     ]
    },
    {
     "name": "stdout",
     "output_type": "stream",
     "text": [
      "Original: [ 0 81 86]\n",
      "Candidate: [ 0 81 85]\n",
      "---------------------------\n",
      "ratio: 1.0\n"
     ]
    },
    {
     "name": "stderr",
     "output_type": "stream",
     "text": [
      "\r",
      " 98%|█████████████████████████████████████████████▏| 639/650 [10:03<00:10,  1.04it/s]"
     ]
    },
    {
     "name": "stdout",
     "output_type": "stream",
     "text": [
      "Original: [ 0 81 85]\n",
      "Candidate: [ 0 31 81 85]\n",
      "---------------------------\n",
      "ratio: 0.8354537032368168\n"
     ]
    },
    {
     "name": "stderr",
     "output_type": "stream",
     "text": [
      "\r",
      " 98%|█████████████████████████████████████████████▎| 640/650 [10:04<00:09,  1.09it/s]"
     ]
    },
    {
     "name": "stdout",
     "output_type": "stream",
     "text": [
      "Original: [ 0 31 81 85]\n",
      "Candidate: [ 0 31 81 85 97]\n",
      "---------------------------\n",
      "ratio: 1.0\n"
     ]
    },
    {
     "name": "stderr",
     "output_type": "stream",
     "text": [
      "\r",
      " 99%|█████████████████████████████████████████████▎| 641/650 [10:05<00:08,  1.01it/s]"
     ]
    },
    {
     "name": "stdout",
     "output_type": "stream",
     "text": [
      "Original: [ 0 31 81 85 97]\n",
      "Candidate: [ 0 31 81 85]\n",
      "---------------------------\n",
      "ratio: 1.0\n"
     ]
    },
    {
     "name": "stderr",
     "output_type": "stream",
     "text": [
      "\r",
      " 99%|█████████████████████████████████████████████▍| 642/650 [10:06<00:07,  1.05it/s]"
     ]
    },
    {
     "name": "stdout",
     "output_type": "stream",
     "text": [
      "Original: [ 0 31 81 85]\n",
      "Candidate: [ 0 31 85]\n",
      "---------------------------\n",
      "ratio: 1.0\n"
     ]
    },
    {
     "name": "stderr",
     "output_type": "stream",
     "text": [
      "\r",
      " 99%|█████████████████████████████████████████████▌| 643/650 [10:07<00:07,  1.02s/it]"
     ]
    },
    {
     "name": "stdout",
     "output_type": "stream",
     "text": [
      "Original: [ 0 31 85]\n",
      "Candidate: [ 0 32 85]\n",
      "---------------------------\n",
      "ratio: 0.9575714382023257\n"
     ]
    },
    {
     "name": "stderr",
     "output_type": "stream",
     "text": [
      "\r",
      " 99%|█████████████████████████████████████████████▌| 644/650 [10:08<00:06,  1.06s/it]"
     ]
    },
    {
     "name": "stdout",
     "output_type": "stream",
     "text": [
      "Original: [ 0 32 85]\n",
      "Candidate: [ 0 31 85]\n",
      "---------------------------\n",
      "ratio: 1.0\n"
     ]
    },
    {
     "name": "stderr",
     "output_type": "stream",
     "text": [
      "\r",
      " 99%|█████████████████████████████████████████████▋| 645/650 [10:09<00:05,  1.09s/it]"
     ]
    },
    {
     "name": "stdout",
     "output_type": "stream",
     "text": [
      "Original: [ 0 31 85]\n",
      "Candidate: [ 0 31 55 85]\n",
      "---------------------------\n",
      "ratio: 0.5559718026402055\n"
     ]
    },
    {
     "name": "stderr",
     "output_type": "stream",
     "text": [
      "\r",
      " 99%|█████████████████████████████████████████████▋| 646/650 [10:11<00:04,  1.21s/it]"
     ]
    },
    {
     "name": "stdout",
     "output_type": "stream",
     "text": [
      "Original: [ 0 31 55 85]\n",
      "Candidate: [ 0 31 43 55 85]\n",
      "---------------------------\n",
      "ratio: 0.21343091032908432\n"
     ]
    },
    {
     "name": "stderr",
     "output_type": "stream",
     "text": [
      "\r",
      "100%|█████████████████████████████████████████████▊| 647/650 [10:12<00:03,  1.23s/it]"
     ]
    },
    {
     "name": "stdout",
     "output_type": "stream",
     "text": [
      "Original: [ 0 31 55 85]\n",
      "Candidate: [ 0 31 55]\n",
      "---------------------------\n",
      "ratio: 1.0\n"
     ]
    },
    {
     "name": "stderr",
     "output_type": "stream",
     "text": [
      "\r",
      "100%|█████████████████████████████████████████████▊| 648/650 [10:13<00:02,  1.18s/it]"
     ]
    },
    {
     "name": "stdout",
     "output_type": "stream",
     "text": [
      "Original: [ 0 31 55]\n",
      "Candidate: [ 0 32 55]\n",
      "---------------------------\n",
      "ratio: 0.9262619767291339\n"
     ]
    },
    {
     "name": "stderr",
     "output_type": "stream",
     "text": [
      "\r",
      "100%|█████████████████████████████████████████████▉| 649/650 [10:14<00:01,  1.17s/it]"
     ]
    },
    {
     "name": "stdout",
     "output_type": "stream",
     "text": [
      "Original: [ 0 31 55]\n",
      "Candidate: [ 0 31 55 73]\n",
      "---------------------------\n",
      "ratio: 0.142257020467508\n"
     ]
    },
    {
     "name": "stderr",
     "output_type": "stream",
     "text": [
      "100%|██████████████████████████████████████████████| 650/650 [10:16<00:00,  1.05it/s]\n"
     ]
    }
   ],
   "source": [
    "MCMC_chain=gibbs_sampling(data, p=0.01,samples=650, burnin=50, thinning=3)"
   ]
  },
  {
   "cell_type": "markdown",
   "metadata": {},
   "source": [
    "### Estimators"
   ]
  },
  {
   "cell_type": "code",
   "execution_count": 141,
   "metadata": {},
   "outputs": [],
   "source": [
    "def compute_loss(delta, Q_tt):\n",
    "    stage = np.cumsum(delta, dtype=int)-1\n",
    "    Q_candidate = (stage[:, np.newaxis] == stage)\n",
    "    return np.sum(np.abs(Q_candidate - Q_tt))\n",
    "\n",
    "def get_estimators(chain, T_max=100, samples=1000):\n",
    "\n",
    "    ##### delta\n",
    "\n",
    "    delta = np.array(MCMC_chain[\"Delta\"])\n",
    "    stage = np.array(MCMC_chain[\"Stage\"])\n",
    "    masks = (stage[:, :, np.newaxis] == stage[:, np.newaxis, :])\n",
    "    Q_ttprime = np.sum(masks, axis=0)/samples\n",
    "\n",
    "    Delta_final = np.zeros(shape=T_max, dtype=int)\n",
    "    Delta_final[0] = 1\n",
    "    Stage_final = np.cumsum(Delta_final, dtype=int)-1 \n",
    "    current_loss = compute_loss(Delta_final, Q_ttprime)\n",
    "\n",
    "    check_add_drop = True\n",
    "    check_swap = True\n",
    "    while(check_add_drop==True or check_swap==True):\n",
    "        # check add or drop\n",
    "        candidates_loss = np.zeros(shape=(T_max))\n",
    "        for i in range(1, T_max):\n",
    "            Delta_candidate = Delta_final.copy()\n",
    "            Delta_candidate[i] = 1-Delta_candidate[i]\n",
    "            candidates_loss[i] = compute_loss(Delta_candidate, Q_ttprime)\n",
    "        index_min = np.argmin(candidates_loss[1:])+1\n",
    "        if candidates_loss[index_min] < current_loss:\n",
    "            current_loss = candidates_loss[index_min]\n",
    "            Delta_final[index_min] = 1-Delta_final[index_min]\n",
    "            check_add_drop = True\n",
    "        else:\n",
    "            check_add_drop = False\n",
    "\n",
    "        possible_change_indices = np.where(np.abs(Delta_final[1:-1] - Delta_final[2:]) == 1)[0]+1\n",
    "        candidates_loss = np.zeros(shape=(len(possible_change_indices)))\n",
    "        for i, idx in enumerate(possible_change_indices):\n",
    "            Delta_candidate = Delta_final.copy()\n",
    "            Delta_candidate[idx+np.array([0,1])] = Delta_candidate[idx+np.array([1,0])]\n",
    "            candidates_loss[i] = compute_loss(Delta_candidate, Q_ttprime)\n",
    "        index_min = np.argmin(candidates_loss)\n",
    "        if candidates_loss[index_min] < current_loss:\n",
    "            current_loss = candidates_loss[index_min]\n",
    "            Delta_candidate[possible_change_indices[index_min]+np.array([0,1])] = Delta_candidate[possible_change_indices[index_min]+np.array([1,0])]\n",
    "            check_swap = True\n",
    "        else:\n",
    "            check_swap = False\n",
    "\n",
    "        # check swap\n",
    "        if np.sum(Delta_final) in np.arange(1,T_max-1):\n",
    "            possible_change_indices = np.where(np.abs(Delta_final[1:-1] - Delta_final[2:]) == 1)[0]+1\n",
    "            candidates_loss = np.zeros(shape=(len(possible_change_indices)))\n",
    "            for i, idx in enumerate(possible_change_indices):\n",
    "                Delta_candidate = Delta_final.copy()\n",
    "                Delta_candidate[idx+np.array([0,1])] = Delta_candidate[idx+np.array([1,0])]\n",
    "                candidates_loss[i] = compute_loss(Delta_candidate, Q_ttprime)\n",
    "            index_min = np.argmin(candidates_loss)\n",
    "            if candidates_loss[index_min] < current_loss:\n",
    "                current_loss = candidates_loss[index_min]\n",
    "                Delta_candidate[possible_change_indices[index_min]+np.array([0,1])] = Delta_candidate[possible_change_indices[index_min]+np.array([1,0])]\n",
    "                check_swap = True\n",
    "            else:\n",
    "                check_swap = False\n",
    "\n",
    "\n",
    "    ##### beta and gamma\n",
    "                \n",
    "    b = np.array([[MCMC_chain[\"b\"][s][stage[s][t]] for t in range(T_max)] for s in range(samples)])\n",
    "    r = np.array([[MCMC_chain[\"r\"][s][stage[s][t]] for t in range(T_max)] for s in range(samples)])\n",
    "    beta_final  = np.sum(1/b, axis=0)/samples\n",
    "    gamma_final = np.sum(r/(1+r), axis=0)/samples\n",
    "\n",
    "\n",
    "    return Delta_final, beta_final, gamma_final\n",
    "        "
   ]
  },
  {
   "cell_type": "code",
   "execution_count": 142,
   "metadata": {},
   "outputs": [],
   "source": [
    "delta_est, beta_est, gamma_est = get_estimators(MCMC_chain, 100, 200)\n",
    "stage_est = np.cumsum(delta_est)-1"
   ]
  },
  {
   "cell_type": "code",
   "execution_count": 145,
   "metadata": {},
   "outputs": [
    {
     "name": "stdout",
     "output_type": "stream",
     "text": [
      "True change points=[ 0 25 50 75]\n",
      "Predicted change points=[ 0 41]\n"
     ]
    }
   ],
   "source": [
    "T_max=100\n",
    "delta_true = np.array([(t in chg_pt or t==1) for t in range(1, T_max+1)]).astype(int)\n",
    "stage_true = np.cumsum(delta_true)-1\n",
    "print(f\"True change points={np.where(delta_true==1)[0]}\")\n",
    "print(f\"Predicted change points={np.where(delta_est==1)[0]}\")"
   ]
  },
  {
   "cell_type": "code",
   "execution_count": 144,
   "metadata": {},
   "outputs": [
    {
     "data": {
      "text/plain": [
       "<matplotlib.legend.Legend at 0x126aeded0>"
      ]
     },
     "execution_count": 144,
     "metadata": {},
     "output_type": "execute_result"
    },
    {
     "data": {
      "image/png": "[encoded data removed]",
      "text/plain": [
       "<Figure size 432x288 with 1 Axes>"
      ]
     },
     "metadata": {
      "needs_background": "light"
     },
     "output_type": "display_data"
    }
   ],
   "source": [
    "n_sc=3\n",
    "true_beta  = np.array([[scenarios[i,(chg_pt <= t+1).sum(),0] for t in range(T)] for i in range(n_sc)])\n",
    "true_gamma = np.array([[scenarios[i,(chg_pt <= t+1).sum(),1] for t in range(T)] for i in range(n_sc)])\n",
    "\n",
    "fig, ax = plt.subplots()\n",
    "plt.plot(beta_est, label=\"Estimated Beta\", color='dodgerblue')\n",
    "plt.plot(true_beta[0], label=\"True Beta\", color='dodgerblue', linestyle='dashed', alpha=0.7)\n",
    "plt.plot(gamma_est, label=\"Estimated Gamma\", color='darkorange')\n",
    "plt.plot(true_gamma[0], label=\"True Gamma\", color='darkorange', linestyle='dashed', alpha=0.7)\n",
    "ax.set_xlabel(\"Day\")\n",
    "plt.legend(loc=\"best\")"
   ]
  },
  {
   "cell_type": "markdown",
   "metadata": {},
   "source": [
    "### Agreement with True Values"
   ]
  },
  {
   "cell_type": "code",
   "execution_count": 94,
   "metadata": {},
   "outputs": [],
   "source": [
    "def comp_ARI(true, estim, T_max=100):\n",
    "\n",
    "    comb = np.array(list(itertools.combinations(range(T_max), 2))).T\n",
    "    true_mask = (true[comb[0]] == true[comb[1]]).astype(int)\n",
    "    estim_mask = (estim[comb[0]] == estim[comb[1]]).astype(int)\n",
    "\n",
    "    TP = np.mean(true_mask*estim_mask)\n",
    "    FP = np.mean((1-true_mask)*estim_mask)\n",
    "    FN = np.mean(true_mask*(1-estim_mask))\n",
    "    TN = np.mean((1-true_mask)*(1-estim_mask))\n",
    "    num = TP+TN-(TP+FP)*(TP+FN)-(TN+FP)*(TN+FN)\n",
    "    den = 1-(TP+FP)*(TP+FN)-(TN+FP)*(TN+FN)\n",
    "\n",
    "    ARI = num/den\n",
    "\n",
    "    return ARI\n"
   ]
  },
  {
   "cell_type": "code",
   "execution_count": 95,
   "metadata": {},
   "outputs": [],
   "source": [
    "def comp_MI(true, estim, T_max=100):\n",
    "    n_kkprime = np.histogram2d(true, estim, bins=(np.max(true)+1, np.max(estim)+1))[0]\n",
    "    n_k = np.sum(n_kkprime, axis=1)\n",
    "    n_kprime = np.sum(n_kkprime, axis=0)\n",
    "    \n",
    "    MI = np.sum(n_kkprime/T_max*np.log((n_kkprime+(n_kkprime==0))*T_max/np.outer(n_k, n_kprime)))\n",
    "    return MI"
   ]
  },
  {
   "cell_type": "code",
   "execution_count": 96,
   "metadata": {},
   "outputs": [
    {
     "name": "stdout",
     "output_type": "stream",
     "text": [
      "ARI = 0.4195186575402957 out of 1\n",
      "MI = 0.5800262886080637 out of 1.386\n"
     ]
    }
   ],
   "source": [
    "ARI = comp_ARI(stage_true, stage_est)\n",
    "MI = comp_MI(stage_true, stage_est)\n",
    "print(f\"ARI = {ARI} out of 1\\nMI = {MI} out of 1.386\")"
   ]
  },
  {
   "cell_type": "code",
   "execution_count": null,
   "metadata": {},
   "outputs": [],
   "source": []
  }
 ],
 "metadata": {
  "kernelspec": {
   "display_name": "Python 3 (ipykernel)",
   "language": "python",
   "name": "python3"
  },
  "language_info": {
   "codemirror_mode": {
    "name": "ipython",
    "version": 3
   },
   "file_extension": ".py",
   "mimetype": "text/x-python",
   "name": "python",
   "nbconvert_exporter": "python",
   "pygments_lexer": "ipython3",
   "version": "3.10.10"
  }
 },
 "nbformat": 4,
 "nbformat_minor": 2
}
